{
 "cells": [
  {
   "cell_type": "markdown",
   "metadata": {},
   "source": [
    "## Create Multi-Layer NN model using tensorflow\n",
    "\n",
    "So I can adjust the parameters as I want..."
   ]
  },
  {
   "cell_type": "code",
   "execution_count": 1,
   "metadata": {
    "collapsed": false
   },
   "outputs": [
    {
     "name": "stderr",
     "output_type": "stream",
     "text": [
      "/home/runsheng/anaconda2/envs/tensorflow/lib/python2.7/site-packages/sklearn/cross_validation.py:44: DeprecationWarning: This module was deprecated in version 0.18 in favor of the model_selection module into which all the refactored classes and functions are moved. Also note that the interface of the new CV iterators are different from that of this module. This module will be removed in 0.20.\n",
      "  \"This module will be removed in 0.20.\", DeprecationWarning)\n"
     ]
    }
   ],
   "source": [
    "import sys\n",
    "sys.path.append(\"./src\") # append to system path\n",
    "\n",
    "from sklearn import cross_validation\n",
    "from sklearn.metrics import r2_score\n",
    "from sklearn.metrics import mean_absolute_error\n",
    "from sklearn.decomposition import PCA\n",
    "from sklearn.preprocessing import Normalizer\n",
    "from sklearn.preprocessing import StandardScaler\n",
    "\n",
    "import numpy as np\n",
    "import pandas as pd\n",
    "import tensorflow as tf\n",
    "\n",
    "import matplotlib.pyplot as plt\n",
    "from matplotlib import style\n",
    "from matplotlib.patches import Rectangle\n",
    "style.use('ggplot')\n",
    "\n"
   ]
  },
  {
   "cell_type": "code",
   "execution_count": 2,
   "metadata": {
    "collapsed": true
   },
   "outputs": [],
   "source": [
    "def load_lcia_data(descs_p, target_p):\n",
    "    X = pd.read_csv(descs_p,header=0,index_col=None)\n",
    "    X = X.fillna(X.mean())\n",
    "    y = pd.read_csv(target_p,header=0,index_col=None)\n",
    "    return X.values,y.values\n",
    "\n",
    "def mre(true_y,pred_y):\n",
    "    ## Note: does not handle mix 1d representation\n",
    "    #if _is_1d(y_true): \n",
    "    #    y_true, y_pred = _check_1d_array(y_true, y_pred)\n",
    "\n",
    "    return np.mean(np.abs((true_y - pred_y) / true_y)) * 100"
   ]
  },
  {
   "cell_type": "markdown",
   "metadata": {},
   "source": [
    "### Load data\n",
    "from csv"
   ]
  },
  {
   "cell_type": "code",
   "execution_count": 21,
   "metadata": {
    "collapsed": false
   },
   "outputs": [],
   "source": [
    "descs_p = './data/descs/descs_Mar08_166_3839.csv'\n",
    "target_p = './data/target/EI99.csv'\n",
    "X,y = load_lcia_data(descs_p, target_p)\n",
    "\n",
    "trn_X, tst_X, trn_y, tst_y = cross_validation.train_test_split(\n",
    "    X, y, test_size=0.2, random_state=1)"
   ]
  },
  {
   "cell_type": "code",
   "execution_count": 22,
   "metadata": {
    "collapsed": false
   },
   "outputs": [
    {
     "name": "stdout",
     "output_type": "stream",
     "text": [
      "(132, 3839) (132, 1)\n"
     ]
    }
   ],
   "source": [
    "print trn_X.shape, trn_y.shape"
   ]
  },
  {
   "cell_type": "markdown",
   "metadata": {},
   "source": [
    "### Data Preprocessing\n",
    "Normalization + PCA or Just Normalization"
   ]
  },
  {
   "cell_type": "markdown",
   "metadata": {},
   "source": [
    "### Just Scaler"
   ]
  },
  {
   "cell_type": "code",
   "execution_count": 23,
   "metadata": {
    "collapsed": false
   },
   "outputs": [],
   "source": [
    "## Standard Scaler\n",
    "this_scaler = StandardScaler()\n",
    "trn_X = this_scaler.fit_transform(trn_X)\n",
    "tst_X = this_scaler.transform(tst_X)"
   ]
  },
  {
   "cell_type": "code",
   "execution_count": 24,
   "metadata": {
    "collapsed": false
   },
   "outputs": [
    {
     "name": "stdout",
     "output_type": "stream",
     "text": [
      "[[-1.62569245 -0.82660826 -1.4890865  ...,  0.         -0.18698007\n",
      "  -0.21821789]\n",
      " [-0.53138493 -0.06405605 -0.84172575 ...,  0.         -0.18698007\n",
      "  -0.21821789]\n",
      " [-0.6942586  -0.80394144 -0.04137544 ...,  0.         -0.18698007\n",
      "  -0.21821789]\n",
      " ..., \n",
      " [ 1.84400373  2.39461662 -0.68114993 ...,  0.         -0.18698007\n",
      "  -0.21821789]\n",
      " [-0.62897636 -0.58708431 -0.39476866 ...,  0.         -0.18698007\n",
      "  -0.21821789]\n",
      " [ 0.52353195 -0.54496464  1.20245492 ...,  0.         -0.18698007\n",
      "  -0.21821789]]\n",
      "(132, 3839)\n",
      "[ -3.37272298e-16   1.95971185e-16   2.89330849e-16 ...,   0.00000000e+00\n",
      "  -2.90171927e-17  -1.11442841e-16] [ 1.  1.  1. ...,  0.  1.  1.]\n"
     ]
    }
   ],
   "source": [
    "print trn_X\n",
    "print trn_X.shape\n",
    "print np.mean(trn_X,0),np.std(trn_X,0)"
   ]
  },
  {
   "cell_type": "markdown",
   "metadata": {},
   "source": [
    "##  PCA"
   ]
  },
  {
   "cell_type": "code",
   "execution_count": 25,
   "metadata": {
    "collapsed": false
   },
   "outputs": [],
   "source": [
    "### PCA, don't run them together\n",
    "# normalize the data first\n",
    "pca = PCA(n_components = 40)\n",
    "\n",
    "trn_X = pca.fit_transform(trn_X)\n",
    "tst_X = pca.transform(tst_X)"
   ]
  },
  {
   "cell_type": "code",
   "execution_count": 26,
   "metadata": {
    "collapsed": false
   },
   "outputs": [
    {
     "name": "stdout",
     "output_type": "stream",
     "text": [
      "[[ -5.35989501e+01   1.32074579e+01  -1.88421416e+01 ...,  -1.48118402e+00\n",
      "    6.50584636e-02  -1.67928381e-02]\n",
      " [ -2.52339582e+01   4.46858365e+00  -3.33329176e+00 ...,   6.25489157e-01\n",
      "    6.77128073e-01   1.62766503e+00]\n",
      " [ -1.06045705e+01  -1.68856964e+00   4.95363799e+00 ...,   1.16548909e-02\n",
      "   -9.34093869e-01  -1.42498481e-01]\n",
      " ..., \n",
      " [ -2.55936241e+01   3.59385303e+00  -5.75314206e+00 ...,  -5.40995338e-01\n",
      "    1.96794306e-01  -1.91909163e+00]\n",
      " [ -1.17147817e+01   1.85059489e+00   1.09457169e+00 ...,  -2.98701109e-01\n",
      "   -2.18519565e-01  -2.59782471e+00]\n",
      " [  2.68647694e+01   4.87049548e+00  -1.07131670e+01 ...,  -8.33874534e-01\n",
      "    1.85794304e+00   1.03845151e+01]]\n",
      "(132, 40)\n",
      "0.910504527335\n"
     ]
    }
   ],
   "source": [
    "print trn_X\n",
    "print trn_X.shape\n",
    "print(reduce(lambda x,y:x+y,pca.explained_variance_ratio_))"
   ]
  },
  {
   "cell_type": "code",
   "execution_count": 27,
   "metadata": {
    "collapsed": false
   },
   "outputs": [
    {
     "data": {
      "image/png": "[encoded data removed]",
      "text/plain": [
       "<matplotlib.figure.Figure at 0x7f0930f55ed0>"
      ]
     },
     "metadata": {},
     "output_type": "display_data"
    }
   ],
   "source": [
    "plt.scatter(trn_X[:,0],trn_X[:,1])\n",
    "plt.show()"
   ]
  },
  {
   "cell_type": "markdown",
   "metadata": {},
   "source": [
    "### Build the model"
   ]
  },
  {
   "cell_type": "code",
   "execution_count": 42,
   "metadata": {
    "collapsed": false
   },
   "outputs": [
    {
     "name": "stdout",
     "output_type": "stream",
     "text": [
      "40 1\n"
     ]
    }
   ],
   "source": [
    "def init_weights(shape):\n",
    "    weights = tf.truncated_normal(shape,stddev = 0.1)\n",
    "    return tf.Variable(weights)\n",
    "\n",
    "def bias_variable(shape):\n",
    "  initial = tf.constant(0.1, shape=shape)\n",
    "  return tf.Variable(initial)\n",
    "\n",
    "num_descs = trn_X.shape[1]\n",
    "num_target = trn_y.shape[1]\n",
    "\n",
    "print num_descs,num_target"
   ]
  },
  {
   "cell_type": "code",
   "execution_count": 49,
   "metadata": {
    "collapsed": false
   },
   "outputs": [],
   "source": [
    "##### \n",
    "##Define model structure\n",
    "\n",
    "X = tf.placeholder(tf.float32,shape=[None,num_descs])\n",
    "y = tf.placeholder(tf.float32,shape=[None,num_target])\n",
    "\n",
    "# First layer\n",
    "w1 = init_weights((num_descs,512)) \n",
    "b1 = bias_variable([512])\n",
    "l1 = tf.add(tf.matmul(X,w1),b1)\n",
    "l1 = tf.nn.relu(l1)\n",
    "\n",
    "# Second layer\n",
    "w2 = init_weights((512,256))\n",
    "b2 = bias_variable([256])\n",
    "l2 = tf.add(tf.matmul(l1,w2),b2)\n",
    "l2 = tf.nn.relu(l2)\n",
    "\n",
    "# Third layer\n",
    "w3 = init_weights((256,256))\n",
    "b3 = bias_variable([256])\n",
    "l3 = tf.add(tf.matmul(l2,w3),b3)\n",
    "l3 = tf.nn.relu(l3)\n",
    "\n",
    "# Fourth layer\n",
    "w4 = init_weights((256,256))\n",
    "b4 = bias_variable([256])\n",
    "l4 = tf.add(tf.matmul(l3,w4),b4)\n",
    "l4 = tf.nn.relu(l4)\n",
    "\n",
    "# Fifth layer\n",
    "w5 = init_weights((256,256))\n",
    "b5 = bias_variable([256])\n",
    "l5 = tf.add(tf.matmul(l4,w5),b5)\n",
    "l5 = tf.nn.relu(l5)\n",
    "\n",
    "#Output layer\n",
    "w_out = init_weights((256,num_target))\n",
    "b_out = bias_variable([num_target])\n",
    "l_out = tf.matmul(l5,w_out) + b_out #no nonlinarity\n",
    "\n",
    "pred = l_out"
   ]
  },
  {
   "cell_type": "code",
   "execution_count": 50,
   "metadata": {
    "collapsed": false
   },
   "outputs": [],
   "source": [
    "#static parameters\n",
    "BATCH_SIZE = 5\n",
    "BETA = 0.1 #regularization weights\n",
    "\n",
    "#Define loss and optimizer \n",
    "#Add regularization term\n",
    "# regularizers = tf.nn.l2_loss(w1) + tf.nn.l2_loss(w2) + tf.nn.l2_loss(w3) + tf.nn.l2_loss(w_out)\n",
    "regularizers = tf.nn.l2_loss(w1) + tf.nn.l2_loss(w2) + tf.nn.l2_loss(w3) + tf.nn.l2_loss(w4) + tf.nn.l2_loss(w5) + tf.nn.l2_loss(w_out)\n",
    "cost = tf.reduce_mean(tf.square(pred - y) + BETA*regularizers)\n",
    "\n",
    "#Gridient Descent Optimizer\n",
    "optimizer = tf.train.AdagradOptimizer(learning_rate = 0.005).minimize(cost)\n",
    "\n",
    "\n",
    "# Initializing the variables\n",
    "init = tf.global_variables_initializer()"
   ]
  },
  {
   "cell_type": "markdown",
   "metadata": {},
   "source": [
    "## Training"
   ]
  },
  {
   "cell_type": "code",
   "execution_count": 51,
   "metadata": {
    "collapsed": false,
    "scrolled": false
   },
   "outputs": [
    {
     "name": "stdout",
     "output_type": "stream",
     "text": [
      "Epoch = 1,Cost = 132.85,Training Accuracy = -17.25, Testing Accuracy = -57.79, Testing MRE =638.85\n",
      "Epoch = 101,Cost = 48.59,Training Accuracy = 0.98, Testing Accuracy = -0.79, Testing MRE =145.66\n",
      "Epoch = 201,Cost = 32.09,Training Accuracy = 0.95, Testing Accuracy = -6.79, Testing MRE =149.81\n",
      "Epoch = 301,Cost = 23.94,Training Accuracy = 0.93, Testing Accuracy = -5.02, Testing MRE =127.83\n",
      "Epoch = 401,Cost = 19.01,Training Accuracy = 0.92, Testing Accuracy = -2.24, Testing MRE =116.36\n",
      "Epoch = 501,Cost = 15.70,Training Accuracy = 0.91, Testing Accuracy = -1.04, Testing MRE =115.74\n",
      "Epoch = 601,Cost = 13.32,Training Accuracy = 0.90, Testing Accuracy = -0.54, Testing MRE =114.81\n",
      "Epoch = 701,Cost = 11.53,Training Accuracy = 0.89, Testing Accuracy = -0.16, Testing MRE =107.74\n",
      "Epoch = 801,Cost = 10.13,Training Accuracy = 0.88, Testing Accuracy = 0.07, Testing MRE =106.55\n",
      "Epoch = 901,Cost = 9.01,Training Accuracy = 0.88, Testing Accuracy = 0.25, Testing MRE =105.12\n",
      "Epoch = 1001,Cost = 8.08,Training Accuracy = 0.87, Testing Accuracy = 0.32, Testing MRE =104.20\n",
      "Epoch = 1101,Cost = 7.31,Training Accuracy = 0.87, Testing Accuracy = 0.35, Testing MRE =102.23\n",
      "Epoch = 1201,Cost = 6.66,Training Accuracy = 0.87, Testing Accuracy = 0.37, Testing MRE =101.00\n",
      "Epoch = 1301,Cost = 6.09,Training Accuracy = 0.86, Testing Accuracy = 0.38, Testing MRE =100.11\n",
      "Epoch = 1401,Cost = 5.60,Training Accuracy = 0.86, Testing Accuracy = 0.38, Testing MRE =100.52\n",
      "Epoch = 1501,Cost = 5.18,Training Accuracy = 0.85, Testing Accuracy = 0.38, Testing MRE =100.64\n",
      "Epoch = 1601,Cost = 4.80,Training Accuracy = 0.85, Testing Accuracy = 0.38, Testing MRE =100.96\n",
      "Epoch = 1701,Cost = 4.46,Training Accuracy = 0.84, Testing Accuracy = 0.38, Testing MRE =101.40\n",
      "Epoch = 1801,Cost = 4.16,Training Accuracy = 0.84, Testing Accuracy = 0.38, Testing MRE =101.73\n",
      "Epoch = 1901,Cost = 3.89,Training Accuracy = 0.83, Testing Accuracy = 0.38, Testing MRE =101.55\n",
      "Epoch = 2001,Cost = 3.65,Training Accuracy = 0.83, Testing Accuracy = 0.37, Testing MRE =101.76\n",
      "Epoch = 2101,Cost = 3.43,Training Accuracy = 0.83, Testing Accuracy = 0.37, Testing MRE =101.97\n",
      "Epoch = 2201,Cost = 3.23,Training Accuracy = 0.82, Testing Accuracy = 0.37, Testing MRE =102.79\n",
      "Epoch = 2301,Cost = 3.04,Training Accuracy = 0.82, Testing Accuracy = 0.36, Testing MRE =103.32\n",
      "Epoch = 2401,Cost = 2.88,Training Accuracy = 0.82, Testing Accuracy = 0.36, Testing MRE =103.42\n",
      "Epoch = 2501,Cost = 2.72,Training Accuracy = 0.82, Testing Accuracy = 0.36, Testing MRE =103.73\n",
      "Epoch = 2601,Cost = 2.58,Training Accuracy = 0.81, Testing Accuracy = 0.36, Testing MRE =104.50\n",
      "Epoch = 2701,Cost = 2.45,Training Accuracy = 0.81, Testing Accuracy = 0.36, Testing MRE =105.19\n",
      "Epoch = 2801,Cost = 2.33,Training Accuracy = 0.81, Testing Accuracy = 0.35, Testing MRE =106.13\n",
      "Epoch = 2901,Cost = 2.21,Training Accuracy = 0.81, Testing Accuracy = 0.34, Testing MRE =106.79\n",
      "[ 0.38153348] [ 0.42901653]\n",
      "[ 0.46538603] [ 0.32185733]\n",
      "[ 0.03352277] [ 0.2910459]\n",
      "[ 0.43350335] [ 0.34431002]\n",
      "[ 0.52045459] [ 0.53414559]\n",
      "[ 0.10351547] [ 0.26546502]\n",
      "[ 0.1155104] [ 0.5224148]\n",
      "[ 0.40160288] [ 0.566073]\n",
      "[ 0.21076428] [ 0.25842738]\n",
      "[ 0.36783612] [ 0.445683]\n",
      "[ 0.20092267] [ 0.48302972]\n",
      "[ 0.10756783] [ 0.28597435]\n",
      "[ 0.68594464] [ 0.83044827]\n",
      "[ 0.12397694] [ 0.25012839]\n",
      "[ 0.24933697] [ 0.30833045]\n",
      "[ 0.03111911] [ 0.11268485]\n",
      "[ 0.2872018] [ 0.26348481]\n",
      "[ 0.48129083] [ 0.26334438]\n",
      "[ 0.11490889] [ 0.16795385]\n",
      "[ 1.7339386] [ 1.27521873]\n",
      "[ 0.2402759] [ 0.2614558]\n",
      "[ 0.41800101] [ 0.39376777]\n",
      "[ 0.29680706] [ 0.40862724]\n",
      "[ 0.45153875] [ 0.18560776]\n",
      "[ 0.17070562] [ 0.67424512]\n",
      "[ 1.1958457] [ 0.13930349]\n",
      "[ 0.52769518] [ 0.441567]\n",
      "[ 0.13801613] [ 0.39349371]\n",
      "[ 1.0700043] [ 1.02614605]\n",
      "[ 0.06005472] [ 0.31314251]\n",
      "[ 0.43577053] [-0.12335189]\n",
      "[ 0.23405443] [ 0.39152631]\n",
      "[ 0.72979934] [ 0.37994635]\n",
      "[ 0.38498717] [ 0.32527426]\n"
     ]
    },
    {
     "data": {
      "image/png": "[encoded data removed]",
      "text/plain": [
       "<matplotlib.figure.Figure at 0x7f091df10c90>"
      ]
     },
     "metadata": {},
     "output_type": "display_data"
    },
    {
     "name": "stdout",
     "output_type": "stream",
     "text": [
      "Model saved in file: ./nets/tmp/tmp.ckpt\n"
     ]
    }
   ],
   "source": [
    "#Start Training\n",
    "costs=[]\n",
    "\n",
    "#save the model\n",
    "saver = tf.train.Saver()\n",
    "\n",
    "with tf.Session() as sess:\n",
    "    sess.run(init)\n",
    "    for epoch in range(3000):\n",
    "        for i in range(0, len(trn_X),BATCH_SIZE):\n",
    "            _, c = sess.run([optimizer,cost], feed_dict={X:trn_X[i:i+BATCH_SIZE], y:trn_y[i:i+BATCH_SIZE]})\n",
    "        \n",
    "        trn_score = r2_score(trn_y,sess.run(pred, feed_dict={X:trn_X, y:trn_y}))\n",
    "        tst_score = r2_score(tst_y,sess.run(pred, feed_dict={X:tst_X, y:tst_y}))     \n",
    "        tst_mre = mre(tst_y,sess.run(pred,feed_dict={X:tst_X,y:tst_y}))\n",
    "        \n",
    "        costs.append(tst_score)\n",
    "        if epoch % 100 == 0:\n",
    "            print(\"Epoch = %d,Cost = %.2f,Training Accuracy = %.2f, Testing Accuracy = %.2f, Testing MRE =%.2f\" % (epoch + 1,c,trn_score,tst_score,tst_mre))\n",
    "    \n",
    "    final_pred = sess.run(pred,feed_dict={X:tst_X,y:tst_y})\n",
    "    final_pred_trn = sess.run(pred,feed_dict={X:trn_X,y:trn_y})\n",
    "    \n",
    "    for (y,y_hat) in zip(tst_y,final_pred):\n",
    "                print y,y_hat\n",
    "    \n",
    "    \n",
    "    plt.plot(costs)\n",
    "    plt.show()\n",
    "    \n",
    "    save_path = saver.save(sess, \"./nets/tmp/tmp.ckpt\")\n",
    "    print(\"Model saved in file: %s\" % save_path)"
   ]
  },
  {
   "cell_type": "code",
   "execution_count": 52,
   "metadata": {
    "collapsed": false
   },
   "outputs": [
    {
     "data": {
      "image/png": "[encoded data removed]",
      "text/plain": [
       "<matplotlib.figure.Figure at 0x7f091df10890>"
      ]
     },
     "metadata": {},
     "output_type": "display_data"
    }
   ],
   "source": [
    "\n",
    "MRE_this = mre(tst_y, final_pred)\n",
    "MRE_label = 'MRE: ' + str(round(MRE_this,2))\n",
    "\n",
    "fig = plt.figure()\n",
    "ax = fig.add_subplot(111)\n",
    "est = plt.plot(tst_y, final_pred,'o', label='estimated values')\n",
    "\n",
    "\n",
    "max_val = max(max(tst_y),max(final_pred))\n",
    "plt.ylim([0,max_val+1])\n",
    "plt.xlim([0,max_val+1])\n",
    "\n",
    "thisLine = plt.plot(np.append(0,max_val+1), np.append(0,max_val+1), label='perfect prediction line')\n",
    "\n",
    "plt.plot([],[],linewidth=0, label=MRE_label)\n",
    "plt.legend(loc='upper left')\n",
    "plt.show()"
   ]
  },
  {
   "cell_type": "code",
   "execution_count": null,
   "metadata": {
    "collapsed": true
   },
   "outputs": [],
   "source": []
  }
 ],
 "metadata": {
  "anaconda-cloud": {},
  "kernelspec": {
   "display_name": "tensorflow",
   "language": "python",
   "name": "tensorflow"
  },
  "language_info": {
   "codemirror_mode": {
    "name": "ipython",
    "version": 2
   },
   "file_extension": ".py",
   "mimetype": "text/x-python",
   "name": "python",
   "nbconvert_exporter": "python",
   "pygments_lexer": "ipython2",
   "version": "2.7.13"
  }
 },
 "nbformat": 4,
 "nbformat_minor": 1
}
