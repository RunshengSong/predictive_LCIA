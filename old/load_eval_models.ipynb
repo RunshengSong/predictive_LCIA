{
 "cells": [
  {
   "cell_type": "code",
   "execution_count": 1,
   "metadata": {
    "collapsed": false
   },
   "outputs": [
    {
     "name": "stderr",
     "output_type": "stream",
     "text": [
      "/home/runsheng/anaconda2/envs/tensorflow/lib/python2.7/site-packages/sklearn/cross_validation.py:44: DeprecationWarning: This module was deprecated in version 0.18 in favor of the model_selection module into which all the refactored classes and functions are moved. Also note that the interface of the new CV iterators are different from that of this module. This module will be removed in 0.20.\n",
      "  \"This module will be removed in 0.20.\", DeprecationWarning)\n"
     ]
    }
   ],
   "source": [
    "import sys\n",
    "sys.path.append(\"./src\") # append to system path\n",
    "\n",
    "from sklearn import cross_validation\n",
    "from sklearn.metrics import r2_score\n",
    "from sklearn.metrics import mean_absolute_error\n",
    "from sklearn.decomposition import PCA\n",
    "from sklearn.preprocessing import Normalizer\n",
    "from sklearn.preprocessing import StandardScaler\n",
    "from sklearn.externals import joblib\n",
    "\n",
    "import numpy as np\n",
    "import pandas as pd\n",
    "import tensorflow as tf\n",
    "\n",
    "import matplotlib.pyplot as plt\n",
    "from matplotlib import style\n",
    "from matplotlib.patches import Rectangle\n",
    "style.use('ggplot')"
   ]
  },
  {
   "cell_type": "markdown",
   "metadata": {},
   "source": [
    "---\n",
    "# Predict for ALL chemicals"
   ]
  },
  {
   "cell_type": "code",
   "execution_count": 2,
   "metadata": {
    "collapsed": false
   },
   "outputs": [],
   "source": [
    "def load_lcia_data(descs_p, target_p):\n",
    "    X = pd.read_csv(descs_p,header=0,index_col=None)\n",
    "    X = X.fillna(0)\n",
    "    y = pd.read_csv(target_p,header=0,index_col=None)\n",
    "    return X.values,y.values\n",
    "\n",
    "def mre(true_y,pred_y):\n",
    "    ## Note: does not handle mix 1d representation\n",
    "    #if _is_1d(y_true): \n",
    "    #    y_true, y_pred = _check_1d_array(y_true, y_pred)\n",
    "\n",
    "    return np.mean(np.abs((true_y - pred_y) / true_y)) * 100\n",
    "\n",
    "\n",
    "descs_all = '../data/descs/old/descs_Mar08_3839.csv'\n",
    "target_all = '../data/target/full/EI99.csv' \n",
    "X_all,y_all = load_lcia_data(descs_all, target_all)"
   ]
  },
  {
   "cell_type": "markdown",
   "metadata": {},
   "source": [
    "## load scaler and pca"
   ]
  },
  {
   "cell_type": "code",
   "execution_count": null,
   "metadata": {
    "collapsed": false
   },
   "outputs": [],
   "source": [
    "this_scaler = joblib.load(\"../nets/EI99/scaler.pkl\")\n",
    "pca = joblib.load(\"../nets/EI99/pca.pkl\")\n",
    "\n",
    "X_all = pca.transform(this_scaler.transform(X_all))\n",
    "print X_all.shape"
   ]
  },
  {
   "cell_type": "markdown",
   "metadata": {},
   "source": [
    "## load metagraph and restore model"
   ]
  },
  {
   "cell_type": "code",
   "execution_count": null,
   "metadata": {
    "collapsed": false
   },
   "outputs": [],
   "source": [
    "with tf.Session() as sess:\n",
    "    new_saver = tf.train.import_meta_graph(\"../nets/EI99/EI99_Apr4.meta\")\n",
    "    new_saver.restore(sess,\"../nets/EI99/EI99_Apr4.ckpt\")\n",
    "    X = tf.get_collection(\"X\")[0]\n",
    "    y = tf.get_collection(\"y\")[0]\n",
    "    pred = tf.get_collection(\"pred\")[0]  \n",
    "    pred_all = sess.run(pred,feed_dict={X:X_all})"
   ]
  },
  {
   "cell_type": "code",
   "execution_count": null,
   "metadata": {
    "collapsed": false
   },
   "outputs": [],
   "source": [
    "print r2_score(y_all,pred_all)"
   ]
  },
  {
   "cell_type": "code",
   "execution_count": null,
   "metadata": {
    "collapsed": false
   },
   "outputs": [],
   "source": [
    "%matplotlib auto\n",
    "MRE_this = mre(y_all, pred_all)\n",
    "R2_this = r2_score(y_all, pred_all)\n",
    "print R2_this\n",
    "MRE_label = 'MRE: ' + str(round(MRE_this,2))\n",
    "\n",
    "fig = plt.figure()\n",
    "ax = fig.add_subplot(111)\n",
    "est = plt.plot(y_all, pred_all,'o', label='estimated values')\n",
    "\n",
    "max_val = max(max(y_all),max(pred_all))\n",
    "plt.ylim([0,max_val+1])\n",
    "plt.xlim([0,max_val+1])\n",
    "\n",
    "thisLine = plt.plot(np.append(0,max_val+1), np.append(0,max_val+1), label='perfect prediction line')\n",
    "\n",
    "plt.plot([],[],linewidth=0, label=MRE_label)\n",
    "plt.legend(loc='upper left')\n",
    "plt.show()"
   ]
  },
  {
   "cell_type": "markdown",
   "metadata": {},
   "source": [
    "---\n",
    "# Predict for validation chemicals"
   ]
  },
  {
   "cell_type": "code",
   "execution_count": 2,
   "metadata": {
    "collapsed": false
   },
   "outputs": [],
   "source": [
    "def load_lcia_data(descs_p, target_p):\n",
    "    X = pd.read_csv(descs_p,header=0,index_col=None)\n",
    "    X = X.fillna(0)\n",
    "    y = pd.read_csv(target_p,header=0,index_col=None)\n",
    "    return X.values,y.values\n",
    "\n",
    "def mre(true_y,pred_y):\n",
    "    ## Note: does not handle mix 1d representation\n",
    "    #if _is_1d(y_true): \n",
    "    #    y_true, y_pred = _check_1d_array(y_true, y_pred)\n",
    "\n",
    "    return np.mean(np.abs((true_y - pred_y) / true_y)) * 100\n",
    "\n",
    "# load validation\n",
    "descs_p = '../data/descs/train/descs_Mar08_3839_train.csv'\n",
    "target_p = '../data/target/train/CED_train.csv'\n",
    "X,y = load_lcia_data(descs_p, target_p)\n",
    "\n",
    "trn_X, val_X, trn_y, val_y = cross_validation.train_test_split(\n",
    "    X, y, test_size=0.1, random_state=42)"
   ]
  },
  {
   "cell_type": "markdown",
   "metadata": {},
   "source": [
    "### data preprocessing on validation set"
   ]
  },
  {
   "cell_type": "code",
   "execution_count": 3,
   "metadata": {
    "collapsed": false
   },
   "outputs": [
    {
     "name": "stdout",
     "output_type": "stream",
     "text": [
      "(16, 60)\n"
     ]
    }
   ],
   "source": [
    "this_scaler = joblib.load(\"../nets/CED/scaler.pkl\")\n",
    "pca = joblib.load(\"../nets/CED/pca.pkl\")\n",
    "\n",
    "trn_X = pca.transform(this_scaler.transform(trn_X))\n",
    "val_X = pca.transform(this_scaler.transform(val_X))\n",
    "print val_X.shape"
   ]
  },
  {
   "cell_type": "code",
   "execution_count": 4,
   "metadata": {
    "collapsed": false
   },
   "outputs": [],
   "source": [
    "# load metagraph and restore model, then predict on validatoon\n",
    "with tf.Session() as sess:\n",
    "    new_saver = tf.train.import_meta_graph(\"../nets/CED/CED_apr4.meta\")\n",
    "    new_saver.restore(sess,\"../nets/CED/CED_apr4\")\n",
    "    X = tf.get_collection(\"X\")[0]\n",
    "    y = tf.get_collection(\"y\")[0]\n",
    "    pred = tf.get_collection(\"pred\")[0]  \n",
    "    pred_val = sess.run(pred,feed_dict={X:val_X})"
   ]
  },
  {
   "cell_type": "code",
   "execution_count": 6,
   "metadata": {
    "collapsed": false
   },
   "outputs": [
    {
     "name": "stdout",
     "output_type": "stream",
     "text": [
      "[[  85.46737671]\n",
      " [  59.10528564]\n",
      " [  86.42681122]\n",
      " [  55.67052078]\n",
      " [  82.2365036 ]\n",
      " [  85.54894257]\n",
      " [  71.15123749]\n",
      " [  54.39011383]\n",
      " [  63.22869492]\n",
      " [ 111.47052002]\n",
      " [  53.68412781]\n",
      " [  56.86568451]\n",
      " [  49.03351974]\n",
      " [ 129.83128357]\n",
      " [  82.02814484]\n",
      " [  82.41761017]]\n",
      "[[  75.33430919]\n",
      " [  38.11889307]\n",
      " [  99.9226218 ]\n",
      " [  73.39131664]\n",
      " [  86.64892467]\n",
      " [  97.64076106]\n",
      " [ 101.38742862]\n",
      " [ 111.9314793 ]\n",
      " [  87.61808617]\n",
      " [ 139.85410348]\n",
      " [  19.93278076]\n",
      " [  22.73217774]\n",
      " [  50.08346272]\n",
      " [ 195.86746983]\n",
      " [  66.18562149]\n",
      " [  87.31410844]]\n",
      "0.521809925494\n"
     ]
    }
   ],
   "source": [
    "print pred_val\n",
    "print val_y\n",
    "print r2_score(val_y,pred_val)"
   ]
  },
  {
   "cell_type": "markdown",
   "metadata": {
    "collapsed": true
   },
   "source": [
    "---\n",
    "### Predict for test chemicals"
   ]
  },
  {
   "cell_type": "code",
   "execution_count": null,
   "metadata": {
    "collapsed": true
   },
   "outputs": [],
   "source": [
    "def load_lcia_data(descs_p, target_p):\n",
    "    X = pd.read_csv(descs_p,header=0,index_col=None)\n",
    "    X = X.fillna(0)\n",
    "    y = pd.read_csv(target_p,header=0,index_col=None)\n",
    "    return X.values,y.values\n",
    "\n",
    "def mre(true_y,pred_y):\n",
    "    ## Note: does not handle mix 1d representation\n",
    "    #if _is_1d(y_true): \n",
    "    #    y_true, y_pred = _check_1d_array(y_true, y_pred)\n",
    "\n",
    "    return np.mean(np.abs((true_y - pred_y) / true_y)) * 100\n",
    "\n",
    "descs_tst = '../data/descs/test/descs_Mar08_3839_test.csv'\n",
    "target_tst = '../data/target/test/humanhealth_test.csv'\n",
    "tst_X,tst_y = load_lcia_data(descs_tst, target_tst)"
   ]
  },
  {
   "cell_type": "code",
   "execution_count": null,
   "metadata": {
    "collapsed": false
   },
   "outputs": [],
   "source": [
    "this_scaler = joblib.load(\"../nets/humanhealth/scaler.pkl\")\n",
    "pca = joblib.load(\"../nets/humanhealth/pca.pkl\")\n",
    "\n",
    "tst_X = pca.transform(this_scaler.transform(tst_X))\n",
    "print tst_X.shape"
   ]
  },
  {
   "cell_type": "code",
   "execution_count": null,
   "metadata": {
    "collapsed": true
   },
   "outputs": [],
   "source": [
    "# load metagraph and restore model, then predict on validatoon\n",
    "with tf.Session() as sess:\n",
    "    new_saver = tf.train.import_meta_graph(\"../nets/humanhealth/humanhealth_Apr4.meta\")\n",
    "    new_saver.restore(sess,\"../nets/humanhealth/humanhealth_Apr4.ckpt\")\n",
    "    X = tf.get_collection(\"X\")[0]\n",
    "    y = tf.get_collection(\"y\")[0]\n",
    "    pred = tf.get_collection(\"pred\")[0]  \n",
    "    test_val = sess.run(pred,feed_dict={X:tst_X})"
   ]
  },
  {
   "cell_type": "code",
   "execution_count": null,
   "metadata": {
    "collapsed": false
   },
   "outputs": [],
   "source": [
    "test_val = np.exp(test_val)\n",
    "%matplotlib auto\n",
    "MRE_this = mre(tst_y, test_val)\n",
    "R2_this = r2_score(tst_y, test_val)\n",
    "print R2_this\n",
    "MRE_label = 'MRE: ' + str(round(MRE_this,2))\n",
    "\n",
    "fig = plt.figure()\n",
    "ax = fig.add_subplot(111)\n",
    "est = plt.plot(tst_y, test_val,'o', label='estimated values')\n",
    "\n",
    "max_val = max(max(tst_y),max(test_val))\n",
    "plt.ylim([0,max_val])\n",
    "plt.xlim([0,max_val])\n",
    "\n",
    "thisLine = plt.plot(np.append(0,max_val), np.append(0,max_val), label='perfect prediction line')\n",
    "\n",
    "plt.plot([],[],linewidth=0, label=MRE_label)\n",
    "plt.legend(loc='upper left')\n",
    "plt.show()"
   ]
  },
  {
   "cell_type": "code",
   "execution_count": null,
   "metadata": {
    "collapsed": true
   },
   "outputs": [],
   "source": []
  }
 ],
 "metadata": {
  "kernelspec": {
   "display_name": "tensorflow",
   "language": "python",
   "name": "tensorflow"
  },
  "language_info": {
   "codemirror_mode": {
    "name": "ipython",
    "version": 2
   },
   "file_extension": ".py",
   "mimetype": "text/x-python",
   "name": "python",
   "nbconvert_exporter": "python",
   "pygments_lexer": "ipython2",
   "version": "2.7.13"
  }
 },
 "nbformat": 4,
 "nbformat_minor": 2
}
