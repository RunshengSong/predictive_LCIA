{
 "cells": [
  {
   "cell_type": "markdown",
   "metadata": {},
   "source": [
    "## Create Multi-Layer NN model using tensorflow\n",
    "\n",
    "So I can adjust the parameters as I want..."
   ]
  },
  {
   "cell_type": "code",
   "execution_count": 1,
   "metadata": {
    "collapsed": false
   },
   "outputs": [
    {
     "name": "stderr",
     "output_type": "stream",
     "text": [
      "/home/runsheng/anaconda2/envs/tensorflow/lib/python2.7/site-packages/sklearn/cross_validation.py:44: DeprecationWarning: This module was deprecated in version 0.18 in favor of the model_selection module into which all the refactored classes and functions are moved. Also note that the interface of the new CV iterators are different from that of this module. This module will be removed in 0.20.\n",
      "  \"This module will be removed in 0.20.\", DeprecationWarning)\n"
     ]
    }
   ],
   "source": [
    "import sys\n",
    "sys.path.append(\"./src\") # append to system path\n",
    "\n",
    "from sklearn import cross_validation\n",
    "from sklearn.metrics import r2_score\n",
    "from sklearn.metrics import mean_absolute_error\n",
    "from sklearn.decomposition import PCA\n",
    "from sklearn.preprocessing import Normalizer\n",
    "from sklearn.preprocessing import StandardScaler\n",
    "\n",
    "import numpy as np\n",
    "import pandas as pd\n",
    "import tensorflow as tf\n",
    "\n",
    "import matplotlib.pyplot as plt\n",
    "from matplotlib import style\n",
    "from matplotlib.patches import Rectangle\n",
    "style.use('ggplot')\n",
    "\n"
   ]
  },
  {
   "cell_type": "code",
   "execution_count": 2,
   "metadata": {
    "collapsed": true
   },
   "outputs": [],
   "source": [
    "def load_lcia_data(descs_p, target_p):\n",
    "    X = pd.read_csv(descs_p,header=0,index_col=None)\n",
    "    X = X.fillna(X.mean())\n",
    "    y = pd.read_csv(target_p,header=0,index_col=None)\n",
    "    return X.values,y.values\n",
    "\n",
    "def mre(true_y,pred_y):\n",
    "    ## Note: does not handle mix 1d representation\n",
    "    #if _is_1d(y_true): \n",
    "    #    y_true, y_pred = _check_1d_array(y_true, y_pred)\n",
    "\n",
    "    return np.mean(np.abs((true_y - pred_y) / true_y)) * 100"
   ]
  },
  {
   "cell_type": "markdown",
   "metadata": {},
   "source": [
    "### Load data\n",
    "from csv"
   ]
  },
  {
   "cell_type": "code",
   "execution_count": 3,
   "metadata": {
    "collapsed": false
   },
   "outputs": [],
   "source": [
    "descs_p = './data/descs/descs_Mar08_166_3839.csv'\n",
    "target_p = './data/target/CED.csv'\n",
    "X,y = load_lcia_data(descs_p, target_p)\n",
    "\n",
    "trn_X, tst_X, trn_y, tst_y = cross_validation.train_test_split(\n",
    "    X, y, test_size=0.2, random_state=1)"
   ]
  },
  {
   "cell_type": "code",
   "execution_count": 4,
   "metadata": {
    "collapsed": false
   },
   "outputs": [
    {
     "name": "stdout",
     "output_type": "stream",
     "text": [
      "(132, 3839) (132, 1)\n"
     ]
    }
   ],
   "source": [
    "print trn_X.shape, trn_y.shape"
   ]
  },
  {
   "cell_type": "markdown",
   "metadata": {},
   "source": [
    "### Data Preprocessing\n",
    "Normalization + PCA or Just Normalization"
   ]
  },
  {
   "cell_type": "markdown",
   "metadata": {},
   "source": [
    "### Just Scaler"
   ]
  },
  {
   "cell_type": "code",
   "execution_count": 5,
   "metadata": {
    "collapsed": false
   },
   "outputs": [],
   "source": [
    "## Standard Scaler\n",
    "this_scaler = StandardScaler()\n",
    "trn_X = this_scaler.fit_transform(trn_X)\n",
    "tst_X = this_scaler.transform(tst_X)"
   ]
  },
  {
   "cell_type": "code",
   "execution_count": 6,
   "metadata": {
    "collapsed": false
   },
   "outputs": [
    {
     "name": "stdout",
     "output_type": "stream",
     "text": [
      "[[-1.62569245 -0.82660826 -1.4890865  ...,  0.         -0.18698007\n",
      "  -0.21821789]\n",
      " [-0.53138493 -0.06405605 -0.84172575 ...,  0.         -0.18698007\n",
      "  -0.21821789]\n",
      " [-0.6942586  -0.80394144 -0.04137544 ...,  0.         -0.18698007\n",
      "  -0.21821789]\n",
      " ..., \n",
      " [ 1.84400373  2.39461662 -0.68114993 ...,  0.         -0.18698007\n",
      "  -0.21821789]\n",
      " [-0.62897636 -0.58708431 -0.39476866 ...,  0.         -0.18698007\n",
      "  -0.21821789]\n",
      " [ 0.52353195 -0.54496464  1.20245492 ...,  0.         -0.18698007\n",
      "  -0.21821789]]\n",
      "(132, 3839)\n"
     ]
    }
   ],
   "source": [
    "print trn_X\n",
    "print trn_X.shape"
   ]
  },
  {
   "cell_type": "markdown",
   "metadata": {},
   "source": [
    "##  PCA"
   ]
  },
  {
   "cell_type": "code",
   "execution_count": 7,
   "metadata": {
    "collapsed": false
   },
   "outputs": [],
   "source": [
    "### PCA, don't run them together\n",
    "# normalize the data first\n",
    "pca = PCA(n_components = 30)\n",
    "\n",
    "trn_X = pca.fit_transform(trn_X)\n",
    "tst_X = pca.transform(tst_X)"
   ]
  },
  {
   "cell_type": "code",
   "execution_count": 8,
   "metadata": {
    "collapsed": false
   },
   "outputs": [
    {
     "name": "stdout",
     "output_type": "stream",
     "text": [
      "[[ -5.35989501e+01   1.32074600e+01  -1.88421453e+01 ...,   5.26656359e-02\n",
      "   -2.27715801e+00   3.64268050e+00]\n",
      " [ -2.52339582e+01   4.46858446e+00  -3.33328345e+00 ...,  -2.54528899e+00\n",
      "   -3.10853261e-01   5.87311311e-01]\n",
      " [ -1.06045705e+01  -1.68856800e+00   4.95363160e+00 ...,  -1.09148270e+00\n",
      "    1.50119117e+00  -2.85557051e+00]\n",
      " ..., \n",
      " [ -2.55936241e+01   3.59384994e+00  -5.75314758e+00 ...,   7.29550853e+00\n",
      "   -4.43756762e-01   2.81819153e+00]\n",
      " [ -1.17147817e+01   1.85059397e+00   1.09457469e+00 ...,  -9.44904264e-01\n",
      "    2.31192005e+00   1.16142957e+00]\n",
      " [  2.68647694e+01   4.87049163e+00  -1.07131614e+01 ...,  -2.08636512e+00\n",
      "   -4.89303591e+00   2.43428774e+00]]\n",
      "(132, 30)\n",
      "0.8711953154\n"
     ]
    }
   ],
   "source": [
    "print trn_X\n",
    "print trn_X.shape\n",
    "print(reduce(lambda x,y:x+y,pca.explained_variance_ratio_))"
   ]
  },
  {
   "cell_type": "code",
   "execution_count": 9,
   "metadata": {
    "collapsed": false
   },
   "outputs": [
    {
     "data": {
      "image/png": "[encoded data removed]",
      "text/plain": [
       "<matplotlib.figure.Figure at 0x7fdcc69ae410>"
      ]
     },
     "metadata": {},
     "output_type": "display_data"
    }
   ],
   "source": [
    "plt.scatter(trn_X[:,0],trn_X[:,1])\n",
    "plt.show()"
   ]
  },
  {
   "cell_type": "markdown",
   "metadata": {},
   "source": [
    "### Build the model"
   ]
  },
  {
   "cell_type": "code",
   "execution_count": 51,
   "metadata": {
    "collapsed": false
   },
   "outputs": [
    {
     "name": "stdout",
     "output_type": "stream",
     "text": [
      "30 1\n"
     ]
    }
   ],
   "source": [
    "def init_weights(shape):\n",
    "    weights = tf.random_normal(shape,stddev = 0.1)\n",
    "    return tf.Variable(weights)\n",
    "\n",
    "def bias_variable(shape):\n",
    "  initial = tf.constant(0.1, shape=shape)\n",
    "  return tf.Variable(initial)\n",
    "\n",
    "num_descs = trn_X.shape[1]\n",
    "num_target = trn_y.shape[1]\n",
    "\n",
    "print num_descs,num_target"
   ]
  },
  {
   "cell_type": "code",
   "execution_count": 78,
   "metadata": {
    "collapsed": false
   },
   "outputs": [],
   "source": [
    "##### \n",
    "##Define model structure\n",
    "\n",
    "X = tf.placeholder(tf.float32,shape=[None,num_descs])\n",
    "y = tf.placeholder(tf.float32,shape=[None,num_target])\n",
    "\n",
    "#First layer\n",
    "w1 = init_weights((num_descs,128)) \n",
    "b1 = bias_variable([128])\n",
    "l1 = tf.add(tf.matmul(X,w1),b1)\n",
    "l1 = tf.nn.sigmoid(l1)\n",
    "\n",
    "# Second layer\n",
    "w2 = init_weights((128,128))\n",
    "b2 = bias_variable([128])\n",
    "l2 = tf.add(tf.matmul(l1,w2),b2)\n",
    "l2 = tf.nn.relu(l2)\n",
    "\n",
    "# Third layer\n",
    "# w3 = init_weights((256,256))\n",
    "# b3 = bias_variable([256])\n",
    "# l3 = tf.add(tf.matmul(l2,w3),b3)\n",
    "# l3 = tf.nn.sigmoid(l3)\n",
    "\n",
    "#Output layer\n",
    "w_out = init_weights((128,num_target))\n",
    "b_out = bias_variable([num_target])\n",
    "l_out = tf.matmul(l2,w_out) + b_out #no nonlinarity\n",
    "\n",
    "pred = l_out"
   ]
  },
  {
   "cell_type": "code",
   "execution_count": 79,
   "metadata": {
    "collapsed": false
   },
   "outputs": [],
   "source": [
    "#static parameters\n",
    "BATCH_SIZE = 10\n",
    "BETA = 0.1 #regularization weights\n",
    "\n",
    "#Define loss and optimizer \n",
    "#Add regularization term\n",
    "# regularizers = tf.nn.l2_loss(w1) + tf.nn.l2_loss(w2) + tf.nn.l2_loss(w3) + tf.nn.l2_loss(w_out)\n",
    "regularizers = tf.nn.l2_loss(w1) + tf.nn.l2_loss(w2) + tf.nn.l2_loss(w_out)\n",
    "cost = tf.reduce_mean(tf.square(pred - y) + BETA*regularizers)\n",
    "\n",
    "#Gridient Descent Optimizer\n",
    "optimizer = tf.train.AdagradOptimizer(learning_rate = 0.005).minimize(cost)\n",
    "\n",
    "\n",
    "# Initializing the variables\n",
    "init = tf.global_variables_initializer()"
   ]
  },
  {
   "cell_type": "markdown",
   "metadata": {},
   "source": [
    "## Training"
   ]
  },
  {
   "cell_type": "code",
   "execution_count": 80,
   "metadata": {
    "collapsed": false,
    "scrolled": false
   },
   "outputs": [
    {
     "name": "stdout",
     "output_type": "stream",
     "text": [
      "Epoch = 1,Cost = 7500.42,Training Accuracy = -3.74, Testing Accuracy = -2.14, Testing MRE =77.15\n",
      "Epoch = 101,Cost = 16.74,Training Accuracy = 0.70, Testing Accuracy = 0.24, Testing MRE =37.53\n",
      "Epoch = 201,Cost = 17.93,Training Accuracy = 0.77, Testing Accuracy = 0.32, Testing MRE =36.14\n",
      "Epoch = 301,Cost = 18.07,Training Accuracy = 0.81, Testing Accuracy = 0.38, Testing MRE =35.34\n",
      "Epoch = 401,Cost = 18.16,Training Accuracy = 0.84, Testing Accuracy = 0.41, Testing MRE =35.02\n",
      "Epoch = 501,Cost = 18.62,Training Accuracy = 0.87, Testing Accuracy = 0.43, Testing MRE =34.60\n",
      "Epoch = 601,Cost = 19.20,Training Accuracy = 0.88, Testing Accuracy = 0.45, Testing MRE =34.26\n",
      "Epoch = 701,Cost = 19.85,Training Accuracy = 0.90, Testing Accuracy = 0.46, Testing MRE =34.03\n",
      "Epoch = 801,Cost = 20.51,Training Accuracy = 0.92, Testing Accuracy = 0.47, Testing MRE =33.85\n",
      "Epoch = 901,Cost = 21.13,Training Accuracy = 0.93, Testing Accuracy = 0.48, Testing MRE =33.76\n",
      "[ 73.99070152] [ 87.12328339]\n",
      "[ 91.36306728] [ 47.00320816]\n",
      "[ 63.38683726] [ 80.5366745]\n",
      "[ 84.7977266] [ 84.61158752]\n",
      "[ 52.25829943] [ 53.11227417]\n",
      "[ 50.59190421] [ 83.98831177]\n",
      "[ 64.1670572] [ 81.0452652]\n",
      "[ 91.71323266] [ 88.45068359]\n",
      "[ 76.72259093] [ 62.41102982]\n",
      "[ 83.76170589] [ 96.04022217]\n",
      "[ 64.5220154] [ 92.33287048]\n",
      "[ 56.97642928] [ 85.16893005]\n",
      "[ 96.36471014] [ 123.31863403]\n",
      "[ 67.76545849] [ 80.22717285]\n",
      "[ 73.47961447] [ 84.61923981]\n",
      "[ 86.64892467] [ 69.16687775]\n",
      "[ 78.15381975] [ 64.06531525]\n",
      "[ 115.7938413] [ 80.81629944]\n",
      "[ 24.29155205] [ 83.4339447]\n",
      "[ 232.88550969] [ 164.71891785]\n",
      "[ 120.07914431] [ 88.51363373]\n",
      "[ 96.43945426] [ 98.01472473]\n",
      "[ 51.78736529] [ 62.83963394]\n",
      "[ 59.41431969] [ 70.37917328]\n",
      "[ 49.18098967] [ 105.07210541]\n",
      "[ 160.94026414] [ 71.93650818]\n",
      "[ 110.17365474] [ 98.25988007]\n",
      "[ 62.13626534] [ 85.22294617]\n",
      "[ 288.14541835] [ 176.23419189]\n",
      "[ 67.36264484] [ 85.56051636]\n",
      "[ 136.36059051] [ 137.45077515]\n",
      "[ 73.46014706] [ 87.45583344]\n",
      "[ 91.47896317] [ 57.81148148]\n",
      "[ 84.15423997] [ 101.02481079]\n"
     ]
    },
    {
     "data": {
      "image/png": "[encoded data removed]",
      "text/plain": [
       "<matplotlib.figure.Figure at 0x7fdc2d258450>"
      ]
     },
     "metadata": {},
     "output_type": "display_data"
    },
    {
     "name": "stdout",
     "output_type": "stream",
     "text": [
      "Model saved in file: ./nets/tmp/tmp.ckpt\n"
     ]
    }
   ],
   "source": [
    "#Start Training\n",
    "costs=[]\n",
    "\n",
    "#save the model\n",
    "saver = tf.train.Saver()\n",
    "\n",
    "with tf.Session() as sess:\n",
    "    sess.run(init)\n",
    "    for epoch in range(1500):\n",
    "        for i in range(0, len(trn_X),BATCH_SIZE):\n",
    "            _, c = sess.run([optimizer,cost], feed_dict={X:trn_X[i:i+BATCH_SIZE], y:trn_y[i:i+BATCH_SIZE]})\n",
    "        \n",
    "        trn_score = r2_score(trn_y,sess.run(pred, feed_dict={X:trn_X, y:trn_y}))\n",
    "        tst_score = r2_score(tst_y,sess.run(pred, feed_dict={X:tst_X, y:tst_y}))     \n",
    "        tst_mre = mre(tst_y,sess.run(pred,feed_dict={X:tst_X,y:tst_y}))\n",
    "        \n",
    "        costs.append(tst_score)\n",
    "        if epoch % 100 == 0:\n",
    "            print(\"Epoch = %d,Cost = %.2f,Training Accuracy = %.2f, Testing Accuracy = %.2f, Testing MRE =%.2f\" % (epoch + 1,c,trn_score,tst_score,tst_mre))\n",
    "    \n",
    "    final_pred = sess.run(pred,feed_dict={X:tst_X,y:tst_y})\n",
    "    final_pred_trn = sess.run(pred,feed_dict={X:trn_X,y:trn_y})\n",
    "    \n",
    "    for (y,y_hat) in zip(tst_y,final_pred):\n",
    "                print y,y_hat\n",
    "    \n",
    "    \n",
    "    plt.plot(costs)\n",
    "    plt.show()\n",
    "    \n",
    "    save_path = saver.save(sess, \"./nets/tmp/tmp.ckpt\")\n",
    "    print(\"Model saved in file: %s\" % save_path)"
   ]
  },
  {
   "cell_type": "code",
   "execution_count": 48,
   "metadata": {
    "collapsed": false
   },
   "outputs": [
    {
     "data": {
      "image/png": "[encoded data removed]",
      "text/plain": [
       "<matplotlib.figure.Figure at 0x7fdc5214f690>"
      ]
     },
     "metadata": {},
     "output_type": "display_data"
    }
   ],
   "source": [
    "\n",
    "MRE_this = mre(tst_y, final_pred)\n",
    "MRE_label = 'MRE: ' + str(round(MRE_this,2))\n",
    "\n",
    "fig = plt.figure()\n",
    "ax = fig.add_subplot(111)\n",
    "est = plt.plot(tst_y, final_pred,'o', label='estimated values')\n",
    "\n",
    "\n",
    "max_val = max(max(tst_y),max(final_pred))\n",
    "plt.ylim([0,max_val+20])\n",
    "plt.xlim([0,max_val+20])\n",
    "\n",
    "thisLine = plt.plot(np.append(0,max_val+20), np.append(0,max_val+20), label='perfect prediction line')\n",
    "\n",
    "plt.plot([],[],linewidth=0, label=MRE_label)\n",
    "plt.legend(loc='upper left')\n",
    "plt.show()"
   ]
  },
  {
   "cell_type": "code",
   "execution_count": null,
   "metadata": {
    "collapsed": true
   },
   "outputs": [],
   "source": []
  }
 ],
 "metadata": {
  "anaconda-cloud": {},
  "kernelspec": {
   "display_name": "tensorflow",
   "language": "python",
   "name": "tensorflow"
  },
  "language_info": {
   "codemirror_mode": {
    "name": "ipython",
    "version": 2
   },
   "file_extension": ".py",
   "mimetype": "text/x-python",
   "name": "python",
   "nbconvert_exporter": "python",
   "pygments_lexer": "ipython2",
   "version": "2.7.13"
  }
 },
 "nbformat": 4,
 "nbformat_minor": 1
}
