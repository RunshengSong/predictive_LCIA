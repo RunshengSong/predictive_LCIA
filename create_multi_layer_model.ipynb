{
 "cells": [
  {
   "cell_type": "markdown",
   "metadata": {},
   "source": [
    "## Create Multi-Layer NN model using tensorflow\n",
    "\n",
    "So I can adjust the parameters as I want..."
   ]
  },
  {
   "cell_type": "code",
   "execution_count": 16,
   "metadata": {
    "collapsed": false
   },
   "outputs": [],
   "source": [
    "import sys\n",
    "sys.path.append(\"./src\") # append to system path\n",
    "\n",
    "from sklearn import cross_validation\n",
    "from sklearn.metrics import r2_score\n",
    "from sklearn.metrics import mean_absolute_error\n",
    "from sklearn.decomposition import PCA\n",
    "from sklearn.preprocessing import Normalizer\n",
    "from sklearn.preprocessing import StandardScaler\n",
    "\n",
    "import numpy as np\n",
    "import pandas as pd\n",
    "import tensorflow as tf\n",
    "\n",
    "import matplotlib.pyplot as plt\n",
    "from matplotlib import style\n",
    "from matplotlib.patches import Rectangle\n",
    "style.use('ggplot')\n",
    "\n"
   ]
  },
  {
   "cell_type": "code",
   "execution_count": 17,
   "metadata": {
    "collapsed": true
   },
   "outputs": [],
   "source": [
    "def load_lcia_data(descs_p, target_p):\n",
    "    X = pd.read_csv(descs_p,header=0,index_col=None)\n",
    "    X = X.fillna(X.mean())\n",
    "    y = pd.read_csv(target_p,header=0,index_col=None)\n",
    "    return X.values,y.values\n",
    "\n",
    "def mre(true_y,pred_y):\n",
    "    ## Note: does not handle mix 1d representation\n",
    "    #if _is_1d(y_true): \n",
    "    #    y_true, y_pred = _check_1d_array(y_true, y_pred)\n",
    "\n",
    "    return np.mean(np.abs((true_y - pred_y) / true_y)) * 100"
   ]
  },
  {
   "cell_type": "markdown",
   "metadata": {},
   "source": [
    "### Load data\n",
    "from csv"
   ]
  },
  {
   "cell_type": "code",
   "execution_count": 18,
   "metadata": {
    "collapsed": false
   },
   "outputs": [],
   "source": [
    "descs_p = './data/descs/descs_Mar08_166_3839.csv'\n",
    "target_p = './data/target/CED.csv'\n",
    "X,y = load_lcia_data(descs_p, target_p)\n",
    "\n",
    "trn_X, tst_X, trn_y, tst_y = cross_validation.train_test_split(\n",
    "    X, y, test_size=0.2, random_state=1)"
   ]
  },
  {
   "cell_type": "code",
   "execution_count": 19,
   "metadata": {
    "collapsed": false
   },
   "outputs": [
    {
     "name": "stdout",
     "output_type": "stream",
     "text": [
      "(132, 3839) (132, 1)\n"
     ]
    }
   ],
   "source": [
    "print trn_X.shape, trn_y.shape"
   ]
  },
  {
   "cell_type": "markdown",
   "metadata": {},
   "source": [
    "### Data Preprocessing\n",
    "Normalization + PCA or Just Normalization"
   ]
  },
  {
   "cell_type": "markdown",
   "metadata": {},
   "source": [
    "### Just Scaler"
   ]
  },
  {
   "cell_type": "code",
   "execution_count": 20,
   "metadata": {
    "collapsed": false
   },
   "outputs": [],
   "source": [
    "## Standard Scaler\n",
    "this_scaler = StandardScaler()\n",
    "trn_X = this_scaler.fit_transform(trn_X)\n",
    "tst_X = this_scaler.transform(tst_X)"
   ]
  },
  {
   "cell_type": "code",
   "execution_count": 21,
   "metadata": {
    "collapsed": false
   },
   "outputs": [
    {
     "name": "stdout",
     "output_type": "stream",
     "text": [
      "[[-1.62569245 -0.82660826 -1.4890865  ...,  0.         -0.18698007\n",
      "  -0.21821789]\n",
      " [-0.53138493 -0.06405605 -0.84172575 ...,  0.         -0.18698007\n",
      "  -0.21821789]\n",
      " [-0.6942586  -0.80394144 -0.04137544 ...,  0.         -0.18698007\n",
      "  -0.21821789]\n",
      " ..., \n",
      " [ 1.84400373  2.39461662 -0.68114993 ...,  0.         -0.18698007\n",
      "  -0.21821789]\n",
      " [-0.62897636 -0.58708431 -0.39476866 ...,  0.         -0.18698007\n",
      "  -0.21821789]\n",
      " [ 0.52353195 -0.54496464  1.20245492 ...,  0.         -0.18698007\n",
      "  -0.21821789]]\n",
      "(132, 3839)\n"
     ]
    }
   ],
   "source": [
    "print trn_X\n",
    "print trn_X.shape"
   ]
  },
  {
   "cell_type": "markdown",
   "metadata": {},
   "source": [
    "##  PCA"
   ]
  },
  {
   "cell_type": "code",
   "execution_count": 22,
   "metadata": {
    "collapsed": false
   },
   "outputs": [],
   "source": [
    "### PCA, don't run them together\n",
    "# normalize the data first\n",
    "pca = PCA(n_components = 30)\n",
    "\n",
    "trn_X = pca.fit_transform(trn_X)\n",
    "tst_X = pca.transform(tst_X)"
   ]
  },
  {
   "cell_type": "code",
   "execution_count": 23,
   "metadata": {
    "collapsed": false
   },
   "outputs": [
    {
     "name": "stdout",
     "output_type": "stream",
     "text": [
      "[[-53.59895013  13.20745816 -18.84214267 ...,  -0.07463057  -2.67591603\n",
      "    2.72993315]\n",
      " [-25.23395823   4.46858383  -3.33329015 ...,  -2.50557708  -0.27664144\n",
      "    0.70961515]\n",
      " [-10.60457048  -1.68856812   4.95363973 ...,  -1.25382252   1.21326993\n",
      "   -3.70298066]\n",
      " ..., \n",
      " [-25.59362413   3.59385286  -5.7531404  ...,   7.63432539  -0.96228743\n",
      "    2.39360353]\n",
      " [-11.71478168   1.85059549   1.09457285 ...,  -0.76431811   2.3721897\n",
      "    1.08945557]\n",
      " [ 26.86476941   4.87049461 -10.71316391 ...,  -2.04130259  -4.5130164\n",
      "    2.45125673]]\n",
      "(132, 30)\n",
      "0.871119102318\n"
     ]
    }
   ],
   "source": [
    "print trn_X\n",
    "print trn_X.shape\n",
    "print(reduce(lambda x,y:x+y,pca.explained_variance_ratio_))"
   ]
  },
  {
   "cell_type": "code",
   "execution_count": 24,
   "metadata": {
    "collapsed": false
   },
   "outputs": [
    {
     "data": {
      "image/png": "[encoded data removed]",
      "text/plain": [
       "<matplotlib.figure.Figure at 0x7f89554c0550>"
      ]
     },
     "metadata": {},
     "output_type": "display_data"
    }
   ],
   "source": [
    "plt.scatter(trn_X[:,0],trn_X[:,1])\n",
    "plt.show()"
   ]
  },
  {
   "cell_type": "markdown",
   "metadata": {},
   "source": [
    "### Build the model"
   ]
  },
  {
   "cell_type": "code",
   "execution_count": 29,
   "metadata": {
    "collapsed": false
   },
   "outputs": [
    {
     "name": "stdout",
     "output_type": "stream",
     "text": [
      "30 1\n"
     ]
    }
   ],
   "source": [
    "def init_weights(shape):\n",
    "    weights = tf.random_normal(shape,stddev = 0.1)\n",
    "    return tf.Variable(weights)\n",
    "\n",
    "def bias_variable(shape):\n",
    "  initial = tf.constant(0.1, shape=shape)\n",
    "  return tf.Variable(initial)\n",
    "\n",
    "num_descs = trn_X.shape[1]\n",
    "num_target = trn_y.shape[1]\n",
    "\n",
    "print num_descs,num_target"
   ]
  },
  {
   "cell_type": "code",
   "execution_count": 30,
   "metadata": {
    "collapsed": false
   },
   "outputs": [],
   "source": [
    "##### \n",
    "##Define model structure\n",
    "\n",
    "X = tf.placeholder(tf.float32,shape=[None,num_descs])\n",
    "y = tf.placeholder(tf.float32,shape=[None,num_target])\n",
    "\n",
    "#First layer\n",
    "w1 = init_weights((num_descs,128)) \n",
    "b1 = bias_variable([128])\n",
    "l1 = tf.add(tf.matmul(X,w1),b1)\n",
    "l1 = tf.nn.sigmoid(l1)\n",
    "\n",
    "# Second layer\n",
    "w2 = init_weights((128,128))\n",
    "b2 = bias_variable([128])\n",
    "l2 = tf.add(tf.matmul(l1,w2),b2)\n",
    "l2 = tf.nn.sigmoid(l2)\n",
    "\n",
    "# # Third layer\n",
    "# w3 = init_weights((128,128))\n",
    "# b3 = bias_variable([128])\n",
    "# l3 = tf.add(tf.matmul(l2,w3),b3)\n",
    "# l3 = tf.nn.sigmoid(l3)\n",
    "\n",
    "#Output layer\n",
    "w_out = init_weights((128,num_target))\n",
    "b_out = bias_variable([num_target])\n",
    "l_out = tf.matmul(l2,w_out) + b_out #no nonlinarity\n",
    "\n",
    "pred = l_out"
   ]
  },
  {
   "cell_type": "code",
   "execution_count": 32,
   "metadata": {
    "collapsed": false
   },
   "outputs": [],
   "source": [
    "#static parameters\n",
    "BATCH_SIZE = 1\n",
    "BETA = 0.1 #regularization weights\n",
    "\n",
    "#Define loss and optimizer \n",
    "#Add regularization term\n",
    "# regularizers = tf.nn.l2_loss(w1) + tf.nn.l2_loss(w2) + tf.nn.l2_loss(w3) + tf.nn.l2_loss(w_out)\n",
    "regularizers = tf.nn.l2_loss(w1) + tf.nn.l2_loss(w2) + tf.nn.l2_loss(w_out)\n",
    "cost = tf.reduce_mean(tf.square(pred - y) + BETA*regularizers)\n",
    "\n",
    "#Gridient Descent Optimizer\n",
    "optimizer = tf.train.AdagradOptimizer(learning_rate = 0.005).minimize(cost)\n",
    "\n",
    "\n",
    "# Initializing the variables\n",
    "init = tf.global_variables_initializer()"
   ]
  },
  {
   "cell_type": "markdown",
   "metadata": {},
   "source": [
    "## Training"
   ]
  },
  {
   "cell_type": "code",
   "execution_count": null,
   "metadata": {
    "collapsed": false,
    "scrolled": false
   },
   "outputs": [
    {
     "name": "stdout",
     "output_type": "stream",
     "text": [
      "Epoch = 1,Cost = 8651.34,Training Accuracy = -4.04, Testing Accuracy = -2.29, Testing MRE =80.56\n",
      "Epoch = 101,Cost = 586.03,Training Accuracy = 0.14, Testing Accuracy = -0.03, Testing MRE =33.27\n",
      "Epoch = 201,Cost = 125.57,Training Accuracy = 0.39, Testing Accuracy = -0.01, Testing MRE =40.91\n",
      "Epoch = 301,Cost = 37.21,Training Accuracy = 0.46, Testing Accuracy = 0.01, Testing MRE =40.94\n",
      "Epoch = 401,Cost = 35.00,Training Accuracy = 0.56, Testing Accuracy = 0.06, Testing MRE =38.75\n",
      "Epoch = 501,Cost = 27.21,Training Accuracy = 0.61, Testing Accuracy = 0.08, Testing MRE =39.27\n",
      "Epoch = 601,Cost = 23.93,Training Accuracy = 0.64, Testing Accuracy = 0.09, Testing MRE =39.65\n",
      "Epoch = 701,Cost = 24.84,Training Accuracy = 0.66, Testing Accuracy = 0.11, Testing MRE =39.46\n",
      "Epoch = 801,Cost = 27.00,Training Accuracy = 0.69, Testing Accuracy = 0.13, Testing MRE =38.61\n",
      "Epoch = 901,Cost = 24.95,Training Accuracy = 0.72, Testing Accuracy = 0.15, Testing MRE =38.55\n",
      "Epoch = 1001,Cost = 25.04,Training Accuracy = 0.75, Testing Accuracy = 0.17, Testing MRE =38.54\n",
      "Epoch = 1101,Cost = 26.80,Training Accuracy = 0.78, Testing Accuracy = 0.19, Testing MRE =38.26\n",
      "Epoch = 1201,Cost = 28.44,Training Accuracy = 0.80, Testing Accuracy = 0.21, Testing MRE =37.81\n",
      "Epoch = 1301,Cost = 29.44,Training Accuracy = 0.81, Testing Accuracy = 0.23, Testing MRE =37.59\n",
      "Epoch = 1401,Cost = 29.96,Training Accuracy = 0.83, Testing Accuracy = 0.25, Testing MRE =37.41\n",
      "Epoch = 1501,Cost = 30.20,Training Accuracy = 0.84, Testing Accuracy = 0.26, Testing MRE =37.36\n"
     ]
    }
   ],
   "source": [
    "#Start Training\n",
    "costs=[]\n",
    "\n",
    "#save the model\n",
    "saver = tf.train.Saver()\n",
    "\n",
    "with tf.Session() as sess:\n",
    "    sess.run(init)\n",
    "    for epoch in range(2000):\n",
    "        for i in range(0, len(trn_X),BATCH_SIZE):\n",
    "            _, c = sess.run([optimizer,cost], feed_dict={X:trn_X[i:i+BATCH_SIZE], y:trn_y[i:i+BATCH_SIZE]})\n",
    "        \n",
    "        trn_score = r2_score(trn_y,sess.run(pred, feed_dict={X:trn_X, y:trn_y}))\n",
    "        tst_score = r2_score(tst_y,sess.run(pred, feed_dict={X:tst_X, y:tst_y}))     \n",
    "        tst_mre = mre(tst_y,sess.run(pred,feed_dict={X:tst_X,y:tst_y}))\n",
    "        \n",
    "        costs.append(tst_score)\n",
    "        if epoch % 100 == 0:\n",
    "            print(\"Epoch = %d,Cost = %.2f,Training Accuracy = %.2f, Testing Accuracy = %.2f, Testing MRE =%.2f\" % (epoch + 1,c,trn_score,tst_score,tst_mre))\n",
    "    \n",
    "    final_pred = sess.run(pred,feed_dict={X:tst_X,y:tst_y})\n",
    "    final_pred_trn = sess.run(pred,feed_dict={X:trn_X,y:trn_y})\n",
    "    \n",
    "    for (y,y_hat) in zip(tst_y,final_pred):\n",
    "                print y,y_hat\n",
    "    \n",
    "    \n",
    "    plt.plot(costs)\n",
    "    plt.show()\n",
    "    \n",
    "    save_path = saver.save(sess, \"./nets/tmp/tmp.ckpt\")\n",
    "    print(\"Model saved in file: %s\" % save_path)"
   ]
  },
  {
   "cell_type": "code",
   "execution_count": 15,
   "metadata": {
    "collapsed": false
   },
   "outputs": [
    {
     "data": {
      "image/png": "[encoded data removed]",
      "text/plain": [
       "<matplotlib.figure.Figure at 0x7f890affd6d0>"
      ]
     },
     "metadata": {},
     "output_type": "display_data"
    }
   ],
   "source": [
    "\n",
    "MRE_this = mre(tst_y, final_pred)\n",
    "MRE_label = 'MRE: ' + str(round(MRE_this,2))\n",
    "\n",
    "fig = plt.figure()\n",
    "ax = fig.add_subplot(111)\n",
    "est = plt.plot(tst_y, final_pred,'o', label='estimated values')\n",
    "\n",
    "\n",
    "max_val = max(max(tst_y),max(final_pred))\n",
    "plt.ylim([0,max_val+20])\n",
    "plt.xlim([0,max_val+20])\n",
    "\n",
    "thisLine = plt.plot(np.append(0,max_val+20), np.append(0,max_val+20), label='perfect prediction line')\n",
    "\n",
    "plt.plot([],[],linewidth=0, label=MRE_label)\n",
    "plt.legend(loc='upper left')\n",
    "plt.show()"
   ]
  },
  {
   "cell_type": "code",
   "execution_count": null,
   "metadata": {
    "collapsed": true
   },
   "outputs": [],
   "source": []
  }
 ],
 "metadata": {
  "anaconda-cloud": {},
  "kernelspec": {
   "display_name": "Python [conda env:tensorflow]",
   "language": "python",
   "name": "conda-env-tensorflow-py"
  },
  "language_info": {
   "codemirror_mode": {
    "name": "ipython",
    "version": 2
   },
   "file_extension": ".py",
   "mimetype": "text/x-python",
   "name": "python",
   "nbconvert_exporter": "python",
   "pygments_lexer": "ipython2",
   "version": "2.7.13"
  }
 },
 "nbformat": 4,
 "nbformat_minor": 1
}
