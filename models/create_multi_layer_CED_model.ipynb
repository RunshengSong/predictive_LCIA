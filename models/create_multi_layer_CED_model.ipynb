{
 "cells": [
  {
   "cell_type": "markdown",
   "metadata": {},
   "source": [
    "## Create Multi-Layer NN model using tensorflow\n",
    "\n",
    "So I can adjust the parameters as I want..."
   ]
  },
  {
   "cell_type": "code",
   "execution_count": 1,
   "metadata": {
    "collapsed": false
   },
   "outputs": [
    {
     "name": "stderr",
     "output_type": "stream",
     "text": [
      "/home/runsheng/anaconda2/envs/tensorflow/lib/python2.7/site-packages/sklearn/cross_validation.py:44: DeprecationWarning: This module was deprecated in version 0.18 in favor of the model_selection module into which all the refactored classes and functions are moved. Also note that the interface of the new CV iterators are different from that of this module. This module will be removed in 0.20.\n",
      "  \"This module will be removed in 0.20.\", DeprecationWarning)\n"
     ]
    }
   ],
   "source": [
    "import sys\n",
    "sys.path.append(\"./src\") # append to system path\n",
    "\n",
    "from sklearn import cross_validation\n",
    "from sklearn.metrics import r2_score\n",
    "from sklearn.metrics import mean_absolute_error\n",
    "from sklearn.decomposition import PCA\n",
    "from sklearn.preprocessing import Normalizer\n",
    "from sklearn.preprocessing import StandardScaler\n",
    "\n",
    "import numpy as np\n",
    "import pandas as pd\n",
    "import tensorflow as tf\n",
    "\n",
    "import matplotlib.pyplot as plt\n",
    "from matplotlib import style\n",
    "from matplotlib.patches import Rectangle\n",
    "style.use('ggplot')\n",
    "\n"
   ]
  },
  {
   "cell_type": "code",
   "execution_count": 2,
   "metadata": {
    "collapsed": true
   },
   "outputs": [],
   "source": [
    "def load_lcia_data(descs_p, target_p):\n",
    "    X = pd.read_csv(descs_p,header=0,index_col=None)\n",
    "    X = X.fillna(0)\n",
    "    y = pd.read_csv(target_p,header=0,index_col=None)\n",
    "    return X.values,y.values\n",
    "\n",
    "def mre(true_y,pred_y):\n",
    "    ## Note: does not handle mix 1d representation\n",
    "    #if _is_1d(y_true): \n",
    "    #    y_true, y_pred = _check_1d_array(y_true, y_pred)\n",
    "\n",
    "    return np.mean(np.abs((true_y - pred_y) / true_y)) * 100"
   ]
  },
  {
   "cell_type": "markdown",
   "metadata": {},
   "source": [
    "### Load Training data\n",
    "The training data has 156 chemicals now. The rest 10 chemicals are test data\n",
    "We also split the training and validation data here\n",
    "We use smaller set (10%) to be the valdiation set (16 chemicals), as the limited size of training chemicals."
   ]
  },
  {
   "cell_type": "code",
   "execution_count": 3,
   "metadata": {
    "collapsed": false
   },
   "outputs": [],
   "source": [
    "descs_p = '../data/descs/train/descs_Mar08_3839_train.csv'\n",
    "target_p = '../data/target/train/CED_train.csv'\n",
    "X,y = load_lcia_data(descs_p, target_p)\n",
    "\n",
    "trn_X, val_X, trn_y, val_y = cross_validation.train_test_split(\n",
    "    X, y, test_size=0.1, random_state=3)"
   ]
  },
  {
   "cell_type": "code",
   "execution_count": 4,
   "metadata": {
    "collapsed": false
   },
   "outputs": [
    {
     "name": "stdout",
     "output_type": "stream",
     "text": [
      "(140, 3839) (140, 1)\n"
     ]
    }
   ],
   "source": [
    "print trn_X.shape, trn_y.shape"
   ]
  },
  {
   "cell_type": "markdown",
   "metadata": {},
   "source": [
    "### Load Testing data"
   ]
  },
  {
   "cell_type": "code",
   "execution_count": 5,
   "metadata": {
    "collapsed": true
   },
   "outputs": [],
   "source": [
    "descs_tst = '../data/descs/test/descs_Mar08_3839_test.csv'\n",
    "target_tst = '../data/target/test/CED_test.csv'\n",
    "tst_X,tst_y = load_lcia_data(descs_tst, target_tst)"
   ]
  },
  {
   "cell_type": "markdown",
   "metadata": {},
   "source": [
    "### Data Preprocessing\n",
    "Normalization + PCA or Just Normalization"
   ]
  },
  {
   "cell_type": "markdown",
   "metadata": {},
   "source": [
    "### Just Scaler"
   ]
  },
  {
   "cell_type": "code",
   "execution_count": 6,
   "metadata": {
    "collapsed": false
   },
   "outputs": [],
   "source": [
    "## Standard Scaler\n",
    "this_scaler = StandardScaler()\n",
    "trn_X = this_scaler.fit_transform(trn_X)\n",
    "val_X = this_scaler.transform(val_X)\n",
    "tst_X = this_scaler.transform(tst_X)"
   ]
  },
  {
   "cell_type": "code",
   "execution_count": 7,
   "metadata": {
    "collapsed": false
   },
   "outputs": [
    {
     "name": "stdout",
     "output_type": "stream",
     "text": [
      "(140, 3839)\n",
      "(10, 3839)\n",
      "[ -1.39123274e-16  -7.31161163e-16   5.43612774e-16 ...,   0.00000000e+00\n",
      "   2.02219194e-17   8.56457762e-17] [ 1.  1.  1. ...,  0.  1.  1.]\n"
     ]
    }
   ],
   "source": [
    "print trn_X.shape\n",
    "print tst_X.shape\n",
    "print np.mean(trn_X,0),np.std(trn_X,0)"
   ]
  },
  {
   "cell_type": "markdown",
   "metadata": {},
   "source": [
    "##  PCA"
   ]
  },
  {
   "cell_type": "code",
   "execution_count": 8,
   "metadata": {
    "collapsed": false
   },
   "outputs": [],
   "source": [
    "### PCA, don't run them together\n",
    "# normalize the data first\n",
    "pca = PCA(n_components = 60)\n",
    "\n",
    "trn_X = pca.fit_transform(trn_X)\n",
    "val_X = pca.transform(val_X)\n",
    "tst_X = pca.transform(tst_X)"
   ]
  },
  {
   "cell_type": "code",
   "execution_count": 9,
   "metadata": {
    "collapsed": false
   },
   "outputs": [
    {
     "name": "stdout",
     "output_type": "stream",
     "text": [
      "(140, 60) (10, 60)\n",
      "0.955856246282\n"
     ]
    }
   ],
   "source": [
    "\n",
    "print trn_X.shape, tst_X.shape\n",
    "print(reduce(lambda x,y:x+y,pca.explained_variance_ratio_))"
   ]
  },
  {
   "cell_type": "code",
   "execution_count": 10,
   "metadata": {
    "collapsed": false
   },
   "outputs": [
    {
     "data": {
      "image/png": "[encoded data removed]",
      "text/plain": [
       "<matplotlib.figure.Figure at 0x7f15291904d0>"
      ]
     },
     "metadata": {},
     "output_type": "display_data"
    }
   ],
   "source": [
    "plt.scatter(trn_X[:,0],trn_X[:,1])\n",
    "plt.scatter(tst_X[:,0],tst_X[:,1])\n",
    "plt.show()"
   ]
  },
  {
   "cell_type": "markdown",
   "metadata": {},
   "source": [
    "### Build the model"
   ]
  },
  {
   "cell_type": "code",
   "execution_count": 74,
   "metadata": {
    "collapsed": false
   },
   "outputs": [
    {
     "name": "stdout",
     "output_type": "stream",
     "text": [
      "60 1\n"
     ]
    }
   ],
   "source": [
    "def init_weights(shape):\n",
    "    weights = tf.truncated_normal(shape,stddev = 0.1)\n",
    "    return tf.Variable(weights)\n",
    "\n",
    "def bias_variable(shape):\n",
    "  initial = tf.constant(0.1, shape=shape)\n",
    "  return tf.Variable(initial)\n",
    "\n",
    "num_descs = trn_X.shape[1]\n",
    "num_target = trn_y.shape[1]\n",
    "\n",
    "print num_descs,num_target"
   ]
  },
  {
   "cell_type": "code",
   "execution_count": 75,
   "metadata": {
    "collapsed": false
   },
   "outputs": [],
   "source": [
    "##### \n",
    "##Define model structure\n",
    "\n",
    "X = tf.placeholder(tf.float32,shape=[None,num_descs])\n",
    "y = tf.placeholder(tf.float32,shape=[None,num_target])\n",
    "\n",
    "#First layer\n",
    "w1 = init_weights((num_descs,64)) \n",
    "b1 = bias_variable([64])\n",
    "l1 = tf.add(tf.matmul(X,w1),b1)\n",
    "l1 = tf.nn.relu(l1)\n",
    "\n",
    "# Second layer\n",
    "w2 = init_weights((64,64))\n",
    "b2 = bias_variable([64])\n",
    "l2 = tf.add(tf.matmul(l1,w2),b2)\n",
    "l2 = tf.nn.relu(l2)\n",
    "\n",
    "# Third layer\n",
    "w3 = init_weights((64,64))\n",
    "b3 = bias_variable([64])\n",
    "l3 = tf.add(tf.matmul(l2,w3),b3)\n",
    "l3 = tf.nn.relu(l3)\n",
    "\n",
    "# Fourth layer\n",
    "w4 = init_weights((64,64))\n",
    "b4 = bias_variable([64])\n",
    "l4 = tf.add(tf.matmul(l3,w4),b4)\n",
    "l4 = tf.nn.relu(l4)\n",
    "\n",
    "# Fifth layer\n",
    "w5 = init_weights((64,64))\n",
    "b5 = bias_variable([64])\n",
    "l5 = tf.add(tf.matmul(l4,w5),b5)\n",
    "l5 = tf.nn.relu(l5)\n",
    "\n",
    "#Output layer\n",
    "w_out = init_weights((64,num_target))\n",
    "b_out = bias_variable([num_target])\n",
    "l_out = tf.matmul(l5,w_out) + b_out #no nonlinarity\n",
    "\n",
    "pred = l_out"
   ]
  },
  {
   "cell_type": "code",
   "execution_count": 76,
   "metadata": {
    "collapsed": false
   },
   "outputs": [],
   "source": [
    "#static parameters\n",
    "BATCH_SIZE = 1\n",
    "BETA = 0.01 #regularization weights\n",
    "\n",
    "#Define loss and optimizer \n",
    "#Add regularization term\n",
    "# regularizers = tf.nn.l2_loss(w1) + tf.nn.l2_loss(w2) + tf.nn.l2_loss(w3) + tf.nn.l2_loss(w_out)\n",
    "regularizers = tf.nn.l2_loss(w1) +tf.nn.l2_loss(w_out)\n",
    "cost = tf.reduce_mean(tf.square(pred - y) + BETA*regularizers)\n",
    "\n",
    "#Gridient Descent Optimizer\n",
    "optimizer = tf.train.AdagradOptimizer(learning_rate = 0.01).minimize(cost)\n",
    "\n",
    "\n",
    "# Initializing the variables\n",
    "init = tf.global_variables_initializer()"
   ]
  },
  {
   "cell_type": "markdown",
   "metadata": {},
   "source": [
    "## Training"
   ]
  },
  {
   "cell_type": "code",
   "execution_count": 77,
   "metadata": {
    "collapsed": false,
    "scrolled": true
   },
   "outputs": [
    {
     "name": "stdout",
     "output_type": "stream",
     "text": [
      "Epoch = 1,Cost = 958.93,Training Accuracy = 0.21, Validation Accuracy = -0.65, Validation MRE =47.20\n",
      "Epoch = 11,Cost = 291.01,Training Accuracy = 0.84, Validation Accuracy = 0.22, Validation MRE =30.64\n",
      "Epoch = 21,Cost = 201.56,Training Accuracy = 0.91, Validation Accuracy = 0.22, Validation MRE =29.09\n",
      "Epoch = 31,Cost = 131.13,Training Accuracy = 0.96, Validation Accuracy = 0.07, Validation MRE =30.41\n",
      "Epoch = 41,Cost = 70.80,Training Accuracy = 0.98, Validation Accuracy = -0.09, Validation MRE =31.98\n",
      "Epoch = 51,Cost = 28.93,Training Accuracy = 0.99, Validation Accuracy = -0.19, Validation MRE =32.72\n",
      "Epoch = 61,Cost = 5.05,Training Accuracy = 0.99, Validation Accuracy = -0.26, Validation MRE =33.65\n",
      "Epoch = 71,Cost = 1.56,Training Accuracy = 1.00, Validation Accuracy = -0.27, Validation MRE =33.88\n",
      "Epoch = 81,Cost = 0.38,Training Accuracy = 1.00, Validation Accuracy = -0.27, Validation MRE =33.88\n",
      "Epoch = 91,Cost = 0.20,Training Accuracy = 1.00, Validation Accuracy = -0.28, Validation MRE =33.93\n",
      "Epoch = 101,Cost = 0.28,Training Accuracy = 1.00, Validation Accuracy = -0.28, Validation MRE =34.01\n",
      "Epoch = 111,Cost = 0.41,Training Accuracy = 1.00, Validation Accuracy = -0.29, Validation MRE =34.17\n",
      "Epoch = 121,Cost = 0.55,Training Accuracy = 1.00, Validation Accuracy = -0.30, Validation MRE =34.31\n",
      "Epoch = 131,Cost = 0.44,Training Accuracy = 1.00, Validation Accuracy = -0.30, Validation MRE =34.30\n",
      "Epoch = 141,Cost = 0.29,Training Accuracy = 1.00, Validation Accuracy = -0.29, Validation MRE =34.22\n",
      "Epoch = 151,Cost = 0.24,Training Accuracy = 1.00, Validation Accuracy = -0.28, Validation MRE =34.17\n",
      "Epoch = 161,Cost = 0.21,Training Accuracy = 1.00, Validation Accuracy = -0.28, Validation MRE =34.15\n",
      "Epoch = 171,Cost = 0.21,Training Accuracy = 1.00, Validation Accuracy = -0.27, Validation MRE =34.14\n",
      "Epoch = 181,Cost = 0.20,Training Accuracy = 1.00, Validation Accuracy = -0.27, Validation MRE =34.14\n",
      "Epoch = 191,Cost = 0.20,Training Accuracy = 1.00, Validation Accuracy = -0.27, Validation MRE =34.14\n"
     ]
    },
    {
     "ename": "KeyboardInterrupt",
     "evalue": "",
     "output_type": "error",
     "traceback": [
      "\u001b[0;31m---------------------------------------------------------------------------\u001b[0m",
      "\u001b[0;31mKeyboardInterrupt\u001b[0m                         Traceback (most recent call last)",
      "\u001b[0;32m<ipython-input-77-3422b9b2b5cd>\u001b[0m in \u001b[0;36m<module>\u001b[0;34m()\u001b[0m\n\u001b[1;32m     11\u001b[0m     \u001b[0;32mfor\u001b[0m \u001b[0mepoch\u001b[0m \u001b[0;32min\u001b[0m \u001b[0mrange\u001b[0m\u001b[0;34m(\u001b[0m\u001b[0;36m500\u001b[0m\u001b[0;34m)\u001b[0m\u001b[0;34m:\u001b[0m\u001b[0;34m\u001b[0m\u001b[0m\n\u001b[1;32m     12\u001b[0m         \u001b[0;32mfor\u001b[0m \u001b[0mi\u001b[0m \u001b[0;32min\u001b[0m \u001b[0mrange\u001b[0m\u001b[0;34m(\u001b[0m\u001b[0;36m0\u001b[0m\u001b[0;34m,\u001b[0m \u001b[0mlen\u001b[0m\u001b[0;34m(\u001b[0m\u001b[0mtrn_X\u001b[0m\u001b[0;34m)\u001b[0m\u001b[0;34m,\u001b[0m\u001b[0mBATCH_SIZE\u001b[0m\u001b[0;34m)\u001b[0m\u001b[0;34m:\u001b[0m\u001b[0;34m\u001b[0m\u001b[0m\n\u001b[0;32m---> 13\u001b[0;31m             \u001b[0m_\u001b[0m\u001b[0;34m,\u001b[0m \u001b[0mc\u001b[0m \u001b[0;34m=\u001b[0m \u001b[0msess\u001b[0m\u001b[0;34m.\u001b[0m\u001b[0mrun\u001b[0m\u001b[0;34m(\u001b[0m\u001b[0;34m[\u001b[0m\u001b[0moptimizer\u001b[0m\u001b[0;34m,\u001b[0m\u001b[0mcost\u001b[0m\u001b[0;34m]\u001b[0m\u001b[0;34m,\u001b[0m \u001b[0mfeed_dict\u001b[0m\u001b[0;34m=\u001b[0m\u001b[0;34m{\u001b[0m\u001b[0mX\u001b[0m\u001b[0;34m:\u001b[0m\u001b[0mtrn_X\u001b[0m\u001b[0;34m[\u001b[0m\u001b[0mi\u001b[0m\u001b[0;34m:\u001b[0m\u001b[0mi\u001b[0m\u001b[0;34m+\u001b[0m\u001b[0mBATCH_SIZE\u001b[0m\u001b[0;34m]\u001b[0m\u001b[0;34m,\u001b[0m \u001b[0my\u001b[0m\u001b[0;34m:\u001b[0m\u001b[0mtrn_y\u001b[0m\u001b[0;34m[\u001b[0m\u001b[0mi\u001b[0m\u001b[0;34m:\u001b[0m\u001b[0mi\u001b[0m\u001b[0;34m+\u001b[0m\u001b[0mBATCH_SIZE\u001b[0m\u001b[0;34m]\u001b[0m\u001b[0;34m}\u001b[0m\u001b[0;34m)\u001b[0m\u001b[0;34m\u001b[0m\u001b[0m\n\u001b[0m\u001b[1;32m     14\u001b[0m \u001b[0;34m\u001b[0m\u001b[0m\n\u001b[1;32m     15\u001b[0m         \u001b[0mtrn_score\u001b[0m \u001b[0;34m=\u001b[0m \u001b[0mr2_score\u001b[0m\u001b[0;34m(\u001b[0m\u001b[0mtrn_y\u001b[0m\u001b[0;34m,\u001b[0m\u001b[0msess\u001b[0m\u001b[0;34m.\u001b[0m\u001b[0mrun\u001b[0m\u001b[0;34m(\u001b[0m\u001b[0mpred\u001b[0m\u001b[0;34m,\u001b[0m \u001b[0mfeed_dict\u001b[0m\u001b[0;34m=\u001b[0m\u001b[0;34m{\u001b[0m\u001b[0mX\u001b[0m\u001b[0;34m:\u001b[0m\u001b[0mtrn_X\u001b[0m\u001b[0;34m,\u001b[0m \u001b[0my\u001b[0m\u001b[0;34m:\u001b[0m\u001b[0mtrn_y\u001b[0m\u001b[0;34m}\u001b[0m\u001b[0;34m)\u001b[0m\u001b[0;34m)\u001b[0m\u001b[0;34m\u001b[0m\u001b[0m\n",
      "\u001b[0;32m/home/runsheng/anaconda2/envs/tensorflow/lib/python2.7/site-packages/tensorflow/python/client/session.pyc\u001b[0m in \u001b[0;36mrun\u001b[0;34m(self, fetches, feed_dict, options, run_metadata)\u001b[0m\n\u001b[1;32m    765\u001b[0m     \u001b[0;32mtry\u001b[0m\u001b[0;34m:\u001b[0m\u001b[0;34m\u001b[0m\u001b[0m\n\u001b[1;32m    766\u001b[0m       result = self._run(None, fetches, feed_dict, options_ptr,\n\u001b[0;32m--> 767\u001b[0;31m                          run_metadata_ptr)\n\u001b[0m\u001b[1;32m    768\u001b[0m       \u001b[0;32mif\u001b[0m \u001b[0mrun_metadata\u001b[0m\u001b[0;34m:\u001b[0m\u001b[0;34m\u001b[0m\u001b[0m\n\u001b[1;32m    769\u001b[0m         \u001b[0mproto_data\u001b[0m \u001b[0;34m=\u001b[0m \u001b[0mtf_session\u001b[0m\u001b[0;34m.\u001b[0m\u001b[0mTF_GetBuffer\u001b[0m\u001b[0;34m(\u001b[0m\u001b[0mrun_metadata_ptr\u001b[0m\u001b[0;34m)\u001b[0m\u001b[0;34m\u001b[0m\u001b[0m\n",
      "\u001b[0;32m/home/runsheng/anaconda2/envs/tensorflow/lib/python2.7/site-packages/tensorflow/python/client/session.pyc\u001b[0m in \u001b[0;36m_run\u001b[0;34m(self, handle, fetches, feed_dict, options, run_metadata)\u001b[0m\n\u001b[1;32m    963\u001b[0m     \u001b[0;32mif\u001b[0m \u001b[0mfinal_fetches\u001b[0m \u001b[0;32mor\u001b[0m \u001b[0mfinal_targets\u001b[0m\u001b[0;34m:\u001b[0m\u001b[0;34m\u001b[0m\u001b[0m\n\u001b[1;32m    964\u001b[0m       results = self._do_run(handle, final_targets, final_fetches,\n\u001b[0;32m--> 965\u001b[0;31m                              feed_dict_string, options, run_metadata)\n\u001b[0m\u001b[1;32m    966\u001b[0m     \u001b[0;32melse\u001b[0m\u001b[0;34m:\u001b[0m\u001b[0;34m\u001b[0m\u001b[0m\n\u001b[1;32m    967\u001b[0m       \u001b[0mresults\u001b[0m \u001b[0;34m=\u001b[0m \u001b[0;34m[\u001b[0m\u001b[0;34m]\u001b[0m\u001b[0;34m\u001b[0m\u001b[0m\n",
      "\u001b[0;32m/home/runsheng/anaconda2/envs/tensorflow/lib/python2.7/site-packages/tensorflow/python/client/session.pyc\u001b[0m in \u001b[0;36m_do_run\u001b[0;34m(self, handle, target_list, fetch_list, feed_dict, options, run_metadata)\u001b[0m\n\u001b[1;32m   1013\u001b[0m     \u001b[0;32mif\u001b[0m \u001b[0mhandle\u001b[0m \u001b[0;32mis\u001b[0m \u001b[0mNone\u001b[0m\u001b[0;34m:\u001b[0m\u001b[0;34m\u001b[0m\u001b[0m\n\u001b[1;32m   1014\u001b[0m       return self._do_call(_run_fn, self._session, feed_dict, fetch_list,\n\u001b[0;32m-> 1015\u001b[0;31m                            target_list, options, run_metadata)\n\u001b[0m\u001b[1;32m   1016\u001b[0m     \u001b[0;32melse\u001b[0m\u001b[0;34m:\u001b[0m\u001b[0;34m\u001b[0m\u001b[0m\n\u001b[1;32m   1017\u001b[0m       return self._do_call(_prun_fn, self._session, handle, feed_dict,\n",
      "\u001b[0;32m/home/runsheng/anaconda2/envs/tensorflow/lib/python2.7/site-packages/tensorflow/python/client/session.pyc\u001b[0m in \u001b[0;36m_do_call\u001b[0;34m(self, fn, *args)\u001b[0m\n\u001b[1;32m   1020\u001b[0m   \u001b[0;32mdef\u001b[0m \u001b[0m_do_call\u001b[0m\u001b[0;34m(\u001b[0m\u001b[0mself\u001b[0m\u001b[0;34m,\u001b[0m \u001b[0mfn\u001b[0m\u001b[0;34m,\u001b[0m \u001b[0;34m*\u001b[0m\u001b[0margs\u001b[0m\u001b[0;34m)\u001b[0m\u001b[0;34m:\u001b[0m\u001b[0;34m\u001b[0m\u001b[0m\n\u001b[1;32m   1021\u001b[0m     \u001b[0;32mtry\u001b[0m\u001b[0;34m:\u001b[0m\u001b[0;34m\u001b[0m\u001b[0m\n\u001b[0;32m-> 1022\u001b[0;31m       \u001b[0;32mreturn\u001b[0m \u001b[0mfn\u001b[0m\u001b[0;34m(\u001b[0m\u001b[0;34m*\u001b[0m\u001b[0margs\u001b[0m\u001b[0;34m)\u001b[0m\u001b[0;34m\u001b[0m\u001b[0m\n\u001b[0m\u001b[1;32m   1023\u001b[0m     \u001b[0;32mexcept\u001b[0m \u001b[0merrors\u001b[0m\u001b[0;34m.\u001b[0m\u001b[0mOpError\u001b[0m \u001b[0;32mas\u001b[0m \u001b[0me\u001b[0m\u001b[0;34m:\u001b[0m\u001b[0;34m\u001b[0m\u001b[0m\n\u001b[1;32m   1024\u001b[0m       \u001b[0mmessage\u001b[0m \u001b[0;34m=\u001b[0m \u001b[0mcompat\u001b[0m\u001b[0;34m.\u001b[0m\u001b[0mas_text\u001b[0m\u001b[0;34m(\u001b[0m\u001b[0me\u001b[0m\u001b[0;34m.\u001b[0m\u001b[0mmessage\u001b[0m\u001b[0;34m)\u001b[0m\u001b[0;34m\u001b[0m\u001b[0m\n",
      "\u001b[0;32m/home/runsheng/anaconda2/envs/tensorflow/lib/python2.7/site-packages/tensorflow/python/client/session.pyc\u001b[0m in \u001b[0;36m_run_fn\u001b[0;34m(session, feed_dict, fetch_list, target_list, options, run_metadata)\u001b[0m\n\u001b[1;32m   1002\u001b[0m         return tf_session.TF_Run(session, options,\n\u001b[1;32m   1003\u001b[0m                                  \u001b[0mfeed_dict\u001b[0m\u001b[0;34m,\u001b[0m \u001b[0mfetch_list\u001b[0m\u001b[0;34m,\u001b[0m \u001b[0mtarget_list\u001b[0m\u001b[0;34m,\u001b[0m\u001b[0;34m\u001b[0m\u001b[0m\n\u001b[0;32m-> 1004\u001b[0;31m                                  status, run_metadata)\n\u001b[0m\u001b[1;32m   1005\u001b[0m \u001b[0;34m\u001b[0m\u001b[0m\n\u001b[1;32m   1006\u001b[0m     \u001b[0;32mdef\u001b[0m \u001b[0m_prun_fn\u001b[0m\u001b[0;34m(\u001b[0m\u001b[0msession\u001b[0m\u001b[0;34m,\u001b[0m \u001b[0mhandle\u001b[0m\u001b[0;34m,\u001b[0m \u001b[0mfeed_dict\u001b[0m\u001b[0;34m,\u001b[0m \u001b[0mfetch_list\u001b[0m\u001b[0;34m)\u001b[0m\u001b[0;34m:\u001b[0m\u001b[0;34m\u001b[0m\u001b[0m\n",
      "\u001b[0;31mKeyboardInterrupt\u001b[0m: "
     ]
    }
   ],
   "source": [
    "#Start Training\n",
    "costs=[]\n",
    "\n",
    "#save the model\n",
    "saver = tf.train.Saver()\n",
    "\n",
    "old_score = float('-inf')\n",
    "\n",
    "with tf.Session() as sess:\n",
    "    sess.run(init)\n",
    "    for epoch in range(500):\n",
    "        for i in range(0, len(trn_X),BATCH_SIZE):\n",
    "            _, c = sess.run([optimizer,cost], feed_dict={X:trn_X[i:i+BATCH_SIZE], y:trn_y[i:i+BATCH_SIZE]})\n",
    "        \n",
    "        trn_score = r2_score(trn_y,sess.run(pred, feed_dict={X:trn_X, y:trn_y}))\n",
    "        val_score = r2_score(val_y,sess.run(pred, feed_dict={X:val_X, y:val_y}))     \n",
    "        val_mre = mre(val_y,sess.run(pred,feed_dict={X:val_X,y:val_y}))\n",
    "        \n",
    "        costs.append(val_score)\n",
    "        if epoch % 10 == 0:\n",
    "            print(\"Epoch = %d,Cost = %.2f,Training Accuracy = %.2f, Validation Accuracy = %.2f, Validation MRE =%.2f\" % (epoch + 1,c,trn_score,val_score,val_mre))\n",
    "\n",
    "    # final pred on the validation set\n",
    "    final_pred_val = sess.run(pred,feed_dict={X:val_X})\n",
    "    # prediction on the testing set\n",
    "    final_pred_test = sess.run(pred,feed_dict={X:tst_X})\n",
    "    \n",
    "    for (y,y_hat) in zip(tst_y,final_pred_test):\n",
    "        print y,y_hat\n",
    "    \n",
    "    \n",
    "    plt.plot(costs)\n",
    "    plt.show()\n",
    "    \n",
    "    save_path = saver.save(sess, \"../nets/tmp/tmp.ckpt\")\n",
    "    print(\"Model saved in file: %s\" % save_path)"
   ]
  },
  {
   "cell_type": "code",
   "execution_count": 46,
   "metadata": {
    "collapsed": false
   },
   "outputs": [
    {
     "name": "stdout",
     "output_type": "stream",
     "text": [
      "0.655288852768\n"
     ]
    },
    {
     "data": {
      "image/png": "[encoded data removed]",
      "text/plain": [
       "<matplotlib.figure.Figure at 0x7f1497c13110>"
      ]
     },
     "metadata": {},
     "output_type": "display_data"
    }
   ],
   "source": [
    "MRE_this = mre(tst_y, final_pred_test)\n",
    "R2_this = r2_score(tst_y, final_pred_test)\n",
    "print R2_this\n",
    "MRE_label = 'MRE: ' + str(round(MRE_this,2))\n",
    "\n",
    "fig = plt.figure()\n",
    "ax = fig.add_subplot(111)\n",
    "est = plt.plot(tst_y, final_pred_test,'o', label='estimated values')\n",
    "\n",
    "max_val = max(max(tst_y),max(final_pred_test))\n",
    "plt.ylim([0,max_val+20])\n",
    "plt.xlim([0,max_val+20])\n",
    "\n",
    "thisLine = plt.plot(np.append(0,max_val+20), np.append(0,max_val+20), label='perfect prediction line')\n",
    "\n",
    "plt.plot([],[],linewidth=0, label=MRE_label)\n",
    "plt.legend(loc='upper left')\n",
    "plt.show()"
   ]
  },
  {
   "cell_type": "code",
   "execution_count": null,
   "metadata": {
    "collapsed": true
   },
   "outputs": [],
   "source": []
  }
 ],
 "metadata": {
  "anaconda-cloud": {},
  "kernelspec": {
   "display_name": "tensorflow",
   "language": "python",
   "name": "tensorflow"
  },
  "language_info": {
   "codemirror_mode": {
    "name": "ipython",
    "version": 2
   },
   "file_extension": ".py",
   "mimetype": "text/x-python",
   "name": "python",
   "nbconvert_exporter": "python",
   "pygments_lexer": "ipython2",
   "version": "2.7.13"
  }
 },
 "nbformat": 4,
 "nbformat_minor": 1
}
