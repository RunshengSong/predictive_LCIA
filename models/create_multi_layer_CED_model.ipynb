{
 "cells": [
  {
   "cell_type": "markdown",
   "metadata": {},
   "source": [
    "## Create Multi-Layer NN model using tensorflow\n",
    "\n",
    "So I can adjust the parameters as I want..."
   ]
  },
  {
   "cell_type": "code",
   "execution_count": 22,
   "metadata": {
    "collapsed": false
   },
   "outputs": [],
   "source": [
    "import sys\n",
    "sys.path.append(\"./src\") # append to system path\n",
    "\n",
    "from sklearn import cross_validation\n",
    "from sklearn.metrics import r2_score\n",
    "from sklearn.metrics import mean_absolute_error\n",
    "from sklearn.decomposition import PCA\n",
    "from sklearn.preprocessing import Normalizer\n",
    "from sklearn.preprocessing import StandardScaler\n",
    "\n",
    "import numpy as np\n",
    "import pandas as pd\n",
    "import tensorflow as tf\n",
    "\n",
    "import matplotlib.pyplot as plt\n",
    "from matplotlib import style\n",
    "from matplotlib.patches import Rectangle\n",
    "style.use('ggplot')"
   ]
  },
  {
   "cell_type": "code",
   "execution_count": 39,
   "metadata": {
    "collapsed": true
   },
   "outputs": [],
   "source": [
    "def load_lcia_data(descs_p, target_p):\n",
    "    X = pd.read_csv(descs_p,header=0,index_col=None)\n",
    "    X = X.fillna(0)\n",
    "    y = pd.read_csv(target_p,header=0,index_col=None)\n",
    "    return X.values,y.values\n",
    "\n",
    "def mre(true_y,pred_y):\n",
    "    ## Note: does not handle mix 1d representation\n",
    "    #if _is_1d(y_true): \n",
    "    #    y_true, y_pred = _check_1d_array(y_true, y_pred)\n",
    "\n",
    "    return np.mean(np.abs((true_y - pred_y) / true_y)) * 100"
   ]
  },
  {
   "cell_type": "markdown",
   "metadata": {},
   "source": [
    "### Load Training data\n",
    "The training data has 156 chemicals now. The rest 10 chemicals are test data\n",
    "We also split the training and validation data here\n",
    "We use smaller set (10%) to be the valdiation set (16 chemicals), as the limited size of training chemicals."
   ]
  },
  {
   "cell_type": "code",
   "execution_count": 40,
   "metadata": {
    "collapsed": false
   },
   "outputs": [],
   "source": [
    "descs_p = '../data/descs/train/descs_Mar08_3839_train.csv'\n",
    "target_p = '../data/target/train/CED_train.csv'\n",
    "X,y = load_lcia_data(descs_p, target_p)\n",
    "\n",
    "trn_X, val_X, trn_y, val_y = cross_validation.train_test_split(\n",
    "    X, y, test_size=0.1, random_state=42)"
   ]
  },
  {
   "cell_type": "code",
   "execution_count": 41,
   "metadata": {
    "collapsed": false
   },
   "outputs": [
    {
     "name": "stdout",
     "output_type": "stream",
     "text": [
      "(140, 3839) (140, 1)\n"
     ]
    }
   ],
   "source": [
    "print trn_X.shape, trn_y.shape"
   ]
  },
  {
   "cell_type": "markdown",
   "metadata": {},
   "source": [
    "### Load Testing data"
   ]
  },
  {
   "cell_type": "code",
   "execution_count": 42,
   "metadata": {
    "collapsed": true
   },
   "outputs": [],
   "source": [
    "descs_tst = '../data/descs/test/descs_Mar08_3839_test.csv'\n",
    "target_tst = '../data/target/test/CED_test.csv'\n",
    "tst_X,tst_y = load_lcia_data(descs_tst, target_tst)"
   ]
  },
  {
   "cell_type": "markdown",
   "metadata": {},
   "source": [
    "### Data Preprocessing\n",
    "Normalization + PCA or Just Normalization"
   ]
  },
  {
   "cell_type": "markdown",
   "metadata": {},
   "source": [
    "### Just Scaler"
   ]
  },
  {
   "cell_type": "code",
   "execution_count": 43,
   "metadata": {
    "collapsed": false
   },
   "outputs": [],
   "source": [
    "## Standard Scaler\n",
    "this_scaler = StandardScaler()\n",
    "trn_X = this_scaler.fit_transform(trn_X)\n",
    "val_X = this_scaler.transform(val_X)\n",
    "tst_X = this_scaler.transform(tst_X)"
   ]
  },
  {
   "cell_type": "code",
   "execution_count": 44,
   "metadata": {
    "collapsed": false
   },
   "outputs": [
    {
     "name": "stdout",
     "output_type": "stream",
     "text": [
      "(140, 3839)\n",
      "(10, 3839)\n",
      "[  8.94522551e-16  -4.85474756e-16  -3.96508223e-17 ...,   0.00000000e+00\n",
      "  -6.97854473e-17   4.83740032e-17] [ 1.  1.  1. ...,  0.  1.  1.]\n"
     ]
    }
   ],
   "source": [
    "print trn_X.shape\n",
    "print tst_X.shape\n",
    "print np.mean(trn_X,0),np.std(trn_X,0)"
   ]
  },
  {
   "cell_type": "markdown",
   "metadata": {},
   "source": [
    "##  PCA"
   ]
  },
  {
   "cell_type": "code",
   "execution_count": 45,
   "metadata": {
    "collapsed": false
   },
   "outputs": [],
   "source": [
    "### PCA, don't run them together\n",
    "# normalize the data first\n",
    "pca = PCA(n_components = 60)\n",
    "\n",
    "trn_X = pca.fit_transform(trn_X)\n",
    "val_X = pca.transform(val_X)\n",
    "tst_X = pca.transform(tst_X)"
   ]
  },
  {
   "cell_type": "code",
   "execution_count": 46,
   "metadata": {
    "collapsed": false
   },
   "outputs": [
    {
     "name": "stdout",
     "output_type": "stream",
     "text": [
      "(140, 60) (10, 60)\n",
      "0.959568103819\n"
     ]
    }
   ],
   "source": [
    "\n",
    "print trn_X.shape, tst_X.shape\n",
    "print(reduce(lambda x,y:x+y,pca.explained_variance_ratio_))"
   ]
  },
  {
   "cell_type": "code",
   "execution_count": 47,
   "metadata": {
    "collapsed": false
   },
   "outputs": [],
   "source": [
    "plt.scatter(trn_X[:,0],trn_X[:,1])\n",
    "plt.scatter(tst_X[:,0],tst_X[:,1])\n",
    "plt.show()"
   ]
  },
  {
   "cell_type": "markdown",
   "metadata": {},
   "source": [
    "### Build the model"
   ]
  },
  {
   "cell_type": "code",
   "execution_count": 98,
   "metadata": {
    "collapsed": false
   },
   "outputs": [
    {
     "name": "stdout",
     "output_type": "stream",
     "text": [
      "60 1\n"
     ]
    }
   ],
   "source": [
    "def init_weights(shape):\n",
    "    weights = tf.truncated_normal(shape,stddev = 0.1)\n",
    "    return tf.Variable(weights)\n",
    "\n",
    "def bias_variable(shape):\n",
    "  initial = tf.constant(0.1, shape=shape)\n",
    "  return tf.Variable(initial)\n",
    "\n",
    "num_descs = trn_X.shape[1]\n",
    "num_target = trn_y.shape[1]\n",
    "\n",
    "print num_descs,num_target"
   ]
  },
  {
   "cell_type": "code",
   "execution_count": 99,
   "metadata": {
    "collapsed": false
   },
   "outputs": [],
   "source": [
    "##### \n",
    "##Define model structure\n",
    "\n",
    "X = tf.placeholder(tf.float32,shape=[None,num_descs])\n",
    "y = tf.placeholder(tf.float32,shape=[None,num_target])\n",
    "\n",
    "# First layer\n",
    "w1 = init_weights((num_descs,128)) \n",
    "b1 = bias_variable([128])\n",
    "l1 = tf.add(tf.matmul(X,w1),b1)\n",
    "l1 = tf.nn.relu(l1)\n",
    "\n",
    "# Second layer\n",
    "# w2 = init_weights((128,128))\n",
    "# b2 = bias_variable([128])\n",
    "# l2 = tf.add(tf.matmul(l1,w2),b2)\n",
    "# l2 = tf.nn.relu(l2)\n",
    "\n",
    "\n",
    "#Output layer\n",
    "w_out = init_weights((128,num_target))\n",
    "b_out = bias_variable([num_target])\n",
    "l_out = tf.matmul(l1, w_out) + b_out #no nonlinarity\n",
    "\n",
    "pred = l_out"
   ]
  },
  {
   "cell_type": "code",
   "execution_count": 100,
   "metadata": {
    "collapsed": false
   },
   "outputs": [],
   "source": [
    "#static parameters\n",
    "BATCH_SIZE = 1\n",
    "BETA = 0.01 #regularization weights\n",
    "\n",
    "#Define loss and optimizer \n",
    "#Add regularization term\n",
    "regularizers = tf.nn.l2_loss(w1) + tf.nn.l2_loss(w_out)\n",
    "cost = tf.reduce_mean(tf.square(pred - y) + BETA*regularizers)\n",
    "\n",
    "#Gridient Descent Optimizer\n",
    "optimizer = tf.train.AdagradOptimizer(learning_rate = 0.01).minimize(cost)\n",
    "\n",
    "\n",
    "# Initializing the variables\n",
    "init = tf.global_variables_initializer()"
   ]
  },
  {
   "cell_type": "markdown",
   "metadata": {},
   "source": [
    "## Training"
   ]
  },
  {
   "cell_type": "code",
   "execution_count": 101,
   "metadata": {
    "collapsed": false,
    "scrolled": true
   },
   "outputs": [
    {
     "name": "stdout",
     "output_type": "stream",
     "text": [
      "Using matplotlib backend: TkAgg\n",
      "Epoch = 1,Cost = 263.83,Training Accuracy = -2.53, Validation Accuracy = -1.79, Validation MRE =57.85\n",
      "Epoch = 11,Cost = 534.27,Training Accuracy = 0.65, Validation Accuracy = 0.12, Validation MRE =51.18\n",
      "Epoch = 21,Cost = 83.61,Training Accuracy = 0.75, Validation Accuracy = 0.16, Validation MRE =49.21\n",
      "Epoch = 31,Cost = 28.72,Training Accuracy = 0.78, Validation Accuracy = 0.17, Validation MRE =47.81\n",
      "Epoch = 41,Cost = 14.05,Training Accuracy = 0.80, Validation Accuracy = 0.18, Validation MRE =46.96\n",
      "Epoch = 51,Cost = 8.51,Training Accuracy = 0.81, Validation Accuracy = 0.19, Validation MRE =46.41\n",
      "Epoch = 61,Cost = 6.43,Training Accuracy = 0.82, Validation Accuracy = 0.19, Validation MRE =46.02\n",
      "Epoch = 71,Cost = 5.44,Training Accuracy = 0.83, Validation Accuracy = 0.20, Validation MRE =45.72\n",
      "Epoch = 81,Cost = 4.59,Training Accuracy = 0.84, Validation Accuracy = 0.21, Validation MRE =45.44\n",
      "Epoch = 91,Cost = 3.88,Training Accuracy = 0.85, Validation Accuracy = 0.22, Validation MRE =45.19\n",
      "Epoch = 101,Cost = 3.22,Training Accuracy = 0.86, Validation Accuracy = 0.23, Validation MRE =45.01\n",
      "Epoch = 111,Cost = 2.75,Training Accuracy = 0.86, Validation Accuracy = 0.24, Validation MRE =44.90\n",
      "Epoch = 121,Cost = 2.47,Training Accuracy = 0.87, Validation Accuracy = 0.25, Validation MRE =44.79\n",
      "Epoch = 131,Cost = 2.24,Training Accuracy = 0.87, Validation Accuracy = 0.26, Validation MRE =44.67\n",
      "Epoch = 141,Cost = 2.11,Training Accuracy = 0.88, Validation Accuracy = 0.27, Validation MRE =44.56\n",
      "Epoch = 151,Cost = 1.93,Training Accuracy = 0.88, Validation Accuracy = 0.27, Validation MRE =44.43\n",
      "Epoch = 161,Cost = 1.81,Training Accuracy = 0.89, Validation Accuracy = 0.28, Validation MRE =44.29\n",
      "Epoch = 171,Cost = 1.72,Training Accuracy = 0.89, Validation Accuracy = 0.29, Validation MRE =44.16\n",
      "Epoch = 181,Cost = 1.59,Training Accuracy = 0.90, Validation Accuracy = 0.30, Validation MRE =44.01\n",
      "Epoch = 191,Cost = 1.53,Training Accuracy = 0.90, Validation Accuracy = 0.30, Validation MRE =43.87\n",
      "Epoch = 201,Cost = 1.43,Training Accuracy = 0.91, Validation Accuracy = 0.31, Validation MRE =43.72\n",
      "Epoch = 211,Cost = 1.35,Training Accuracy = 0.91, Validation Accuracy = 0.32, Validation MRE =43.58\n",
      "Epoch = 221,Cost = 1.25,Training Accuracy = 0.91, Validation Accuracy = 0.32, Validation MRE =43.43\n",
      "Epoch = 231,Cost = 1.20,Training Accuracy = 0.92, Validation Accuracy = 0.33, Validation MRE =43.29\n",
      "Epoch = 241,Cost = 1.17,Training Accuracy = 0.92, Validation Accuracy = 0.33, Validation MRE =43.13\n",
      "Epoch = 251,Cost = 1.14,Training Accuracy = 0.92, Validation Accuracy = 0.34, Validation MRE =42.98\n",
      "Epoch = 261,Cost = 1.11,Training Accuracy = 0.93, Validation Accuracy = 0.34, Validation MRE =42.84\n",
      "Epoch = 271,Cost = 1.11,Training Accuracy = 0.93, Validation Accuracy = 0.35, Validation MRE =42.70\n",
      "Epoch = 281,Cost = 1.07,Training Accuracy = 0.93, Validation Accuracy = 0.35, Validation MRE =42.55\n",
      "Epoch = 291,Cost = 1.05,Training Accuracy = 0.94, Validation Accuracy = 0.36, Validation MRE =42.42\n",
      "Epoch = 301,Cost = 1.07,Training Accuracy = 0.94, Validation Accuracy = 0.36, Validation MRE =42.26\n",
      "Epoch = 311,Cost = 1.06,Training Accuracy = 0.94, Validation Accuracy = 0.37, Validation MRE =42.12\n",
      "Epoch = 321,Cost = 1.05,Training Accuracy = 0.94, Validation Accuracy = 0.37, Validation MRE =41.97\n",
      "Epoch = 331,Cost = 1.05,Training Accuracy = 0.95, Validation Accuracy = 0.38, Validation MRE =41.85\n",
      "Epoch = 341,Cost = 1.05,Training Accuracy = 0.95, Validation Accuracy = 0.38, Validation MRE =41.72\n",
      "Epoch = 351,Cost = 1.05,Training Accuracy = 0.95, Validation Accuracy = 0.38, Validation MRE =41.60\n",
      "Epoch = 361,Cost = 1.04,Training Accuracy = 0.95, Validation Accuracy = 0.39, Validation MRE =41.47\n",
      "Epoch = 371,Cost = 1.04,Training Accuracy = 0.95, Validation Accuracy = 0.39, Validation MRE =41.34\n",
      "Epoch = 381,Cost = 1.04,Training Accuracy = 0.96, Validation Accuracy = 0.40, Validation MRE =41.22\n",
      "Epoch = 391,Cost = 1.04,Training Accuracy = 0.96, Validation Accuracy = 0.40, Validation MRE =41.09\n",
      "Epoch = 401,Cost = 1.03,Training Accuracy = 0.96, Validation Accuracy = 0.40, Validation MRE =40.96\n",
      "Epoch = 411,Cost = 1.04,Training Accuracy = 0.96, Validation Accuracy = 0.41, Validation MRE =40.86\n",
      "Epoch = 421,Cost = 1.04,Training Accuracy = 0.96, Validation Accuracy = 0.41, Validation MRE =40.78\n",
      "Epoch = 431,Cost = 1.04,Training Accuracy = 0.96, Validation Accuracy = 0.41, Validation MRE =40.71\n",
      "Epoch = 441,Cost = 1.04,Training Accuracy = 0.97, Validation Accuracy = 0.41, Validation MRE =40.65\n",
      "Epoch = 451,Cost = 1.04,Training Accuracy = 0.97, Validation Accuracy = 0.42, Validation MRE =40.58\n",
      "Epoch = 461,Cost = 1.05,Training Accuracy = 0.97, Validation Accuracy = 0.42, Validation MRE =40.52\n",
      "Epoch = 471,Cost = 1.05,Training Accuracy = 0.97, Validation Accuracy = 0.42, Validation MRE =40.45\n",
      "Epoch = 481,Cost = 1.04,Training Accuracy = 0.97, Validation Accuracy = 0.42, Validation MRE =40.40\n",
      "Epoch = 491,Cost = 1.05,Training Accuracy = 0.97, Validation Accuracy = 0.43, Validation MRE =40.34\n",
      "Epoch = 501,Cost = 1.06,Training Accuracy = 0.97, Validation Accuracy = 0.43, Validation MRE =40.27\n",
      "Epoch = 511,Cost = 1.06,Training Accuracy = 0.97, Validation Accuracy = 0.43, Validation MRE =40.22\n",
      "Epoch = 521,Cost = 1.06,Training Accuracy = 0.97, Validation Accuracy = 0.43, Validation MRE =40.16\n",
      "Epoch = 531,Cost = 1.07,Training Accuracy = 0.98, Validation Accuracy = 0.43, Validation MRE =40.10\n",
      "Epoch = 541,Cost = 1.06,Training Accuracy = 0.98, Validation Accuracy = 0.43, Validation MRE =40.04\n",
      "Epoch = 551,Cost = 1.07,Training Accuracy = 0.98, Validation Accuracy = 0.44, Validation MRE =39.99\n",
      "Epoch = 561,Cost = 1.07,Training Accuracy = 0.98, Validation Accuracy = 0.44, Validation MRE =39.94\n",
      "Epoch = 571,Cost = 1.08,Training Accuracy = 0.98, Validation Accuracy = 0.44, Validation MRE =39.88\n",
      "Epoch = 581,Cost = 1.08,Training Accuracy = 0.98, Validation Accuracy = 0.44, Validation MRE =39.83\n",
      "Epoch = 591,Cost = 1.08,Training Accuracy = 0.98, Validation Accuracy = 0.44, Validation MRE =39.78\n",
      "Epoch = 601,Cost = 1.08,Training Accuracy = 0.98, Validation Accuracy = 0.44, Validation MRE =39.73\n",
      "Epoch = 611,Cost = 1.09,Training Accuracy = 0.98, Validation Accuracy = 0.44, Validation MRE =39.68\n",
      "Epoch = 621,Cost = 1.09,Training Accuracy = 0.98, Validation Accuracy = 0.44, Validation MRE =39.64\n",
      "Epoch = 631,Cost = 1.09,Training Accuracy = 0.98, Validation Accuracy = 0.44, Validation MRE =39.59\n",
      "Epoch = 641,Cost = 1.10,Training Accuracy = 0.98, Validation Accuracy = 0.45, Validation MRE =39.55\n",
      "Epoch = 651,Cost = 1.10,Training Accuracy = 0.98, Validation Accuracy = 0.45, Validation MRE =39.50\n",
      "Epoch = 661,Cost = 1.10,Training Accuracy = 0.98, Validation Accuracy = 0.45, Validation MRE =39.46\n",
      "Epoch = 671,Cost = 1.11,Training Accuracy = 0.98, Validation Accuracy = 0.45, Validation MRE =39.42\n",
      "Epoch = 681,Cost = 1.11,Training Accuracy = 0.98, Validation Accuracy = 0.45, Validation MRE =39.38\n",
      "Epoch = 691,Cost = 1.11,Training Accuracy = 0.99, Validation Accuracy = 0.45, Validation MRE =39.33\n",
      "Epoch = 701,Cost = 1.12,Training Accuracy = 0.99, Validation Accuracy = 0.45, Validation MRE =39.29\n",
      "Epoch = 711,Cost = 1.12,Training Accuracy = 0.99, Validation Accuracy = 0.45, Validation MRE =39.25\n",
      "Epoch = 721,Cost = 1.13,Training Accuracy = 0.99, Validation Accuracy = 0.45, Validation MRE =39.21\n",
      "Epoch = 731,Cost = 1.13,Training Accuracy = 0.99, Validation Accuracy = 0.45, Validation MRE =39.17\n",
      "Epoch = 741,Cost = 1.13,Training Accuracy = 0.99, Validation Accuracy = 0.45, Validation MRE =39.13\n",
      "Epoch = 751,Cost = 1.13,Training Accuracy = 0.99, Validation Accuracy = 0.45, Validation MRE =39.10\n",
      "Epoch = 761,Cost = 1.14,Training Accuracy = 0.99, Validation Accuracy = 0.45, Validation MRE =39.06\n",
      "Epoch = 771,Cost = 1.14,Training Accuracy = 0.99, Validation Accuracy = 0.45, Validation MRE =39.02\n",
      "Epoch = 781,Cost = 1.14,Training Accuracy = 0.99, Validation Accuracy = 0.45, Validation MRE =38.98\n",
      "Epoch = 791,Cost = 1.15,Training Accuracy = 0.99, Validation Accuracy = 0.45, Validation MRE =38.95\n",
      "Epoch = 801,Cost = 1.15,Training Accuracy = 0.99, Validation Accuracy = 0.45, Validation MRE =38.92\n",
      "Epoch = 811,Cost = 1.15,Training Accuracy = 0.99, Validation Accuracy = 0.45, Validation MRE =38.88\n",
      "Epoch = 821,Cost = 1.15,Training Accuracy = 0.99, Validation Accuracy = 0.45, Validation MRE =38.86\n",
      "Epoch = 831,Cost = 1.16,Training Accuracy = 0.99, Validation Accuracy = 0.45, Validation MRE =38.83\n",
      "Epoch = 841,Cost = 1.16,Training Accuracy = 0.99, Validation Accuracy = 0.45, Validation MRE =38.81\n",
      "Epoch = 851,Cost = 1.16,Training Accuracy = 0.99, Validation Accuracy = 0.45, Validation MRE =38.79\n",
      "Epoch = 861,Cost = 1.17,Training Accuracy = 0.99, Validation Accuracy = 0.45, Validation MRE =38.77\n",
      "Epoch = 871,Cost = 1.17,Training Accuracy = 0.99, Validation Accuracy = 0.45, Validation MRE =38.75\n",
      "Epoch = 881,Cost = 1.17,Training Accuracy = 0.99, Validation Accuracy = 0.45, Validation MRE =38.72\n",
      "Epoch = 891,Cost = 1.17,Training Accuracy = 0.99, Validation Accuracy = 0.45, Validation MRE =38.71\n",
      "Epoch = 901,Cost = 1.18,Training Accuracy = 0.99, Validation Accuracy = 0.45, Validation MRE =38.69\n",
      "Epoch = 911,Cost = 1.18,Training Accuracy = 0.99, Validation Accuracy = 0.45, Validation MRE =38.66\n",
      "Epoch = 921,Cost = 1.18,Training Accuracy = 0.99, Validation Accuracy = 0.45, Validation MRE =38.65\n",
      "Epoch = 931,Cost = 1.18,Training Accuracy = 0.99, Validation Accuracy = 0.45, Validation MRE =38.63\n",
      "Epoch = 941,Cost = 1.18,Training Accuracy = 0.99, Validation Accuracy = 0.45, Validation MRE =38.61\n",
      "Epoch = 951,Cost = 1.19,Training Accuracy = 0.99, Validation Accuracy = 0.45, Validation MRE =38.59\n",
      "Epoch = 961,Cost = 1.19,Training Accuracy = 0.99, Validation Accuracy = 0.45, Validation MRE =38.58\n",
      "Epoch = 971,Cost = 1.19,Training Accuracy = 0.99, Validation Accuracy = 0.45, Validation MRE =38.56\n",
      "Epoch = 981,Cost = 1.19,Training Accuracy = 0.99, Validation Accuracy = 0.45, Validation MRE =38.55\n",
      "Epoch = 991,Cost = 1.20,Training Accuracy = 0.99, Validation Accuracy = 0.45, Validation MRE =38.53\n",
      "[ 110.17365474] [ 111.50306702]\n",
      "[ 52.25829943] [ 29.67966843]\n",
      "[ 91.71323266] [ 34.37799072]\n",
      "[ 232.88550969] [ 139.29652405]\n",
      "[ 288.14541835] [ 180.77877808]\n",
      "[ 73.47961447] [ 98.41400909]\n",
      "[ 96.36471014] [ 131.82872009]\n",
      "[ 50.59190421] [ 86.20574951]\n",
      "[ 83.76170589] [ 104.79951477]\n",
      "[ 76.72259093] [ 66.48316193]\n",
      "Model saved in file: ../nets/CED/CED_apr4.ckpt\n"
     ]
    }
   ],
   "source": [
    "%matplotlib auto\n",
    "\n",
    "#Start Training\n",
    "costs=[]\n",
    "\n",
    "#save the model\n",
    "saver = tf.train.Saver()\n",
    "\n",
    "with tf.Session() as sess:\n",
    "    sess.run(init)\n",
    "    for epoch in range(1000):\n",
    "        for i in range(0, len(trn_X),BATCH_SIZE):\n",
    "            _, c = sess.run([optimizer,cost], feed_dict={X:trn_X[i:i+BATCH_SIZE], y:trn_y[i:i+BATCH_SIZE]})\n",
    "        \n",
    "        trn_score = r2_score(trn_y,sess.run(pred, feed_dict={X:trn_X, y:trn_y}))\n",
    "        val_score = r2_score(val_y,sess.run(pred, feed_dict={X:val_X, y:val_y}))     \n",
    "        val_mre = mre(val_y,sess.run(pred,feed_dict={X:val_X,y:val_y}))\n",
    "        \n",
    "        costs.append(val_score)\n",
    "        if epoch % 10 == 0:\n",
    "            print(\"Epoch = %d,Cost = %.2f,Training Accuracy = %.2f, Validation Accuracy = %.2f, Validation MRE =%.2f\" % (epoch + 1,c,trn_score,val_score,val_mre))\n",
    "\n",
    "    # final pred on the validation set\n",
    "    final_pred_val = sess.run(pred,feed_dict={X:val_X})\n",
    "    # prediction on the testing set\n",
    "    final_pred_test = sess.run(pred,feed_dict={X:tst_X})\n",
    "    \n",
    "    for (y,y_hat) in zip(tst_y,final_pred_test):\n",
    "        print y,y_hat\n",
    "    \n",
    "    \n",
    "    plt.plot(costs)\n",
    "    plt.show()\n",
    "    \n",
    "    save_path = saver.save(sess, \"../nets/CED/CED_apr4.ckpt\")\n",
    "    print(\"Model saved in file: %s\" % save_path)"
   ]
  },
  {
   "cell_type": "code",
   "execution_count": 102,
   "metadata": {
    "collapsed": false
   },
   "outputs": [
    {
     "name": "stdout",
     "output_type": "stream",
     "text": [
      "0.512923021209\n"
     ]
    }
   ],
   "source": [
    "MRE_this = mre(tst_y, final_pred_test)\n",
    "R2_this = r2_score(tst_y, final_pred_test)\n",
    "print R2_this\n",
    "MRE_label = 'MRE: ' + str(round(MRE_this,2))\n",
    "\n",
    "fig = plt.figure()\n",
    "ax = fig.add_subplot(111)\n",
    "est = plt.plot(tst_y, final_pred_test,'o', label='estimated values')\n",
    "\n",
    "max_val = max(max(tst_y),max(final_pred_test))\n",
    "plt.ylim([0,max_val+20])\n",
    "plt.xlim([0,max_val+20])\n",
    "\n",
    "thisLine = plt.plot(np.append(0,max_val+20), np.append(0,max_val+20), label='perfect prediction line')\n",
    "\n",
    "plt.plot([],[],linewidth=0, label=MRE_label)\n",
    "plt.legend(loc='upper left')\n",
    "plt.show()"
   ]
  },
  {
   "cell_type": "code",
   "execution_count": null,
   "metadata": {
    "collapsed": true
   },
   "outputs": [],
   "source": []
  }
 ],
 "metadata": {
  "anaconda-cloud": {},
  "kernelspec": {
   "display_name": "tensorflow",
   "language": "python",
   "name": "tensorflow"
  },
  "language_info": {
   "codemirror_mode": {
    "name": "ipython",
    "version": 2
   },
   "file_extension": ".py",
   "mimetype": "text/x-python",
   "name": "python",
   "nbconvert_exporter": "python",
   "pygments_lexer": "ipython2",
   "version": "2.7.13"
  }
 },
 "nbformat": 4,
 "nbformat_minor": 1
}
