{
 "cells": [
  {
   "cell_type": "markdown",
   "metadata": {},
   "source": [
    "## Create Multi-Layer NN model using tensorflow\n",
    "\n",
    "So I can adjust the parameters as I want..."
   ]
  },
  {
   "cell_type": "code",
   "execution_count": 1,
   "metadata": {
    "collapsed": false
   },
   "outputs": [
    {
     "name": "stderr",
     "output_type": "stream",
     "text": [
      "/home/runsheng/anaconda2/envs/tensorflow/lib/python2.7/site-packages/sklearn/cross_validation.py:44: DeprecationWarning: This module was deprecated in version 0.18 in favor of the model_selection module into which all the refactored classes and functions are moved. Also note that the interface of the new CV iterators are different from that of this module. This module will be removed in 0.20.\n",
      "  \"This module will be removed in 0.20.\", DeprecationWarning)\n"
     ]
    }
   ],
   "source": [
    "import sys\n",
    "sys.path.append(\"./src\") # append to system path\n",
    "\n",
    "from sklearn import cross_validation\n",
    "from sklearn.metrics import r2_score\n",
    "from sklearn.metrics import mean_absolute_error\n",
    "from sklearn.decomposition import PCA\n",
    "from sklearn.preprocessing import Normalizer\n",
    "from sklearn.preprocessing import StandardScaler\n",
    "from sklearn.externals import joblib\n",
    "\n",
    "import numpy as np\n",
    "import pandas as pd\n",
    "import tensorflow as tf\n",
    "\n",
    "import matplotlib.pyplot as plt\n",
    "from matplotlib import style\n",
    "from matplotlib.patches import Rectangle\n",
    "style.use('ggplot')"
   ]
  },
  {
   "cell_type": "code",
   "execution_count": 2,
   "metadata": {
    "collapsed": true
   },
   "outputs": [],
   "source": [
    "def load_lcia_data(descs_p, target_p):\n",
    "    X = pd.read_csv(descs_p,header=0,index_col=None)\n",
    "    X = X.fillna(0)\n",
    "    y = pd.read_csv(target_p,header=0,index_col=None)\n",
    "    return X.values,y.values\n",
    "\n",
    "def mre(true_y,pred_y):\n",
    "    ## Note: does not handle mix 1d representation\n",
    "    #if _is_1d(y_true): \n",
    "    #    y_true, y_pred = _check_1d_array(y_true, y_pred)\n",
    "\n",
    "    return np.mean(np.abs((true_y - pred_y) / true_y)) * 100"
   ]
  },
  {
   "cell_type": "markdown",
   "metadata": {},
   "source": [
    "### Load Training data\n",
    "The training data has 156 chemicals now. The rest 10 chemicals are test data\n",
    "We also split the training and validation data here\n",
    "We use smaller set (10%) to be the valdiation set (16 chemicals), as the limited size of training chemicals."
   ]
  },
  {
   "cell_type": "code",
   "execution_count": 3,
   "metadata": {
    "collapsed": false
   },
   "outputs": [],
   "source": [
    "descs_p = '../data/descs/train/descs_Mar08_3839_train.csv'\n",
    "target_p = '../data/target/train/EI99_train.csv'\n",
    "X,y = load_lcia_data(descs_p, target_p)\n",
    "\n",
    "trn_X, val_X, trn_y, val_y = cross_validation.train_test_split(\n",
    "    X, y, test_size=0.1, random_state=3)"
   ]
  },
  {
   "cell_type": "code",
   "execution_count": 4,
   "metadata": {
    "collapsed": false
   },
   "outputs": [
    {
     "name": "stdout",
     "output_type": "stream",
     "text": [
      "(140, 3839) (140, 1)\n"
     ]
    }
   ],
   "source": [
    "print trn_X.shape, trn_y.shape"
   ]
  },
  {
   "cell_type": "markdown",
   "metadata": {},
   "source": [
    "### Load Testing data"
   ]
  },
  {
   "cell_type": "code",
   "execution_count": 5,
   "metadata": {
    "collapsed": true
   },
   "outputs": [],
   "source": [
    "descs_tst = '../data/descs/test/descs_Mar08_3839_test.csv'\n",
    "target_tst = '../data/target/test/EI99_test.csv'\n",
    "tst_X,tst_y = load_lcia_data(descs_tst, target_tst)"
   ]
  },
  {
   "cell_type": "markdown",
   "metadata": {},
   "source": [
    "### Data Preprocessing\n",
    "Normalization + PCA or Just Normalization"
   ]
  },
  {
   "cell_type": "markdown",
   "metadata": {},
   "source": [
    "### Just Scaler"
   ]
  },
  {
   "cell_type": "code",
   "execution_count": 6,
   "metadata": {
    "collapsed": false
   },
   "outputs": [],
   "source": [
    "## Standard Scaler\n",
    "this_scaler = StandardScaler()\n",
    "trn_X = this_scaler.fit_transform(trn_X)\n",
    "val_X = this_scaler.transform(val_X)\n",
    "tst_X = this_scaler.transform(tst_X)"
   ]
  },
  {
   "cell_type": "code",
   "execution_count": 7,
   "metadata": {
    "collapsed": false
   },
   "outputs": [
    {
     "name": "stdout",
     "output_type": "stream",
     "text": [
      "(140, 3839)\n",
      "(10, 3839)\n",
      "[ -1.39123274e-16  -7.31161163e-16   5.43612774e-16 ...,   0.00000000e+00\n",
      "   2.02219194e-17   8.56457762e-17] [ 1.  1.  1. ...,  0.  1.  1.]\n"
     ]
    }
   ],
   "source": [
    "print trn_X.shape\n",
    "print tst_X.shape\n",
    "print np.mean(trn_X,0),np.std(trn_X,0)"
   ]
  },
  {
   "cell_type": "markdown",
   "metadata": {},
   "source": [
    "##  PCA"
   ]
  },
  {
   "cell_type": "code",
   "execution_count": 8,
   "metadata": {
    "collapsed": false
   },
   "outputs": [],
   "source": [
    "### PCA, don't run them together\n",
    "# normalize the data first\n",
    "pca = PCA(n_components = 60)\n",
    "\n",
    "trn_X = pca.fit_transform(trn_X)\n",
    "val_X = pca.transform(val_X)\n",
    "tst_X = pca.transform(tst_X)"
   ]
  },
  {
   "cell_type": "code",
   "execution_count": 9,
   "metadata": {
    "collapsed": false
   },
   "outputs": [
    {
     "name": "stdout",
     "output_type": "stream",
     "text": [
      "(140, 60) (10, 60)\n",
      "0.955853947853\n"
     ]
    }
   ],
   "source": [
    "\n",
    "print trn_X.shape, tst_X.shape\n",
    "print(reduce(lambda x,y:x+y,pca.explained_variance_ratio_))"
   ]
  },
  {
   "cell_type": "code",
   "execution_count": 10,
   "metadata": {
    "collapsed": false
   },
   "outputs": [
    {
     "data": {
      "image/png": "[encoded data removed]",
      "text/plain": [
       "<matplotlib.figure.Figure at 0x7fbac3ade390>"
      ]
     },
     "metadata": {},
     "output_type": "display_data"
    }
   ],
   "source": [
    "plt.scatter(trn_X[:,0],trn_X[:,1])\n",
    "plt.scatter(tst_X[:,0],tst_X[:,1])\n",
    "plt.show()"
   ]
  },
  {
   "cell_type": "code",
   "execution_count": 11,
   "metadata": {
    "collapsed": false
   },
   "outputs": [
    {
     "data": {
      "image/png": "[encoded data removed]",
      "text/plain": [
       "<matplotlib.figure.Figure at 0x7fbac3ade990>"
      ]
     },
     "metadata": {},
     "output_type": "display_data"
    }
   ],
   "source": [
    "n, bins, patches = plt.hist(trn_y, 50, normed=1, facecolor='green', alpha=0.75)\n",
    "plt.show()"
   ]
  },
  {
   "cell_type": "code",
   "execution_count": 12,
   "metadata": {
    "collapsed": false
   },
   "outputs": [
    {
     "data": {
      "text/plain": [
       "['../nets/EI99/pca.pkl']"
      ]
     },
     "execution_count": 12,
     "metadata": {},
     "output_type": "execute_result"
    }
   ],
   "source": [
    "joblib.dump(this_scaler, '../nets/EI99/scaler.pkl') \n",
    "joblib.dump(pca, '../nets/EI99/pca.pkl') "
   ]
  },
  {
   "cell_type": "markdown",
   "metadata": {},
   "source": [
    "### Build the model"
   ]
  },
  {
   "cell_type": "code",
   "execution_count": 13,
   "metadata": {
    "collapsed": false
   },
   "outputs": [
    {
     "name": "stdout",
     "output_type": "stream",
     "text": [
      "60 1\n"
     ]
    }
   ],
   "source": [
    "def init_weights(shape):\n",
    "    weights = tf.random_normal(shape,stddev = 0.1)\n",
    "    return tf.Variable(weights)\n",
    "\n",
    "def bias_variable(shape):\n",
    "  initial = tf.constant(0.1, shape=shape)\n",
    "  return tf.Variable(initial)\n",
    "\n",
    "num_descs = trn_X.shape[1]\n",
    "num_target = trn_y.shape[1]\n",
    "\n",
    "print num_descs,num_target"
   ]
  },
  {
   "cell_type": "code",
   "execution_count": 14,
   "metadata": {
    "collapsed": false
   },
   "outputs": [],
   "source": [
    "##### \n",
    "##Define model structure\n",
    "\n",
    "X = tf.placeholder(tf.float32,shape=[None,num_descs])\n",
    "y = tf.placeholder(tf.float32,shape=[None,num_target])\n",
    "# add to collection\n",
    "tf.add_to_collection('X',X)\n",
    "tf.add_to_collection('y',y)\n",
    "\n",
    "# First layer\n",
    "w1 = init_weights((num_descs,64)) \n",
    "b1 = bias_variable([64])\n",
    "l1 = tf.add(tf.matmul(X,w1),b1)\n",
    "l1 = tf.nn.sigmoid(l1)\n",
    "\n",
    "# Second layer\n",
    "w2 = init_weights((64,64))\n",
    "b2 = bias_variable([64])\n",
    "l2 = tf.add(tf.matmul(l1,w2),b2)\n",
    "l2 = tf.nn.sigmoid(l2)\n",
    "\n",
    "# # Third layer\n",
    "# w3 = init_weights((16,16))\n",
    "# b3 = bias_variable([16])\n",
    "# l3 = tf.add(tf.matmul(l2,w3),b3)\n",
    "# l3 = tf.nn.relu(l3)\n",
    "\n",
    "# # Fourth layer\n",
    "# w4 = init_weights((16,16))\n",
    "# b4 = bias_variable([16])\n",
    "# l4 = tf.add(tf.matmul(l3,w4),b4)\n",
    "# l4 = tf.nn.relu(l4)\n",
    "\n",
    "# # Fifth layer\n",
    "# w5 = init_weights((16,16))\n",
    "# b5 = bias_variable([16])\n",
    "# l5 = tf.add(tf.matmul(l4,w5),b5)\n",
    "# l5 = tf.nn.relu(l5)\n",
    "\n",
    "#Output layer\n",
    "w_out = init_weights((64,num_target))\n",
    "b_out = bias_variable([num_target])\n",
    "l_out = tf.matmul(l2,w_out) + b_out #no nonlinarity\n",
    "\n",
    "pred = l_out\n",
    "tf.add_to_collection('pred',pred)"
   ]
  },
  {
   "cell_type": "code",
   "execution_count": 15,
   "metadata": {
    "collapsed": false
   },
   "outputs": [],
   "source": [
    "#static parameters\n",
    "BATCH_SIZE = 1\n",
    "BETA = 0.01 #regularization weights\n",
    "\n",
    "#Define loss and optimizer \n",
    "#Add regularization term\n",
    "# regularizers = tf.nn.l2_loss(w1) + tf.nn.l2_loss(w2) + tf.nn.l2_loss(w3) + tf.nn.l2_loss(w_out)\n",
    "regularizers = tf.nn.l2_loss(w1) + tf.nn.l2_loss(w2) + tf.nn.l2_loss(w_out)\n",
    "cost = tf.reduce_mean(tf.square(pred - y) + BETA*regularizers)\n",
    "\n",
    "#Gridient Descent Optimizer\n",
    "optimizer = tf.train.AdagradOptimizer(learning_rate = 0.01).minimize(cost)\n",
    "\n",
    "\n",
    "# Initializing the variables\n",
    "init = tf.global_variables_initializer()"
   ]
  },
  {
   "cell_type": "markdown",
   "metadata": {},
   "source": [
    "## Training"
   ]
  },
  {
   "cell_type": "code",
   "execution_count": 16,
   "metadata": {
    "collapsed": false,
    "scrolled": true
   },
   "outputs": [
    {
     "name": "stdout",
     "output_type": "stream",
     "text": [
      "Using matplotlib backend: TkAgg\n",
      "Epoch = 1,Cost = 0.36,Training Accuracy = 0.13, Validation Accuracy = 0.16, Validation MRE =75.73\n",
      "Epoch = 2,Cost = 0.33,Training Accuracy = 0.21, Validation Accuracy = 0.23, Validation MRE =72.01\n",
      "Epoch = 3,Cost = 0.31,Training Accuracy = 0.27, Validation Accuracy = 0.29, Validation MRE =70.35\n",
      "Epoch = 4,Cost = 0.28,Training Accuracy = 0.33, Validation Accuracy = 0.34, Validation MRE =69.54\n",
      "Epoch = 5,Cost = 0.27,Training Accuracy = 0.38, Validation Accuracy = 0.38, Validation MRE =68.85\n",
      "Epoch = 6,Cost = 0.25,Training Accuracy = 0.43, Validation Accuracy = 0.42, Validation MRE =68.13\n",
      "Epoch = 7,Cost = 0.23,Training Accuracy = 0.48, Validation Accuracy = 0.46, Validation MRE =67.34\n",
      "Epoch = 8,Cost = 0.22,Training Accuracy = 0.51, Validation Accuracy = 0.49, Validation MRE =66.43\n",
      "Epoch = 9,Cost = 0.21,Training Accuracy = 0.55, Validation Accuracy = 0.52, Validation MRE =65.38\n",
      "Epoch = 10,Cost = 0.20,Training Accuracy = 0.58, Validation Accuracy = 0.54, Validation MRE =64.23\n",
      "Epoch = 11,Cost = 0.19,Training Accuracy = 0.60, Validation Accuracy = 0.57, Validation MRE =63.53\n",
      "Epoch = 12,Cost = 0.18,Training Accuracy = 0.62, Validation Accuracy = 0.59, Validation MRE =63.02\n",
      "Epoch = 13,Cost = 0.17,Training Accuracy = 0.64, Validation Accuracy = 0.61, Validation MRE =62.35\n",
      "Epoch = 14,Cost = 0.16,Training Accuracy = 0.66, Validation Accuracy = 0.63, Validation MRE =61.63\n",
      "Epoch = 15,Cost = 0.16,Training Accuracy = 0.67, Validation Accuracy = 0.64, Validation MRE =61.09\n",
      "Epoch = 16,Cost = 0.15,Training Accuracy = 0.68, Validation Accuracy = 0.66, Validation MRE =60.52\n",
      "Epoch = 17,Cost = 0.14,Training Accuracy = 0.70, Validation Accuracy = 0.67, Validation MRE =59.93\n",
      "Epoch = 18,Cost = 0.14,Training Accuracy = 0.71, Validation Accuracy = 0.68, Validation MRE =59.34\n",
      "Epoch = 19,Cost = 0.13,Training Accuracy = 0.71, Validation Accuracy = 0.69, Validation MRE =58.77\n",
      "Epoch = 20,Cost = 0.13,Training Accuracy = 0.72, Validation Accuracy = 0.69, Validation MRE =58.28\n",
      "Epoch = 21,Cost = 0.12,Training Accuracy = 0.73, Validation Accuracy = 0.70, Validation MRE =57.88\n",
      "Epoch = 22,Cost = 0.12,Training Accuracy = 0.73, Validation Accuracy = 0.71, Validation MRE =57.49\n",
      "Epoch = 23,Cost = 0.11,Training Accuracy = 0.74, Validation Accuracy = 0.71, Validation MRE =57.12\n",
      "Epoch = 24,Cost = 0.11,Training Accuracy = 0.75, Validation Accuracy = 0.71, Validation MRE =56.77\n",
      "Epoch = 25,Cost = 0.11,Training Accuracy = 0.75, Validation Accuracy = 0.72, Validation MRE =56.44\n",
      "Epoch = 26,Cost = 0.10,Training Accuracy = 0.75, Validation Accuracy = 0.72, Validation MRE =56.13\n",
      "Epoch = 27,Cost = 0.10,Training Accuracy = 0.76, Validation Accuracy = 0.72, Validation MRE =55.83\n",
      "Epoch = 28,Cost = 0.10,Training Accuracy = 0.76, Validation Accuracy = 0.72, Validation MRE =55.56\n",
      "Epoch = 29,Cost = 0.10,Training Accuracy = 0.76, Validation Accuracy = 0.73, Validation MRE =55.30\n",
      "Epoch = 30,Cost = 0.09,Training Accuracy = 0.77, Validation Accuracy = 0.73, Validation MRE =55.06\n",
      "Epoch = 31,Cost = 0.09,Training Accuracy = 0.77, Validation Accuracy = 0.73, Validation MRE =54.83\n",
      "Epoch = 32,Cost = 0.09,Training Accuracy = 0.77, Validation Accuracy = 0.73, Validation MRE =54.61\n",
      "Epoch = 33,Cost = 0.09,Training Accuracy = 0.77, Validation Accuracy = 0.73, Validation MRE =54.41\n",
      "Epoch = 34,Cost = 0.08,Training Accuracy = 0.78, Validation Accuracy = 0.73, Validation MRE =54.22\n",
      "Epoch = 35,Cost = 0.08,Training Accuracy = 0.78, Validation Accuracy = 0.73, Validation MRE =54.05\n",
      "Epoch = 36,Cost = 0.08,Training Accuracy = 0.78, Validation Accuracy = 0.73, Validation MRE =53.89\n",
      "Epoch = 37,Cost = 0.08,Training Accuracy = 0.78, Validation Accuracy = 0.73, Validation MRE =53.73\n",
      "Epoch = 38,Cost = 0.08,Training Accuracy = 0.78, Validation Accuracy = 0.73, Validation MRE =53.59\n",
      "Epoch = 39,Cost = 0.08,Training Accuracy = 0.78, Validation Accuracy = 0.73, Validation MRE =53.46\n",
      "Epoch = 40,Cost = 0.07,Training Accuracy = 0.79, Validation Accuracy = 0.73, Validation MRE =53.33\n",
      "Epoch = 41,Cost = 0.07,Training Accuracy = 0.79, Validation Accuracy = 0.73, Validation MRE =53.21\n",
      "Epoch = 42,Cost = 0.07,Training Accuracy = 0.79, Validation Accuracy = 0.73, Validation MRE =53.10\n",
      "Epoch = 43,Cost = 0.07,Training Accuracy = 0.79, Validation Accuracy = 0.73, Validation MRE =52.99\n",
      "Epoch = 44,Cost = 0.07,Training Accuracy = 0.79, Validation Accuracy = 0.73, Validation MRE =52.89\n",
      "Epoch = 45,Cost = 0.07,Training Accuracy = 0.79, Validation Accuracy = 0.73, Validation MRE =52.80\n",
      "Epoch = 46,Cost = 0.07,Training Accuracy = 0.79, Validation Accuracy = 0.73, Validation MRE =52.71\n",
      "Epoch = 47,Cost = 0.07,Training Accuracy = 0.79, Validation Accuracy = 0.73, Validation MRE =52.62\n",
      "Epoch = 48,Cost = 0.07,Training Accuracy = 0.80, Validation Accuracy = 0.73, Validation MRE =52.54\n",
      "Epoch = 49,Cost = 0.07,Training Accuracy = 0.80, Validation Accuracy = 0.73, Validation MRE =52.46\n",
      "Epoch = 50,Cost = 0.06,Training Accuracy = 0.80, Validation Accuracy = 0.73, Validation MRE =52.38\n",
      "Epoch = 51,Cost = 0.06,Training Accuracy = 0.80, Validation Accuracy = 0.73, Validation MRE =52.31\n",
      "Epoch = 52,Cost = 0.06,Training Accuracy = 0.80, Validation Accuracy = 0.73, Validation MRE =52.24\n",
      "Epoch = 53,Cost = 0.06,Training Accuracy = 0.80, Validation Accuracy = 0.73, Validation MRE =52.17\n",
      "Epoch = 54,Cost = 0.06,Training Accuracy = 0.80, Validation Accuracy = 0.73, Validation MRE =52.10\n",
      "Epoch = 55,Cost = 0.06,Training Accuracy = 0.80, Validation Accuracy = 0.73, Validation MRE =52.04\n",
      "Epoch = 56,Cost = 0.06,Training Accuracy = 0.80, Validation Accuracy = 0.73, Validation MRE =51.97\n",
      "Epoch = 57,Cost = 0.06,Training Accuracy = 0.80, Validation Accuracy = 0.73, Validation MRE =51.91\n",
      "Epoch = 58,Cost = 0.06,Training Accuracy = 0.80, Validation Accuracy = 0.73, Validation MRE =51.85\n",
      "Epoch = 59,Cost = 0.06,Training Accuracy = 0.80, Validation Accuracy = 0.73, Validation MRE =51.79\n",
      "Epoch = 60,Cost = 0.06,Training Accuracy = 0.81, Validation Accuracy = 0.73, Validation MRE =51.73\n",
      "Epoch = 61,Cost = 0.06,Training Accuracy = 0.81, Validation Accuracy = 0.73, Validation MRE =51.67\n",
      "Epoch = 62,Cost = 0.06,Training Accuracy = 0.81, Validation Accuracy = 0.73, Validation MRE =51.62\n",
      "Epoch = 63,Cost = 0.06,Training Accuracy = 0.81, Validation Accuracy = 0.73, Validation MRE =51.57\n",
      "Epoch = 64,Cost = 0.06,Training Accuracy = 0.81, Validation Accuracy = 0.73, Validation MRE =51.52\n",
      "Epoch = 65,Cost = 0.06,Training Accuracy = 0.81, Validation Accuracy = 0.73, Validation MRE =51.47\n",
      "Epoch = 66,Cost = 0.06,Training Accuracy = 0.81, Validation Accuracy = 0.73, Validation MRE =51.42\n",
      "Epoch = 67,Cost = 0.06,Training Accuracy = 0.81, Validation Accuracy = 0.73, Validation MRE =51.37\n",
      "Epoch = 68,Cost = 0.05,Training Accuracy = 0.81, Validation Accuracy = 0.73, Validation MRE =51.32\n",
      "Epoch = 69,Cost = 0.05,Training Accuracy = 0.81, Validation Accuracy = 0.73, Validation MRE =51.28\n",
      "Epoch = 70,Cost = 0.05,Training Accuracy = 0.81, Validation Accuracy = 0.73, Validation MRE =51.23\n",
      "Epoch = 71,Cost = 0.05,Training Accuracy = 0.81, Validation Accuracy = 0.73, Validation MRE =51.19\n",
      "Epoch = 72,Cost = 0.05,Training Accuracy = 0.81, Validation Accuracy = 0.73, Validation MRE =51.14\n",
      "Epoch = 73,Cost = 0.05,Training Accuracy = 0.81, Validation Accuracy = 0.73, Validation MRE =51.10\n",
      "Epoch = 74,Cost = 0.05,Training Accuracy = 0.81, Validation Accuracy = 0.73, Validation MRE =51.06\n",
      "Epoch = 75,Cost = 0.05,Training Accuracy = 0.81, Validation Accuracy = 0.73, Validation MRE =51.02\n",
      "Epoch = 76,Cost = 0.05,Training Accuracy = 0.81, Validation Accuracy = 0.73, Validation MRE =50.98\n",
      "Epoch = 77,Cost = 0.05,Training Accuracy = 0.81, Validation Accuracy = 0.73, Validation MRE =50.94\n",
      "Epoch = 78,Cost = 0.05,Training Accuracy = 0.81, Validation Accuracy = 0.73, Validation MRE =50.90\n",
      "Epoch = 79,Cost = 0.05,Training Accuracy = 0.81, Validation Accuracy = 0.73, Validation MRE =50.86\n",
      "Epoch = 80,Cost = 0.05,Training Accuracy = 0.82, Validation Accuracy = 0.73, Validation MRE =50.82\n",
      "Epoch = 81,Cost = 0.05,Training Accuracy = 0.82, Validation Accuracy = 0.72, Validation MRE =50.78\n",
      "Epoch = 82,Cost = 0.05,Training Accuracy = 0.82, Validation Accuracy = 0.72, Validation MRE =50.74\n",
      "Epoch = 83,Cost = 0.05,Training Accuracy = 0.82, Validation Accuracy = 0.72, Validation MRE =50.70\n",
      "Epoch = 84,Cost = 0.05,Training Accuracy = 0.82, Validation Accuracy = 0.72, Validation MRE =50.66\n",
      "Epoch = 85,Cost = 0.05,Training Accuracy = 0.82, Validation Accuracy = 0.72, Validation MRE =50.62\n",
      "Epoch = 86,Cost = 0.05,Training Accuracy = 0.82, Validation Accuracy = 0.72, Validation MRE =50.58\n",
      "Epoch = 87,Cost = 0.05,Training Accuracy = 0.82, Validation Accuracy = 0.72, Validation MRE =50.54\n",
      "Epoch = 88,Cost = 0.05,Training Accuracy = 0.82, Validation Accuracy = 0.72, Validation MRE =50.50\n",
      "Epoch = 89,Cost = 0.05,Training Accuracy = 0.82, Validation Accuracy = 0.72, Validation MRE =50.46\n",
      "Epoch = 90,Cost = 0.05,Training Accuracy = 0.82, Validation Accuracy = 0.72, Validation MRE =50.43\n",
      "Epoch = 91,Cost = 0.05,Training Accuracy = 0.82, Validation Accuracy = 0.72, Validation MRE =50.39\n",
      "Epoch = 92,Cost = 0.05,Training Accuracy = 0.82, Validation Accuracy = 0.72, Validation MRE =50.36\n",
      "Epoch = 93,Cost = 0.05,Training Accuracy = 0.82, Validation Accuracy = 0.72, Validation MRE =50.32\n",
      "Epoch = 94,Cost = 0.05,Training Accuracy = 0.82, Validation Accuracy = 0.72, Validation MRE =50.29\n",
      "Epoch = 95,Cost = 0.05,Training Accuracy = 0.82, Validation Accuracy = 0.72, Validation MRE =50.25\n",
      "Epoch = 96,Cost = 0.05,Training Accuracy = 0.82, Validation Accuracy = 0.72, Validation MRE =50.22\n",
      "Epoch = 97,Cost = 0.05,Training Accuracy = 0.82, Validation Accuracy = 0.72, Validation MRE =50.18\n",
      "Epoch = 98,Cost = 0.05,Training Accuracy = 0.82, Validation Accuracy = 0.72, Validation MRE =50.15\n",
      "Epoch = 99,Cost = 0.05,Training Accuracy = 0.82, Validation Accuracy = 0.72, Validation MRE =50.12\n",
      "Epoch = 100,Cost = 0.05,Training Accuracy = 0.82, Validation Accuracy = 0.72, Validation MRE =50.09\n",
      "[ 0.52769518] [ 0.60324788]\n",
      "[ 0.52045459] [ 0.40832573]\n",
      "[ 0.40160288] [ 0.56013882]\n",
      "[ 1.7339386] [ 1.69412553]\n",
      "[ 1.0700043] [ 1.24610019]\n",
      "[ 0.24933697] [ 0.31349441]\n",
      "[ 0.68594464] [ 1.11415207]\n",
      "[ 0.10351547] [ 0.20788553]\n",
      "[ 0.36783612] [ 0.38811952]\n",
      "[ 0.21076428] [ 0.23662928]\n",
      "Model saved in file: ../nets/EI99/EI99_Apr4.ckpt\n"
     ]
    }
   ],
   "source": [
    "%matplotlib auto\n",
    "#Start Training\n",
    "costs=[]\n",
    "\n",
    "#save the model\n",
    "saver = tf.train.Saver()\n",
    "\n",
    "with tf.Session() as sess:\n",
    "    sess.run(init)\n",
    "    for epoch in range(100):\n",
    "        for i in range(0, len(trn_X),BATCH_SIZE):\n",
    "            _, c = sess.run([optimizer,cost], feed_dict={X:trn_X[i:i+BATCH_SIZE], y:trn_y[i:i+BATCH_SIZE]})\n",
    "        \n",
    "        trn_score = r2_score(trn_y,sess.run(pred, feed_dict={X:trn_X, y:trn_y}))\n",
    "        val_score = r2_score(val_y,sess.run(pred, feed_dict={X:val_X, y:val_y}))     \n",
    "        val_mre = mre(val_y,sess.run(pred,feed_dict={X:val_X,y:val_y}))\n",
    "        \n",
    "        costs.append(val_score)\n",
    "        if epoch % 1 == 0:\n",
    "            print(\"Epoch = %d,Cost = %.2f,Training Accuracy = %.2f, Validation Accuracy = %.2f, Validation MRE =%.2f\" % (epoch + 1,c,trn_score,val_score,val_mre))\n",
    "  \n",
    "    # final pred on the validation set\n",
    "    final_pred_val = sess.run(pred,feed_dict={X:val_X})\n",
    "    # prediction on the testing set\n",
    "    final_pred_test = sess.run(pred,feed_dict={X:tst_X})\n",
    "    \n",
    "    for (y,y_hat) in zip(tst_y,final_pred_test):\n",
    "        print y,y_hat\n",
    "    \n",
    "    \n",
    "    plt.plot(costs)\n",
    "    plt.show()\n",
    "    \n",
    "    save_path = saver.save(sess, \"../nets/EI99/EI99_Apr4.ckpt\")\n",
    "    saver.export_meta_graph(\"../nets/EI99/EI99_Apr4.meta\")\n",
    "    print(\"Model saved in file: %s\" % save_path)"
   ]
  },
  {
   "cell_type": "code",
   "execution_count": 17,
   "metadata": {
    "collapsed": false
   },
   "outputs": [
    {
     "name": "stdout",
     "output_type": "stream",
     "text": [
      "0.871173310852\n"
     ]
    }
   ],
   "source": [
    "MRE_this = mre(tst_y, final_pred_test)\n",
    "R2_this = r2_score(tst_y, final_pred_test)\n",
    "print R2_this\n",
    "MRE_label = 'MRE: ' + str(round(MRE_this,2))\n",
    "\n",
    "fig = plt.figure()\n",
    "ax = fig.add_subplot(111)\n",
    "est = plt.plot(tst_y, final_pred_test,'o', label='estimated values')\n",
    "\n",
    "max_val = max(max(tst_y),max(final_pred_test))\n",
    "plt.ylim([0,max_val+1])\n",
    "plt.xlim([0,max_val+1])\n",
    "\n",
    "thisLine = plt.plot(np.append(0,max_val+1), np.append(0,max_val+1), label='perfect prediction line')\n",
    "\n",
    "plt.plot([],[],linewidth=0, label=MRE_label)\n",
    "plt.legend(loc='upper left')\n",
    "plt.show()"
   ]
  },
  {
   "cell_type": "code",
   "execution_count": null,
   "metadata": {
    "collapsed": true
   },
   "outputs": [],
   "source": []
  }
 ],
 "metadata": {
  "anaconda-cloud": {},
  "kernelspec": {
   "display_name": "tensorflow",
   "language": "python",
   "name": "tensorflow"
  },
  "language_info": {
   "codemirror_mode": {
    "name": "ipython",
    "version": 2
   },
   "file_extension": ".py",
   "mimetype": "text/x-python",
   "name": "python",
   "nbconvert_exporter": "python",
   "pygments_lexer": "ipython2",
   "version": "2.7.13"
  }
 },
 "nbformat": 4,
 "nbformat_minor": 1
}
