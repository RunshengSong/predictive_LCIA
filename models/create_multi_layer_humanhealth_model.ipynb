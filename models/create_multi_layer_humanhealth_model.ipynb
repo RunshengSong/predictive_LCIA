{
 "cells": [
  {
   "cell_type": "markdown",
   "metadata": {},
   "source": [
    "## Create Multi-Layer NN model using tensorflow\n",
    "\n",
    "So I can adjust the parameters as I want..."
   ]
  },
  {
   "cell_type": "code",
   "execution_count": 1,
   "metadata": {
    "collapsed": false
   },
   "outputs": [
    {
     "name": "stderr",
     "output_type": "stream",
     "text": [
      "/home/runsheng/anaconda2/envs/tensorflow/lib/python2.7/site-packages/sklearn/cross_validation.py:44: DeprecationWarning: This module was deprecated in version 0.18 in favor of the model_selection module into which all the refactored classes and functions are moved. Also note that the interface of the new CV iterators are different from that of this module. This module will be removed in 0.20.\n",
      "  \"This module will be removed in 0.20.\", DeprecationWarning)\n"
     ]
    }
   ],
   "source": [
    "import sys\n",
    "sys.path.append(\"./src\") # append to system path\n",
    "\n",
    "from sklearn import cross_validation\n",
    "from sklearn.metrics import r2_score\n",
    "from sklearn.metrics import mean_absolute_error\n",
    "from sklearn.decomposition import PCA\n",
    "from sklearn.preprocessing import Normalizer\n",
    "from sklearn.preprocessing import StandardScaler\n",
    "from sklearn.externals import joblib\n",
    "\n",
    "import numpy as np\n",
    "import pandas as pd\n",
    "import tensorflow as tf\n",
    "\n",
    "import matplotlib.pyplot as plt\n",
    "from matplotlib import style\n",
    "from matplotlib.patches import Rectangle\n",
    "style.use('ggplot')"
   ]
  },
  {
   "cell_type": "code",
   "execution_count": 2,
   "metadata": {
    "collapsed": true
   },
   "outputs": [],
   "source": [
    "def load_lcia_data(descs_p, target_p):\n",
    "    X = pd.read_csv(descs_p,header=0,index_col=None)\n",
    "    X = X.fillna(0)\n",
    "    y = pd.read_csv(target_p,header=0,index_col=None)\n",
    "    return X.values,y.values\n",
    "\n",
    "def mre(true_y,pred_y):\n",
    "    ## Note: does not handle mix 1d representation\n",
    "    #if _is_1d(y_true): \n",
    "    #    y_true, y_pred = _check_1d_array(y_true, y_pred)\n",
    "\n",
    "    return np.mean(np.abs((true_y - pred_y) / true_y)) * 100"
   ]
  },
  {
   "cell_type": "markdown",
   "metadata": {},
   "source": [
    "### Load Training data\n",
    "The training data has 156 chemicals now. The rest 10 chemicals are test data\n",
    "We also split the training and validation data here\n",
    "We use smaller set (10%) to be the valdiation set (16 chemicals), as the limited size of training chemicals."
   ]
  },
  {
   "cell_type": "code",
   "execution_count": 3,
   "metadata": {
    "collapsed": false
   },
   "outputs": [],
   "source": [
    "descs_p = '../data/descs/train/descs_Mar08_3839_train.csv'\n",
    "target_p = '../data/target/train/humanhealth_train.csv'\n",
    "X,y = load_lcia_data(descs_p, target_p)\n",
    "\n",
    "trn_X, val_X, trn_y, val_y = cross_validation.train_test_split(\n",
    "    X, y, test_size=0.1, random_state=42)"
   ]
  },
  {
   "cell_type": "code",
   "execution_count": 4,
   "metadata": {
    "collapsed": false
   },
   "outputs": [
    {
     "name": "stdout",
     "output_type": "stream",
     "text": [
      "(140, 3839) (140, 1)\n"
     ]
    }
   ],
   "source": [
    "print trn_X.shape, trn_y.shape"
   ]
  },
  {
   "cell_type": "markdown",
   "metadata": {},
   "source": [
    "### Load Testing data"
   ]
  },
  {
   "cell_type": "code",
   "execution_count": 5,
   "metadata": {
    "collapsed": true
   },
   "outputs": [],
   "source": [
    "descs_tst = '../data/descs/test/descs_Mar08_3839_test.csv'\n",
    "target_tst = '../data/target/test/humanhealth_test.csv'\n",
    "tst_X,tst_y = load_lcia_data(descs_tst, target_tst)"
   ]
  },
  {
   "cell_type": "markdown",
   "metadata": {},
   "source": [
    "### Data Preprocessing\n",
    "Normalization + PCA or Just Normalization"
   ]
  },
  {
   "cell_type": "markdown",
   "metadata": {},
   "source": [
    "### Just Scaler"
   ]
  },
  {
   "cell_type": "code",
   "execution_count": 6,
   "metadata": {
    "collapsed": false
   },
   "outputs": [],
   "source": [
    "## Standard Scaler\n",
    "this_scaler = StandardScaler()\n",
    "trn_X = this_scaler.fit_transform(trn_X)\n",
    "val_X = this_scaler.transform(val_X)\n",
    "tst_X = this_scaler.transform(tst_X)"
   ]
  },
  {
   "cell_type": "code",
   "execution_count": 7,
   "metadata": {
    "collapsed": false
   },
   "outputs": [
    {
     "name": "stdout",
     "output_type": "stream",
     "text": [
      "(140, 3839)\n",
      "(10, 3839)\n",
      "[  8.94522551e-16  -4.85474756e-16  -3.96508223e-17 ...,   0.00000000e+00\n",
      "  -6.97854473e-17   4.83740032e-17] [ 1.  1.  1. ...,  0.  1.  1.]\n"
     ]
    }
   ],
   "source": [
    "print trn_X.shape\n",
    "print tst_X.shape\n",
    "print np.mean(trn_X,0),np.std(trn_X,0)"
   ]
  },
  {
   "cell_type": "markdown",
   "metadata": {},
   "source": [
    "##  PCA"
   ]
  },
  {
   "cell_type": "code",
   "execution_count": 8,
   "metadata": {
    "collapsed": false
   },
   "outputs": [],
   "source": [
    "### PCA, don't run them together\n",
    "# normalize the data first\n",
    "pca = PCA(n_components = 60)\n",
    "\n",
    "trn_X = pca.fit_transform(trn_X)\n",
    "val_X = pca.transform(val_X)\n",
    "tst_X = pca.transform(tst_X)"
   ]
  },
  {
   "cell_type": "code",
   "execution_count": 9,
   "metadata": {
    "collapsed": false
   },
   "outputs": [
    {
     "name": "stdout",
     "output_type": "stream",
     "text": [
      "(140, 60) (10, 60)\n",
      "0.959492130385\n"
     ]
    }
   ],
   "source": [
    "print trn_X.shape, tst_X.shape\n",
    "print(reduce(lambda x,y:x+y,pca.explained_variance_ratio_))"
   ]
  },
  {
   "cell_type": "code",
   "execution_count": 10,
   "metadata": {
    "collapsed": false
   },
   "outputs": [
    {
     "data": {
      "image/png": "[encoded data removed]",
      "text/plain": [
       "<matplotlib.figure.Figure at 0x7f65ceedcad0>"
      ]
     },
     "metadata": {},
     "output_type": "display_data"
    }
   ],
   "source": [
    "plt.scatter(trn_X[:,0],trn_X[:,1])\n",
    "plt.scatter(tst_X[:,0],tst_X[:,1])\n",
    "plt.show()"
   ]
  },
  {
   "cell_type": "code",
   "execution_count": 11,
   "metadata": {
    "collapsed": false
   },
   "outputs": [
    {
     "data": {
      "image/png": "[encoded data removed]",
      "text/plain": [
       "<matplotlib.figure.Figure at 0x7f656de44350>"
      ]
     },
     "metadata": {},
     "output_type": "display_data"
    }
   ],
   "source": [
    "n, bins, patches = plt.hist(trn_y,50)\n",
    "plt.show()"
   ]
  },
  {
   "cell_type": "markdown",
   "metadata": {},
   "source": [
    "### Take the Log Scale of Training Target"
   ]
  },
  {
   "cell_type": "code",
   "execution_count": 12,
   "metadata": {
    "collapsed": false
   },
   "outputs": [
    {
     "data": {
      "image/png": "[encoded data removed]",
      "text/plain": [
       "<matplotlib.figure.Figure at 0x7f6566a55750>"
      ]
     },
     "metadata": {},
     "output_type": "display_data"
    }
   ],
   "source": [
    "trn_y = np.log(trn_y)\n",
    "val_y = np.log(val_y)\n",
    "tst_y = np.log(tst_y)\n",
    "\n",
    "n, bins, patches = plt.hist(tst_y,50)\n",
    "plt.show()"
   ]
  },
  {
   "cell_type": "markdown",
   "metadata": {},
   "source": [
    "### Build the model"
   ]
  },
  {
   "cell_type": "code",
   "execution_count": 13,
   "metadata": {
    "collapsed": false
   },
   "outputs": [
    {
     "data": {
      "text/plain": [
       "['../nets/humanhealth/pca.pkl']"
      ]
     },
     "execution_count": 13,
     "metadata": {},
     "output_type": "execute_result"
    }
   ],
   "source": [
    "joblib.dump(this_scaler, '../nets/humanhealth/scaler.pkl') \n",
    "joblib.dump(pca, '../nets/humanhealth/pca.pkl') "
   ]
  },
  {
   "cell_type": "code",
   "execution_count": 14,
   "metadata": {
    "collapsed": false
   },
   "outputs": [
    {
     "name": "stdout",
     "output_type": "stream",
     "text": [
      "60 1\n"
     ]
    }
   ],
   "source": [
    "def init_weights(shape):\n",
    "    weights = tf.random_normal(shape,stddev = 0.1)\n",
    "    return tf.Variable(weights)\n",
    "\n",
    "def bias_variable(shape):\n",
    "  initial = tf.constant(0.1, shape=shape)\n",
    "  return tf.Variable(initial)\n",
    "\n",
    "num_descs = trn_X.shape[1]\n",
    "num_target = trn_y.shape[1]\n",
    "\n",
    "print num_descs,num_target"
   ]
  },
  {
   "cell_type": "code",
   "execution_count": 15,
   "metadata": {
    "collapsed": false
   },
   "outputs": [],
   "source": [
    "##### \n",
    "##Define model structure\n",
    "\n",
    "X = tf.placeholder(tf.float32,shape=[None,num_descs])\n",
    "y = tf.placeholder(tf.float32,shape=[None,num_target])\n",
    "tf.add_to_collection('X',X)\n",
    "tf.add_to_collection('y',y)\n",
    "\n",
    "# First layer\n",
    "w1 = init_weights((num_descs,128)) \n",
    "b1 = bias_variable([128])\n",
    "l1 = tf.add(tf.matmul(X,w1),b1)\n",
    "l1 = tf.nn.sigmoid(l1)\n",
    "\n",
    "# Second layer\n",
    "w2 = init_weights((128,128))\n",
    "b2 = bias_variable([128])\n",
    "l2 = tf.add(tf.matmul(l1,w2),b2)\n",
    "l2 = tf.nn.sigmoid(l2)\n",
    "\n",
    "# Third layer\n",
    "w3 = init_weights((128,128))\n",
    "b3 = bias_variable([128])\n",
    "l3 = tf.add(tf.matmul(l2,w3),b3)\n",
    "l3 = tf.nn.sigmoid(l3)\n",
    "\n",
    "# # Fourth layer\n",
    "# w4 = init_weights((128,128))\n",
    "# b4 = bias_variable([128])\n",
    "# l4 = tf.add(tf.matmul(l3,w4),b4)\n",
    "# l4 = tf.nn.relu(l4)\n",
    "\n",
    "# # Fifth layer\n",
    "# w5 = init_weights((128,128))\n",
    "# b5 = bias_variable([128])\n",
    "# l5 = tf.add(tf.matmul(l4,w5),b5)\n",
    "# l5 = tf.nn.relu(l5)\n",
    "\n",
    "#Output layer\n",
    "w_out = init_weights((128,num_target))\n",
    "b_out = bias_variable([num_target])\n",
    "l_out = tf.matmul(l3,w_out) + b_out #no nonlinarity\n",
    "\n",
    "pred = l_out\n",
    "tf.add_to_collection('pred',pred)"
   ]
  },
  {
   "cell_type": "code",
   "execution_count": 16,
   "metadata": {
    "collapsed": false
   },
   "outputs": [],
   "source": [
    "#static parameters\n",
    "BATCH_SIZE = 1\n",
    "BETA = 0.01 #regularization weights\n",
    "\n",
    "#Define loss and optimizer \n",
    "#Add regularization term\n",
    "# regularizers = tf.nn.l2_loss(w1) + tf.nn.l2_loss(w2) + tf.nn.l2_loss(w3) + tf.nn.l2_loss(w_out)\n",
    "regularizers = tf.nn.l2_loss(w1) + tf.nn.l2_loss(w2) + tf.nn.l2_loss(w3) + tf.nn.l2_loss(w_out)\n",
    "cost = tf.reduce_mean(tf.square(pred - y) + BETA*regularizers)\n",
    "\n",
    "#Gridient Descent Optimizer\n",
    "optimizer = tf.train.AdagradOptimizer(learning_rate = 0.005).minimize(cost)\n",
    "\n",
    "\n",
    "# Initializing the variables\n",
    "init = tf.global_variables_initializer()"
   ]
  },
  {
   "cell_type": "markdown",
   "metadata": {},
   "source": [
    "## Training"
   ]
  },
  {
   "cell_type": "code",
   "execution_count": 17,
   "metadata": {
    "collapsed": false,
    "scrolled": true
   },
   "outputs": [
    {
     "name": "stdout",
     "output_type": "stream",
     "text": [
      "Using matplotlib backend: Qt5Agg\n",
      "Epoch = 1,Cost = 3.08,Training Accuracy = -0.12, Validation Accuracy = -0.07, Validation MRE =106.35\n",
      "Epoch = 101,Cost = 0.47,Training Accuracy = 0.81, Validation Accuracy = 0.56, Validation MRE =66.38\n",
      "Epoch = 201,Cost = 0.27,Training Accuracy = 0.86, Validation Accuracy = 0.60, Validation MRE =65.08\n",
      "Epoch = 301,Cost = 0.23,Training Accuracy = 0.89, Validation Accuracy = 0.61, Validation MRE =65.27\n",
      "Epoch = 401,Cost = 0.21,Training Accuracy = 0.90, Validation Accuracy = 0.61, Validation MRE =66.10\n",
      "Epoch = 501,Cost = 0.20,Training Accuracy = 0.92, Validation Accuracy = 0.60, Validation MRE =66.81\n",
      "Epoch = 601,Cost = 0.20,Training Accuracy = 0.93, Validation Accuracy = 0.60, Validation MRE =67.38\n",
      "Epoch = 701,Cost = 0.20,Training Accuracy = 0.93, Validation Accuracy = 0.59, Validation MRE =67.81\n",
      "[ 0.00079316] [ 0.00096698]\n",
      "[ 0.00074007] [ 0.00029242]\n",
      "[ 0.00056727] [ 0.00069453]\n",
      "[ 0.0027567] [ 0.00213995]\n",
      "[ 0.00190828] [ 0.00159431]\n",
      "[ 0.00034155] [ 0.00030221]\n",
      "[ 0.00076229] [ 0.00179549]\n",
      "[  8.10000000e-05] [ 0.0001853]\n",
      "[ 0.00045007] [ 0.00032821]\n",
      "[ 0.00018512] [ 0.00021188]\n",
      "Model saved in file: ../nets/humanhealth/humanhealth_Apr4.ckpt\n"
     ]
    }
   ],
   "source": [
    "%matplotlib auto\n",
    "#Start Training\n",
    "costs=[]\n",
    "\n",
    "#save the model\n",
    "saver = tf.train.Saver()\n",
    "\n",
    "\n",
    "with tf.Session() as sess:\n",
    "    sess.run(init)\n",
    "    for epoch in range(800):\n",
    "        for i in range(0, len(trn_X),BATCH_SIZE):\n",
    "            _, c = sess.run([optimizer,cost], feed_dict={X:trn_X[i:i+BATCH_SIZE], y:trn_y[i:i+BATCH_SIZE]})\n",
    "        \n",
    "        trn_score = r2_score(np.exp(trn_y),np.exp(sess.run(pred, feed_dict={X:trn_X, y:trn_y})))\n",
    "        val_score = r2_score(np.exp(val_y),np.exp(sess.run(pred, feed_dict={X:val_X, y:val_y})))     \n",
    "        val_mre = mre(np.exp(val_y),np.exp(sess.run(pred,feed_dict={X:val_X,y:val_y})))\n",
    "        \n",
    "        costs.append(val_score)\n",
    "        if epoch % 100 == 0:\n",
    "            print(\"Epoch = %d,Cost = %.2f,Training Accuracy = %.2f, Validation Accuracy = %.2f, Validation MRE =%.2f\" % (epoch + 1,c,trn_score,val_score,val_mre))\n",
    "  \n",
    "    # final pred on the validation set\n",
    "    final_pred_val = sess.run(pred,feed_dict={X:val_X})\n",
    "    # prediction on the testing set\n",
    "    final_pred_test = sess.run(pred,feed_dict={X:tst_X})\n",
    "    \n",
    "    # convert it back \n",
    "    \n",
    "    for (y,y_hat) in zip(np.exp(tst_y),np.exp(final_pred_test)):\n",
    "        print y,y_hat\n",
    "    \n",
    "    \n",
    "    plt.plot(costs)\n",
    "    plt.show()\n",
    "    \n",
    "    save_path = saver.save(sess, \"../nets/humanhealth/humanhealth_Apr4.ckpt\")\n",
    "    saver.export_meta_graph(\"../nets/humanhealth/humanhealth_Apr4.meta\")\n",
    "    print(\"Model saved in file: %s\" % save_path)"
   ]
  },
  {
   "cell_type": "code",
   "execution_count": 18,
   "metadata": {
    "collapsed": true
   },
   "outputs": [],
   "source": [
    "tst_y = np.exp(tst_y)\n",
    "final_pred_test = np.exp(final_pred_test)"
   ]
  },
  {
   "cell_type": "code",
   "execution_count": 19,
   "metadata": {
    "collapsed": false
   },
   "outputs": [
    {
     "name": "stdout",
     "output_type": "stream",
     "text": [
      "0.711348733215\n"
     ]
    },
    {
     "data": {
      "text/plain": [
       "<matplotlib.legend.Legend at 0x7f6566a0e610>"
      ]
     },
     "execution_count": 19,
     "metadata": {},
     "output_type": "execute_result"
    }
   ],
   "source": [
    "MRE_this = mre(tst_y, final_pred_test)\n",
    "R2_this = r2_score(tst_y, final_pred_test)\n",
    "print R2_this\n",
    "MRE_label = 'MRE: ' + str(round(MRE_this,2))\n",
    "\n",
    "fig = plt.figure()\n",
    "ax = fig.add_subplot(111)\n",
    "est = plt.plot(tst_y, final_pred_test,'o', label='estimated values')\n",
    "\n",
    "max_val = max(max(tst_y),max(final_pred_test))\n",
    "plt.ylim([0,max_val])\n",
    "plt.xlim([0,max_val])\n",
    "\n",
    "thisLine = plt.plot(np.append(0,max_val), np.append(0,max_val), label='perfect prediction line')\n",
    "\n",
    "plt.plot([],[],linewidth=0, label=MRE_label)\n",
    "plt.legend(loc='upper left')\n",
    "# plt.show()"
   ]
  },
  {
   "cell_type": "code",
   "execution_count": null,
   "metadata": {
    "collapsed": true
   },
   "outputs": [],
   "source": []
  }
 ],
 "metadata": {
  "anaconda-cloud": {},
  "kernelspec": {
   "display_name": "tensorflow",
   "language": "python",
   "name": "tensorflow"
  },
  "language_info": {
   "codemirror_mode": {
    "name": "ipython",
    "version": 2
   },
   "file_extension": ".py",
   "mimetype": "text/x-python",
   "name": "python",
   "nbconvert_exporter": "python",
   "pygments_lexer": "ipython2",
   "version": "2.7.13"
  }
 },
 "nbformat": 4,
 "nbformat_minor": 1
}
