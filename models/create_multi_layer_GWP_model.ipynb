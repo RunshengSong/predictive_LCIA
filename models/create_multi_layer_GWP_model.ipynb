{
 "cells": [
  {
   "cell_type": "markdown",
   "metadata": {},
   "source": [
    "## Create Multi-Layer NN model using tensorflow\n",
    "\n",
    "So I can adjust the parameters as I want..."
   ]
  },
  {
   "cell_type": "code",
   "execution_count": 64,
   "metadata": {
    "collapsed": false
   },
   "outputs": [],
   "source": [
    "import sys\n",
    "sys.path.append(\"./src\") # append to system path\n",
    "\n",
    "from sklearn import cross_validation\n",
    "from sklearn.metrics import r2_score\n",
    "from sklearn.metrics import mean_absolute_error\n",
    "from sklearn.decomposition import PCA\n",
    "from sklearn.preprocessing import Normalizer\n",
    "from sklearn.preprocessing import StandardScaler\n",
    "\n",
    "import numpy as np\n",
    "import pandas as pd\n",
    "import tensorflow as tf\n",
    "\n",
    "import matplotlib.pyplot as plt\n",
    "from matplotlib import style\n",
    "from matplotlib.patches import Rectangle\n",
    "style.use('ggplot')\n",
    "\n"
   ]
  },
  {
   "cell_type": "code",
   "execution_count": 65,
   "metadata": {
    "collapsed": true
   },
   "outputs": [],
   "source": [
    "def load_lcia_data(descs_p, target_p):\n",
    "    X = pd.read_csv(descs_p,header=0,index_col=None)\n",
    "    X = X.fillna(0)\n",
    "    y = pd.read_csv(target_p,header=0,index_col=None)\n",
    "    return X.values,y.values\n",
    "\n",
    "def mre(true_y,pred_y):\n",
    "    ## Note: does not handle mix 1d representation\n",
    "    #if _is_1d(y_true): \n",
    "    #    y_true, y_pred = _check_1d_array(y_true, y_pred)\n",
    "\n",
    "    return np.mean(np.abs((true_y - pred_y) / true_y)) * 100"
   ]
  },
  {
   "cell_type": "markdown",
   "metadata": {},
   "source": [
    "### Load Training data\n",
    "The training data has 156 chemicals now. The rest 10 chemicals are test data\n",
    "We also split the training and validation data here\n",
    "We use smaller set (10%) to be the valdiation set (16 chemicals), as the limited size of training chemicals."
   ]
  },
  {
   "cell_type": "code",
   "execution_count": 66,
   "metadata": {
    "collapsed": false
   },
   "outputs": [],
   "source": [
    "descs_p = '../data/descs/train/descs_Mar08_3839_train.csv'\n",
    "target_p = '../data/target/train/GWP_train.csv'\n",
    "X,y = load_lcia_data(descs_p, target_p)\n",
    "\n",
    "trn_X, val_X, trn_y, val_y = cross_validation.train_test_split(\n",
    "    X, y, test_size=0.1, random_state=2)"
   ]
  },
  {
   "cell_type": "code",
   "execution_count": 67,
   "metadata": {
    "collapsed": false
   },
   "outputs": [
    {
     "name": "stdout",
     "output_type": "stream",
     "text": [
      "(140, 3839) (140, 1)\n"
     ]
    }
   ],
   "source": [
    "print trn_X.shape, trn_y.shape"
   ]
  },
  {
   "cell_type": "markdown",
   "metadata": {},
   "source": [
    "### Load Testing data"
   ]
  },
  {
   "cell_type": "code",
   "execution_count": 68,
   "metadata": {
    "collapsed": true
   },
   "outputs": [],
   "source": [
    "descs_tst = '../data/descs/test/descs_Mar08_3839_test.csv'\n",
    "target_tst = '../data/target/test/GWP_test.csv'\n",
    "tst_X,tst_y = load_lcia_data(descs_tst, target_tst)"
   ]
  },
  {
   "cell_type": "markdown",
   "metadata": {},
   "source": [
    "### Data Preprocessing\n",
    "Normalization + PCA or Just Normalization\n",
    "\n",
    "log scale of training target"
   ]
  },
  {
   "cell_type": "code",
   "execution_count": 69,
   "metadata": {
    "collapsed": true
   },
   "outputs": [],
   "source": [
    "trn_y,val_y,tst_y = np.log(trn_y),np.log(val_y),np.log(tst_y)"
   ]
  },
  {
   "cell_type": "markdown",
   "metadata": {},
   "source": [
    "### Just Scaler"
   ]
  },
  {
   "cell_type": "code",
   "execution_count": 70,
   "metadata": {
    "collapsed": false
   },
   "outputs": [],
   "source": [
    "## Standard Scaler\n",
    "this_scaler = StandardScaler()\n",
    "trn_X = this_scaler.fit_transform(trn_X)\n",
    "val_X = this_scaler.transform(val_X)\n",
    "tst_X = this_scaler.transform(tst_X)"
   ]
  },
  {
   "cell_type": "code",
   "execution_count": 71,
   "metadata": {
    "collapsed": false
   },
   "outputs": [
    {
     "name": "stdout",
     "output_type": "stream",
     "text": [
      "(140, 3839)\n",
      "(10, 3839)\n",
      "[  1.82393783e-16   5.53525479e-16  -6.59789683e-16 ...,   0.00000000e+00\n",
      "  -7.65260871e-17   6.32430616e-17] [ 1.  1.  1. ...,  0.  1.  1.]\n"
     ]
    }
   ],
   "source": [
    "print trn_X.shape\n",
    "print tst_X.shape\n",
    "print np.mean(trn_X,0),np.std(trn_X,0)"
   ]
  },
  {
   "cell_type": "markdown",
   "metadata": {},
   "source": [
    "##  PCA"
   ]
  },
  {
   "cell_type": "code",
   "execution_count": 72,
   "metadata": {
    "collapsed": false
   },
   "outputs": [],
   "source": [
    "### PCA, don't run them together\n",
    "# normalize the data first\n",
    "pca = PCA(n_components = 60)\n",
    "\n",
    "trn_X = pca.fit_transform(trn_X)\n",
    "val_X = pca.transform(val_X)\n",
    "tst_X = pca.transform(tst_X)"
   ]
  },
  {
   "cell_type": "code",
   "execution_count": 73,
   "metadata": {
    "collapsed": false
   },
   "outputs": [
    {
     "name": "stdout",
     "output_type": "stream",
     "text": [
      "(140, 60) (10, 60)\n",
      "0.96013175744\n"
     ]
    }
   ],
   "source": [
    "print trn_X.shape, tst_X.shape\n",
    "print(reduce(lambda x,y:x+y,pca.explained_variance_ratio_))"
   ]
  },
  {
   "cell_type": "code",
   "execution_count": 74,
   "metadata": {
    "collapsed": false
   },
   "outputs": [
    {
     "data": {
      "image/png": "[encoded data removed]",
      "text/plain": [
       "<matplotlib.figure.Figure at 0x7f9bd06c7190>"
      ]
     },
     "metadata": {},
     "output_type": "display_data"
    }
   ],
   "source": [
    "plt.scatter(trn_X[:,0],trn_X[:,1])\n",
    "plt.scatter(tst_X[:,0],tst_X[:,1])\n",
    "plt.show()"
   ]
  },
  {
   "cell_type": "code",
   "execution_count": 75,
   "metadata": {
    "collapsed": false
   },
   "outputs": [
    {
     "data": {
      "image/png": "[encoded data removed]",
      "text/plain": [
       "<matplotlib.figure.Figure at 0x7f9bb16e1990>"
      ]
     },
     "metadata": {},
     "output_type": "display_data"
    }
   ],
   "source": [
    "n, bins, patches = plt.hist(trn_y, 50, normed=1, facecolor='green', alpha=0.75)\n",
    "plt.show()"
   ]
  },
  {
   "cell_type": "markdown",
   "metadata": {},
   "source": [
    "### Build the model"
   ]
  },
  {
   "cell_type": "code",
   "execution_count": 76,
   "metadata": {
    "collapsed": false
   },
   "outputs": [
    {
     "name": "stdout",
     "output_type": "stream",
     "text": [
      "60 1\n"
     ]
    }
   ],
   "source": [
    "def init_weights(shape):\n",
    "    weights = tf.random_normal(shape,stddev = 0.1)\n",
    "    return tf.Variable(weights)\n",
    "\n",
    "def bias_variable(shape):\n",
    "  initial = tf.constant(0.1, shape=shape)\n",
    "  return tf.Variable(initial)\n",
    "\n",
    "num_descs = trn_X.shape[1]\n",
    "num_target = trn_y.shape[1]\n",
    "\n",
    "print num_descs,num_target"
   ]
  },
  {
   "cell_type": "code",
   "execution_count": 77,
   "metadata": {
    "collapsed": false
   },
   "outputs": [],
   "source": [
    "##### \n",
    "##Define model structure\n",
    "\n",
    "X = tf.placeholder(tf.float32,shape=[None,num_descs])\n",
    "y = tf.placeholder(tf.float32,shape=[None,num_target])\n",
    "\n",
    "#First layer\n",
    "w1 = init_weights((num_descs,128)) \n",
    "b1 = bias_variable([128])\n",
    "l1 = tf.add(tf.matmul(X,w1),b1)\n",
    "l1 = tf.nn.sigmoid(l1)\n",
    "\n",
    "# Second layer\n",
    "w2 = init_weights((128,128))\n",
    "b2 = bias_variable([128])\n",
    "l2 = tf.add(tf.matmul(l1,w2),b2)\n",
    "l2 = tf.nn.sigmoid(l2)\n",
    "\n",
    "# Third layer\n",
    "# w3 = init_weights((128,128))\n",
    "# b3 = bias_variable([128])\n",
    "# l3 = tf.add(tf.matmul(l2,w3),b3)\n",
    "# l3 = tf.nn.sigmoid(l3)\n",
    "\n",
    "#Output layer\n",
    "w_out = init_weights((128,num_target))\n",
    "b_out = bias_variable([num_target])\n",
    "l_out = tf.matmul(l2,w_out) + b_out #no nonlinarity\n",
    "\n",
    "pred = l_out"
   ]
  },
  {
   "cell_type": "code",
   "execution_count": 78,
   "metadata": {
    "collapsed": false
   },
   "outputs": [],
   "source": [
    "#static parameters\n",
    "BATCH_SIZE = 1\n",
    "BETA = 0.01 #regularization weights\n",
    "\n",
    "#Define loss and optimizer \n",
    "#Add regularization term\n",
    "# regularizers = tf.nn.l2_loss(w1) + tf.nn.l2_loss(w2) + tf.nn.l2_loss(w3) + tf.nn.l2_loss(w_out)\n",
    "regularizers = tf.nn.l2_loss(w1) + tf.nn.l2_loss(w2) + tf.nn.l2_loss(w_out)\n",
    "cost = tf.reduce_mean(tf.square(pred - y) + BETA*regularizers)\n",
    "\n",
    "#Gridient Descent Optimizer\n",
    "optimizer = tf.train.AdagradOptimizer(learning_rate = 0.01).minimize(cost)\n",
    "\n",
    "\n",
    "# Initializing the variables\n",
    "init = tf.global_variables_initializer()"
   ]
  },
  {
   "cell_type": "markdown",
   "metadata": {},
   "source": [
    "## Training"
   ]
  },
  {
   "cell_type": "code",
   "execution_count": 80,
   "metadata": {
    "collapsed": false,
    "scrolled": true
   },
   "outputs": [
    {
     "name": "stdout",
     "output_type": "stream",
     "text": [
      "Epoch = 1,Cost = 1.19,Training Accuracy = 0.02, Validation Accuracy = -0.35, Validation MRE =48.20\n",
      "Epoch = 11,Cost = 0.89,Training Accuracy = 0.27, Validation Accuracy = -0.46, Validation MRE =55.30\n",
      "Epoch = 21,Cost = 0.64,Training Accuracy = 0.46, Validation Accuracy = -0.43, Validation MRE =54.52\n",
      "Epoch = 31,Cost = 0.55,Training Accuracy = 0.63, Validation Accuracy = -0.38, Validation MRE =55.38\n",
      "Epoch = 41,Cost = 0.51,Training Accuracy = 0.76, Validation Accuracy = -0.34, Validation MRE =56.36\n",
      "Epoch = 51,Cost = 0.48,Training Accuracy = 0.85, Validation Accuracy = -0.33, Validation MRE =57.33\n",
      "Epoch = 61,Cost = 0.45,Training Accuracy = 0.89, Validation Accuracy = -0.33, Validation MRE =58.20\n",
      "Epoch = 71,Cost = 0.44,Training Accuracy = 0.92, Validation Accuracy = -0.34, Validation MRE =58.97\n",
      "Epoch = 81,Cost = 0.42,Training Accuracy = 0.93, Validation Accuracy = -0.36, Validation MRE =59.67\n",
      "Epoch = 91,Cost = 0.41,Training Accuracy = 0.94, Validation Accuracy = -0.39, Validation MRE =60.30\n",
      "Epoch = 101,Cost = 0.40,Training Accuracy = 0.95, Validation Accuracy = -0.43, Validation MRE =60.85\n",
      "Epoch = 111,Cost = 0.39,Training Accuracy = 0.96, Validation Accuracy = -0.47, Validation MRE =61.34\n",
      "Epoch = 121,Cost = 0.38,Training Accuracy = 0.96, Validation Accuracy = -0.52, Validation MRE =61.77\n",
      "Epoch = 131,Cost = 0.37,Training Accuracy = 0.97, Validation Accuracy = -0.57, Validation MRE =62.18\n",
      "Epoch = 141,Cost = 0.37,Training Accuracy = 0.97, Validation Accuracy = -0.63, Validation MRE =62.56\n",
      "Epoch = 151,Cost = 0.36,Training Accuracy = 0.97, Validation Accuracy = -0.69, Validation MRE =62.95\n",
      "Epoch = 161,Cost = 0.35,Training Accuracy = 0.97, Validation Accuracy = -0.76, Validation MRE =63.34\n",
      "Epoch = 171,Cost = 0.34,Training Accuracy = 0.98, Validation Accuracy = -0.83, Validation MRE =63.74\n",
      "Epoch = 181,Cost = 0.34,Training Accuracy = 0.98, Validation Accuracy = -0.91, Validation MRE =64.17\n",
      "Epoch = 191,Cost = 0.33,Training Accuracy = 0.98, Validation Accuracy = -1.00, Validation MRE =64.60\n",
      "Epoch = 201,Cost = 0.32,Training Accuracy = 0.98, Validation Accuracy = -1.09, Validation MRE =65.05\n",
      "Epoch = 211,Cost = 0.32,Training Accuracy = 0.98, Validation Accuracy = -1.18, Validation MRE =65.53\n",
      "Epoch = 221,Cost = 0.31,Training Accuracy = 0.98, Validation Accuracy = -1.28, Validation MRE =66.04\n",
      "Epoch = 231,Cost = 0.31,Training Accuracy = 0.98, Validation Accuracy = -1.39, Validation MRE =66.56\n",
      "Epoch = 241,Cost = 0.30,Training Accuracy = 0.98, Validation Accuracy = -1.49, Validation MRE =67.07\n",
      "Epoch = 251,Cost = 0.30,Training Accuracy = 0.98, Validation Accuracy = -1.60, Validation MRE =67.57\n",
      "Epoch = 261,Cost = 0.29,Training Accuracy = 0.98, Validation Accuracy = -1.71, Validation MRE =68.06\n",
      "Epoch = 271,Cost = 0.29,Training Accuracy = 0.98, Validation Accuracy = -1.83, Validation MRE =68.55\n",
      "Epoch = 281,Cost = 0.29,Training Accuracy = 0.98, Validation Accuracy = -1.94, Validation MRE =69.01\n",
      "Epoch = 291,Cost = 0.28,Training Accuracy = 0.98, Validation Accuracy = -2.06, Validation MRE =69.47\n",
      "Epoch = 301,Cost = 0.28,Training Accuracy = 0.98, Validation Accuracy = -2.18, Validation MRE =69.90\n",
      "Epoch = 311,Cost = 0.28,Training Accuracy = 0.98, Validation Accuracy = -2.29, Validation MRE =70.32\n",
      "Epoch = 321,Cost = 0.27,Training Accuracy = 0.98, Validation Accuracy = -2.41, Validation MRE =70.71\n",
      "Epoch = 331,Cost = 0.27,Training Accuracy = 0.98, Validation Accuracy = -2.53, Validation MRE =71.08\n",
      "Epoch = 341,Cost = 0.27,Training Accuracy = 0.98, Validation Accuracy = -2.64, Validation MRE =71.43\n",
      "Epoch = 351,Cost = 0.26,Training Accuracy = 0.98, Validation Accuracy = -2.75, Validation MRE =71.76\n",
      "Epoch = 361,Cost = 0.26,Training Accuracy = 0.98, Validation Accuracy = -2.86, Validation MRE =72.07\n",
      "Epoch = 371,Cost = 0.26,Training Accuracy = 0.98, Validation Accuracy = -2.97, Validation MRE =72.43\n",
      "Epoch = 381,Cost = 0.26,Training Accuracy = 0.98, Validation Accuracy = -3.08, Validation MRE =73.00\n",
      "Epoch = 391,Cost = 0.25,Training Accuracy = 0.98, Validation Accuracy = -3.18, Validation MRE =73.56\n",
      "Epoch = 401,Cost = 0.25,Training Accuracy = 0.98, Validation Accuracy = -3.28, Validation MRE =74.10\n",
      "Epoch = 411,Cost = 0.25,Training Accuracy = 0.98, Validation Accuracy = -3.38, Validation MRE =74.62\n",
      "Epoch = 421,Cost = 0.25,Training Accuracy = 0.99, Validation Accuracy = -3.48, Validation MRE =75.13\n",
      "Epoch = 431,Cost = 0.25,Training Accuracy = 0.99, Validation Accuracy = -3.58, Validation MRE =75.62\n",
      "Epoch = 441,Cost = 0.25,Training Accuracy = 0.99, Validation Accuracy = -3.67, Validation MRE =76.10\n",
      "Epoch = 451,Cost = 0.24,Training Accuracy = 0.99, Validation Accuracy = -3.76, Validation MRE =76.57\n",
      "Epoch = 461,Cost = 0.24,Training Accuracy = 0.99, Validation Accuracy = -3.85, Validation MRE =77.03\n",
      "Epoch = 471,Cost = 0.24,Training Accuracy = 0.99, Validation Accuracy = -3.93, Validation MRE =77.60\n",
      "Epoch = 481,Cost = 0.24,Training Accuracy = 0.99, Validation Accuracy = -4.02, Validation MRE =78.16\n",
      "Epoch = 491,Cost = 0.24,Training Accuracy = 0.99, Validation Accuracy = -4.10, Validation MRE =78.71\n",
      "Epoch = 501,Cost = 0.24,Training Accuracy = 0.99, Validation Accuracy = -4.18, Validation MRE =79.24\n",
      "Epoch = 511,Cost = 0.24,Training Accuracy = 0.99, Validation Accuracy = -4.26, Validation MRE =79.76\n",
      "Epoch = 521,Cost = 0.23,Training Accuracy = 0.99, Validation Accuracy = -4.33, Validation MRE =80.27\n",
      "Epoch = 531,Cost = 0.23,Training Accuracy = 0.99, Validation Accuracy = -4.41, Validation MRE =80.77\n",
      "Epoch = 541,Cost = 0.23,Training Accuracy = 0.99, Validation Accuracy = -4.48, Validation MRE =81.27\n",
      "Epoch = 551,Cost = 0.23,Training Accuracy = 0.99, Validation Accuracy = -4.56, Validation MRE =81.77\n",
      "Epoch = 561,Cost = 0.23,Training Accuracy = 0.99, Validation Accuracy = -4.64, Validation MRE =82.29\n",
      "Epoch = 571,Cost = 0.23,Training Accuracy = 0.99, Validation Accuracy = -4.72, Validation MRE =82.85\n",
      "Epoch = 581,Cost = 0.23,Training Accuracy = 0.99, Validation Accuracy = -4.79, Validation MRE =83.33\n",
      "Epoch = 591,Cost = 0.23,Training Accuracy = 0.99, Validation Accuracy = -4.84, Validation MRE =83.69\n",
      "Epoch = 601,Cost = 0.23,Training Accuracy = 0.99, Validation Accuracy = -4.90, Validation MRE =84.04\n",
      "Epoch = 611,Cost = 0.22,Training Accuracy = 0.99, Validation Accuracy = -4.95, Validation MRE =84.41\n",
      "Epoch = 621,Cost = 0.22,Training Accuracy = 0.99, Validation Accuracy = -5.02, Validation MRE =84.80\n",
      "Epoch = 631,Cost = 0.22,Training Accuracy = 0.99, Validation Accuracy = -5.08, Validation MRE =85.19\n",
      "Epoch = 641,Cost = 0.22,Training Accuracy = 0.99, Validation Accuracy = -5.14, Validation MRE =85.57\n",
      "Epoch = 651,Cost = 0.22,Training Accuracy = 0.99, Validation Accuracy = -5.20, Validation MRE =85.95\n",
      "Epoch = 661,Cost = 0.22,Training Accuracy = 0.99, Validation Accuracy = -5.25, Validation MRE =86.32\n",
      "Epoch = 671,Cost = 0.22,Training Accuracy = 0.99, Validation Accuracy = -5.31, Validation MRE =86.69\n",
      "Epoch = 681,Cost = 0.22,Training Accuracy = 0.99, Validation Accuracy = -5.37, Validation MRE =87.04\n",
      "Epoch = 691,Cost = 0.22,Training Accuracy = 0.99, Validation Accuracy = -5.42, Validation MRE =87.39\n",
      "Epoch = 701,Cost = 0.22,Training Accuracy = 0.99, Validation Accuracy = -5.48, Validation MRE =87.73\n",
      "Epoch = 711,Cost = 0.22,Training Accuracy = 0.99, Validation Accuracy = -5.53, Validation MRE =88.06\n",
      "Epoch = 721,Cost = 0.22,Training Accuracy = 0.99, Validation Accuracy = -5.58, Validation MRE =88.39\n",
      "Epoch = 731,Cost = 0.22,Training Accuracy = 0.99, Validation Accuracy = -5.63, Validation MRE =88.70\n",
      "Epoch = 741,Cost = 0.22,Training Accuracy = 0.99, Validation Accuracy = -5.69, Validation MRE =89.01\n",
      "Epoch = 751,Cost = 0.22,Training Accuracy = 0.99, Validation Accuracy = -5.73, Validation MRE =89.31\n",
      "Epoch = 761,Cost = 0.21,Training Accuracy = 0.99, Validation Accuracy = -5.78, Validation MRE =89.61\n",
      "Epoch = 771,Cost = 0.21,Training Accuracy = 0.99, Validation Accuracy = -5.83, Validation MRE =89.90\n",
      "Epoch = 781,Cost = 0.21,Training Accuracy = 0.99, Validation Accuracy = -5.88, Validation MRE =90.18\n",
      "Epoch = 791,Cost = 0.21,Training Accuracy = 0.99, Validation Accuracy = -5.92, Validation MRE =90.45\n",
      "[ 4.4334547] [ 4.23706913]\n",
      "[ 2.9764079] [ 0.85210729]\n",
      "[ 3.8389433] [ 1.64477062]\n",
      "[ 6.1713173] [ 7.56116867]\n",
      "[ 17.523282] [ 2.75833297]\n",
      "[ 2.5091898] [ 1.74436402]\n",
      "[ 4.3730765] [ 41.39319229]\n",
      "[ 1.2485096] [ 3.54176998]\n",
      "[ 3.3476841] [ 3.34860992]\n",
      "[ 2.5694999] [ 2.52090192]\n"
     ]
    },
    {
     "data": {
      "image/png": "[encoded data removed]",
      "text/plain": [
       "<matplotlib.figure.Figure at 0x7f9bb172e190>"
      ]
     },
     "metadata": {},
     "output_type": "display_data"
    },
    {
     "ename": "ValueError",
     "evalue": "Parent directory of ./nets/tmp/tmp.ckpt doesn't exist, can't save.",
     "output_type": "error",
     "traceback": [
      "\u001b[0;31m---------------------------------------------------------------------------\u001b[0m",
      "\u001b[0;31mValueError\u001b[0m                                Traceback (most recent call last)",
      "\u001b[0;32m<ipython-input-80-d496c786bc22>\u001b[0m in \u001b[0;36m<module>\u001b[0;34m()\u001b[0m\n\u001b[1;32m     33\u001b[0m     \u001b[0mplt\u001b[0m\u001b[0;34m.\u001b[0m\u001b[0mshow\u001b[0m\u001b[0;34m(\u001b[0m\u001b[0;34m)\u001b[0m\u001b[0;34m\u001b[0m\u001b[0m\n\u001b[1;32m     34\u001b[0m \u001b[0;34m\u001b[0m\u001b[0m\n\u001b[0;32m---> 35\u001b[0;31m     \u001b[0msave_path\u001b[0m \u001b[0;34m=\u001b[0m \u001b[0msaver\u001b[0m\u001b[0;34m.\u001b[0m\u001b[0msave\u001b[0m\u001b[0;34m(\u001b[0m\u001b[0msess\u001b[0m\u001b[0;34m,\u001b[0m \u001b[0;34m\"./nets/tmp/tmp.ckpt\"\u001b[0m\u001b[0;34m)\u001b[0m\u001b[0;34m\u001b[0m\u001b[0m\n\u001b[0m\u001b[1;32m     36\u001b[0m     \u001b[0;32mprint\u001b[0m\u001b[0;34m(\u001b[0m\u001b[0;34m\"Model saved in file: %s\"\u001b[0m \u001b[0;34m%\u001b[0m \u001b[0msave_path\u001b[0m\u001b[0;34m)\u001b[0m\u001b[0;34m\u001b[0m\u001b[0m\n",
      "\u001b[0;32m/home/runsheng/anaconda2/envs/tensorflow/lib/python2.7/site-packages/tensorflow/python/training/saver.pyc\u001b[0m in \u001b[0;36msave\u001b[0;34m(self, sess, save_path, global_step, latest_filename, meta_graph_suffix, write_meta_graph, write_state)\u001b[0m\n\u001b[1;32m   1363\u001b[0m     \u001b[0;32mif\u001b[0m \u001b[0;32mnot\u001b[0m \u001b[0mgfile\u001b[0m\u001b[0;34m.\u001b[0m\u001b[0mIsDirectory\u001b[0m\u001b[0;34m(\u001b[0m\u001b[0mos\u001b[0m\u001b[0;34m.\u001b[0m\u001b[0mpath\u001b[0m\u001b[0;34m.\u001b[0m\u001b[0mdirname\u001b[0m\u001b[0;34m(\u001b[0m\u001b[0msave_path\u001b[0m\u001b[0;34m)\u001b[0m\u001b[0;34m)\u001b[0m\u001b[0;34m:\u001b[0m\u001b[0;34m\u001b[0m\u001b[0m\n\u001b[1;32m   1364\u001b[0m       raise ValueError(\n\u001b[0;32m-> 1365\u001b[0;31m           \"Parent directory of {} doesn't exist, can't save.\".format(save_path))\n\u001b[0m\u001b[1;32m   1366\u001b[0m \u001b[0;34m\u001b[0m\u001b[0m\n\u001b[1;32m   1367\u001b[0m     \u001b[0msave_path\u001b[0m \u001b[0;34m=\u001b[0m \u001b[0mos\u001b[0m\u001b[0;34m.\u001b[0m\u001b[0mpath\u001b[0m\u001b[0;34m.\u001b[0m\u001b[0mdirname\u001b[0m\u001b[0;34m(\u001b[0m\u001b[0msave_path\u001b[0m\u001b[0;34m)\u001b[0m\u001b[0;34m\u001b[0m\u001b[0m\n",
      "\u001b[0;31mValueError\u001b[0m: Parent directory of ./nets/tmp/tmp.ckpt doesn't exist, can't save."
     ]
    }
   ],
   "source": [
    "#Start Training\n",
    "costs=[]\n",
    "\n",
    "#save the model\n",
    "saver = tf.train.Saver()\n",
    "\n",
    "old_score = float('-inf')\n",
    "\n",
    "with tf.Session() as sess:\n",
    "    sess.run(init)\n",
    "    for epoch in range(800):\n",
    "        for i in range(0, len(trn_X),BATCH_SIZE):\n",
    "            _, c = sess.run([optimizer,cost], feed_dict={X:trn_X[i:i+BATCH_SIZE], y:trn_y[i:i+BATCH_SIZE]})\n",
    "        \n",
    "        trn_score = r2_score(np.exp(trn_y),np.exp(sess.run(pred, feed_dict={X:trn_X, y:trn_y})))\n",
    "        val_score = r2_score(np.exp(val_y),np.exp(sess.run(pred, feed_dict={X:val_X, y:val_y})))    \n",
    "        val_mre = mre(np.exp(val_y),np.exp(sess.run(pred,feed_dict={X:val_X,y:val_y})))\n",
    "        \n",
    "        costs.append(val_score)\n",
    "        if epoch % 10 == 0:\n",
    "            print(\"Epoch = %d,Cost = %.2f,Training Accuracy = %.2f, Validation Accuracy = %.2f, Validation MRE =%.2f\" % (epoch + 1,c,trn_score,val_score,val_mre))\n",
    "  \n",
    "    # final pred on the validation set\n",
    "    final_pred_val = np.exp(sess.run(pred,feed_dict={X:val_X}))\n",
    "    # prediction on the testing set\n",
    "    final_pred_test = np.exp(sess.run(pred,feed_dict={X:tst_X}))\n",
    "    \n",
    "    for (y,y_hat) in zip(np.exp(tst_y),final_pred_test):\n",
    "        print y,y_hat\n",
    "    \n",
    "    \n",
    "    plt.plot(costs)\n",
    "    plt.show()\n",
    "    \n",
    "    save_path = saver.save(sess, \"../nets/tmp/tmp.ckpt\")\n",
    "    print(\"Model saved in file: %s\" % save_path)"
   ]
  },
  {
   "cell_type": "code",
   "execution_count": 81,
   "metadata": {
    "collapsed": false
   },
   "outputs": [
    {
     "name": "stdout",
     "output_type": "stream",
     "text": [
      "-7.31181756341\n"
     ]
    },
    {
     "data": {
      "image/png": "[encoded data removed]",
      "text/plain": [
       "<matplotlib.figure.Figure at 0x7f9bb17e1890>"
      ]
     },
     "metadata": {},
     "output_type": "display_data"
    }
   ],
   "source": [
    "MRE_this = mre(np.exp(tst_y), final_pred_test)\n",
    "R2_this = r2_score(np.exp(tst_y), final_pred_test)\n",
    "print R2_this\n",
    "MRE_label = 'MRE: ' + str(round(MRE_this,2))\n",
    "\n",
    "fig = plt.figure()\n",
    "ax = fig.add_subplot(111)\n",
    "est = plt.plot(np.exp(tst_y), final_pred_test,'o', label='estimated values')\n",
    "\n",
    "max_val = max(max(tst_y),max(final_pred_test))\n",
    "plt.ylim([0,max_val+1])\n",
    "plt.xlim([0,max_val+1])\n",
    "\n",
    "thisLine = plt.plot(np.append(0,max_val+1), np.append(0,max_val+1), label='perfect prediction line')\n",
    "\n",
    "plt.plot([],[],linewidth=0, label=MRE_label)\n",
    "plt.legend(loc='upper left')\n",
    "plt.show()"
   ]
  },
  {
   "cell_type": "code",
   "execution_count": null,
   "metadata": {
    "collapsed": true
   },
   "outputs": [],
   "source": []
  }
 ],
 "metadata": {
  "anaconda-cloud": {},
  "kernelspec": {
   "display_name": "tensorflow",
   "language": "python",
   "name": "tensorflow"
  },
  "language_info": {
   "codemirror_mode": {
    "name": "ipython",
    "version": 2
   },
   "file_extension": ".py",
   "mimetype": "text/x-python",
   "name": "python",
   "nbconvert_exporter": "python",
   "pygments_lexer": "ipython2",
   "version": "2.7.13"
  }
 },
 "nbformat": 4,
 "nbformat_minor": 1
}
