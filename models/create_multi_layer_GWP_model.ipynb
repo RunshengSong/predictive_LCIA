{
 "cells": [
  {
   "cell_type": "markdown",
   "metadata": {},
   "source": [
    "## Create Multi-Layer NN model using tensorflow\n",
    "\n",
    "So I can adjust the parameters as I want..."
   ]
  },
  {
   "cell_type": "code",
   "execution_count": 61,
   "metadata": {
    "collapsed": false
   },
   "outputs": [],
   "source": [
    "import sys\n",
    "sys.path.append(\"./src\") # append to system path\n",
    "\n",
    "from sklearn import cross_validation\n",
    "from sklearn.metrics import r2_score\n",
    "from sklearn.metrics import mean_absolute_error\n",
    "from sklearn.decomposition import PCA\n",
    "from sklearn.preprocessing import Normalizer\n",
    "from sklearn.preprocessing import StandardScaler\n",
    "from sklearn.externals import joblib\n",
    "\n",
    "import numpy as np\n",
    "import pandas as pd\n",
    "import tensorflow as tf\n",
    "\n",
    "import matplotlib.pyplot as plt\n",
    "from matplotlib import style\n",
    "from matplotlib.patches import Rectangle\n",
    "style.use('ggplot')"
   ]
  },
  {
   "cell_type": "code",
   "execution_count": 62,
   "metadata": {
    "collapsed": true
   },
   "outputs": [],
   "source": [
    "def load_lcia_data(descs_p, target_p):\n",
    "    X = pd.read_csv(descs_p,header=0,index_col=None)\n",
    "    X = X.fillna(0)\n",
    "    y = pd.read_csv(target_p,header=0,index_col=None)\n",
    "    return X.values,y.values\n",
    "\n",
    "def mre(true_y,pred_y):\n",
    "    ## Note: does not handle mix 1d representation\n",
    "    #if _is_1d(y_true): \n",
    "    #    y_true, y_pred = _check_1d_array(y_true, y_pred)\n",
    "\n",
    "    return np.mean(np.abs((true_y - pred_y) / true_y)) * 100"
   ]
  },
  {
   "cell_type": "markdown",
   "metadata": {},
   "source": [
    "### Load Training data\n",
    "The training data has 156 chemicals now. The rest 10 chemicals are test data\n",
    "We also split the training and validation data here\n",
    "We use smaller set (10%) to be the valdiation set (16 chemicals), as the limited size of training chemicals."
   ]
  },
  {
   "cell_type": "code",
   "execution_count": 63,
   "metadata": {
    "collapsed": false
   },
   "outputs": [],
   "source": [
    "descs_p = '../data/descs/train/descs_Mar08_3839_train.csv'\n",
    "target_p = '../data/target/train/GWP_train.csv'\n",
    "X,y = load_lcia_data(descs_p, target_p)\n",
    "\n",
    "trn_X, val_X, trn_y, val_y = cross_validation.train_test_split(\n",
    "    X, y, test_size=0.1, random_state=42)"
   ]
  },
  {
   "cell_type": "code",
   "execution_count": 64,
   "metadata": {
    "collapsed": false
   },
   "outputs": [
    {
     "name": "stdout",
     "output_type": "stream",
     "text": [
      "(140, 3839) (140, 1)\n"
     ]
    }
   ],
   "source": [
    "print trn_X.shape, trn_y.shape"
   ]
  },
  {
   "cell_type": "markdown",
   "metadata": {},
   "source": [
    "### Load Testing data"
   ]
  },
  {
   "cell_type": "code",
   "execution_count": 65,
   "metadata": {
    "collapsed": true
   },
   "outputs": [],
   "source": [
    "descs_tst = '../data/descs/test/descs_Mar08_3839_test.csv'\n",
    "target_tst = '../data/target/test/GWP_test.csv'\n",
    "tst_X,tst_y = load_lcia_data(descs_tst, target_tst)"
   ]
  },
  {
   "cell_type": "markdown",
   "metadata": {},
   "source": [
    "### Data Preprocessing\n",
    "Normalization + PCA or Just Normalization\n",
    "\n",
    "log scale of training target"
   ]
  },
  {
   "cell_type": "code",
   "execution_count": 66,
   "metadata": {
    "collapsed": true
   },
   "outputs": [],
   "source": [
    "trn_y,val_y,tst_y = np.log(trn_y),np.log(val_y),np.log(tst_y)"
   ]
  },
  {
   "cell_type": "markdown",
   "metadata": {},
   "source": [
    "### Just Scaler"
   ]
  },
  {
   "cell_type": "code",
   "execution_count": 67,
   "metadata": {
    "collapsed": false
   },
   "outputs": [],
   "source": [
    "## Standard Scaler\n",
    "this_scaler = StandardScaler()\n",
    "trn_X = this_scaler.fit_transform(trn_X)\n",
    "val_X = this_scaler.transform(val_X)\n",
    "tst_X = this_scaler.transform(tst_X)"
   ]
  },
  {
   "cell_type": "code",
   "execution_count": 68,
   "metadata": {
    "collapsed": false
   },
   "outputs": [
    {
     "name": "stdout",
     "output_type": "stream",
     "text": [
      "(140, 3839)\n",
      "(10, 3839)\n",
      "[  8.94522551e-16  -4.85474756e-16  -3.96508223e-17 ...,   0.00000000e+00\n",
      "  -6.97854473e-17   4.83740032e-17] [ 1.  1.  1. ...,  0.  1.  1.]\n"
     ]
    }
   ],
   "source": [
    "print trn_X.shape\n",
    "print tst_X.shape\n",
    "print np.mean(trn_X,0),np.std(trn_X,0)"
   ]
  },
  {
   "cell_type": "markdown",
   "metadata": {},
   "source": [
    "##  PCA"
   ]
  },
  {
   "cell_type": "code",
   "execution_count": 69,
   "metadata": {
    "collapsed": false
   },
   "outputs": [],
   "source": [
    "### PCA, don't run them together\n",
    "# normalize the data first\n",
    "pca = PCA(n_components = 60)\n",
    "\n",
    "trn_X = pca.fit_transform(trn_X)\n",
    "val_X = pca.transform(val_X)\n",
    "tst_X = pca.transform(tst_X)"
   ]
  },
  {
   "cell_type": "code",
   "execution_count": 70,
   "metadata": {
    "collapsed": false
   },
   "outputs": [
    {
     "name": "stdout",
     "output_type": "stream",
     "text": [
      "(140, 60) (10, 60)\n",
      "0.959570527671\n"
     ]
    }
   ],
   "source": [
    "print trn_X.shape, tst_X.shape\n",
    "print(reduce(lambda x,y:x+y,pca.explained_variance_ratio_))"
   ]
  },
  {
   "cell_type": "code",
   "execution_count": 71,
   "metadata": {
    "collapsed": false
   },
   "outputs": [],
   "source": [
    "plt.scatter(trn_X[:,0],trn_X[:,1])\n",
    "plt.scatter(tst_X[:,0],tst_X[:,1])\n",
    "plt.show()"
   ]
  },
  {
   "cell_type": "code",
   "execution_count": 72,
   "metadata": {
    "collapsed": false
   },
   "outputs": [],
   "source": [
    "n, bins, patches = plt.hist(trn_y, 50, normed=1, facecolor='green', alpha=0.75)\n",
    "plt.show()"
   ]
  },
  {
   "cell_type": "code",
   "execution_count": 73,
   "metadata": {
    "collapsed": false
   },
   "outputs": [
    {
     "data": {
      "text/plain": [
       "['../nets/GWP/pca.pkl']"
      ]
     },
     "execution_count": 73,
     "metadata": {},
     "output_type": "execute_result"
    }
   ],
   "source": [
    "joblib.dump(this_scaler, '../nets/GWP/scaler.pkl') \n",
    "joblib.dump(pca, '../nets/GWP/pca.pkl') "
   ]
  },
  {
   "cell_type": "markdown",
   "metadata": {},
   "source": [
    "### Build the model"
   ]
  },
  {
   "cell_type": "code",
   "execution_count": 87,
   "metadata": {
    "collapsed": false
   },
   "outputs": [
    {
     "name": "stdout",
     "output_type": "stream",
     "text": [
      "60 1\n"
     ]
    }
   ],
   "source": [
    "def init_weights(shape):\n",
    "    weights = tf.truncated_normal(shape,stddev = 0.1)\n",
    "    return tf.Variable(weights)\n",
    "\n",
    "def bias_variable(shape):\n",
    "  initial = tf.constant(0.1, shape=shape)\n",
    "  return tf.Variable(initial)\n",
    "\n",
    "num_descs = trn_X.shape[1]\n",
    "num_target = trn_y.shape[1]\n",
    "\n",
    "print num_descs,num_target"
   ]
  },
  {
   "cell_type": "code",
   "execution_count": 88,
   "metadata": {
    "collapsed": false
   },
   "outputs": [],
   "source": [
    "##### \n",
    "##Define model structure\n",
    "\n",
    "X = tf.placeholder(tf.float32,shape=[None,num_descs])\n",
    "y = tf.placeholder(tf.float32,shape=[None,num_target])\n",
    "tf.add_to_collection('X',X)\n",
    "tf.add_to_collection('y',y)\n",
    "\n",
    "#First layer\n",
    "w1 = init_weights((num_descs,16)) \n",
    "b1 = bias_variable([16])\n",
    "l1 = tf.add(tf.matmul(X,w1),b1)\n",
    "l1 = tf.nn.relu(l1)\n",
    "\n",
    "# Second layer\n",
    "w2 = init_weights((16,16))\n",
    "b2 = bias_variable([16])\n",
    "l2 = tf.add(tf.matmul(l1,w2),b2)\n",
    "l2 = tf.nn.relu(l2)\n",
    "\n",
    "# Third layer\n",
    "# w3 = init_weights((128,128))\n",
    "# b3 = bias_variable([128])\n",
    "# l3 = tf.add(tf.matmul(l2,w3),b3)\n",
    "# l3 = tf.nn.sigmoid(l3)\n",
    "\n",
    "#Output layer\n",
    "w_out = init_weights((16,num_target))\n",
    "b_out = bias_variable([num_target])\n",
    "l_out = tf.matmul(l2,w_out) + b_out #no nonlinarity\n",
    "\n",
    "pred = l_out\n",
    "tf.add_to_collection('pred',pred)"
   ]
  },
  {
   "cell_type": "code",
   "execution_count": 89,
   "metadata": {
    "collapsed": false
   },
   "outputs": [],
   "source": [
    "#static parameters\n",
    "BATCH_SIZE = 1\n",
    "BETA = 0.01 #regularization weights\n",
    "\n",
    "#Define loss and optimizer \n",
    "#Add regularization term\n",
    "# regularizers = tf.nn.l2_loss(w1) + tf.nn.l2_loss(w2) + tf.nn.l2_loss(w3) + tf.nn.l2_loss(w_out)\n",
    "regularizers = tf.nn.l2_loss(w1) + tf.nn.l2_loss(w2) + tf.nn.l2_loss(w_out)\n",
    "cost = tf.reduce_mean(tf.square(pred - y) + BETA*regularizers)\n",
    "\n",
    "#Gridient Descent Optimizer\n",
    "optimizer = tf.train.AdamOptimizer(learning_rate = 0.001).minimize(cost)\n",
    "\n",
    "\n",
    "# Initializing the variables\n",
    "init = tf.global_variables_initializer()"
   ]
  },
  {
   "cell_type": "markdown",
   "metadata": {},
   "source": [
    "## Training"
   ]
  },
  {
   "cell_type": "code",
   "execution_count": 86,
   "metadata": {
    "collapsed": false,
    "scrolled": true
   },
   "outputs": [
    {
     "name": "stdout",
     "output_type": "stream",
     "text": [
      "Using matplotlib backend: TkAgg\n",
      "Epoch = 1,Cost = 2.35,Training Accuracy = -0.04, Validation Accuracy = -0.25, Validation MRE =66.82\n",
      "Epoch = 11,Cost = 0.66,Training Accuracy = 0.81, Validation Accuracy = -1.32, Validation MRE =126.77\n",
      "Epoch = 21,Cost = 0.28,Training Accuracy = 0.84, Validation Accuracy = -0.74, Validation MRE =105.71\n",
      "Epoch = 31,Cost = 0.16,Training Accuracy = 0.97, Validation Accuracy = -0.10, Validation MRE =85.52\n",
      "Epoch = 41,Cost = 0.10,Training Accuracy = 0.98, Validation Accuracy = -0.01, Validation MRE =74.05\n",
      "Epoch = 51,Cost = 0.09,Training Accuracy = 0.97, Validation Accuracy = -0.55, Validation MRE =78.85\n",
      "Epoch = 61,Cost = 0.09,Training Accuracy = 0.92, Validation Accuracy = -2.05, Validation MRE =88.64\n",
      "Epoch = 71,Cost = 0.10,Training Accuracy = 0.93, Validation Accuracy = -2.60, Validation MRE =92.55\n",
      "Epoch = 81,Cost = 0.09,Training Accuracy = 0.94, Validation Accuracy = -2.52, Validation MRE =91.26\n",
      "Epoch = 91,Cost = 0.09,Training Accuracy = 0.97, Validation Accuracy = -3.51, Validation MRE =95.87\n",
      "Epoch = 101,Cost = 0.08,Training Accuracy = 0.92, Validation Accuracy = -3.98, Validation MRE =96.75\n",
      "Epoch = 111,Cost = 0.08,Training Accuracy = 0.98, Validation Accuracy = -4.54, Validation MRE =97.79\n",
      "Epoch = 121,Cost = 0.08,Training Accuracy = 0.98, Validation Accuracy = -1.28, Validation MRE =81.49\n",
      "Epoch = 131,Cost = 0.08,Training Accuracy = 0.95, Validation Accuracy = -2.65, Validation MRE =87.37\n",
      "Epoch = 141,Cost = 0.08,Training Accuracy = 0.97, Validation Accuracy = -1.31, Validation MRE =78.71\n",
      "Epoch = 151,Cost = 0.08,Training Accuracy = 0.98, Validation Accuracy = -1.46, Validation MRE =80.19\n",
      "Epoch = 161,Cost = 0.08,Training Accuracy = 0.94, Validation Accuracy = -1.55, Validation MRE =80.47\n",
      "Epoch = 171,Cost = 0.07,Training Accuracy = 0.98, Validation Accuracy = -1.87, Validation MRE =85.15\n",
      "Epoch = 181,Cost = 0.07,Training Accuracy = 0.98, Validation Accuracy = -2.18, Validation MRE =86.12\n",
      "Epoch = 191,Cost = 0.07,Training Accuracy = 0.91, Validation Accuracy = -1.94, Validation MRE =82.95\n",
      "Epoch = 201,Cost = 0.07,Training Accuracy = 0.99, Validation Accuracy = -2.01, Validation MRE =82.05\n",
      "Epoch = 211,Cost = 0.07,Training Accuracy = 0.99, Validation Accuracy = -1.96, Validation MRE =81.94\n",
      "Epoch = 221,Cost = 0.08,Training Accuracy = 0.94, Validation Accuracy = -6.82, Validation MRE =102.55\n",
      "Epoch = 231,Cost = 0.07,Training Accuracy = 0.97, Validation Accuracy = -2.45, Validation MRE =84.54\n",
      "Epoch = 241,Cost = 0.07,Training Accuracy = 0.98, Validation Accuracy = -2.35, Validation MRE =84.58\n",
      "Epoch = 251,Cost = 0.07,Training Accuracy = 0.99, Validation Accuracy = -2.85, Validation MRE =83.64\n",
      "Epoch = 261,Cost = 0.07,Training Accuracy = 0.96, Validation Accuracy = -2.06, Validation MRE =81.19\n",
      "Epoch = 271,Cost = 0.07,Training Accuracy = 0.99, Validation Accuracy = -2.12, Validation MRE =79.45\n",
      "Epoch = 281,Cost = 0.07,Training Accuracy = 0.99, Validation Accuracy = -3.19, Validation MRE =84.05\n",
      "Epoch = 291,Cost = 0.06,Training Accuracy = 0.93, Validation Accuracy = -2.60, Validation MRE =80.45\n",
      "Epoch = 301,Cost = 0.06,Training Accuracy = 0.99, Validation Accuracy = -3.03, Validation MRE =83.10\n",
      "Epoch = 311,Cost = 0.06,Training Accuracy = 0.97, Validation Accuracy = -1.69, Validation MRE =76.04\n",
      "Epoch = 321,Cost = 0.06,Training Accuracy = 0.95, Validation Accuracy = -2.18, Validation MRE =80.43\n",
      "Epoch = 331,Cost = 0.06,Training Accuracy = 0.99, Validation Accuracy = -2.14, Validation MRE =83.25\n",
      "Epoch = 341,Cost = 0.08,Training Accuracy = 0.97, Validation Accuracy = -2.69, Validation MRE =81.93\n",
      "Epoch = 351,Cost = 0.06,Training Accuracy = 0.99, Validation Accuracy = -2.23, Validation MRE =78.56\n",
      "Epoch = 361,Cost = 0.06,Training Accuracy = 0.98, Validation Accuracy = -1.39, Validation MRE =72.01\n",
      "Epoch = 371,Cost = 0.06,Training Accuracy = 0.99, Validation Accuracy = -2.22, Validation MRE =77.17\n",
      "Epoch = 381,Cost = 0.06,Training Accuracy = 1.00, Validation Accuracy = -2.16, Validation MRE =77.58\n",
      "Epoch = 391,Cost = 0.06,Training Accuracy = 0.95, Validation Accuracy = -1.65, Validation MRE =76.12\n",
      "Epoch = 401,Cost = 0.06,Training Accuracy = 0.91, Validation Accuracy = -3.28, Validation MRE =82.32\n",
      "Epoch = 411,Cost = 0.07,Training Accuracy = 0.96, Validation Accuracy = -12.06, Validation MRE =95.81\n",
      "Epoch = 421,Cost = 0.07,Training Accuracy = 0.99, Validation Accuracy = -16.32, Validation MRE =100.15\n",
      "Epoch = 431,Cost = 0.06,Training Accuracy = 0.99, Validation Accuracy = -2.96, Validation MRE =76.30\n",
      "Epoch = 441,Cost = 0.06,Training Accuracy = 0.94, Validation Accuracy = -14.28, Validation MRE =93.05\n",
      "Epoch = 451,Cost = 0.06,Training Accuracy = 0.95, Validation Accuracy = -5.97, Validation MRE =84.38\n",
      "Epoch = 461,Cost = 0.06,Training Accuracy = 0.97, Validation Accuracy = -0.87, Validation MRE =66.75\n",
      "Epoch = 471,Cost = 0.06,Training Accuracy = 0.93, Validation Accuracy = -3.53, Validation MRE =75.71\n",
      "Epoch = 481,Cost = 0.08,Training Accuracy = 0.99, Validation Accuracy = -2.32, Validation MRE =76.38\n",
      "Epoch = 491,Cost = 0.07,Training Accuracy = 0.98, Validation Accuracy = -1.08, Validation MRE =65.50\n",
      "Epoch = 501,Cost = 0.06,Training Accuracy = 0.99, Validation Accuracy = -2.31, Validation MRE =71.25\n",
      "Epoch = 511,Cost = 0.06,Training Accuracy = 0.98, Validation Accuracy = -3.87, Validation MRE =73.51\n",
      "Epoch = 521,Cost = 0.06,Training Accuracy = 0.98, Validation Accuracy = -4.21, Validation MRE =71.05\n",
      "Epoch = 531,Cost = 0.06,Training Accuracy = 0.99, Validation Accuracy = -2.51, Validation MRE =69.92\n",
      "Epoch = 541,Cost = 0.06,Training Accuracy = 0.97, Validation Accuracy = -3.48, Validation MRE =69.61\n",
      "Epoch = 551,Cost = 0.05,Training Accuracy = 0.97, Validation Accuracy = -1.62, Validation MRE =66.94\n",
      "Epoch = 561,Cost = 0.06,Training Accuracy = 0.82, Validation Accuracy = -6.28, Validation MRE =73.79\n",
      "Epoch = 571,Cost = 0.05,Training Accuracy = 0.97, Validation Accuracy = -3.02, Validation MRE =66.86\n",
      "Epoch = 581,Cost = 0.05,Training Accuracy = 0.99, Validation Accuracy = -3.56, Validation MRE =74.61\n",
      "Epoch = 591,Cost = 0.05,Training Accuracy = 0.98, Validation Accuracy = -3.79, Validation MRE =75.00\n",
      "Epoch = 601,Cost = 0.05,Training Accuracy = 0.92, Validation Accuracy = -4.42, Validation MRE =72.27\n",
      "Epoch = 611,Cost = 0.05,Training Accuracy = 0.99, Validation Accuracy = -0.89, Validation MRE =65.15\n",
      "Epoch = 621,Cost = 0.05,Training Accuracy = 0.97, Validation Accuracy = -0.69, Validation MRE =61.56\n",
      "Epoch = 631,Cost = 0.05,Training Accuracy = 0.95, Validation Accuracy = -0.62, Validation MRE =65.14\n",
      "Epoch = 641,Cost = 0.06,Training Accuracy = 0.99, Validation Accuracy = -1.41, Validation MRE =69.05\n",
      "Epoch = 651,Cost = 0.05,Training Accuracy = 0.99, Validation Accuracy = -2.08, Validation MRE =70.26\n",
      "Epoch = 661,Cost = 0.05,Training Accuracy = 0.93, Validation Accuracy = -0.06, Validation MRE =57.43\n",
      "Epoch = 671,Cost = 0.05,Training Accuracy = 0.97, Validation Accuracy = -1.99, Validation MRE =69.20\n",
      "Epoch = 681,Cost = 0.06,Training Accuracy = 0.99, Validation Accuracy = -10.67, Validation MRE =81.35\n",
      "Epoch = 691,Cost = 0.05,Training Accuracy = 0.98, Validation Accuracy = -0.62, Validation MRE =61.48\n",
      "Epoch = 701,Cost = 0.05,Training Accuracy = 0.99, Validation Accuracy = -3.48, Validation MRE =73.79\n",
      "Epoch = 711,Cost = 0.05,Training Accuracy = 0.96, Validation Accuracy = -0.96, Validation MRE =69.43\n",
      "Epoch = 721,Cost = 0.05,Training Accuracy = 0.95, Validation Accuracy = -4.95, Validation MRE =76.34\n",
      "Epoch = 731,Cost = 0.06,Training Accuracy = 0.98, Validation Accuracy = -3.75, Validation MRE =71.00\n",
      "Epoch = 741,Cost = 0.05,Training Accuracy = 0.95, Validation Accuracy = -0.39, Validation MRE =63.18\n",
      "Epoch = 751,Cost = 0.05,Training Accuracy = 0.92, Validation Accuracy = -3.09, Validation MRE =83.09\n",
      "Epoch = 761,Cost = 0.05,Training Accuracy = 0.98, Validation Accuracy = -1.27, Validation MRE =66.63\n",
      "Epoch = 771,Cost = 0.05,Training Accuracy = 0.98, Validation Accuracy = -5.85, Validation MRE =79.19\n",
      "Epoch = 781,Cost = 0.05,Training Accuracy = 0.98, Validation Accuracy = -9.68, Validation MRE =83.32\n",
      "Epoch = 791,Cost = 0.05,Training Accuracy = 0.99, Validation Accuracy = -3.03, Validation MRE =71.71\n",
      "Epoch = 801,Cost = 0.05,Training Accuracy = 0.98, Validation Accuracy = -11.15, Validation MRE =85.53\n",
      "Epoch = 811,Cost = 0.05,Training Accuracy = 0.46, Validation Accuracy = -0.06, Validation MRE =57.19\n",
      "Epoch = 821,Cost = 0.05,Training Accuracy = 0.97, Validation Accuracy = -2.98, Validation MRE =69.65\n",
      "Epoch = 831,Cost = 0.05,Training Accuracy = 0.93, Validation Accuracy = -3.31, Validation MRE =68.90\n",
      "Epoch = 841,Cost = 0.07,Training Accuracy = 0.91, Validation Accuracy = -2.43, Validation MRE =69.05\n",
      "Epoch = 851,Cost = 0.05,Training Accuracy = 0.86, Validation Accuracy = -1.90, Validation MRE =69.63\n",
      "Epoch = 861,Cost = 0.05,Training Accuracy = 0.97, Validation Accuracy = -0.72, Validation MRE =67.20\n",
      "Epoch = 871,Cost = 0.05,Training Accuracy = 0.97, Validation Accuracy = -2.19, Validation MRE =66.32\n",
      "Epoch = 881,Cost = 0.05,Training Accuracy = 0.95, Validation Accuracy = -5.07, Validation MRE =75.60\n",
      "Epoch = 891,Cost = 0.05,Training Accuracy = 0.95, Validation Accuracy = -9.30, Validation MRE =76.53\n",
      "Epoch = 901,Cost = 0.06,Training Accuracy = 0.93, Validation Accuracy = -2.56, Validation MRE =68.80\n",
      "Epoch = 911,Cost = 0.05,Training Accuracy = 0.96, Validation Accuracy = -4.06, Validation MRE =69.03\n",
      "Epoch = 921,Cost = 0.05,Training Accuracy = 0.99, Validation Accuracy = -3.32, Validation MRE =77.07\n",
      "Epoch = 931,Cost = 0.05,Training Accuracy = 0.91, Validation Accuracy = -4.02, Validation MRE =67.79\n",
      "Epoch = 941,Cost = 0.05,Training Accuracy = 0.93, Validation Accuracy = -0.13, Validation MRE =56.15\n",
      "Epoch = 951,Cost = 0.05,Training Accuracy = 0.97, Validation Accuracy = -0.47, Validation MRE =63.60\n",
      "Epoch = 961,Cost = 0.05,Training Accuracy = 0.98, Validation Accuracy = -11.37, Validation MRE =80.50\n",
      "Epoch = 971,Cost = 0.06,Training Accuracy = 0.96, Validation Accuracy = -2.67, Validation MRE =67.48\n",
      "Epoch = 981,Cost = 0.05,Training Accuracy = 0.97, Validation Accuracy = -3.53, Validation MRE =72.74\n",
      "Epoch = 991,Cost = 0.05,Training Accuracy = 0.91, Validation Accuracy = -4.31, Validation MRE =71.11\n",
      "Epoch = 1001,Cost = 0.05,Training Accuracy = 0.96, Validation Accuracy = -1.41, Validation MRE =62.46\n",
      "Epoch = 1011,Cost = 0.05,Training Accuracy = 0.99, Validation Accuracy = -1.33, Validation MRE =62.65\n",
      "Epoch = 1021,Cost = 0.05,Training Accuracy = 0.98, Validation Accuracy = -11.54, Validation MRE =80.42\n",
      "Epoch = 1031,Cost = 0.05,Training Accuracy = 0.97, Validation Accuracy = -10.36, Validation MRE =77.20\n",
      "Epoch = 1041,Cost = 0.05,Training Accuracy = 0.96, Validation Accuracy = -3.66, Validation MRE =64.84\n",
      "Epoch = 1051,Cost = 0.05,Training Accuracy = 0.90, Validation Accuracy = -6.69, Validation MRE =73.27\n",
      "Epoch = 1061,Cost = 0.05,Training Accuracy = 0.96, Validation Accuracy = -1.30, Validation MRE =64.63\n",
      "Epoch = 1071,Cost = 0.05,Training Accuracy = 0.99, Validation Accuracy = -4.37, Validation MRE =73.32\n",
      "Epoch = 1081,Cost = 0.05,Training Accuracy = 1.00, Validation Accuracy = -2.60, Validation MRE =62.62\n",
      "Epoch = 1091,Cost = 0.06,Training Accuracy = 0.94, Validation Accuracy = -4.54, Validation MRE =70.80\n",
      "Epoch = 1101,Cost = 0.05,Training Accuracy = 0.96, Validation Accuracy = -3.93, Validation MRE =68.77\n",
      "Epoch = 1111,Cost = 0.05,Training Accuracy = 0.95, Validation Accuracy = -3.63, Validation MRE =63.64\n",
      "Epoch = 1121,Cost = 0.05,Training Accuracy = 0.97, Validation Accuracy = -16.27, Validation MRE =85.21\n",
      "Epoch = 1131,Cost = 0.05,Training Accuracy = 0.95, Validation Accuracy = -0.02, Validation MRE =57.14\n",
      "Epoch = 1141,Cost = 0.05,Training Accuracy = 0.99, Validation Accuracy = -3.11, Validation MRE =70.13\n",
      "Epoch = 1151,Cost = 0.05,Training Accuracy = 0.94, Validation Accuracy = -6.74, Validation MRE =68.29\n",
      "Epoch = 1161,Cost = 0.05,Training Accuracy = 0.94, Validation Accuracy = -0.66, Validation MRE =62.07\n",
      "Epoch = 1171,Cost = 0.05,Training Accuracy = 0.98, Validation Accuracy = -5.11, Validation MRE =70.48\n",
      "Epoch = 1181,Cost = 0.05,Training Accuracy = 0.93, Validation Accuracy = -5.42, Validation MRE =66.42\n",
      "Epoch = 1191,Cost = 0.05,Training Accuracy = 0.93, Validation Accuracy = -9.30, Validation MRE =77.59\n",
      "Epoch = 1201,Cost = 0.05,Training Accuracy = 0.99, Validation Accuracy = -4.45, Validation MRE =63.28\n",
      "Epoch = 1211,Cost = 0.05,Training Accuracy = 0.97, Validation Accuracy = -5.12, Validation MRE =67.98\n",
      "Epoch = 1221,Cost = 0.05,Training Accuracy = 1.00, Validation Accuracy = -3.37, Validation MRE =62.66\n",
      "Epoch = 1231,Cost = 0.05,Training Accuracy = 0.99, Validation Accuracy = -2.83, Validation MRE =65.00\n",
      "Epoch = 1241,Cost = 0.05,Training Accuracy = 0.99, Validation Accuracy = -4.52, Validation MRE =63.97\n",
      "Epoch = 1251,Cost = 0.05,Training Accuracy = 0.99, Validation Accuracy = -4.11, Validation MRE =67.19\n",
      "Epoch = 1261,Cost = 0.05,Training Accuracy = 0.99, Validation Accuracy = -7.63, Validation MRE =77.40\n",
      "Epoch = 1271,Cost = 0.06,Training Accuracy = 0.98, Validation Accuracy = -3.19, Validation MRE =61.96\n",
      "Epoch = 1281,Cost = 0.05,Training Accuracy = 0.96, Validation Accuracy = -5.41, Validation MRE =71.94\n",
      "Epoch = 1291,Cost = 0.05,Training Accuracy = 0.96, Validation Accuracy = -5.73, Validation MRE =68.88\n",
      "Epoch = 1301,Cost = 0.04,Training Accuracy = 0.81, Validation Accuracy = -0.16, Validation MRE =53.83\n",
      "Epoch = 1311,Cost = 0.05,Training Accuracy = 0.91, Validation Accuracy = -3.74, Validation MRE =71.08\n",
      "Epoch = 1321,Cost = 0.05,Training Accuracy = 0.98, Validation Accuracy = -0.38, Validation MRE =56.57\n",
      "Epoch = 1331,Cost = 0.05,Training Accuracy = 0.98, Validation Accuracy = -2.34, Validation MRE =61.91\n",
      "Epoch = 1341,Cost = 0.05,Training Accuracy = 0.98, Validation Accuracy = -1.07, Validation MRE =56.03\n",
      "Epoch = 1351,Cost = 0.05,Training Accuracy = 0.99, Validation Accuracy = -3.08, Validation MRE =66.36\n",
      "Epoch = 1361,Cost = 0.05,Training Accuracy = 0.98, Validation Accuracy = -3.27, Validation MRE =63.26\n",
      "Epoch = 1371,Cost = 0.05,Training Accuracy = 0.93, Validation Accuracy = 0.14, Validation MRE =52.25\n",
      "Epoch = 1381,Cost = 0.05,Training Accuracy = 0.80, Validation Accuracy = 0.03, Validation MRE =56.42\n",
      "Epoch = 1391,Cost = 0.05,Training Accuracy = 0.99, Validation Accuracy = -0.87, Validation MRE =61.68\n",
      "Epoch = 1401,Cost = 0.04,Training Accuracy = 0.93, Validation Accuracy = -0.65, Validation MRE =62.63\n",
      "Epoch = 1411,Cost = 0.05,Training Accuracy = 0.95, Validation Accuracy = -4.90, Validation MRE =64.20\n",
      "Epoch = 1421,Cost = 0.05,Training Accuracy = 0.99, Validation Accuracy = 0.10, Validation MRE =52.54\n",
      "Epoch = 1431,Cost = 0.04,Training Accuracy = 0.99, Validation Accuracy = -0.81, Validation MRE =57.63\n",
      "Epoch = 1441,Cost = 0.05,Training Accuracy = 0.88, Validation Accuracy = -0.35, Validation MRE =62.77\n",
      "Epoch = 1451,Cost = 0.05,Training Accuracy = 0.96, Validation Accuracy = -4.50, Validation MRE =75.58\n",
      "Epoch = 1461,Cost = 0.05,Training Accuracy = 0.99, Validation Accuracy = -1.36, Validation MRE =58.74\n",
      "Epoch = 1471,Cost = 0.04,Training Accuracy = 0.98, Validation Accuracy = -0.91, Validation MRE =63.36\n",
      "Epoch = 1481,Cost = 0.04,Training Accuracy = 0.98, Validation Accuracy = -1.93, Validation MRE =72.30\n",
      "Epoch = 1491,Cost = 0.04,Training Accuracy = 0.97, Validation Accuracy = -6.59, Validation MRE =64.74\n",
      "Epoch = 1501,Cost = 0.05,Training Accuracy = 0.99, Validation Accuracy = -2.10, Validation MRE =63.28\n",
      "Epoch = 1511,Cost = 0.04,Training Accuracy = 0.98, Validation Accuracy = -1.20, Validation MRE =60.68\n",
      "Epoch = 1521,Cost = 0.05,Training Accuracy = 0.96, Validation Accuracy = -3.29, Validation MRE =63.74\n",
      "Epoch = 1531,Cost = 0.05,Training Accuracy = 0.99, Validation Accuracy = -1.26, Validation MRE =58.27\n",
      "Epoch = 1541,Cost = 0.05,Training Accuracy = 1.00, Validation Accuracy = -0.56, Validation MRE =57.23\n",
      "Epoch = 1551,Cost = 0.05,Training Accuracy = 0.98, Validation Accuracy = -6.30, Validation MRE =71.82\n",
      "Epoch = 1561,Cost = 0.05,Training Accuracy = 1.00, Validation Accuracy = -2.44, Validation MRE =58.74\n",
      "Epoch = 1571,Cost = 0.05,Training Accuracy = 0.96, Validation Accuracy = -3.66, Validation MRE =68.22\n",
      "Epoch = 1581,Cost = 0.04,Training Accuracy = 0.99, Validation Accuracy = -7.88, Validation MRE =77.34\n",
      "Epoch = 1591,Cost = 0.05,Training Accuracy = 0.98, Validation Accuracy = -9.22, Validation MRE =70.12\n",
      "Epoch = 1601,Cost = 0.05,Training Accuracy = 0.96, Validation Accuracy = -0.15, Validation MRE =57.26\n",
      "Epoch = 1611,Cost = 0.05,Training Accuracy = 0.97, Validation Accuracy = -7.66, Validation MRE =73.51\n",
      "Epoch = 1621,Cost = 0.05,Training Accuracy = 0.98, Validation Accuracy = 0.41, Validation MRE =47.03\n",
      "Epoch = 1631,Cost = 0.05,Training Accuracy = 0.98, Validation Accuracy = -2.58, Validation MRE =67.72\n",
      "Epoch = 1641,Cost = 0.05,Training Accuracy = 1.00, Validation Accuracy = -2.36, Validation MRE =60.39\n",
      "Epoch = 1651,Cost = 0.05,Training Accuracy = 0.94, Validation Accuracy = -0.77, Validation MRE =62.29\n",
      "Epoch = 1661,Cost = 0.05,Training Accuracy = 0.99, Validation Accuracy = -4.05, Validation MRE =76.97\n",
      "Epoch = 1671,Cost = 0.04,Training Accuracy = 0.98, Validation Accuracy = -0.89, Validation MRE =59.11\n",
      "Epoch = 1681,Cost = 0.05,Training Accuracy = 0.97, Validation Accuracy = -2.81, Validation MRE =67.42\n",
      "Epoch = 1691,Cost = 0.04,Training Accuracy = 0.95, Validation Accuracy = -17.64, Validation MRE =96.02\n",
      "Epoch = 1701,Cost = 0.04,Training Accuracy = 0.98, Validation Accuracy = -1.31, Validation MRE =65.83\n",
      "Epoch = 1711,Cost = 0.05,Training Accuracy = 0.91, Validation Accuracy = -0.68, Validation MRE =66.91\n",
      "Epoch = 1721,Cost = 0.04,Training Accuracy = 0.98, Validation Accuracy = -3.97, Validation MRE =72.75\n",
      "Epoch = 1731,Cost = 0.05,Training Accuracy = 0.97, Validation Accuracy = -0.51, Validation MRE =65.86\n",
      "Epoch = 1741,Cost = 0.04,Training Accuracy = 0.97, Validation Accuracy = -0.64, Validation MRE =65.51\n",
      "Epoch = 1751,Cost = 0.05,Training Accuracy = 0.99, Validation Accuracy = -2.31, Validation MRE =67.66\n",
      "Epoch = 1761,Cost = 0.05,Training Accuracy = 0.99, Validation Accuracy = -0.34, Validation MRE =57.13\n",
      "Epoch = 1771,Cost = 0.05,Training Accuracy = 0.93, Validation Accuracy = -0.41, Validation MRE =65.29\n",
      "Epoch = 1781,Cost = 0.04,Training Accuracy = 0.96, Validation Accuracy = -1.42, Validation MRE =72.85\n",
      "Epoch = 1791,Cost = 0.05,Training Accuracy = 0.98, Validation Accuracy = -0.87, Validation MRE =67.20\n",
      "Epoch = 1801,Cost = 0.04,Training Accuracy = 0.99, Validation Accuracy = -0.10, Validation MRE =62.57\n",
      "Epoch = 1811,Cost = 0.05,Training Accuracy = 0.99, Validation Accuracy = -12.36, Validation MRE =87.74\n",
      "Epoch = 1821,Cost = 0.04,Training Accuracy = 0.99, Validation Accuracy = -5.65, Validation MRE =72.15\n",
      "Epoch = 1831,Cost = 0.05,Training Accuracy = 0.99, Validation Accuracy = -1.41, Validation MRE =62.45\n",
      "Epoch = 1841,Cost = 0.04,Training Accuracy = 1.00, Validation Accuracy = -0.89, Validation MRE =67.73\n",
      "Epoch = 1851,Cost = 0.04,Training Accuracy = 0.98, Validation Accuracy = -8.50, Validation MRE =85.30\n",
      "Epoch = 1861,Cost = 0.04,Training Accuracy = 0.99, Validation Accuracy = -3.35, Validation MRE =70.67\n",
      "Epoch = 1871,Cost = 0.05,Training Accuracy = 0.97, Validation Accuracy = -7.15, Validation MRE =76.33\n",
      "Epoch = 1881,Cost = 0.07,Training Accuracy = 0.99, Validation Accuracy = -2.51, Validation MRE =67.43\n",
      "Epoch = 1891,Cost = 0.04,Training Accuracy = 0.99, Validation Accuracy = -0.64, Validation MRE =58.63\n",
      "Epoch = 1901,Cost = 0.05,Training Accuracy = 0.99, Validation Accuracy = 0.17, Validation MRE =54.95\n",
      "Epoch = 1911,Cost = 0.04,Training Accuracy = 0.99, Validation Accuracy = 0.24, Validation MRE =58.39\n",
      "Epoch = 1921,Cost = 0.04,Training Accuracy = 0.92, Validation Accuracy = -0.20, Validation MRE =62.67\n",
      "Epoch = 1931,Cost = 0.05,Training Accuracy = 0.98, Validation Accuracy = -4.77, Validation MRE =70.18\n",
      "Epoch = 1941,Cost = 0.06,Training Accuracy = 0.99, Validation Accuracy = -7.11, Validation MRE =76.64\n",
      "Epoch = 1951,Cost = 0.04,Training Accuracy = 0.97, Validation Accuracy = -0.08, Validation MRE =64.26\n",
      "Epoch = 1961,Cost = 0.04,Training Accuracy = 0.96, Validation Accuracy = -0.60, Validation MRE =61.13\n",
      "Epoch = 1971,Cost = 0.05,Training Accuracy = 0.99, Validation Accuracy = -1.22, Validation MRE =64.75\n",
      "Epoch = 1981,Cost = 0.04,Training Accuracy = 0.99, Validation Accuracy = -0.21, Validation MRE =66.41\n",
      "Epoch = 1991,Cost = 0.05,Training Accuracy = 0.97, Validation Accuracy = -2.22, Validation MRE =64.40\n",
      "Epoch = 2001,Cost = 0.05,Training Accuracy = 0.99, Validation Accuracy = -3.20, Validation MRE =73.13\n",
      "Epoch = 2011,Cost = 0.04,Training Accuracy = 0.95, Validation Accuracy = 0.06, Validation MRE =59.97\n",
      "Epoch = 2021,Cost = 0.04,Training Accuracy = 0.98, Validation Accuracy = -2.03, Validation MRE =71.65\n",
      "Epoch = 2031,Cost = 0.04,Training Accuracy = 0.98, Validation Accuracy = -2.47, Validation MRE =64.62\n",
      "Epoch = 2041,Cost = 0.05,Training Accuracy = 0.98, Validation Accuracy = -0.54, Validation MRE =64.77\n",
      "Epoch = 2051,Cost = 0.04,Training Accuracy = 0.98, Validation Accuracy = -14.45, Validation MRE =97.24\n",
      "Epoch = 2061,Cost = 0.04,Training Accuracy = 0.98, Validation Accuracy = -1.61, Validation MRE =72.74\n",
      "Epoch = 2071,Cost = 0.04,Training Accuracy = 0.98, Validation Accuracy = 0.22, Validation MRE =60.05\n",
      "Epoch = 2081,Cost = 0.04,Training Accuracy = 0.99, Validation Accuracy = -0.03, Validation MRE =64.87\n",
      "Epoch = 2091,Cost = 0.04,Training Accuracy = 1.00, Validation Accuracy = -4.33, Validation MRE =76.83\n",
      "Epoch = 2101,Cost = 0.05,Training Accuracy = 0.89, Validation Accuracy = -19.35, Validation MRE =95.51\n",
      "Epoch = 2111,Cost = 0.05,Training Accuracy = 1.00, Validation Accuracy = -2.18, Validation MRE =67.24\n",
      "Epoch = 2121,Cost = 0.05,Training Accuracy = 0.97, Validation Accuracy = -0.92, Validation MRE =65.33\n",
      "Epoch = 2131,Cost = 0.04,Training Accuracy = 0.99, Validation Accuracy = -2.05, Validation MRE =70.87\n",
      "Epoch = 2141,Cost = 0.05,Training Accuracy = 0.99, Validation Accuracy = -8.45, Validation MRE =88.93\n",
      "Epoch = 2151,Cost = 0.04,Training Accuracy = 0.98, Validation Accuracy = -15.34, Validation MRE =95.28\n",
      "Epoch = 2161,Cost = 0.05,Training Accuracy = 0.97, Validation Accuracy = -1.87, Validation MRE =74.54\n",
      "Epoch = 2171,Cost = 0.05,Training Accuracy = 0.99, Validation Accuracy = -4.55, Validation MRE =72.90\n",
      "Epoch = 2181,Cost = 0.04,Training Accuracy = 0.89, Validation Accuracy = -0.40, Validation MRE =60.35\n",
      "Epoch = 2191,Cost = 0.04,Training Accuracy = 0.94, Validation Accuracy = -0.77, Validation MRE =72.72\n",
      "Epoch = 2201,Cost = 0.04,Training Accuracy = 0.99, Validation Accuracy = -0.08, Validation MRE =63.70\n",
      "Epoch = 2211,Cost = 0.04,Training Accuracy = 0.94, Validation Accuracy = -0.47, Validation MRE =77.87\n",
      "Epoch = 2221,Cost = 0.04,Training Accuracy = 0.97, Validation Accuracy = -0.55, Validation MRE =72.72\n",
      "Epoch = 2231,Cost = 0.05,Training Accuracy = 0.96, Validation Accuracy = -0.30, Validation MRE =68.39\n",
      "Epoch = 2241,Cost = 0.04,Training Accuracy = 0.98, Validation Accuracy = -0.24, Validation MRE =66.71\n",
      "Epoch = 2251,Cost = 0.05,Training Accuracy = 0.98, Validation Accuracy = 0.14, Validation MRE =70.43\n",
      "Epoch = 2261,Cost = 0.04,Training Accuracy = 0.96, Validation Accuracy = -2.96, Validation MRE =84.45\n",
      "Epoch = 2271,Cost = 0.04,Training Accuracy = 0.99, Validation Accuracy = -0.52, Validation MRE =70.74\n",
      "Epoch = 2281,Cost = 0.04,Training Accuracy = 0.95, Validation Accuracy = -0.18, Validation MRE =70.83\n",
      "Epoch = 2291,Cost = 0.04,Training Accuracy = 0.99, Validation Accuracy = -0.64, Validation MRE =80.40\n",
      "Epoch = 2301,Cost = 0.04,Training Accuracy = 0.98, Validation Accuracy = -0.60, Validation MRE =75.05\n",
      "Epoch = 2311,Cost = 0.04,Training Accuracy = 0.98, Validation Accuracy = -0.61, Validation MRE =72.42\n",
      "Epoch = 2321,Cost = 0.04,Training Accuracy = 0.98, Validation Accuracy = -0.50, Validation MRE =74.18\n",
      "Epoch = 2331,Cost = 0.04,Training Accuracy = 0.97, Validation Accuracy = -0.48, Validation MRE =73.54\n",
      "Epoch = 2341,Cost = 0.04,Training Accuracy = 0.99, Validation Accuracy = -1.34, Validation MRE =81.99\n",
      "Epoch = 2351,Cost = 0.04,Training Accuracy = 0.98, Validation Accuracy = -1.09, Validation MRE =80.18\n",
      "Epoch = 2361,Cost = 0.04,Training Accuracy = 0.99, Validation Accuracy = -0.80, Validation MRE =76.71\n",
      "Epoch = 2371,Cost = 0.04,Training Accuracy = 0.97, Validation Accuracy = -1.21, Validation MRE =76.93\n",
      "Epoch = 2381,Cost = 0.05,Training Accuracy = 1.00, Validation Accuracy = -0.30, Validation MRE =72.90\n",
      "Epoch = 2391,Cost = 0.04,Training Accuracy = 0.99, Validation Accuracy = -0.37, Validation MRE =72.94\n",
      "Epoch = 2401,Cost = 0.04,Training Accuracy = 0.99, Validation Accuracy = -0.44, Validation MRE =80.05\n",
      "Epoch = 2411,Cost = 0.05,Training Accuracy = 0.97, Validation Accuracy = -0.94, Validation MRE =88.05\n",
      "Epoch = 2421,Cost = 0.04,Training Accuracy = 0.97, Validation Accuracy = -0.41, Validation MRE =79.56\n",
      "Epoch = 2431,Cost = 0.04,Training Accuracy = 0.99, Validation Accuracy = -0.13, Validation MRE =69.89\n",
      "Epoch = 2441,Cost = 0.04,Training Accuracy = 1.00, Validation Accuracy = -0.67, Validation MRE =77.18\n",
      "Epoch = 2451,Cost = 0.04,Training Accuracy = 0.99, Validation Accuracy = -0.94, Validation MRE =84.96\n",
      "Epoch = 2461,Cost = 0.04,Training Accuracy = 0.98, Validation Accuracy = -0.30, Validation MRE =78.07\n",
      "Epoch = 2471,Cost = 0.04,Training Accuracy = 0.97, Validation Accuracy = -0.74, Validation MRE =80.74\n",
      "Epoch = 2481,Cost = 0.04,Training Accuracy = 0.99, Validation Accuracy = -0.14, Validation MRE =76.97\n",
      "Epoch = 2491,Cost = 0.04,Training Accuracy = 0.98, Validation Accuracy = -1.30, Validation MRE =84.93\n",
      "Epoch = 2501,Cost = 0.04,Training Accuracy = 0.99, Validation Accuracy = -0.78, Validation MRE =85.27\n",
      "Epoch = 2511,Cost = 0.04,Training Accuracy = 0.99, Validation Accuracy = -0.80, Validation MRE =83.66\n",
      "Epoch = 2521,Cost = 0.04,Training Accuracy = 0.98, Validation Accuracy = -1.41, Validation MRE =84.77\n",
      "Epoch = 2531,Cost = 0.05,Training Accuracy = 0.98, Validation Accuracy = -0.61, Validation MRE =80.73\n",
      "Epoch = 2541,Cost = 0.04,Training Accuracy = 0.99, Validation Accuracy = -0.73, Validation MRE =79.84\n",
      "Epoch = 2551,Cost = 0.04,Training Accuracy = 0.99, Validation Accuracy = -0.37, Validation MRE =77.86\n",
      "Epoch = 2561,Cost = 0.04,Training Accuracy = 0.99, Validation Accuracy = -0.55, Validation MRE =81.72\n",
      "Epoch = 2571,Cost = 0.04,Training Accuracy = 0.99, Validation Accuracy = -0.39, Validation MRE =80.80\n",
      "Epoch = 2581,Cost = 0.04,Training Accuracy = 0.99, Validation Accuracy = -0.34, Validation MRE =76.47\n"
     ]
    },
    {
     "ename": "KeyboardInterrupt",
     "evalue": "",
     "output_type": "error",
     "traceback": [
      "\u001b[0;31m---------------------------------------------------------------------------\u001b[0m",
      "\u001b[0;31mKeyboardInterrupt\u001b[0m                         Traceback (most recent call last)",
      "\u001b[0;32m<ipython-input-86-6d9b14cfa372>\u001b[0m in \u001b[0;36m<module>\u001b[0;34m()\u001b[0m\n\u001b[1;32m     12\u001b[0m     \u001b[0;32mfor\u001b[0m \u001b[0mepoch\u001b[0m \u001b[0;32min\u001b[0m \u001b[0mrange\u001b[0m\u001b[0;34m(\u001b[0m\u001b[0;36m3000\u001b[0m\u001b[0;34m)\u001b[0m\u001b[0;34m:\u001b[0m\u001b[0;34m\u001b[0m\u001b[0m\n\u001b[1;32m     13\u001b[0m         \u001b[0;32mfor\u001b[0m \u001b[0mi\u001b[0m \u001b[0;32min\u001b[0m \u001b[0mrange\u001b[0m\u001b[0;34m(\u001b[0m\u001b[0;36m0\u001b[0m\u001b[0;34m,\u001b[0m \u001b[0mlen\u001b[0m\u001b[0;34m(\u001b[0m\u001b[0mtrn_X\u001b[0m\u001b[0;34m)\u001b[0m\u001b[0;34m,\u001b[0m\u001b[0mBATCH_SIZE\u001b[0m\u001b[0;34m)\u001b[0m\u001b[0;34m:\u001b[0m\u001b[0;34m\u001b[0m\u001b[0m\n\u001b[0;32m---> 14\u001b[0;31m             \u001b[0m_\u001b[0m\u001b[0;34m,\u001b[0m \u001b[0mc\u001b[0m \u001b[0;34m=\u001b[0m \u001b[0msess\u001b[0m\u001b[0;34m.\u001b[0m\u001b[0mrun\u001b[0m\u001b[0;34m(\u001b[0m\u001b[0;34m[\u001b[0m\u001b[0moptimizer\u001b[0m\u001b[0;34m,\u001b[0m\u001b[0mcost\u001b[0m\u001b[0;34m]\u001b[0m\u001b[0;34m,\u001b[0m \u001b[0mfeed_dict\u001b[0m\u001b[0;34m=\u001b[0m\u001b[0;34m{\u001b[0m\u001b[0mX\u001b[0m\u001b[0;34m:\u001b[0m\u001b[0mtrn_X\u001b[0m\u001b[0;34m[\u001b[0m\u001b[0mi\u001b[0m\u001b[0;34m:\u001b[0m\u001b[0mi\u001b[0m\u001b[0;34m+\u001b[0m\u001b[0mBATCH_SIZE\u001b[0m\u001b[0;34m]\u001b[0m\u001b[0;34m,\u001b[0m \u001b[0my\u001b[0m\u001b[0;34m:\u001b[0m\u001b[0mtrn_y\u001b[0m\u001b[0;34m[\u001b[0m\u001b[0mi\u001b[0m\u001b[0;34m:\u001b[0m\u001b[0mi\u001b[0m\u001b[0;34m+\u001b[0m\u001b[0mBATCH_SIZE\u001b[0m\u001b[0;34m]\u001b[0m\u001b[0;34m}\u001b[0m\u001b[0;34m)\u001b[0m\u001b[0;34m\u001b[0m\u001b[0m\n\u001b[0m\u001b[1;32m     15\u001b[0m \u001b[0;34m\u001b[0m\u001b[0m\n\u001b[1;32m     16\u001b[0m         \u001b[0mtrn_score\u001b[0m \u001b[0;34m=\u001b[0m \u001b[0mr2_score\u001b[0m\u001b[0;34m(\u001b[0m\u001b[0mnp\u001b[0m\u001b[0;34m.\u001b[0m\u001b[0mexp\u001b[0m\u001b[0;34m(\u001b[0m\u001b[0mtrn_y\u001b[0m\u001b[0;34m)\u001b[0m\u001b[0;34m,\u001b[0m\u001b[0mnp\u001b[0m\u001b[0;34m.\u001b[0m\u001b[0mexp\u001b[0m\u001b[0;34m(\u001b[0m\u001b[0msess\u001b[0m\u001b[0;34m.\u001b[0m\u001b[0mrun\u001b[0m\u001b[0;34m(\u001b[0m\u001b[0mpred\u001b[0m\u001b[0;34m,\u001b[0m \u001b[0mfeed_dict\u001b[0m\u001b[0;34m=\u001b[0m\u001b[0;34m{\u001b[0m\u001b[0mX\u001b[0m\u001b[0;34m:\u001b[0m\u001b[0mtrn_X\u001b[0m\u001b[0;34m,\u001b[0m \u001b[0my\u001b[0m\u001b[0;34m:\u001b[0m\u001b[0mtrn_y\u001b[0m\u001b[0;34m}\u001b[0m\u001b[0;34m)\u001b[0m\u001b[0;34m)\u001b[0m\u001b[0;34m)\u001b[0m\u001b[0;34m\u001b[0m\u001b[0m\n",
      "\u001b[0;32m/home/runsheng/anaconda2/envs/tensorflow/lib/python2.7/site-packages/tensorflow/python/client/session.pyc\u001b[0m in \u001b[0;36mrun\u001b[0;34m(self, fetches, feed_dict, options, run_metadata)\u001b[0m\n\u001b[1;32m    765\u001b[0m     \u001b[0;32mtry\u001b[0m\u001b[0;34m:\u001b[0m\u001b[0;34m\u001b[0m\u001b[0m\n\u001b[1;32m    766\u001b[0m       result = self._run(None, fetches, feed_dict, options_ptr,\n\u001b[0;32m--> 767\u001b[0;31m                          run_metadata_ptr)\n\u001b[0m\u001b[1;32m    768\u001b[0m       \u001b[0;32mif\u001b[0m \u001b[0mrun_metadata\u001b[0m\u001b[0;34m:\u001b[0m\u001b[0;34m\u001b[0m\u001b[0m\n\u001b[1;32m    769\u001b[0m         \u001b[0mproto_data\u001b[0m \u001b[0;34m=\u001b[0m \u001b[0mtf_session\u001b[0m\u001b[0;34m.\u001b[0m\u001b[0mTF_GetBuffer\u001b[0m\u001b[0;34m(\u001b[0m\u001b[0mrun_metadata_ptr\u001b[0m\u001b[0;34m)\u001b[0m\u001b[0;34m\u001b[0m\u001b[0m\n",
      "\u001b[0;32m/home/runsheng/anaconda2/envs/tensorflow/lib/python2.7/site-packages/tensorflow/python/client/session.pyc\u001b[0m in \u001b[0;36m_run\u001b[0;34m(self, handle, fetches, feed_dict, options, run_metadata)\u001b[0m\n\u001b[1;32m    963\u001b[0m     \u001b[0;32mif\u001b[0m \u001b[0mfinal_fetches\u001b[0m \u001b[0;32mor\u001b[0m \u001b[0mfinal_targets\u001b[0m\u001b[0;34m:\u001b[0m\u001b[0;34m\u001b[0m\u001b[0m\n\u001b[1;32m    964\u001b[0m       results = self._do_run(handle, final_targets, final_fetches,\n\u001b[0;32m--> 965\u001b[0;31m                              feed_dict_string, options, run_metadata)\n\u001b[0m\u001b[1;32m    966\u001b[0m     \u001b[0;32melse\u001b[0m\u001b[0;34m:\u001b[0m\u001b[0;34m\u001b[0m\u001b[0m\n\u001b[1;32m    967\u001b[0m       \u001b[0mresults\u001b[0m \u001b[0;34m=\u001b[0m \u001b[0;34m[\u001b[0m\u001b[0;34m]\u001b[0m\u001b[0;34m\u001b[0m\u001b[0m\n",
      "\u001b[0;32m/home/runsheng/anaconda2/envs/tensorflow/lib/python2.7/site-packages/tensorflow/python/client/session.pyc\u001b[0m in \u001b[0;36m_do_run\u001b[0;34m(self, handle, target_list, fetch_list, feed_dict, options, run_metadata)\u001b[0m\n\u001b[1;32m   1013\u001b[0m     \u001b[0;32mif\u001b[0m \u001b[0mhandle\u001b[0m \u001b[0;32mis\u001b[0m \u001b[0mNone\u001b[0m\u001b[0;34m:\u001b[0m\u001b[0;34m\u001b[0m\u001b[0m\n\u001b[1;32m   1014\u001b[0m       return self._do_call(_run_fn, self._session, feed_dict, fetch_list,\n\u001b[0;32m-> 1015\u001b[0;31m                            target_list, options, run_metadata)\n\u001b[0m\u001b[1;32m   1016\u001b[0m     \u001b[0;32melse\u001b[0m\u001b[0;34m:\u001b[0m\u001b[0;34m\u001b[0m\u001b[0m\n\u001b[1;32m   1017\u001b[0m       return self._do_call(_prun_fn, self._session, handle, feed_dict,\n",
      "\u001b[0;32m/home/runsheng/anaconda2/envs/tensorflow/lib/python2.7/site-packages/tensorflow/python/client/session.pyc\u001b[0m in \u001b[0;36m_do_call\u001b[0;34m(self, fn, *args)\u001b[0m\n\u001b[1;32m   1020\u001b[0m   \u001b[0;32mdef\u001b[0m \u001b[0m_do_call\u001b[0m\u001b[0;34m(\u001b[0m\u001b[0mself\u001b[0m\u001b[0;34m,\u001b[0m \u001b[0mfn\u001b[0m\u001b[0;34m,\u001b[0m \u001b[0;34m*\u001b[0m\u001b[0margs\u001b[0m\u001b[0;34m)\u001b[0m\u001b[0;34m:\u001b[0m\u001b[0;34m\u001b[0m\u001b[0m\n\u001b[1;32m   1021\u001b[0m     \u001b[0;32mtry\u001b[0m\u001b[0;34m:\u001b[0m\u001b[0;34m\u001b[0m\u001b[0m\n\u001b[0;32m-> 1022\u001b[0;31m       \u001b[0;32mreturn\u001b[0m \u001b[0mfn\u001b[0m\u001b[0;34m(\u001b[0m\u001b[0;34m*\u001b[0m\u001b[0margs\u001b[0m\u001b[0;34m)\u001b[0m\u001b[0;34m\u001b[0m\u001b[0m\n\u001b[0m\u001b[1;32m   1023\u001b[0m     \u001b[0;32mexcept\u001b[0m \u001b[0merrors\u001b[0m\u001b[0;34m.\u001b[0m\u001b[0mOpError\u001b[0m \u001b[0;32mas\u001b[0m \u001b[0me\u001b[0m\u001b[0;34m:\u001b[0m\u001b[0;34m\u001b[0m\u001b[0m\n\u001b[1;32m   1024\u001b[0m       \u001b[0mmessage\u001b[0m \u001b[0;34m=\u001b[0m \u001b[0mcompat\u001b[0m\u001b[0;34m.\u001b[0m\u001b[0mas_text\u001b[0m\u001b[0;34m(\u001b[0m\u001b[0me\u001b[0m\u001b[0;34m.\u001b[0m\u001b[0mmessage\u001b[0m\u001b[0;34m)\u001b[0m\u001b[0;34m\u001b[0m\u001b[0m\n",
      "\u001b[0;32m/home/runsheng/anaconda2/envs/tensorflow/lib/python2.7/site-packages/tensorflow/python/client/session.pyc\u001b[0m in \u001b[0;36m_run_fn\u001b[0;34m(session, feed_dict, fetch_list, target_list, options, run_metadata)\u001b[0m\n\u001b[1;32m   1002\u001b[0m         return tf_session.TF_Run(session, options,\n\u001b[1;32m   1003\u001b[0m                                  \u001b[0mfeed_dict\u001b[0m\u001b[0;34m,\u001b[0m \u001b[0mfetch_list\u001b[0m\u001b[0;34m,\u001b[0m \u001b[0mtarget_list\u001b[0m\u001b[0;34m,\u001b[0m\u001b[0;34m\u001b[0m\u001b[0m\n\u001b[0;32m-> 1004\u001b[0;31m                                  status, run_metadata)\n\u001b[0m\u001b[1;32m   1005\u001b[0m \u001b[0;34m\u001b[0m\u001b[0m\n\u001b[1;32m   1006\u001b[0m     \u001b[0;32mdef\u001b[0m \u001b[0m_prun_fn\u001b[0m\u001b[0;34m(\u001b[0m\u001b[0msession\u001b[0m\u001b[0;34m,\u001b[0m \u001b[0mhandle\u001b[0m\u001b[0;34m,\u001b[0m \u001b[0mfeed_dict\u001b[0m\u001b[0;34m,\u001b[0m \u001b[0mfetch_list\u001b[0m\u001b[0;34m)\u001b[0m\u001b[0;34m:\u001b[0m\u001b[0;34m\u001b[0m\u001b[0m\n",
      "\u001b[0;31mKeyboardInterrupt\u001b[0m: "
     ]
    }
   ],
   "source": [
    "%matplotlib auto\n",
    "#Start Training\n",
    "costs=[]\n",
    "\n",
    "#save the model\n",
    "saver = tf.train.Saver()\n",
    "\n",
    "old_score = float('-inf')\n",
    "\n",
    "with tf.Session() as sess:\n",
    "    sess.run(init)\n",
    "    for epoch in range(3000):\n",
    "        for i in range(0, len(trn_X),BATCH_SIZE):\n",
    "            _, c = sess.run([optimizer,cost], feed_dict={X:trn_X[i:i+BATCH_SIZE], y:trn_y[i:i+BATCH_SIZE]})\n",
    "        \n",
    "        trn_score = r2_score(np.exp(trn_y),np.exp(sess.run(pred, feed_dict={X:trn_X, y:trn_y})))\n",
    "        val_score = r2_score(np.exp(val_y),np.exp(sess.run(pred, feed_dict={X:val_X, y:val_y})))    \n",
    "        val_mre = mre(np.exp(val_y),np.exp(sess.run(pred,feed_dict={X:val_X,y:val_y})))\n",
    "        \n",
    "        costs.append(val_score)\n",
    "        if epoch % 10 == 0:\n",
    "            print(\"Epoch = %d,Cost = %.2f,Training Accuracy = %.2f, Validation Accuracy = %.2f, Validation MRE =%.2f\" % (epoch + 1,c,trn_score,val_score,val_mre))\n",
    "  \n",
    "    # final pred on the validation set\n",
    "    final_pred_val = sess.run(pred,feed_dict={X:val_X})\n",
    "    # prediction on the testing set\n",
    "    final_pred_test = sess.run(pred,feed_dict={X:tst_X})\n",
    "    \n",
    "    for (y,y_hat) in zip(np.exp(tst_y),np.exp(final_pred_test)):\n",
    "        print y,y_hat\n",
    "    \n",
    "    \n",
    "    plt.plot(costs)\n",
    "    plt.show()\n",
    "    \n",
    "    save_path = saver.save(sess, \"../nets/GWP/GWP_Apr4.ckpt\")\n",
    "    saver.export_meta_graph(\"../nets/GWP/GWP_Apr4.meta\")\n",
    "    print(\"Model saved in file: %s\" % save_path)"
   ]
  },
  {
   "cell_type": "code",
   "execution_count": 59,
   "metadata": {
    "collapsed": true
   },
   "outputs": [],
   "source": [
    "tst_y = np.exp(tst_y)\n",
    "final_pred_test = np.exp(final_pred_test)"
   ]
  },
  {
   "cell_type": "code",
   "execution_count": 60,
   "metadata": {
    "collapsed": false
   },
   "outputs": [
    {
     "name": "stdout",
     "output_type": "stream",
     "text": [
      "-0.107541670786\n"
     ]
    }
   ],
   "source": [
    "MRE_this = mre(tst_y, final_pred_test)\n",
    "R2_this = r2_score(tst_y, final_pred_test)\n",
    "print R2_this\n",
    "MRE_label = 'MRE: ' + str(round(MRE_this,2))\n",
    "\n",
    "fig = plt.figure()\n",
    "ax = fig.add_subplot(111)\n",
    "est = plt.plot(tst_y, final_pred_test,'o', label='estimated values')\n",
    "\n",
    "max_val = max(max(tst_y),max(final_pred_test))\n",
    "plt.ylim([0,max_val+1])\n",
    "plt.xlim([0,max_val+1])\n",
    "\n",
    "thisLine = plt.plot(np.append(0,max_val+1), np.append(0,max_val+1), label='perfect prediction line')\n",
    "\n",
    "plt.plot([],[],linewidth=0, label=MRE_label)\n",
    "plt.legend(loc='upper left')\n",
    "plt.show()"
   ]
  },
  {
   "cell_type": "code",
   "execution_count": null,
   "metadata": {
    "collapsed": true
   },
   "outputs": [],
   "source": []
  }
 ],
 "metadata": {
  "anaconda-cloud": {},
  "kernelspec": {
   "display_name": "tensorflow",
   "language": "python",
   "name": "tensorflow"
  },
  "language_info": {
   "codemirror_mode": {
    "name": "ipython",
    "version": 2
   },
   "file_extension": ".py",
   "mimetype": "text/x-python",
   "name": "python",
   "nbconvert_exporter": "python",
   "pygments_lexer": "ipython2",
   "version": "2.7.13"
  }
 },
 "nbformat": 4,
 "nbformat_minor": 1
}
