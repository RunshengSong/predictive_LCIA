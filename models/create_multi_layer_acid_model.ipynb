{
 "cells": [
  {
   "cell_type": "markdown",
   "metadata": {},
   "source": [
    "## Create Multi-Layer NN model using tensorflow\n",
    "\n",
    "So I can adjust the parameters as I want..."
   ]
  },
  {
   "cell_type": "code",
   "execution_count": 23,
   "metadata": {
    "collapsed": false
   },
   "outputs": [],
   "source": [
    "import sys\n",
    "sys.path.append(\"./src\") # append to system path\n",
    "\n",
    "from sklearn import cross_validation\n",
    "from sklearn.metrics import r2_score\n",
    "from sklearn.metrics import mean_absolute_error\n",
    "from sklearn.decomposition import PCA\n",
    "from sklearn.preprocessing import Normalizer\n",
    "from sklearn.preprocessing import StandardScaler\n",
    "\n",
    "import numpy as np\n",
    "import pandas as pd\n",
    "import tensorflow as tf\n",
    "\n",
    "import matplotlib.pyplot as plt\n",
    "from matplotlib import style\n",
    "from matplotlib.patches import Rectangle\n",
    "style.use('ggplot')\n",
    "\n"
   ]
  },
  {
   "cell_type": "code",
   "execution_count": 24,
   "metadata": {
    "collapsed": true
   },
   "outputs": [],
   "source": [
    "def load_lcia_data(descs_p, target_p):\n",
    "    X = pd.read_csv(descs_p,header=0,index_col=None)\n",
    "    X = X.fillna(0)\n",
    "    y = pd.read_csv(target_p,header=0,index_col=None)\n",
    "    return X.values,y.values\n",
    "\n",
    "def mre(true_y,pred_y):\n",
    "    ## Note: does not handle mix 1d representation\n",
    "    #if _is_1d(y_true): \n",
    "    #    y_true, y_pred = _check_1d_array(y_true, y_pred)\n",
    "\n",
    "    return np.mean(np.abs(np.subtract(true_y, pred_y) / true_y)) * 100"
   ]
  },
  {
   "cell_type": "markdown",
   "metadata": {},
   "source": [
    "### Load Training data\n",
    "The training data has 156 chemicals now. The rest 10 chemicals are test data\n",
    "We also split the training and validation data here\n",
    "We use smaller set (10%) to be the valdiation set (16 chemicals), as the limited size of training chemicals."
   ]
  },
  {
   "cell_type": "code",
   "execution_count": 25,
   "metadata": {
    "collapsed": false
   },
   "outputs": [],
   "source": [
    "descs_p = '../data/descs/train/descs_Mar08_3839_train.csv'\n",
    "target_p = '../data/target/train/acidification_train.csv'\n",
    "X,y = load_lcia_data(descs_p, target_p)\n",
    "\n",
    "trn_X, val_X, trn_y, val_y = cross_validation.train_test_split(\n",
    "    X, y, test_size=0.1, random_state=3)"
   ]
  },
  {
   "cell_type": "code",
   "execution_count": 26,
   "metadata": {
    "collapsed": false
   },
   "outputs": [
    {
     "name": "stdout",
     "output_type": "stream",
     "text": [
      "(140, 3839) (140, 1)\n"
     ]
    }
   ],
   "source": [
    "print trn_X.shape, trn_y.shape"
   ]
  },
  {
   "cell_type": "markdown",
   "metadata": {},
   "source": [
    "### Load Testing data"
   ]
  },
  {
   "cell_type": "code",
   "execution_count": 27,
   "metadata": {
    "collapsed": true
   },
   "outputs": [],
   "source": [
    "descs_tst = '../data/descs/test/descs_Mar08_3839_test.csv'\n",
    "target_tst = '../data/target/test/acidification_test.csv'\n",
    "tst_X,tst_y = load_lcia_data(descs_tst, target_tst)"
   ]
  },
  {
   "cell_type": "markdown",
   "metadata": {},
   "source": [
    "### Data Preprocessing\n",
    "Normalization + PCA or Just Normalization"
   ]
  },
  {
   "cell_type": "markdown",
   "metadata": {},
   "source": [
    "### Just Scaler"
   ]
  },
  {
   "cell_type": "code",
   "execution_count": 28,
   "metadata": {
    "collapsed": false
   },
   "outputs": [],
   "source": [
    "## Standard Scaler\n",
    "this_scaler = StandardScaler()\n",
    "trn_X = this_scaler.fit_transform(trn_X)\n",
    "val_X = this_scaler.transform(val_X)\n",
    "tst_X = this_scaler.transform(tst_X)"
   ]
  },
  {
   "cell_type": "code",
   "execution_count": 29,
   "metadata": {
    "collapsed": false
   },
   "outputs": [
    {
     "name": "stdout",
     "output_type": "stream",
     "text": [
      "(140, 3839)\n",
      "(10, 3839)\n",
      "[ -1.39123274e-16  -7.31161163e-16   5.43612774e-16 ...,   0.00000000e+00\n",
      "   2.02219194e-17   8.56457762e-17] [ 1.  1.  1. ...,  0.  1.  1.]\n"
     ]
    }
   ],
   "source": [
    "print trn_X.shape\n",
    "print tst_X.shape\n",
    "print np.mean(trn_X,0),np.std(trn_X,0)"
   ]
  },
  {
   "cell_type": "markdown",
   "metadata": {},
   "source": [
    "##  PCA"
   ]
  },
  {
   "cell_type": "code",
   "execution_count": 30,
   "metadata": {
    "collapsed": false
   },
   "outputs": [],
   "source": [
    "### PCA, don't run them together\n",
    "# normalize the data first\n",
    "pca = PCA(n_components = 60)\n",
    "\n",
    "trn_X = pca.fit_transform(trn_X)\n",
    "val_X = pca.transform(val_X)\n",
    "tst_X = pca.transform(tst_X)"
   ]
  },
  {
   "cell_type": "code",
   "execution_count": 31,
   "metadata": {
    "collapsed": false
   },
   "outputs": [
    {
     "name": "stdout",
     "output_type": "stream",
     "text": [
      "(140, 60) (10, 60)\n",
      "0.95591226594\n"
     ]
    }
   ],
   "source": [
    "\n",
    "print trn_X.shape, tst_X.shape\n",
    "print(reduce(lambda x,y:x+y,pca.explained_variance_ratio_))"
   ]
  },
  {
   "cell_type": "code",
   "execution_count": 32,
   "metadata": {
    "collapsed": false
   },
   "outputs": [
    {
     "data": {
      "image/png": "[encoded data removed]",
      "text/plain": [
       "<matplotlib.figure.Figure at 0x7f026d014150>"
      ]
     },
     "metadata": {},
     "output_type": "display_data"
    }
   ],
   "source": [
    "plt.scatter(trn_X[:,0],trn_X[:,1])\n",
    "plt.scatter(tst_X[:,0],tst_X[:,1])\n",
    "plt.show()"
   ]
  },
  {
   "cell_type": "code",
   "execution_count": 33,
   "metadata": {
    "collapsed": false
   },
   "outputs": [
    {
     "data": {
      "image/png": "[encoded data removed]",
      "text/plain": [
       "<matplotlib.figure.Figure at 0x7f02541bd750>"
      ]
     },
     "metadata": {},
     "output_type": "display_data"
    }
   ],
   "source": [
    "n, bins, patches = plt.hist(trn_y, 50, normed=1, facecolor='green', alpha=0.75)\n",
    "plt.show()"
   ]
  },
  {
   "cell_type": "markdown",
   "metadata": {},
   "source": [
    "### Build the model"
   ]
  },
  {
   "cell_type": "code",
   "execution_count": 38,
   "metadata": {
    "collapsed": false
   },
   "outputs": [
    {
     "name": "stdout",
     "output_type": "stream",
     "text": [
      "60 1\n"
     ]
    }
   ],
   "source": [
    "def init_weights(shape):\n",
    "    weights = tf.random_normal(shape,stddev = 0.1)\n",
    "    return tf.Variable(weights)\n",
    "\n",
    "def bias_variable(shape):\n",
    "  initial = tf.constant(0.1, shape=shape)\n",
    "  return tf.Variable(initial)\n",
    "\n",
    "num_descs = trn_X.shape[1]\n",
    "num_target = trn_y.shape[1]\n",
    "\n",
    "print num_descs,num_target"
   ]
  },
  {
   "cell_type": "code",
   "execution_count": 39,
   "metadata": {
    "collapsed": false
   },
   "outputs": [],
   "source": [
    "##### \n",
    "##Define model structure\n",
    "\n",
    "X = tf.placeholder(tf.float32,shape=[None,num_descs])\n",
    "y = tf.placeholder(tf.float32,shape=[None,num_target])\n",
    "\n",
    "#First layer\n",
    "w1 = init_weights((num_descs,128)) \n",
    "b1 = bias_variable([128])\n",
    "l1 = tf.add(tf.matmul(X,w1),b1)\n",
    "l1 = tf.nn.sigmoid(l1)\n",
    "\n",
    "# # Second layer\n",
    "w2 = init_weights((128,128))\n",
    "b2 = bias_variable([128])\n",
    "l2 = tf.add(tf.matmul(l1,w2),b2)\n",
    "l2 = tf.nn.sigmoid(l2)\n",
    "\n",
    "# # Third layer\n",
    "# w3 = init_weights((512,512))\n",
    "# b3 = bias_variable([512])\n",
    "# l3 = tf.add(tf.matmul(l2,w3),b3)\n",
    "# l3 = tf.nn.relu(l3)\n",
    "\n",
    "# # Fourth layer\n",
    "# w4 = init_weights((512,512))\n",
    "# b4 = bias_variable([512])\n",
    "# l4 = tf.add(tf.matmul(l3,w4),b4)\n",
    "# l4 = tf.nn.relu(l4)\n",
    "\n",
    "# # Fifth layer\n",
    "# w5 = init_weights((512,512))\n",
    "# b5 = bias_variable([512])\n",
    "# l5 = tf.add(tf.matmul(l4,w5),b5)\n",
    "# l5 = tf.nn.relu(l5)\n",
    "\n",
    "#Output layer\n",
    "w_out = init_weights((128,num_target))\n",
    "b_out = bias_variable([num_target])\n",
    "l_out = tf.matmul(l2,w_out) + b_out #no nonlinarity\n",
    "\n",
    "pred = l_out"
   ]
  },
  {
   "cell_type": "code",
   "execution_count": 40,
   "metadata": {
    "collapsed": false
   },
   "outputs": [],
   "source": [
    "#static parameters\n",
    "BATCH_SIZE = 1\n",
    "BETA = 0.01 #regularization weights\n",
    "\n",
    "#Define loss and optimizer \n",
    "#Add regularization term\n",
    "regularizers = tf.nn.l2_loss(w1) + tf.nn.l2_loss(w2) + tf.nn.l2_loss(w_out)\n",
    "cost = tf.reduce_mean(tf.square(pred - y) + BETA*regularizers)\n",
    "\n",
    "#Gridient Descent Optimizer\n",
    "optimizer = tf.train.AdagradOptimizer(learning_rate = 0.01).minimize(cost)\n",
    "\n",
    "\n",
    "# Initializing the variables\n",
    "init = tf.global_variables_initializer()"
   ]
  },
  {
   "cell_type": "markdown",
   "metadata": {},
   "source": [
    "## Training"
   ]
  },
  {
   "cell_type": "code",
   "execution_count": 41,
   "metadata": {
    "collapsed": false,
    "scrolled": true
   },
   "outputs": [
    {
     "name": "stdout",
     "output_type": "stream",
     "text": [
      "Using matplotlib backend: Qt5Agg\n",
      "Epoch = 1,Cost = 1.14,Training Accuracy = 0.23, Validation Accuracy = 0.13, Validation MRE =83.12\n",
      "Epoch = 101,Cost = 0.22,Training Accuracy = 0.95, Validation Accuracy = 0.75, Validation MRE =53.17\n",
      "Epoch = 201,Cost = 0.17,Training Accuracy = 0.97, Validation Accuracy = 0.76, Validation MRE =53.56\n",
      "Epoch = 301,Cost = 0.15,Training Accuracy = 0.97, Validation Accuracy = 0.77, Validation MRE =53.97\n",
      "Epoch = 401,Cost = 0.14,Training Accuracy = 0.98, Validation Accuracy = 0.77, Validation MRE =54.33\n",
      "[ 1.3169968] [ 1.26875377]\n",
      "[ 1.3793049] [ 1.18039131]\n",
      "[ 1.3008738] [ 1.78570342]\n",
      "[ 6.8024631] [ 4.62076378]\n",
      "[ 4.6775527] [ 3.00444245]\n",
      "[ 0.67008958] [ 0.82445765]\n",
      "[ 2.0106041] [ 3.42737603]\n",
      "[ 0.24359463] [ 0.89476073]\n",
      "[ 1.0148966] [ 1.12108302]\n",
      "[ 0.49525256] [ 0.41167152]\n",
      "Model saved in file: ../nets/acidification/acidification.ckpt\n"
     ]
    }
   ],
   "source": [
    "%matplotlib auto\n",
    "#Start Training\n",
    "costs=[]\n",
    "\n",
    "#save the model\n",
    "saver = tf.train.Saver()\n",
    "\n",
    "with tf.Session(config=tf.ConfigProto(log_device_placement=True)) as sess:\n",
    "    sess.run(init)\n",
    "    for epoch in range(500):\n",
    "        for i in range(0, len(trn_X),BATCH_SIZE):\n",
    "            _, c = sess.run([optimizer,cost], feed_dict={X:trn_X[i:i+BATCH_SIZE], y:trn_y[i:i+BATCH_SIZE]})\n",
    "        \n",
    "        trn_score = r2_score(trn_y,sess.run(pred, feed_dict={X:trn_X, y:trn_y}))\n",
    "        val_score = r2_score(val_y,sess.run(pred, feed_dict={X:val_X, y:val_y}))     \n",
    "        val_mre = mre(val_y,sess.run(pred,feed_dict={X:val_X,y:val_y}))\n",
    "        \n",
    "        costs.append(val_score)\n",
    "        if epoch % 100 == 0:\n",
    "            print(\"Epoch = %d,Cost = %.2f,Training Accuracy = %.2f, Validation Accuracy = %.2f, Validation MRE =%.2f\" % (epoch + 1,c,trn_score,val_score,val_mre))\n",
    "  \n",
    "    # final pred on the validation set\n",
    "    final_pred_val = sess.run(pred,feed_dict={X:val_X})\n",
    "    # prediction on the testing set\n",
    "    final_pred_test = sess.run(pred,feed_dict={X:tst_X})\n",
    "    \n",
    "    for (y,y_hat) in zip(tst_y,final_pred_test):\n",
    "        print y,y_hat\n",
    "    \n",
    "    \n",
    "    plt.plot(costs)\n",
    "    plt.show()\n",
    "    \n",
    "    save_path = saver.save(sess, \"../nets/acidification/acidification.ckpt\")\n",
    "    print(\"Model saved in file: %s\" % save_path)"
   ]
  },
  {
   "cell_type": "code",
   "execution_count": 42,
   "metadata": {
    "collapsed": false
   },
   "outputs": [
    {
     "name": "stdout",
     "output_type": "stream",
     "text": [
      "Using matplotlib backend: Qt5Agg\n",
      "0.740062449062\n"
     ]
    }
   ],
   "source": [
    "%matplotlib auto\n",
    "MRE_this = mre(tst_y, final_pred_test)\n",
    "R2_this = r2_score(tst_y, final_pred_test)\n",
    "print R2_this\n",
    "MRE_label = 'MRE: ' + str(round(MRE_this,2))\n",
    "\n",
    "fig = plt.figure()\n",
    "ax = fig.add_subplot(111)\n",
    "est = plt.plot(tst_y, final_pred_test,'o', label='estimated values')\n",
    "\n",
    "max_val = max(max(tst_y),max(final_pred_test))\n",
    "plt.ylim([0,max_val+1])\n",
    "plt.xlim([0,max_val+1])\n",
    "\n",
    "thisLine = plt.plot(np.append(0,max_val+1), np.append(0,max_val+1), label='perfect prediction line')\n",
    "\n",
    "plt.plot([],[],linewidth=0, label=MRE_label)\n",
    "plt.legend(loc='upper left')\n",
    "plt.show()"
   ]
  },
  {
   "cell_type": "markdown",
   "metadata": {
    "collapsed": true
   },
   "source": [
    "## prediction on all data"
   ]
  },
  {
   "cell_type": "code",
   "execution_count": 43,
   "metadata": {
    "collapsed": false
   },
   "outputs": [
    {
     "name": "stdout",
     "output_type": "stream",
     "text": [
      "(166, 3839) (166, 1)\n"
     ]
    }
   ],
   "source": [
    "descs_all = '../data/descs/old/descs_Mar08_3839.csv'\n",
    "target_all = '../data/target/full/acidification.csv'\n",
    "X_all,y_all = load_lcia_data(descs_all, target_all)"
   ]
  },
  {
   "cell_type": "markdown",
   "metadata": {},
   "source": [
    "## Data Preprocessing"
   ]
  },
  {
   "cell_type": "code",
   "execution_count": 44,
   "metadata": {
    "collapsed": false
   },
   "outputs": [
    {
     "name": "stdout",
     "output_type": "stream",
     "text": [
      "(166, 60)\n"
     ]
    }
   ],
   "source": [
    "X_all = this_scaler.transform(X_all)\n",
    "X_all = pca.transform(X_all)\n",
    "\n",
    "print X_all.shape"
   ]
  },
  {
   "cell_type": "code",
   "execution_count": 54,
   "metadata": {
    "collapsed": false
   },
   "outputs": [
    {
     "name": "stdout",
     "output_type": "stream",
     "text": [
      "Model restored.\n",
      "Initialized\n",
      "[[ 1.2526021 ]\n",
      " [ 2.84661913]\n",
      " [ 0.78955585]\n",
      " [ 0.46209675]\n",
      " [ 1.63226318]\n",
      " [ 1.26875377]\n",
      " [ 0.83805072]\n",
      " [ 1.30114126]\n",
      " [ 0.90149653]\n",
      " [ 0.66870511]\n",
      " [ 0.38065961]\n",
      " [ 0.89476091]\n",
      " [ 1.6226511 ]\n",
      " [ 0.5499962 ]\n",
      " [ 1.1210835 ]\n",
      " [ 1.66838121]\n",
      " [ 0.63538444]\n",
      " [ 1.36473274]\n",
      " [ 1.06112778]\n",
      " [ 0.38862437]\n",
      " [ 0.41945204]\n",
      " [ 1.63373137]\n",
      " [ 0.21943744]\n",
      " [ 1.10555482]\n",
      " [ 0.77619642]\n",
      " [ 1.58987379]\n",
      " [ 1.73449802]\n",
      " [ 0.49829191]\n",
      " [ 1.2949779 ]\n",
      " [ 1.00227904]\n",
      " [ 0.50623727]\n",
      " [ 1.10021257]\n",
      " [ 3.88506818]\n",
      " [ 1.18409562]\n",
      " [ 0.40224567]\n",
      " [ 1.78570318]\n",
      " [ 1.00408185]\n",
      " [ 1.04879284]\n",
      " [ 0.70830303]\n",
      " [ 0.97180414]\n",
      " [ 2.14650917]\n",
      " [ 3.06322384]\n",
      " [ 1.16279984]\n",
      " [ 1.19076014]\n",
      " [ 0.86815929]\n",
      " [ 0.41250211]\n",
      " [ 1.84383917]\n",
      " [ 1.31883788]\n",
      " [ 1.55880189]\n",
      " [ 0.65368068]\n",
      " [ 0.83043712]\n",
      " [ 1.05112767]\n",
      " [ 1.06827807]\n",
      " [ 0.62525719]\n",
      " [ 2.57790565]\n",
      " [ 0.22079158]\n",
      " [ 0.74555004]\n",
      " [ 1.62895799]\n",
      " [ 0.82967353]\n",
      " [ 0.586492  ]\n",
      " [ 0.47940588]\n",
      " [ 1.21299863]\n",
      " [ 1.09211254]\n",
      " [ 1.07386255]\n",
      " [ 1.57642007]\n",
      " [ 1.34259367]\n",
      " [ 1.1198653 ]\n",
      " [ 1.1584022 ]\n",
      " [ 0.55553341]\n",
      " [ 0.74871689]\n",
      " [ 0.48245981]\n",
      " [ 1.59560847]\n",
      " [ 1.56725073]\n",
      " [ 0.37221578]\n",
      " [ 0.407305  ]\n",
      " [ 0.84357834]\n",
      " [ 0.72710019]\n",
      " [ 0.70451438]\n",
      " [ 0.41082111]\n",
      " [ 2.1742909 ]\n",
      " [ 0.8359189 ]\n",
      " [ 0.77298474]\n",
      " [ 1.65930533]\n",
      " [ 0.46779543]\n",
      " [ 4.62076378]\n",
      " [ 1.05811965]\n",
      " [ 1.55526948]\n",
      " [ 1.05603337]\n",
      " [ 0.16960581]\n",
      " [ 0.53957546]\n",
      " [ 0.87070596]\n",
      " [ 1.07246184]\n",
      " [ 0.95171374]\n",
      " [ 0.31368089]\n",
      " [ 3.42737579]\n",
      " [ 3.00444269]\n",
      " [ 1.55334663]\n",
      " [ 0.76345277]\n",
      " [ 0.52787578]\n",
      " [ 0.41167152]\n",
      " [ 0.43548688]\n",
      " [ 0.78798735]\n",
      " [ 1.69295239]\n",
      " [ 0.41699138]\n",
      " [ 0.800695  ]\n",
      " [ 1.11231816]\n",
      " [ 1.09188211]\n",
      " [ 0.75909787]\n",
      " [ 1.96619606]\n",
      " [ 0.99008822]\n",
      " [ 1.69895053]\n",
      " [ 1.09299719]\n",
      " [ 1.62341428]\n",
      " [ 2.01354218]\n",
      " [ 0.82445782]\n",
      " [ 0.98243064]\n",
      " [ 1.05384016]\n",
      " [ 3.00444269]\n",
      " [ 1.20388913]\n",
      " [ 0.98864567]\n",
      " [ 0.71492219]\n",
      " [ 3.01526117]\n",
      " [ 1.83262467]\n",
      " [ 0.53875583]\n",
      " [ 5.14511967]\n",
      " [ 0.7939055 ]\n",
      " [ 1.15280151]\n",
      " [ 2.11931396]\n",
      " [ 0.55061305]\n",
      " [ 1.24368882]\n",
      " [ 1.210181  ]\n",
      " [ 1.49140453]\n",
      " [ 0.54815453]\n",
      " [ 1.10665607]\n",
      " [ 1.83608913]\n",
      " [ 0.87822437]\n",
      " [ 0.73253191]\n",
      " [ 0.4074893 ]\n",
      " [ 1.7702446 ]\n",
      " [ 0.22586107]\n",
      " [ 1.13237429]\n",
      " [ 1.07091117]\n",
      " [ 3.76515865]\n",
      " [ 0.76499516]\n",
      " [ 0.67819232]\n",
      " [ 2.06264138]\n",
      " [ 0.92267835]\n",
      " [ 1.41023159]\n",
      " [ 3.81949091]\n",
      " [ 1.81104302]\n",
      " [ 0.21246505]\n",
      " [ 1.2832253 ]\n",
      " [ 1.18039131]\n",
      " [ 1.75553942]\n",
      " [ 0.43203381]\n",
      " [ 0.4713448 ]\n",
      " [ 0.82527322]\n",
      " [ 4.29958344]\n",
      " [ 3.24390578]\n",
      " [ 4.1015172 ]\n",
      " [ 0.95454204]\n",
      " [ 0.98630726]\n",
      " [ 0.766922  ]\n",
      " [ 0.74922317]\n",
      " [ 2.93509364]\n",
      " [ 0.32734782]]\n"
     ]
    }
   ],
   "source": [
    "# Restore the model\n",
    "with tf.Session() as session:\n",
    "    saver.restore(session, \"../nets/acidification/acidification.ckpt\")\n",
    "    print(\"Model restored.\") \n",
    "    print('Initialized')\n",
    "    pred_all = session.run(pred,feed_dict={X:X_all})\n",
    "    "
   ]
  },
  {
   "cell_type": "code",
   "execution_count": null,
   "metadata": {
    "collapsed": true
   },
   "outputs": [],
   "source": [
    "%matplotlib auto\n",
    "MRE_this = mre(y_all, final_pred_test)\n",
    "R2_this = r2_score(tst_y, final_pred_test)\n",
    "print R2_this\n",
    "MRE_label = 'MRE: ' + str(round(MRE_this,2))\n",
    "\n",
    "fig = plt.figure()\n",
    "ax = fig.add_subplot(111)\n",
    "est = plt.plot(tst_y, final_pred_test,'o', label='estimated values')\n",
    "\n",
    "max_val = max(max(tst_y),max(final_pred_test))\n",
    "plt.ylim([0,max_val+1])\n",
    "plt.xlim([0,max_val+1])\n",
    "\n",
    "thisLine = plt.plot(np.append(0,max_val+1), np.append(0,max_val+1), label='perfect prediction line')\n",
    "\n",
    "plt.plot([],[],linewidth=0, label=MRE_label)\n",
    "plt.legend(loc='upper left')\n",
    "plt.show()"
   ]
  }
 ],
 "metadata": {
  "anaconda-cloud": {},
  "kernelspec": {
   "display_name": "tensorflow",
   "language": "python",
   "name": "tensorflow"
  },
  "language_info": {
   "codemirror_mode": {
    "name": "ipython",
    "version": 2
   },
   "file_extension": ".py",
   "mimetype": "text/x-python",
   "name": "python",
   "nbconvert_exporter": "python",
   "pygments_lexer": "ipython2",
   "version": "2.7.13"
  }
 },
 "nbformat": 4,
 "nbformat_minor": 1
}
