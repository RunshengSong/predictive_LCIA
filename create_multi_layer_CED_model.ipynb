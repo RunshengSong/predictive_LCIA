{
 "cells": [
  {
   "cell_type": "markdown",
   "metadata": {},
   "source": [
    "## Create Multi-Layer NN model using tensorflow\n",
    "\n",
    "So I can adjust the parameters as I want..."
   ]
  },
  {
   "cell_type": "code",
   "execution_count": 86,
   "metadata": {
    "collapsed": false
   },
   "outputs": [],
   "source": [
    "import sys\n",
    "sys.path.append(\"./src\") # append to system path\n",
    "\n",
    "from sklearn import cross_validation\n",
    "from sklearn.metrics import r2_score\n",
    "from sklearn.metrics import mean_absolute_error\n",
    "from sklearn.decomposition import PCA\n",
    "from sklearn.preprocessing import Normalizer\n",
    "from sklearn.preprocessing import StandardScaler\n",
    "\n",
    "import numpy as np\n",
    "import pandas as pd\n",
    "import tensorflow as tf\n",
    "\n",
    "import matplotlib.pyplot as plt\n",
    "from matplotlib import style\n",
    "from matplotlib.patches import Rectangle\n",
    "style.use('ggplot')\n",
    "\n"
   ]
  },
  {
   "cell_type": "code",
   "execution_count": 87,
   "metadata": {
    "collapsed": true
   },
   "outputs": [],
   "source": [
    "def load_lcia_data(descs_p, target_p):\n",
    "    X = pd.read_csv(descs_p,header=0,index_col=None)\n",
    "    X = X.fillna(X.mean())\n",
    "    y = pd.read_csv(target_p,header=0,index_col=None)\n",
    "    return X.values,y.values\n",
    "\n",
    "def mre(true_y,pred_y):\n",
    "    ## Note: does not handle mix 1d representation\n",
    "    #if _is_1d(y_true): \n",
    "    #    y_true, y_pred = _check_1d_array(y_true, y_pred)\n",
    "\n",
    "    return np.mean(np.abs((true_y - pred_y) / true_y)) * 100"
   ]
  },
  {
   "cell_type": "markdown",
   "metadata": {},
   "source": [
    "### Load data\n",
    "from csv"
   ]
  },
  {
   "cell_type": "code",
   "execution_count": 167,
   "metadata": {
    "collapsed": false
   },
   "outputs": [],
   "source": [
    "descs_p = './data/descs/descs_Mar08_166_3839.csv'\n",
    "target_p = './data/target/CED.csv'\n",
    "X,y = load_lcia_data(descs_p, target_p)\n",
    "\n",
    "trn_X, tst_X, trn_y, tst_y = cross_validation.train_test_split(\n",
    "    X, y, test_size=0.2, random_state=1)"
   ]
  },
  {
   "cell_type": "code",
   "execution_count": 168,
   "metadata": {
    "collapsed": false
   },
   "outputs": [
    {
     "name": "stdout",
     "output_type": "stream",
     "text": [
      "(132, 3839) (132, 1)\n"
     ]
    }
   ],
   "source": [
    "print trn_X.shape, trn_y.shape"
   ]
  },
  {
   "cell_type": "markdown",
   "metadata": {},
   "source": [
    "### Data Preprocessing\n",
    "Normalization + PCA or Just Normalization"
   ]
  },
  {
   "cell_type": "markdown",
   "metadata": {},
   "source": [
    "### Just Scaler"
   ]
  },
  {
   "cell_type": "code",
   "execution_count": 169,
   "metadata": {
    "collapsed": false
   },
   "outputs": [],
   "source": [
    "## Standard Scaler\n",
    "this_scaler = StandardScaler()\n",
    "trn_X = this_scaler.fit_transform(trn_X)\n",
    "tst_X = this_scaler.transform(tst_X)"
   ]
  },
  {
   "cell_type": "code",
   "execution_count": 170,
   "metadata": {
    "collapsed": false
   },
   "outputs": [
    {
     "name": "stdout",
     "output_type": "stream",
     "text": [
      "[[-1.62569245 -0.82660826 -1.4890865  ...,  0.         -0.18698007\n",
      "  -0.21821789]\n",
      " [-0.53138493 -0.06405605 -0.84172575 ...,  0.         -0.18698007\n",
      "  -0.21821789]\n",
      " [-0.6942586  -0.80394144 -0.04137544 ...,  0.         -0.18698007\n",
      "  -0.21821789]\n",
      " ..., \n",
      " [ 1.84400373  2.39461662 -0.68114993 ...,  0.         -0.18698007\n",
      "  -0.21821789]\n",
      " [-0.62897636 -0.58708431 -0.39476866 ...,  0.         -0.18698007\n",
      "  -0.21821789]\n",
      " [ 0.52353195 -0.54496464  1.20245492 ...,  0.         -0.18698007\n",
      "  -0.21821789]]\n",
      "(132, 3839)\n",
      "[ -3.37272298e-16   1.95971185e-16   2.89330849e-16 ...,   0.00000000e+00\n",
      "  -2.90171927e-17  -1.11442841e-16] [ 1.  1.  1. ...,  0.  1.  1.]\n"
     ]
    }
   ],
   "source": [
    "print trn_X\n",
    "print trn_X.shape\n",
    "print np.mean(trn_X,0),np.std(trn_X,0)"
   ]
  },
  {
   "cell_type": "markdown",
   "metadata": {},
   "source": [
    "##  PCA"
   ]
  },
  {
   "cell_type": "code",
   "execution_count": 171,
   "metadata": {
    "collapsed": false
   },
   "outputs": [],
   "source": [
    "### PCA, don't run them together\n",
    "# normalize the data first\n",
    "pca = PCA(n_components = 40)\n",
    "\n",
    "trn_X = pca.fit_transform(trn_X)\n",
    "tst_X = pca.transform(tst_X)"
   ]
  },
  {
   "cell_type": "code",
   "execution_count": 172,
   "metadata": {
    "collapsed": false
   },
   "outputs": [
    {
     "name": "stdout",
     "output_type": "stream",
     "text": [
      "[[-53.59895013  13.20745748 -18.84214261 ...,   0.82313393   0.95786378\n",
      "    0.16374331]\n",
      " [-25.23395823   4.46858418  -3.33329089 ...,  -0.84245268   1.10967084\n",
      "    2.50920703]\n",
      " [-10.60457047  -1.68856905   4.95363933 ...,   0.15182166  -0.61976537\n",
      "    0.63576887]\n",
      " ..., \n",
      " [-25.59362412   3.59385218  -5.75314093 ...,   0.90624938  -0.25444292\n",
      "   -2.62317826]\n",
      " [-11.71478167   1.85059459   1.09457238 ...,   0.46174558  -1.10998792\n",
      "   -2.78200069]\n",
      " [ 26.86476941   4.87049602 -10.71316835 ...,   0.1072032    2.79859837\n",
      "    8.05014072]]\n",
      "(132, 40)\n",
      "0.910561013174\n",
      "[ -8.61263922e-16  -6.66133815e-16  -6.05576195e-16  -6.99776937e-16\n",
      "   7.17439576e-16  -3.36431220e-16   6.72862439e-18  -3.36431220e-16\n",
      "   4.77732332e-16  -3.33066907e-16  -1.61486985e-16   2.11951668e-16\n",
      "  -5.65204449e-16   1.14386615e-16  -1.61486985e-16   9.85743473e-16\n",
      "   3.02788098e-17   3.56617093e-16  -1.85037171e-17   2.08587356e-16\n",
      "   1.63169141e-16   4.23903337e-16   2.15315981e-16   3.79326200e-16\n",
      "  -1.31208176e-16   5.31561327e-16  -5.21468390e-17   1.37936800e-16\n",
      "   2.89330849e-16   7.06505561e-17   6.45947942e-16   2.15315981e-16\n",
      "  -1.65692376e-16  -1.48029737e-16  -1.00929366e-17   5.04646829e-17\n",
      "  -7.06505561e-17   4.06766371e-16   1.17750927e-16   4.03717464e-17] [ 28.686551    12.50038968  11.325623     9.87355028   8.00557453\n",
      "   7.55907922   6.54390659   6.29348236   5.86611341   5.45641241\n",
      "   5.36242767   5.27845773   5.11636502   4.90991868   4.77380176\n",
      "   4.59549371   4.36412184   4.29495247   4.20682814   4.05990736\n",
      "   3.9330172    3.82119416   3.78607791   3.76561189   3.65303503\n",
      "   3.53207598   3.43636206   3.40181105   3.31825326   3.26211471\n",
      "   3.15525995   3.12653948   3.00187012   2.95272864   2.84640492\n",
      "   2.81406563   2.74444845   2.68932842   2.64102405   2.60681637]\n"
     ]
    }
   ],
   "source": [
    "print trn_X\n",
    "print trn_X.shape\n",
    "print(reduce(lambda x,y:x+y,pca.explained_variance_ratio_))\n",
    "print np.mean(trn_X,0),np.std(trn_X,0)"
   ]
  },
  {
   "cell_type": "code",
   "execution_count": 173,
   "metadata": {
    "collapsed": false
   },
   "outputs": [
    {
     "data": {
      "image/png": "[encoded data removed]",
      "text/plain": [
       "<matplotlib.figure.Figure at 0x7fdc2e02b7d0>"
      ]
     },
     "metadata": {},
     "output_type": "display_data"
    }
   ],
   "source": [
    "plt.scatter(trn_X[:,0],trn_X[:,1])\n",
    "plt.show()"
   ]
  },
  {
   "cell_type": "markdown",
   "metadata": {},
   "source": [
    "### Build the model"
   ]
  },
  {
   "cell_type": "code",
   "execution_count": 174,
   "metadata": {
    "collapsed": false
   },
   "outputs": [
    {
     "name": "stdout",
     "output_type": "stream",
     "text": [
      "40 1\n"
     ]
    }
   ],
   "source": [
    "def init_weights(shape):\n",
    "    weights = tf.random_normal(shape,stddev = 0.1)\n",
    "    return tf.Variable(weights)\n",
    "\n",
    "def bias_variable(shape):\n",
    "  initial = tf.constant(0.1, shape=shape)\n",
    "  return tf.Variable(initial)\n",
    "\n",
    "num_descs = trn_X.shape[1]\n",
    "num_target = trn_y.shape[1]\n",
    "\n",
    "print num_descs,num_target"
   ]
  },
  {
   "cell_type": "code",
   "execution_count": 185,
   "metadata": {
    "collapsed": false
   },
   "outputs": [],
   "source": [
    "##### \n",
    "##Define model structure\n",
    "\n",
    "X = tf.placeholder(tf.float32,shape=[None,num_descs])\n",
    "y = tf.placeholder(tf.float32,shape=[None,num_target])\n",
    "\n",
    "#First layer\n",
    "w1 = init_weights((num_descs,128)) \n",
    "b1 = bias_variable([128])\n",
    "l1 = tf.add(tf.matmul(X,w1),b1)\n",
    "l1 = tf.nn.sigmoid(l1)\n",
    "\n",
    "# Second layer\n",
    "w2 = init_weights((128,128))\n",
    "b2 = bias_variable([128])\n",
    "l2 = tf.add(tf.matmul(l1,w2),b2)\n",
    "l2 = tf.nn.relu(l2)\n",
    "\n",
    "# Third layer\n",
    "# w3 = init_weights((256,256))\n",
    "# b3 = bias_variable([256])\n",
    "# l3 = tf.add(tf.matmul(l2,w3),b3)\n",
    "# l3 = tf.nn.sigmoid(l3)\n",
    "\n",
    "#Output layer\n",
    "w_out = init_weights((128,num_target))\n",
    "b_out = bias_variable([num_target])\n",
    "l_out = tf.matmul(l2,w_out) + b_out #no nonlinarity\n",
    "\n",
    "pred = l_out"
   ]
  },
  {
   "cell_type": "code",
   "execution_count": 186,
   "metadata": {
    "collapsed": false
   },
   "outputs": [],
   "source": [
    "#static parameters\n",
    "BATCH_SIZE = 5\n",
    "BETA = 0.1 #regularization weights\n",
    "\n",
    "#Define loss and optimizer \n",
    "#Add regularization term\n",
    "# regularizers = tf.nn.l2_loss(w1) + tf.nn.l2_loss(w2) + tf.nn.l2_loss(w3) + tf.nn.l2_loss(w_out)\n",
    "regularizers = tf.nn.l2_loss(w1) + tf.nn.l2_loss(w2) + tf.nn.l2_loss(w_out)\n",
    "cost = tf.reduce_mean(tf.square(pred - y) + BETA*regularizers)\n",
    "\n",
    "#Gridient Descent Optimizer\n",
    "optimizer = tf.train.AdagradOptimizer(learning_rate = 0.01).minimize(cost)\n",
    "\n",
    "\n",
    "# Initializing the variables\n",
    "init = tf.global_variables_initializer()"
   ]
  },
  {
   "cell_type": "markdown",
   "metadata": {},
   "source": [
    "## Training"
   ]
  },
  {
   "cell_type": "code",
   "execution_count": 187,
   "metadata": {
    "collapsed": false,
    "scrolled": false
   },
   "outputs": [
    {
     "name": "stdout",
     "output_type": "stream",
     "text": [
      "Epoch = 1,Cost = 800.00,Training Accuracy = 0.12, Testing Accuracy = -0.11, Testing MRE =30.28\n",
      "Epoch = 101,Cost = 23.88,Training Accuracy = 0.89, Testing Accuracy = 0.41, Testing MRE =35.22\n",
      "Epoch = 201,Cost = 21.84,Training Accuracy = 0.95, Testing Accuracy = 0.46, Testing MRE =34.18\n",
      "Epoch = 301,Cost = 23.38,Training Accuracy = 0.98, Testing Accuracy = 0.47, Testing MRE =33.94\n",
      "Epoch = 401,Cost = 24.17,Training Accuracy = 0.99, Testing Accuracy = 0.46, Testing MRE =34.02\n",
      "Epoch = 501,Cost = 24.45,Training Accuracy = 0.99, Testing Accuracy = 0.46, Testing MRE =34.30\n",
      "Epoch = 601,Cost = 24.47,Training Accuracy = 1.00, Testing Accuracy = 0.45, Testing MRE =34.55\n",
      "Epoch = 701,Cost = 24.34,Training Accuracy = 1.00, Testing Accuracy = 0.44, Testing MRE =34.69\n",
      "Epoch = 801,Cost = 24.10,Training Accuracy = 1.00, Testing Accuracy = 0.44, Testing MRE =34.80\n",
      "Epoch = 901,Cost = 23.80,Training Accuracy = 1.00, Testing Accuracy = 0.44, Testing MRE =34.87\n",
      "Epoch = 1001,Cost = 23.46,Training Accuracy = 1.00, Testing Accuracy = 0.44, Testing MRE =34.93\n",
      "Epoch = 1101,Cost = 23.10,Training Accuracy = 1.00, Testing Accuracy = 0.44, Testing MRE =34.97\n",
      "Epoch = 1201,Cost = 22.74,Training Accuracy = 1.00, Testing Accuracy = 0.44, Testing MRE =35.01\n",
      "Epoch = 1301,Cost = 22.38,Training Accuracy = 1.00, Testing Accuracy = 0.44, Testing MRE =35.04\n",
      "Epoch = 1401,Cost = 22.02,Training Accuracy = 1.00, Testing Accuracy = 0.44, Testing MRE =35.06\n",
      "Epoch = 1501,Cost = 21.68,Training Accuracy = 1.00, Testing Accuracy = 0.44, Testing MRE =35.07\n",
      "Epoch = 1601,Cost = 21.34,Training Accuracy = 1.00, Testing Accuracy = 0.44, Testing MRE =35.10\n",
      "Epoch = 1701,Cost = 21.02,Training Accuracy = 1.00, Testing Accuracy = 0.44, Testing MRE =35.11\n",
      "Epoch = 1801,Cost = 20.71,Training Accuracy = 1.00, Testing Accuracy = 0.44, Testing MRE =35.13\n",
      "Epoch = 1901,Cost = 20.41,Training Accuracy = 1.00, Testing Accuracy = 0.44, Testing MRE =35.15\n",
      "[ 73.99070152] [ 102.04961395]\n",
      "[ 91.36306728] [ 53.56184006]\n",
      "[ 63.38683726] [ 75.14394379]\n",
      "[ 84.7977266] [ 83.67253113]\n",
      "[ 52.25829943] [ 46.45633698]\n",
      "[ 50.59190421] [ 75.94794464]\n",
      "[ 64.1670572] [ 65.1853714]\n",
      "[ 91.71323266] [ 108.70986938]\n",
      "[ 76.72259093] [ 62.01206589]\n",
      "[ 83.76170589] [ 103.24012756]\n",
      "[ 64.5220154] [ 93.90604401]\n",
      "[ 56.97642928] [ 86.57051086]\n",
      "[ 96.36471014] [ 96.4528656]\n",
      "[ 67.76545849] [ 83.33946228]\n",
      "[ 73.47961447] [ 78.21027374]\n",
      "[ 86.64892467] [ 83.68441772]\n",
      "[ 78.15381975] [ 64.40962982]\n",
      "[ 115.7938413] [ 87.59719086]\n",
      "[ 24.29155205] [ 92.64829254]\n",
      "[ 232.88550969] [ 156.8394165]\n",
      "[ 120.07914431] [ 84.95218658]\n",
      "[ 96.43945426] [ 114.85210419]\n",
      "[ 51.78736529] [ 77.21761322]\n",
      "[ 59.41431969] [ 67.63241577]\n",
      "[ 49.18098967] [ 130.23303223]\n",
      "[ 160.94026414] [ 69.02353668]\n",
      "[ 110.17365474] [ 122.0019455]\n",
      "[ 62.13626534] [ 78.15505981]\n",
      "[ 288.14541835] [ 180.81088257]\n",
      "[ 67.36264484] [ 82.13837433]\n",
      "[ 136.36059051] [ 97.04613495]\n",
      "[ 73.46014706] [ 89.48529816]\n",
      "[ 91.47896317] [ 85.96804047]\n",
      "[ 84.15423997] [ 83.68158722]\n"
     ]
    },
    {
     "data": {
      "image/png": "[encoded data removed]",
      "text/plain": [
       "<matplotlib.figure.Figure at 0x7fdc25cc8cd0>"
      ]
     },
     "metadata": {},
     "output_type": "display_data"
    },
    {
     "name": "stdout",
     "output_type": "stream",
     "text": [
      "Model saved in file: ./nets/tmp/tmp.ckpt\n"
     ]
    }
   ],
   "source": [
    "#Start Training\n",
    "costs=[]\n",
    "\n",
    "#save the model\n",
    "saver = tf.train.Saver()\n",
    "\n",
    "with tf.Session() as sess:\n",
    "    sess.run(init)\n",
    "    for epoch in range(2000):\n",
    "        for i in range(0, len(trn_X),BATCH_SIZE):\n",
    "            _, c = sess.run([optimizer,cost], feed_dict={X:trn_X[i:i+BATCH_SIZE], y:trn_y[i:i+BATCH_SIZE]})\n",
    "        \n",
    "        trn_score = r2_score(trn_y,sess.run(pred, feed_dict={X:trn_X, y:trn_y}))\n",
    "        tst_score = r2_score(tst_y,sess.run(pred, feed_dict={X:tst_X, y:tst_y}))     \n",
    "        tst_mre = mre(tst_y,sess.run(pred,feed_dict={X:tst_X,y:tst_y}))\n",
    "        \n",
    "        costs.append(tst_score)\n",
    "        if epoch % 100 == 0:\n",
    "            print(\"Epoch = %d,Cost = %.2f,Training Accuracy = %.2f, Testing Accuracy = %.2f, Testing MRE =%.2f\" % (epoch + 1,c,trn_score,tst_score,tst_mre))\n",
    "    \n",
    "    final_pred = sess.run(pred,feed_dict={X:tst_X,y:tst_y})\n",
    "    final_pred_trn = sess.run(pred,feed_dict={X:trn_X,y:trn_y})\n",
    "    \n",
    "    for (y,y_hat) in zip(tst_y,final_pred):\n",
    "                print y,y_hat\n",
    "    \n",
    "    \n",
    "    plt.plot(costs)\n",
    "    plt.show()\n",
    "    \n",
    "    save_path = saver.save(sess, \"./nets/tmp/tmp.ckpt\")\n",
    "    print(\"Model saved in file: %s\" % save_path)"
   ]
  },
  {
   "cell_type": "code",
   "execution_count": 188,
   "metadata": {
    "collapsed": false
   },
   "outputs": [
    {
     "data": {
      "image/png": "[encoded data removed]",
      "text/plain": [
       "<matplotlib.figure.Figure at 0x7fdc26977850>"
      ]
     },
     "metadata": {},
     "output_type": "display_data"
    }
   ],
   "source": [
    "\n",
    "MRE_this = mre(tst_y, final_pred)\n",
    "MRE_label = 'MRE: ' + str(round(MRE_this,2))\n",
    "\n",
    "fig = plt.figure()\n",
    "ax = fig.add_subplot(111)\n",
    "est = plt.plot(tst_y, final_pred,'o', label='estimated values')\n",
    "\n",
    "\n",
    "max_val = max(max(tst_y),max(final_pred))\n",
    "plt.ylim([0,max_val+20])\n",
    "plt.xlim([0,max_val+20])\n",
    "\n",
    "thisLine = plt.plot(np.append(0,max_val+20), np.append(0,max_val+20), label='perfect prediction line')\n",
    "\n",
    "plt.plot([],[],linewidth=0, label=MRE_label)\n",
    "plt.legend(loc='upper left')\n",
    "plt.show()"
   ]
  },
  {
   "cell_type": "code",
   "execution_count": null,
   "metadata": {
    "collapsed": true
   },
   "outputs": [],
   "source": []
  }
 ],
 "metadata": {
  "anaconda-cloud": {},
  "kernelspec": {
   "display_name": "tensorflow",
   "language": "python",
   "name": "tensorflow"
  },
  "language_info": {
   "codemirror_mode": {
    "name": "ipython",
    "version": 2
   },
   "file_extension": ".py",
   "mimetype": "text/x-python",
   "name": "python",
   "nbconvert_exporter": "python",
   "pygments_lexer": "ipython2",
   "version": "2.7.13"
  }
 },
 "nbformat": 4,
 "nbformat_minor": 1
}
