{
 "cells": [
  {
   "cell_type": "markdown",
   "metadata": {
    "deletable": true,
    "editable": true
   },
   "source": [
    "## Training the tensorflow model for predictive LCIA\n",
    "### Single Layer Neural Nets"
   ]
  },
  {
   "cell_type": "code",
   "execution_count": 1,
   "metadata": {
    "collapsed": false,
    "deletable": true,
    "editable": true
   },
   "outputs": [
    {
     "name": "stderr",
     "output_type": "stream",
     "text": [
      "/home/runsheng/anaconda2/envs/tensorflow/lib/python2.7/site-packages/sklearn/cross_validation.py:44: DeprecationWarning: This module was deprecated in version 0.18 in favor of the model_selection module into which all the refactored classes and functions are moved. Also note that the interface of the new CV iterators are different from that of this module. This module will be removed in 0.20.\n",
      "  \"This module will be removed in 0.20.\", DeprecationWarning)\n"
     ]
    }
   ],
   "source": [
    "import sys\n",
    "sys.path.append(\"./src\") # append to system path\n",
    "\n",
    "import create_model as mt\n",
    "from sklearn import cross_validation\n",
    "from sklearn.metrics import r2_score\n",
    "from sklearn.decomposition import PCA\n",
    "from sklearn.preprocessing import Normalizer\n",
    "from sklearn.preprocessing import StandardScaler\n",
    "\n",
    "import matplotlib.pyplot as plt\n",
    "\n",
    "#static parameters\n",
    "BATCH_SIZE = 1\n",
    "RUGULARIZATION = 0."
   ]
  },
  {
   "cell_type": "markdown",
   "metadata": {
    "deletable": true,
    "editable": true
   },
   "source": [
    "## Cumulative Energy Demand Model:\n",
    "### Load data\n",
    "from csv"
   ]
  },
  {
   "cell_type": "code",
   "execution_count": 17,
   "metadata": {
    "collapsed": false,
    "deletable": true,
    "editable": true
   },
   "outputs": [],
   "source": [
    "descs_p = './data/descs/descs_Mar07_166.csv'\n",
    "target_p = './data/target/CED.csv'\n",
    "X,y = mt.load_lcia_data(descs_p, target_p)\n",
    "train_x, test_x, train_y, test_y = cross_validation.train_test_split(\n",
    "    X, y, test_size=0.2, random_state=1)"
   ]
  },
  {
   "cell_type": "markdown",
   "metadata": {
    "deletable": true,
    "editable": true
   },
   "source": [
    "### Initilize the Model Object Here\n",
    "start training"
   ]
  },
  {
   "cell_type": "code",
   "execution_count": 18,
   "metadata": {
    "collapsed": false,
    "deletable": true,
    "editable": true
   },
   "outputs": [
    {
     "name": "stdout",
     "output_type": "stream",
     "text": [
      "(132, 77) (132, 1)\n"
     ]
    }
   ],
   "source": [
    "print train_x.shape, train_y.shape"
   ]
  },
  {
   "cell_type": "code",
   "execution_count": 19,
   "metadata": {
    "collapsed": false,
    "deletable": true,
    "editable": true
   },
   "outputs": [],
   "source": [
    "this_model = mt.single_layer_model('./nets/Mar2_CED/CED_Mar2')"
   ]
  },
  {
   "cell_type": "markdown",
   "metadata": {
    "deletable": true,
    "editable": true
   },
   "source": [
    "### Data Preprocessing\n",
    "We have option to do normalization and PCA here (choose one)"
   ]
  },
  {
   "cell_type": "markdown",
   "metadata": {
    "deletable": true,
    "editable": true
   },
   "source": [
    "Standard scaler:"
   ]
  },
  {
   "cell_type": "code",
   "execution_count": 11,
   "metadata": {
    "collapsed": false,
    "deletable": true,
    "editable": true
   },
   "outputs": [],
   "source": [
    "train_x, test_x, vec = this_model.fit_vec(StandardScaler(),train_x, test_x)"
   ]
  },
  {
   "cell_type": "markdown",
   "metadata": {
    "deletable": true,
    "editable": true
   },
   "source": [
    "Or PCA:"
   ]
  },
  {
   "cell_type": "code",
   "execution_count": null,
   "metadata": {
    "collapsed": false,
    "deletable": true,
    "editable": true
   },
   "outputs": [],
   "source": [
    "#normalize the data first\n",
    "\n",
    "pca = PCA(n_components = 500)\n",
    "train_x, test_x, vec = this_model.fit_vec(pca,train_x, test_x)"
   ]
  },
  {
   "cell_type": "code",
   "execution_count": 20,
   "metadata": {
    "collapsed": false
   },
   "outputs": [
    {
     "name": "stdout",
     "output_type": "stream",
     "text": [
      "(132, 77) (132, 1)\n"
     ]
    }
   ],
   "source": [
    "print train_x.shape, train_y.shape"
   ]
  },
  {
   "cell_type": "code",
   "execution_count": 21,
   "metadata": {
    "collapsed": false,
    "deletable": true,
    "editable": true
   },
   "outputs": [
    {
     "name": "stdout",
     "output_type": "stream",
     "text": [
      "epoch 0, train acc: -0.0719889, test acc: -0.818064\n",
      "epoch 100, train acc: 0.933098, test acc: 0.38388\n",
      "epoch 200, train acc: 0.964419, test acc: 0.353443\n",
      "epoch 300, train acc: 0.982494, test acc: 0.294454\n",
      "epoch 400, train acc: 0.99292, test acc: 0.28659\n",
      "epoch 500, train acc: 0.99665, test acc: 0.281634\n",
      "epoch 600, train acc: 0.998608, test acc: 0.293811\n",
      "epoch 700, train acc: 0.999166, test acc: 0.305182\n",
      "epoch 800, train acc: 0.999101, test acc: 0.31602\n",
      "epoch 900, train acc: 0.998478, test acc: 0.315973\n",
      "[ 73.99070152] [ 75.15783691]\n",
      "[ 91.36306728] [ 134.81782532]\n",
      "[ 63.38683726] [ 69.17811584]\n",
      "[ 84.7977266] [ 95.20829773]\n",
      "[ 52.25829943] [ 38.16643906]\n",
      "[ 50.59190421] [ 74.49610901]\n",
      "[ 64.1670572] [ 54.66931152]\n",
      "[ 91.71323266] [ 93.72397614]\n",
      "[ 76.72259093] [ 60.66124725]\n",
      "[ 83.76170589] [ 120.91043091]\n",
      "Model Saved in : ./nets/Mar2_CED/CED_Mar2\n"
     ]
    },
    {
     "data": {
      "image/png": "[encoded data removed]",
      "text/plain": [
       "<matplotlib.figure.Figure at 0x7fc6877000d0>"
      ]
     },
     "metadata": {},
     "output_type": "display_data"
    }
   ],
   "source": [
    "this_model.train(train_x, train_y, test_x, test_y, num_epoch=1000, num_neroun=128, learning_rate=0.01,verbose=False)"
   ]
  },
  {
   "cell_type": "markdown",
   "metadata": {
    "deletable": true,
    "editable": true
   },
   "source": [
    "### Load Model and Predict\n",
    "Load the trained model and predict it on the test data, compare it with the Y"
   ]
  },
  {
   "cell_type": "code",
   "execution_count": null,
   "metadata": {
    "collapsed": false,
    "deletable": true,
    "editable": true
   },
   "outputs": [],
   "source": [
    "new_model = mt.single_layer_model.load_model('./nets/Mar2_CED/CED_Mar2.json')\n",
    "this_pred = new_model.predict(test_x)\n",
    "r2 = r2_score(test_y, this_pred)\n",
    "print r2"
   ]
  },
  {
   "cell_type": "markdown",
   "metadata": {
    "collapsed": true,
    "deletable": true,
    "editable": true
   },
   "source": [
    "# Create the Acidification Model\n",
    "Here I want to try to do data preprocessing separately"
   ]
  },
  {
   "cell_type": "code",
   "execution_count": 81,
   "metadata": {
    "collapsed": false
   },
   "outputs": [],
   "source": [
    "descs_p = './data/descs/descs_Mar08_166_3839.csv'\n",
    "target_p = './data/target/acidification.csv'\n",
    "X,y = mt.load_lcia_data(descs_p, target_p)\n",
    "train_x, test_x, train_y, test_y = cross_validation.train_test_split(\n",
    "    X, y, test_size=0.2, random_state=1)"
   ]
  },
  {
   "cell_type": "code",
   "execution_count": 82,
   "metadata": {
    "collapsed": false
   },
   "outputs": [
    {
     "name": "stdout",
     "output_type": "stream",
     "text": [
      "(132, 3839) (132, 1)\n"
     ]
    }
   ],
   "source": [
    "print train_x.shape, train_y.shape"
   ]
  },
  {
   "cell_type": "markdown",
   "metadata": {},
   "source": [
    "### Data Preprocessing"
   ]
  },
  {
   "cell_type": "markdown",
   "metadata": {},
   "source": [
    "PCA\n",
    "1. Normalize the data first\n",
    "2. Then Do PCA on the normalized data"
   ]
  },
  {
   "cell_type": "code",
   "execution_count": 83,
   "metadata": {
    "collapsed": false
   },
   "outputs": [],
   "source": [
    "this_scale = StandardScaler()\n",
    "this_pca = PCA(n_components=10)\n",
    "\n",
    "train_x = this_scale.fit_transform(train_x)\n",
    "test_x = this_scale.transform(test_x)\n",
    "\n",
    "train_x = this_pca.fit_transform(train_x)\n",
    "test_x = this_pca.transform(test_x)\n",
    "\n"
   ]
  },
  {
   "cell_type": "code",
   "execution_count": 84,
   "metadata": {
    "collapsed": false
   },
   "outputs": [
    {
     "name": "stdout",
     "output_type": "stream",
     "text": [
      "[ -1.88401483e-16   1.21115239e-16   2.69144976e-17  -1.21115239e-16\n",
      "  -5.14739766e-16  -1.95130107e-16  -1.27843863e-16   4.97918205e-16\n",
      "   3.54934937e-16   7.46877307e-16]\n"
     ]
    }
   ],
   "source": [
    "print train_x.mean(axis=0)"
   ]
  },
  {
   "cell_type": "code",
   "execution_count": 85,
   "metadata": {
    "collapsed": false
   },
   "outputs": [
    {
     "data": {
      "image/png": "[encoded data removed]",
      "text/plain": [
       "<matplotlib.figure.Figure at 0x7fc684852c10>"
      ]
     },
     "metadata": {},
     "output_type": "display_data"
    }
   ],
   "source": [
    "plt.scatter(train_x[:,0],train_x[:,1])\n",
    "plt.show()"
   ]
  },
  {
   "cell_type": "markdown",
   "metadata": {},
   "source": [
    "### Initialize the model"
   ]
  },
  {
   "cell_type": "code",
   "execution_count": 86,
   "metadata": {
    "collapsed": false
   },
   "outputs": [
    {
     "name": "stdout",
     "output_type": "stream",
     "text": [
      "(132, 10) (132, 1)\n"
     ]
    }
   ],
   "source": [
    "print train_x.shape, train_y.shape"
   ]
  },
  {
   "cell_type": "code",
   "execution_count": 87,
   "metadata": {
    "collapsed": true
   },
   "outputs": [],
   "source": [
    "acid_model = mt.single_layer_model('./nets/Mar2_acid/acid_Mar2')"
   ]
  },
  {
   "cell_type": "code",
   "execution_count": 94,
   "metadata": {
    "collapsed": false
   },
   "outputs": [
    {
     "name": "stdout",
     "output_type": "stream",
     "text": [
      "epoch 0, train acc: -9.53383, test acc: -35.4246\n",
      "epoch 100, train acc: 0.82, test acc: 0.166331\n",
      "epoch 200, train acc: 0.836897, test acc: 0.149373\n",
      "epoch 300, train acc: 0.847758, test acc: 0.258527\n",
      "epoch 400, train acc: 0.855897, test acc: 0.288428\n",
      "epoch 500, train acc: 0.861688, test acc: 0.347538\n",
      "epoch 600, train acc: 0.865807, test acc: 0.394964\n",
      "epoch 700, train acc: 0.868254, test acc: 0.420403\n",
      "epoch 800, train acc: 0.870838, test acc: 0.434592\n",
      "epoch 900, train acc: 0.873299, test acc: 0.446345\n",
      "epoch 1000, train acc: 0.875106, test acc: 0.453988\n",
      "epoch 1100, train acc: 0.877125, test acc: 0.456099\n",
      "epoch 1200, train acc: 0.878571, test acc: 0.457789\n",
      "epoch 1300, train acc: 0.880299, test acc: 0.459317\n",
      "epoch 1400, train acc: 0.881628, test acc: 0.455072\n",
      "epoch 1500, train acc: 0.882653, test acc: 0.45008\n",
      "epoch 1600, train acc: 0.883869, test acc: 0.452869\n",
      "epoch 1700, train acc: 0.884692, test acc: 0.452237\n",
      "epoch 1800, train acc: 0.885692, test acc: 0.45732\n",
      "epoch 1900, train acc: 0.886389, test acc: 0.457402\n",
      "epoch 2000, train acc: 0.887053, test acc: 0.458126\n",
      "epoch 2100, train acc: 0.88778, test acc: 0.459802\n",
      "epoch 2200, train acc: 0.888232, test acc: 0.464367\n",
      "epoch 2300, train acc: 0.888545, test acc: 0.465149\n",
      "epoch 2400, train acc: 0.889109, test acc: 0.464211\n",
      "epoch 2500, train acc: 0.889627, test acc: 0.466401\n",
      "epoch 2600, train acc: 0.88979, test acc: 0.468396\n",
      "epoch 2700, train acc: 0.890231, test acc: 0.472231\n",
      "epoch 2800, train acc: 0.89071, test acc: 0.471569\n",
      "epoch 2900, train acc: 0.890995, test acc: 0.471367\n",
      "[ 0.98177464] [ 0.78058571]\n",
      "[ 1.3621131] [ 0.91112328]\n",
      "[ 0.19986759] [ 0.50724375]\n",
      "[ 1.135027] [ 1.66011834]\n",
      "[ 1.3793049] [ 0.75745642]\n",
      "[ 0.24359463] [ 0.9026382]\n",
      "[ 0.27871352] [ 2.33157444]\n",
      "[ 1.3008738] [ 2.48266578]\n",
      "[ 0.49525256] [ 0.65696388]\n",
      "[ 1.0148966] [ 1.48901701]\n",
      "Model Saved in : ./nets/Mar2_acid/acid_Mar2\n"
     ]
    },
    {
     "data": {
      "image/png": "[encoded data removed]",
      "text/plain": [
       "<matplotlib.figure.Figure at 0x7fc6877f9790>"
      ]
     },
     "metadata": {},
     "output_type": "display_data"
    }
   ],
   "source": [
    "acid_model.train(train_x, train_y, test_x, test_y, num_epoch=3000, num_neroun=128, learning_rate=0.01,verbose=False)"
   ]
  },
  {
   "cell_type": "markdown",
   "metadata": {},
   "source": [
    "# GWP Model"
   ]
  },
  {
   "cell_type": "code",
   "execution_count": 15,
   "metadata": {
    "collapsed": true
   },
   "outputs": [],
   "source": [
    "descs_p = './data/descs/descs_Mar08_166_3839.csv'\n",
    "target_p = './data/target/GWP.csv'\n",
    "X,y = mt.load_lcia_data(descs_p, target_p)\n",
    "train_x, test_x, train_y, test_y = cross_validation.train_test_split(\n",
    "    X, y, test_size=0.2, random_state=10)"
   ]
  },
  {
   "cell_type": "code",
   "execution_count": 16,
   "metadata": {
    "collapsed": false
   },
   "outputs": [
    {
     "name": "stdout",
     "output_type": "stream",
     "text": [
      "(132, 3839) (132, 1)\n"
     ]
    }
   ],
   "source": [
    "print train_x.shape, train_y.shape"
   ]
  },
  {
   "cell_type": "markdown",
   "metadata": {},
   "source": [
    "### Data Preprocessing\n",
    "PCA\n",
    "1. Normalize the data first\n",
    "2. Then Do PCA on the normalized data"
   ]
  },
  {
   "cell_type": "code",
   "execution_count": 17,
   "metadata": {
    "collapsed": true
   },
   "outputs": [],
   "source": [
    "this_scale = StandardScaler()\n",
    "this_pca = PCA(n_components=10)\n",
    "\n",
    "train_x = this_scale.fit_transform(train_x)\n",
    "test_x = this_scale.transform(test_x)\n",
    "\n",
    "train_x = this_pca.fit_transform(train_x)\n",
    "test_x = this_pca.transform(test_x)"
   ]
  },
  {
   "cell_type": "code",
   "execution_count": 18,
   "metadata": {
    "collapsed": false
   },
   "outputs": [
    {
     "data": {
      "image/png": "[encoded data removed]",
      "text/plain": [
       "<matplotlib.figure.Figure at 0x7f692e78fc90>"
      ]
     },
     "metadata": {},
     "output_type": "display_data"
    }
   ],
   "source": [
    "plt.scatter(train_x[:,0],train_x[:,1])\n",
    "plt.show()"
   ]
  },
  {
   "cell_type": "code",
   "execution_count": 19,
   "metadata": {
    "collapsed": true
   },
   "outputs": [],
   "source": [
    "gwp_model = mt.single_layer_model('./nets/Mar2_gwp/gwp_Mar2')"
   ]
  },
  {
   "cell_type": "code",
   "execution_count": 20,
   "metadata": {
    "collapsed": false
   },
   "outputs": [
    {
     "name": "stdout",
     "output_type": "stream",
     "text": [
      "epoch 0, train acc: 0.0613176, test acc: -0.253127\n",
      "epoch 100, train acc: 0.709939, test acc: -5.49673\n",
      "epoch 200, train acc: 0.722155, test acc: -6.62868\n",
      "epoch 300, train acc: 0.72538, test acc: -6.89179\n",
      "epoch 400, train acc: 0.728009, test acc: -7.1289\n",
      "epoch 500, train acc: 0.730289, test acc: -7.54189\n",
      "epoch 600, train acc: 0.73248, test acc: -8.21605\n",
      "epoch 700, train acc: 0.734384, test acc: -8.77161\n",
      "epoch 800, train acc: 0.736323, test acc: -9.35936\n",
      "epoch 900, train acc: 0.738023, test acc: -9.80508\n",
      "[ 4.2194685] [ 4.55170393]\n",
      "[ 3.7046095] [ 73.10474396]\n",
      "[ 2.7989784] [ 2.13099504]\n",
      "[ 2.1870738] [ 3.51686859]\n",
      "[ 2.9534432] [ 1.89551449]\n",
      "[ 2.4963847] [ 2.24459267]\n",
      "[ 2.5694999] [ 2.21235251]\n",
      "[ 2.3123312] [ 7.96148396]\n",
      "[ 3.7046095] [ 37.7454834]\n",
      "[ 6.9290922] [ 8.05394173]\n",
      "Model Saved in : ./nets/Mar2_gwp/gwp_Mar2\n"
     ]
    },
    {
     "data": {
      "image/png": "[encoded data removed]",
      "text/plain": [
       "<matplotlib.figure.Figure at 0x7f692e863690>"
      ]
     },
     "metadata": {},
     "output_type": "display_data"
    }
   ],
   "source": [
    "gwp_model.train(train_x, train_y, test_x, test_y, num_epoch=1000, num_neroun=10, learning_rate=0.001,verbose=False)"
   ]
  },
  {
   "cell_type": "markdown",
   "metadata": {},
   "source": [
    "# EI99 Model"
   ]
  },
  {
   "cell_type": "code",
   "execution_count": 35,
   "metadata": {
    "collapsed": true
   },
   "outputs": [],
   "source": [
    "descs_p = './data/descs/descs_Mar07_166.csv'\n",
    "target_p = './data/target/EI99.csv'\n",
    "X,y = mt.load_lcia_data(descs_p, target_p)\n",
    "train_x, test_x, train_y, test_y = cross_validation.train_test_split(\n",
    "    X, y, test_size=0.2, random_state=1)"
   ]
  },
  {
   "cell_type": "code",
   "execution_count": 36,
   "metadata": {
    "collapsed": false
   },
   "outputs": [
    {
     "name": "stdout",
     "output_type": "stream",
     "text": [
      "(132, 77) (132, 1)\n"
     ]
    }
   ],
   "source": [
    "print train_x.shape, train_y.shape"
   ]
  },
  {
   "cell_type": "markdown",
   "metadata": {},
   "source": [
    "### Data Preprocessing\n",
    "PCA\n",
    "1. Normalize the data first\n",
    "2. Then Do PCA on the normalized data"
   ]
  },
  {
   "cell_type": "code",
   "execution_count": 28,
   "metadata": {
    "collapsed": true
   },
   "outputs": [],
   "source": [
    "this_scale = StandardScaler()\n",
    "this_pca = PCA(n_components=10)\n",
    "\n",
    "train_x = this_scale.fit_transform(train_x)\n",
    "test_x = this_scale.transform(test_x)\n",
    "\n",
    "train_x = this_pca.fit_transform(train_x)\n",
    "test_x = this_pca.transform(test_x)"
   ]
  },
  {
   "cell_type": "code",
   "execution_count": 37,
   "metadata": {
    "collapsed": false
   },
   "outputs": [
    {
     "data": {
      "image/png": "[encoded data removed]",
      "text/plain": [
       "<matplotlib.figure.Figure at 0x7f68ff698cd0>"
      ]
     },
     "metadata": {},
     "output_type": "display_data"
    }
   ],
   "source": [
    "plt.scatter(train_x[:,0],train_x[:,1])\n",
    "plt.show()"
   ]
  },
  {
   "cell_type": "markdown",
   "metadata": {},
   "source": [
    "### Initialize the model"
   ]
  },
  {
   "cell_type": "code",
   "execution_count": 38,
   "metadata": {
    "collapsed": true
   },
   "outputs": [],
   "source": [
    "ei99_model = mt.single_layer_model('./nets/Mar2_ei99/ei99_Mar2')"
   ]
  },
  {
   "cell_type": "code",
   "execution_count": 39,
   "metadata": {
    "collapsed": false
   },
   "outputs": [
    {
     "name": "stdout",
     "output_type": "stream",
     "text": [
      "epoch 0, train acc: -0.0262548, test acc: -0.0238508\n",
      "epoch 100, train acc: 0.687249, test acc: 0.473098\n",
      "epoch 200, train acc: 0.757064, test acc: 0.440156\n",
      "epoch 300, train acc: 0.769097, test acc: 0.446356\n",
      "epoch 400, train acc: 0.777054, test acc: 0.425171\n",
      "epoch 500, train acc: 0.785009, test acc: 0.406485\n",
      "epoch 600, train acc: 0.789436, test acc: 0.401309\n",
      "epoch 700, train acc: 0.792086, test acc: 0.399004\n",
      "epoch 800, train acc: 0.79549, test acc: 0.40451\n",
      "epoch 900, train acc: 0.798064, test acc: 0.402202\n",
      "[ 0.38153348] [ 0.40909296]\n",
      "[ 0.46538603] [ 0.86778295]\n",
      "[ 0.03352277] [ 0.17614004]\n",
      "[ 0.43350335] [ 0.64791465]\n",
      "[ 0.52045459] [ 0.39199045]\n",
      "[ 0.10351547] [ 0.26163745]\n",
      "[ 0.1155104] [ 0.40875]\n",
      "[ 0.40160288] [ 0.24075902]\n",
      "[ 0.21076428] [ 0.20213343]\n",
      "[ 0.36783612] [ 0.36715317]\n",
      "Model Saved in : ./nets/Mar2_ei99/ei99_Mar2\n"
     ]
    },
    {
     "data": {
      "image/png": "[encoded data removed]",
      "text/plain": [
       "<matplotlib.figure.Figure at 0x7f68ff6d44d0>"
      ]
     },
     "metadata": {},
     "output_type": "display_data"
    }
   ],
   "source": [
    "ei99_model.train(train_x, train_y, test_x, test_y, num_epoch=1000, num_neroun=10, learning_rate=0.001,verbose=False)"
   ]
  },
  {
   "cell_type": "markdown",
   "metadata": {},
   "source": [
    "# Human Health Model"
   ]
  },
  {
   "cell_type": "code",
   "execution_count": 50,
   "metadata": {
    "collapsed": false
   },
   "outputs": [],
   "source": [
    "descs_p = './data/descs/descs_Mar07_166.csv'\n",
    "target_p = './data/target/humanhealth.csv'\n",
    "X,y = mt.load_lcia_data(descs_p, target_p)\n",
    "train_x, test_x, train_y, test_y = cross_validation.train_test_split(\n",
    "    X, y, test_size=0.2, random_state=1)"
   ]
  },
  {
   "cell_type": "code",
   "execution_count": 51,
   "metadata": {
    "collapsed": false
   },
   "outputs": [
    {
     "name": "stdout",
     "output_type": "stream",
     "text": [
      "(132, 77) (132, 1)\n"
     ]
    }
   ],
   "source": [
    "print train_x.shape, train_y.shape"
   ]
  },
  {
   "cell_type": "markdown",
   "metadata": {},
   "source": [
    "### Data Preprocessing\n",
    "PCA\n",
    "1. Normalize the data first\n",
    "2. Then Do PCA on the normalized data"
   ]
  },
  {
   "cell_type": "code",
   "execution_count": 49,
   "metadata": {
    "collapsed": true
   },
   "outputs": [],
   "source": [
    "this_scale = StandardScaler()\n",
    "this_pca = PCA(n_components=10)\n",
    "\n",
    "train_x = this_scale.fit_transform(train_x)\n",
    "test_x = this_scale.transform(test_x)\n",
    "\n",
    "train_x = this_pca.fit_transform(train_x)\n",
    "test_x = this_pca.transform(test_x)"
   ]
  },
  {
   "cell_type": "code",
   "execution_count": 52,
   "metadata": {
    "collapsed": false
   },
   "outputs": [
    {
     "data": {
      "image/png": "[encoded data removed]",
      "text/plain": [
       "<matplotlib.figure.Figure at 0x7f68ff6fc150>"
      ]
     },
     "metadata": {},
     "output_type": "display_data"
    }
   ],
   "source": [
    "plt.scatter(train_x[:,0],train_x[:,1])\n",
    "plt.show()"
   ]
  },
  {
   "cell_type": "markdown",
   "metadata": {},
   "source": [
    "### Initialize the model"
   ]
  },
  {
   "cell_type": "code",
   "execution_count": 53,
   "metadata": {
    "collapsed": true
   },
   "outputs": [],
   "source": [
    "humanhealth_model = mt.single_layer_model('./nets/Mar2_humanhealth/humanhealth_Mar2')"
   ]
  },
  {
   "cell_type": "code",
   "execution_count": 54,
   "metadata": {
    "collapsed": false
   },
   "outputs": [
    {
     "name": "stdout",
     "output_type": "stream",
     "text": [
      "epoch 0, train acc: -1.60132e+06, test acc: -1.28188e+06\n",
      "epoch 100, train acc: -21.9481, test acc: -46.6028\n",
      "epoch 200, train acc: -6.80731, test acc: -10.5943\n",
      "epoch 300, train acc: -2.38175, test acc: -3.25807\n",
      "epoch 400, train acc: -0.771788, test acc: -0.951508\n",
      "epoch 500, train acc: -0.099158, test acc: -0.105339\n",
      "epoch 600, train acc: 0.193725, test acc: 0.208888\n",
      "epoch 700, train acc: 0.308004, test acc: 0.298252\n",
      "epoch 800, train acc: 0.332292, test acc: 0.28605\n",
      "epoch 900, train acc: 0.31263, test acc: 0.232773\n",
      "[ 0.0005346] [ 0.00040465]\n",
      "[ 0.00068644] [ 0.00115772]\n",
      "[  5.56000000e-05] [ 0.00058622]\n",
      "[ 0.00052693] [-0.00034486]\n",
      "[ 0.00074007] [ 0.00086368]\n",
      "[  8.10000000e-05] [ 0.00058544]\n",
      "[  9.59000000e-05] [ 0.00063351]\n",
      "[ 0.00056727] [-0.0001901]\n",
      "[ 0.00018512] [ 0.00026043]\n",
      "[ 0.00045007] [ 0.00044737]\n",
      "Model Saved in : ./nets/Mar2_humanhealth/humanhealth_Mar2\n"
     ]
    },
    {
     "data": {
      "image/png": "[encoded data removed]",
      "text/plain": [
       "<matplotlib.figure.Figure at 0x7f68ff69be90>"
      ]
     },
     "metadata": {},
     "output_type": "display_data"
    }
   ],
   "source": [
    "humanhealth_model.train(train_x, train_y, test_x, test_y, num_epoch=1000, num_neroun=10, learning_rate=0.001,verbose=False)"
   ]
  },
  {
   "cell_type": "markdown",
   "metadata": {},
   "source": [
    "# Ecosystem Quality Model"
   ]
  },
  {
   "cell_type": "code",
   "execution_count": 61,
   "metadata": {
    "collapsed": true
   },
   "outputs": [],
   "source": [
    "descs_p = './data/descs/descs_Mar07_166.csv'\n",
    "target_p = './data/target/ecosystemquality.csv'\n",
    "X,y = mt.load_lcia_data(descs_p, target_p)\n",
    "train_x, test_x, train_y, test_y = cross_validation.train_test_split(\n",
    "    X, y, test_size=0.2, random_state=1)"
   ]
  },
  {
   "cell_type": "code",
   "execution_count": 62,
   "metadata": {
    "collapsed": false
   },
   "outputs": [
    {
     "name": "stdout",
     "output_type": "stream",
     "text": [
      "(132, 77) (132, 1)\n"
     ]
    }
   ],
   "source": [
    "print train_x.shape, train_y.shape"
   ]
  },
  {
   "cell_type": "markdown",
   "metadata": {},
   "source": [
    "### Data Preprocessing\n",
    "PCA\n",
    "1. Normalize the data first\n",
    "2. Then Do PCA on the normalized data"
   ]
  },
  {
   "cell_type": "code",
   "execution_count": 57,
   "metadata": {
    "collapsed": true
   },
   "outputs": [],
   "source": [
    "this_scale = StandardScaler()\n",
    "this_pca = PCA(n_components=10)\n",
    "\n",
    "train_x = this_scale.fit_transform(train_x)\n",
    "test_x = this_scale.transform(test_x)\n",
    "\n",
    "train_x = this_pca.fit_transform(train_x)\n",
    "test_x = this_pca.transform(test_x)"
   ]
  },
  {
   "cell_type": "code",
   "execution_count": 63,
   "metadata": {
    "collapsed": false
   },
   "outputs": [
    {
     "data": {
      "image/png": "[encoded data removed]",
      "text/plain": [
       "<matplotlib.figure.Figure at 0x7f6904695d90>"
      ]
     },
     "metadata": {},
     "output_type": "display_data"
    }
   ],
   "source": [
    "plt.scatter(train_x[:,0],train_x[:,1])\n",
    "plt.show()"
   ]
  },
  {
   "cell_type": "markdown",
   "metadata": {},
   "source": [
    "### Initialize the model"
   ]
  },
  {
   "cell_type": "code",
   "execution_count": 64,
   "metadata": {
    "collapsed": true
   },
   "outputs": [],
   "source": [
    "ecosystemquality_model = mt.single_layer_model('./nets/Mar2_ecosystemquality/ecosystemquality_Mar2')"
   ]
  },
  {
   "cell_type": "code",
   "execution_count": 65,
   "metadata": {
    "collapsed": false
   },
   "outputs": [
    {
     "name": "stdout",
     "output_type": "stream",
     "text": [
      "epoch 0, train acc: -1.69038e+06, test acc: -1.5061e+06\n",
      "epoch 100, train acc: -5.50182, test acc: -6.10765\n",
      "epoch 200, train acc: -0.344139, test acc: -0.518634\n",
      "epoch 300, train acc: -0.871188, test acc: -2.31762\n",
      "epoch 400, train acc: -1.59471, test acc: -4.09655\n",
      "epoch 500, train acc: -1.94277, test acc: -4.82709\n",
      "epoch 600, train acc: -1.99093, test acc: -4.75883\n",
      "epoch 700, train acc: -1.81912, test acc: -4.21527\n",
      "epoch 800, train acc: -1.52417, test acc: -3.42904\n",
      "epoch 900, train acc: -1.19237, test acc: -2.59227\n",
      "[ 0.00010755] [  7.56889931e-05]\n",
      "[ 0.00012583] [ -2.29838115e-05]\n",
      "[  2.34000000e-06] [  3.82433755e-05]\n",
      "[ 0.00011522] [ 0.00072239]\n",
      "[ 0.00012991] [  9.43513587e-05]\n",
      "[  1.17000000e-05] [ -6.73990435e-05]\n",
      "[  1.27000000e-05] [ -6.43587628e-05]\n",
      "[ 0.00011437] [ 0.00039116]\n",
      "[  2.41000000e-05] [  2.80282911e-05]\n",
      "[  9.31000000e-05] [  6.64924009e-05]\n"
     ]
    },
    {
     "ename": "ValueError",
     "evalue": "Parent directory of ./nets/Mar2_ecosystemquality/ecosystemquality_Mar2 doesn't exist, can't save.",
     "output_type": "error",
     "traceback": [
      "\u001b[0;31m---------------------------------------------------------------------------\u001b[0m",
      "\u001b[0;31mValueError\u001b[0m                                Traceback (most recent call last)",
      "\u001b[0;32m<ipython-input-65-456ce1348d16>\u001b[0m in \u001b[0;36m<module>\u001b[0;34m()\u001b[0m\n\u001b[0;32m----> 1\u001b[0;31m \u001b[0mecosystemquality_model\u001b[0m\u001b[0;34m.\u001b[0m\u001b[0mtrain\u001b[0m\u001b[0;34m(\u001b[0m\u001b[0mtrain_x\u001b[0m\u001b[0;34m,\u001b[0m \u001b[0mtrain_y\u001b[0m\u001b[0;34m,\u001b[0m \u001b[0mtest_x\u001b[0m\u001b[0;34m,\u001b[0m \u001b[0mtest_y\u001b[0m\u001b[0;34m,\u001b[0m \u001b[0mnum_epoch\u001b[0m\u001b[0;34m=\u001b[0m\u001b[0;36m1000\u001b[0m\u001b[0;34m,\u001b[0m \u001b[0mnum_neroun\u001b[0m\u001b[0;34m=\u001b[0m\u001b[0;36m10\u001b[0m\u001b[0;34m,\u001b[0m \u001b[0mlearning_rate\u001b[0m\u001b[0;34m=\u001b[0m\u001b[0;36m0.001\u001b[0m\u001b[0;34m,\u001b[0m\u001b[0mverbose\u001b[0m\u001b[0;34m=\u001b[0m\u001b[0mFalse\u001b[0m\u001b[0;34m)\u001b[0m\u001b[0;34m\u001b[0m\u001b[0m\n\u001b[0m",
      "\u001b[0;32m/home/runsheng/workspace/predictive_LCIA/src/create_model.pyc\u001b[0m in \u001b[0;36mtrain\u001b[0;34m(self, trn_X, trn_Y, tst_X, tst_Y, num_epoch, num_neroun, learning_rate, verbose)\u001b[0m\n\u001b[1;32m    136\u001b[0m \u001b[0;34m\u001b[0m\u001b[0m\n\u001b[1;32m    137\u001b[0m             \u001b[0;31m#save\u001b[0m\u001b[0;34m\u001b[0m\u001b[0;34m\u001b[0m\u001b[0m\n\u001b[0;32m--> 138\u001b[0;31m             \u001b[0msave_path\u001b[0m \u001b[0;34m=\u001b[0m \u001b[0msaver\u001b[0m\u001b[0;34m.\u001b[0m\u001b[0msave\u001b[0m\u001b[0;34m(\u001b[0m\u001b[0msess\u001b[0m\u001b[0;34m,\u001b[0m\u001b[0mself\u001b[0m\u001b[0;34m.\u001b[0m\u001b[0msavefile\u001b[0m\u001b[0;34m)\u001b[0m\u001b[0;34m\u001b[0m\u001b[0m\n\u001b[0m\u001b[1;32m    139\u001b[0m             \u001b[0mself\u001b[0m\u001b[0;34m.\u001b[0m\u001b[0minput\u001b[0m \u001b[0;34m=\u001b[0m \u001b[0mtrn_X\u001b[0m\u001b[0;34m.\u001b[0m\u001b[0mshape\u001b[0m\u001b[0;34m[\u001b[0m\u001b[0;36m1\u001b[0m\u001b[0;34m]\u001b[0m\u001b[0;34m\u001b[0m\u001b[0m\n\u001b[1;32m    140\u001b[0m             \u001b[0mself\u001b[0m\u001b[0;34m.\u001b[0m\u001b[0moutput\u001b[0m \u001b[0;34m=\u001b[0m \u001b[0mtrn_Y\u001b[0m\u001b[0;34m.\u001b[0m\u001b[0mshape\u001b[0m\u001b[0;34m[\u001b[0m\u001b[0;36m1\u001b[0m\u001b[0;34m]\u001b[0m\u001b[0;34m\u001b[0m\u001b[0m\n",
      "\u001b[0;32m/home/runsheng/anaconda2/envs/tensorflow/lib/python2.7/site-packages/tensorflow/python/training/saver.pyc\u001b[0m in \u001b[0;36msave\u001b[0;34m(self, sess, save_path, global_step, latest_filename, meta_graph_suffix, write_meta_graph, write_state)\u001b[0m\n\u001b[1;32m   1363\u001b[0m     \u001b[0;32mif\u001b[0m \u001b[0;32mnot\u001b[0m \u001b[0mgfile\u001b[0m\u001b[0;34m.\u001b[0m\u001b[0mIsDirectory\u001b[0m\u001b[0;34m(\u001b[0m\u001b[0mos\u001b[0m\u001b[0;34m.\u001b[0m\u001b[0mpath\u001b[0m\u001b[0;34m.\u001b[0m\u001b[0mdirname\u001b[0m\u001b[0;34m(\u001b[0m\u001b[0msave_path\u001b[0m\u001b[0;34m)\u001b[0m\u001b[0;34m)\u001b[0m\u001b[0;34m:\u001b[0m\u001b[0;34m\u001b[0m\u001b[0m\n\u001b[1;32m   1364\u001b[0m       raise ValueError(\n\u001b[0;32m-> 1365\u001b[0;31m           \"Parent directory of {} doesn't exist, can't save.\".format(save_path))\n\u001b[0m\u001b[1;32m   1366\u001b[0m \u001b[0;34m\u001b[0m\u001b[0m\n\u001b[1;32m   1367\u001b[0m     \u001b[0msave_path\u001b[0m \u001b[0;34m=\u001b[0m \u001b[0mos\u001b[0m\u001b[0;34m.\u001b[0m\u001b[0mpath\u001b[0m\u001b[0;34m.\u001b[0m\u001b[0mdirname\u001b[0m\u001b[0;34m(\u001b[0m\u001b[0msave_path\u001b[0m\u001b[0;34m)\u001b[0m\u001b[0;34m\u001b[0m\u001b[0m\n",
      "\u001b[0;31mValueError\u001b[0m: Parent directory of ./nets/Mar2_ecosystemquality/ecosystemquality_Mar2 doesn't exist, can't save."
     ]
    }
   ],
   "source": [
    "ecosystemquality_model.train(train_x, train_y, test_x, test_y, num_epoch=1000, num_neroun=10, learning_rate=0.001,verbose=False)"
   ]
  },
  {
   "cell_type": "code",
   "execution_count": null,
   "metadata": {
    "collapsed": true
   },
   "outputs": [],
   "source": []
  }
 ],
 "metadata": {
  "kernelspec": {
   "display_name": "tensorflow",
   "language": "python",
   "name": "tensorflow"
  },
  "language_info": {
   "codemirror_mode": {
    "name": "ipython",
    "version": 2
   },
   "file_extension": ".py",
   "mimetype": "text/x-python",
   "name": "python",
   "nbconvert_exporter": "python",
   "pygments_lexer": "ipython2",
   "version": "2.7.13"
  }
 },
 "nbformat": 4,
 "nbformat_minor": 2
}
