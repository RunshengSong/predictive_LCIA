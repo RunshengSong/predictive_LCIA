{
 "cells": [
  {
   "cell_type": "markdown",
   "metadata": {},
   "source": [
    "## Create Multi-Layer NN model using tensorflow\n",
    "\n",
    "So I can adjust the parameters as I want..."
   ]
  },
  {
   "cell_type": "code",
   "execution_count": 1,
   "metadata": {
    "collapsed": false
   },
   "outputs": [
    {
     "name": "stderr",
     "output_type": "stream",
     "text": [
      "/home/runsheng/anaconda2/envs/tensorflow/lib/python2.7/site-packages/sklearn/cross_validation.py:44: DeprecationWarning: This module was deprecated in version 0.18 in favor of the model_selection module into which all the refactored classes and functions are moved. Also note that the interface of the new CV iterators are different from that of this module. This module will be removed in 0.20.\n",
      "  \"This module will be removed in 0.20.\", DeprecationWarning)\n"
     ]
    }
   ],
   "source": [
    "import sys\n",
    "sys.path.append(\"./src\") # append to system path\n",
    "\n",
    "from sklearn import cross_validation\n",
    "from sklearn.metrics import r2_score\n",
    "from sklearn.metrics import mean_absolute_error\n",
    "from sklearn.decomposition import PCA\n",
    "from sklearn.preprocessing import Normalizer\n",
    "from sklearn.preprocessing import StandardScaler\n",
    "\n",
    "import numpy as np\n",
    "import pandas as pd\n",
    "import tensorflow as tf\n",
    "\n",
    "import matplotlib.pyplot as plt\n",
    "from matplotlib import style\n",
    "from matplotlib.patches import Rectangle\n",
    "style.use('ggplot')\n",
    "\n"
   ]
  },
  {
   "cell_type": "code",
   "execution_count": 2,
   "metadata": {
    "collapsed": true
   },
   "outputs": [],
   "source": [
    "def load_lcia_data(descs_p, target_p):\n",
    "    X = pd.read_csv(descs_p,header=0,index_col=None)\n",
    "    X = X.fillna(X.mean())\n",
    "    y = pd.read_csv(target_p,header=0,index_col=None)\n",
    "    return X.values,y.values\n",
    "\n",
    "def mre(true_y,pred_y):\n",
    "    ## Note: does not handle mix 1d representation\n",
    "    #if _is_1d(y_true): \n",
    "    #    y_true, y_pred = _check_1d_array(y_true, y_pred)\n",
    "\n",
    "    return np.mean(np.abs((true_y - pred_y) / true_y)) * 100"
   ]
  },
  {
   "cell_type": "markdown",
   "metadata": {},
   "source": [
    "### Load data\n",
    "from csv"
   ]
  },
  {
   "cell_type": "code",
   "execution_count": 3,
   "metadata": {
    "collapsed": false
   },
   "outputs": [],
   "source": [
    "descs_p = './data/descs/descs_Mar08_166_3839.csv'\n",
    "target_p = './data/target/GWP.csv'\n",
    "X,y = load_lcia_data(descs_p, target_p)\n",
    "\n",
    "trn_X, tst_X, trn_y, tst_y = cross_validation.train_test_split(\n",
    "    X, y, test_size=0.2, random_state=1)"
   ]
  },
  {
   "cell_type": "code",
   "execution_count": 4,
   "metadata": {
    "collapsed": false
   },
   "outputs": [
    {
     "name": "stdout",
     "output_type": "stream",
     "text": [
      "(132, 3839) (132, 1)\n"
     ]
    }
   ],
   "source": [
    "print trn_X.shape, trn_y.shape"
   ]
  },
  {
   "cell_type": "markdown",
   "metadata": {},
   "source": [
    "### Data Preprocessing\n",
    "Normalization + PCA or Just Normalization"
   ]
  },
  {
   "cell_type": "markdown",
   "metadata": {},
   "source": [
    "### Just Scaler"
   ]
  },
  {
   "cell_type": "code",
   "execution_count": 5,
   "metadata": {
    "collapsed": false
   },
   "outputs": [],
   "source": [
    "## Standard Scaler\n",
    "this_scaler = StandardScaler()\n",
    "trn_X = this_scaler.fit_transform(trn_X)\n",
    "tst_X = this_scaler.transform(tst_X)"
   ]
  },
  {
   "cell_type": "code",
   "execution_count": 6,
   "metadata": {
    "collapsed": false
   },
   "outputs": [
    {
     "name": "stdout",
     "output_type": "stream",
     "text": [
      "[[-1.62569245 -0.82660826 -1.4890865  ...,  0.         -0.18698007\n",
      "  -0.21821789]\n",
      " [-0.53138493 -0.06405605 -0.84172575 ...,  0.         -0.18698007\n",
      "  -0.21821789]\n",
      " [-0.6942586  -0.80394144 -0.04137544 ...,  0.         -0.18698007\n",
      "  -0.21821789]\n",
      " ..., \n",
      " [ 1.84400373  2.39461662 -0.68114993 ...,  0.         -0.18698007\n",
      "  -0.21821789]\n",
      " [-0.62897636 -0.58708431 -0.39476866 ...,  0.         -0.18698007\n",
      "  -0.21821789]\n",
      " [ 0.52353195 -0.54496464  1.20245492 ...,  0.         -0.18698007\n",
      "  -0.21821789]]\n",
      "(132, 3839)\n"
     ]
    }
   ],
   "source": [
    "print trn_X\n",
    "print trn_X.shape\n",
    "np.savetxt('trn_X.csv',trn_X,delimiter=',')"
   ]
  },
  {
   "cell_type": "markdown",
   "metadata": {},
   "source": [
    "##  PCA"
   ]
  },
  {
   "cell_type": "code",
   "execution_count": 7,
   "metadata": {
    "collapsed": false
   },
   "outputs": [],
   "source": [
    "### PCA, don't run them together\n",
    "# normalize the data first\n",
    "pca = PCA(n_components = 40)\n",
    "\n",
    "trn_X = pca.fit_transform(trn_X)\n",
    "tst_X = pca.transform(tst_X)"
   ]
  },
  {
   "cell_type": "code",
   "execution_count": 8,
   "metadata": {
    "collapsed": false
   },
   "outputs": [
    {
     "name": "stdout",
     "output_type": "stream",
     "text": [
      "[[ -5.35989501e+01   1.32074575e+01  -1.88421405e+01 ...,  -1.42849752e+00\n",
      "    6.82536053e-01   1.80218448e-02]\n",
      " [ -2.52339582e+01   4.46858405e+00  -3.33329152e+00 ...,   8.71098775e-01\n",
      "    1.41253312e+00   9.03910705e-01]\n",
      " [ -1.06045705e+01  -1.68856950e+00   4.95363773e+00 ...,   5.31475218e-01\n",
      "    1.18847509e-01  -3.03014181e-02]\n",
      " ..., \n",
      " [ -2.55936241e+01   3.59385240e+00  -5.75313977e+00 ...,  -1.13697010e+00\n",
      "   -3.63411535e-01  -7.98743462e-01]\n",
      " [ -1.17147817e+01   1.85059470e+00   1.09457162e+00 ...,  -5.84210863e-01\n",
      "   -1.46217801e+00  -2.07038018e+00]\n",
      " [  2.68647694e+01   4.87049627e+00  -1.07131665e+01 ...,  -2.64485645e-01\n",
      "    4.72427057e+00   8.56841442e+00]]\n",
      "(132, 40)\n",
      "0.910549033655\n"
     ]
    }
   ],
   "source": [
    "print trn_X\n",
    "print trn_X.shape\n",
    "print(reduce(lambda x,y:x+y,pca.explained_variance_ratio_))\n",
    "np.savetxt('trn_X.csv',trn_X,delimiter=',')"
   ]
  },
  {
   "cell_type": "code",
   "execution_count": 9,
   "metadata": {
    "collapsed": false
   },
   "outputs": [
    {
     "data": {
      "image/png": "[encoded data removed]",
      "text/plain": [
       "<matplotlib.figure.Figure at 0x7fd194ff8950>"
      ]
     },
     "metadata": {},
     "output_type": "display_data"
    }
   ],
   "source": [
    "plt.scatter(trn_X[:,0],trn_X[:,1])\n",
    "plt.show()"
   ]
  },
  {
   "cell_type": "markdown",
   "metadata": {},
   "source": [
    "### Build the model"
   ]
  },
  {
   "cell_type": "code",
   "execution_count": 24,
   "metadata": {
    "collapsed": false
   },
   "outputs": [
    {
     "name": "stdout",
     "output_type": "stream",
     "text": [
      "40 1\n"
     ]
    }
   ],
   "source": [
    "def init_weights(shape):\n",
    "    weights = tf.truncated_normal(shape,stddev = 0.1)\n",
    "    return tf.Variable(weights)\n",
    "\n",
    "def bias_variable(shape):\n",
    "  initial = tf.constant(0.1, shape=shape)\n",
    "  return tf.Variable(initial)\n",
    "\n",
    "num_descs = trn_X.shape[1]\n",
    "num_target = trn_y.shape[1]\n",
    "\n",
    "print num_descs,num_target"
   ]
  },
  {
   "cell_type": "code",
   "execution_count": 28,
   "metadata": {
    "collapsed": false
   },
   "outputs": [],
   "source": [
    "##### \n",
    "##Define model structure\n",
    "\n",
    "X = tf.placeholder(tf.float32,shape=[None,num_descs])\n",
    "y = tf.placeholder(tf.float32,shape=[None,num_target])\n",
    "\n",
    "#First layer\n",
    "w1 = init_weights((num_descs,128)) \n",
    "b1 = bias_variable([128])\n",
    "l1 = tf.add(tf.matmul(X,w1),b1)\n",
    "l1 = tf.nn.relu(l1)\n",
    "\n",
    "# Second layer\n",
    "w2 = init_weights((128,128))\n",
    "b2 = bias_variable([128])\n",
    "l2 = tf.add(tf.matmul(l1,w2),b2)\n",
    "l2 = tf.nn.relu(l2)\n",
    "\n",
    "# Third layer\n",
    "w3 = init_weights((128,128))\n",
    "b3 = bias_variable([128])\n",
    "l3 = tf.add(tf.matmul(l2,w3),b3)\n",
    "l3 = tf.nn.sigmoid(l3)\n",
    "\n",
    "#Output layer\n",
    "w_out = init_weights((128,num_target))\n",
    "b_out = bias_variable([num_target])\n",
    "l_out = tf.matmul(l3,w_out) + b_out #no nonlinarity\n",
    "\n",
    "pred = l_out"
   ]
  },
  {
   "cell_type": "code",
   "execution_count": 29,
   "metadata": {
    "collapsed": false
   },
   "outputs": [],
   "source": [
    "#static parameters\n",
    "BATCH_SIZE = 5\n",
    "BETA = 0.001 #regularization weights\n",
    "\n",
    "#Define loss and optimizer \n",
    "#Add regularization term\n",
    "# regularizers = tf.nn.l2_loss(w1) + tf.nn.l2_loss(w2) + tf.nn.l2_loss(w3) + tf.nn.l2_loss(w_out)\n",
    "regularizers = tf.nn.l2_loss(w1) + tf.nn.l2_loss(w2) + tf.nn.l2_loss(w2) + tf.nn.l2_loss(w_out)\n",
    "cost = tf.reduce_mean(tf.square(pred - y) + BETA*regularizers)\n",
    "\n",
    "#Gridient Descent Optimizer\n",
    "optimizer = tf.train.AdagradOptimizer(learning_rate = 0.001).minimize(cost)\n",
    "\n",
    "\n",
    "# Initializing the variables\n",
    "init = tf.global_variables_initializer()"
   ]
  },
  {
   "cell_type": "markdown",
   "metadata": {},
   "source": [
    "## Training"
   ]
  },
  {
   "cell_type": "code",
   "execution_count": 30,
   "metadata": {
    "collapsed": false,
    "scrolled": false
   },
   "outputs": [
    {
     "name": "stdout",
     "output_type": "stream",
     "text": [
      "Epoch = 1,Cost = 7.67,Training Accuracy = -0.11, Testing Accuracy = -0.45, Testing MRE =55.10\n",
      "Epoch = 101,Cost = 0.25,Training Accuracy = 0.08, Testing Accuracy = 0.27, Testing MRE =74.36\n",
      "Epoch = 201,Cost = 0.19,Training Accuracy = 0.11, Testing Accuracy = 0.36, Testing MRE =70.73\n",
      "Epoch = 301,Cost = 0.18,Training Accuracy = 0.13, Testing Accuracy = 0.39, Testing MRE =67.86\n",
      "Epoch = 401,Cost = 0.17,Training Accuracy = 0.14, Testing Accuracy = 0.41, Testing MRE =65.03\n",
      "Epoch = 501,Cost = 0.17,Training Accuracy = 0.16, Testing Accuracy = 0.42, Testing MRE =63.36\n",
      "Epoch = 601,Cost = 0.16,Training Accuracy = 0.17, Testing Accuracy = 0.44, Testing MRE =62.23\n",
      "Epoch = 701,Cost = 0.16,Training Accuracy = 0.18, Testing Accuracy = 0.45, Testing MRE =61.69\n",
      "Epoch = 801,Cost = 0.16,Training Accuracy = 0.19, Testing Accuracy = 0.47, Testing MRE =61.68\n",
      "Epoch = 901,Cost = 0.16,Training Accuracy = 0.20, Testing Accuracy = 0.48, Testing MRE =61.81\n",
      "Epoch = 1001,Cost = 0.16,Training Accuracy = 0.20, Testing Accuracy = 0.48, Testing MRE =61.99\n",
      "Epoch = 1101,Cost = 0.16,Training Accuracy = 0.21, Testing Accuracy = 0.48, Testing MRE =62.15\n",
      "Epoch = 1201,Cost = 0.15,Training Accuracy = 0.22, Testing Accuracy = 0.48, Testing MRE =62.29\n",
      "Epoch = 1301,Cost = 0.15,Training Accuracy = 0.22, Testing Accuracy = 0.47, Testing MRE =62.42\n",
      "Epoch = 1401,Cost = 0.15,Training Accuracy = 0.23, Testing Accuracy = 0.46, Testing MRE =62.64\n",
      "Epoch = 1501,Cost = 0.15,Training Accuracy = 0.23, Testing Accuracy = 0.45, Testing MRE =62.85\n",
      "Epoch = 1601,Cost = 0.15,Training Accuracy = 0.24, Testing Accuracy = 0.44, Testing MRE =63.04\n",
      "Epoch = 1701,Cost = 0.15,Training Accuracy = 0.24, Testing Accuracy = 0.43, Testing MRE =63.22\n",
      "Epoch = 1801,Cost = 0.15,Training Accuracy = 0.25, Testing Accuracy = 0.43, Testing MRE =63.42\n",
      "Epoch = 1901,Cost = 0.15,Training Accuracy = 0.25, Testing Accuracy = 0.42, Testing MRE =63.69\n",
      "Epoch = 2001,Cost = 0.15,Training Accuracy = 0.26, Testing Accuracy = 0.42, Testing MRE =63.98\n",
      "Epoch = 2101,Cost = 0.15,Training Accuracy = 0.26, Testing Accuracy = 0.41, Testing MRE =64.36\n",
      "Epoch = 2201,Cost = 0.15,Training Accuracy = 0.27, Testing Accuracy = 0.40, Testing MRE =64.88\n",
      "Epoch = 2301,Cost = 0.15,Training Accuracy = 0.27, Testing Accuracy = 0.39, Testing MRE =65.39\n",
      "Epoch = 2401,Cost = 0.15,Training Accuracy = 0.28, Testing Accuracy = 0.38, Testing MRE =65.85\n",
      "Epoch = 2501,Cost = 0.15,Training Accuracy = 0.28, Testing Accuracy = 0.37, Testing MRE =66.29\n",
      "Epoch = 2601,Cost = 0.15,Training Accuracy = 0.28, Testing Accuracy = 0.36, Testing MRE =66.72\n",
      "Epoch = 2701,Cost = 0.15,Training Accuracy = 0.29, Testing Accuracy = 0.35, Testing MRE =67.22\n",
      "Epoch = 2801,Cost = 0.15,Training Accuracy = 0.29, Testing Accuracy = 0.34, Testing MRE =67.64\n",
      "Epoch = 2901,Cost = 0.15,Training Accuracy = 0.30, Testing Accuracy = 0.34, Testing MRE =68.04\n",
      "Epoch = 3001,Cost = 0.15,Training Accuracy = 0.30, Testing Accuracy = 0.33, Testing MRE =68.40\n",
      "Epoch = 3101,Cost = 0.15,Training Accuracy = 0.30, Testing Accuracy = 0.32, Testing MRE =68.77\n",
      "Epoch = 3201,Cost = 0.15,Training Accuracy = 0.31, Testing Accuracy = 0.31, Testing MRE =69.12\n",
      "Epoch = 3301,Cost = 0.15,Training Accuracy = 0.31, Testing Accuracy = 0.30, Testing MRE =69.45\n",
      "Epoch = 3401,Cost = 0.15,Training Accuracy = 0.31, Testing Accuracy = 0.29, Testing MRE =69.75\n",
      "[ 2.879435] [ 4.2090888]\n",
      "[ 4.6447316] [-0.33659416]\n",
      "[ 1.5016655] [ 1.47893453]\n",
      "[ 3.7046095] [ 3.64331937]\n",
      "[ 2.9764079] [ 1.17244697]\n",
      "[ 1.2485096] [ 2.84551382]\n",
      "[ 1.7215943] [ 4.58642006]\n",
      "[ 3.8389433] [ 4.38072681]\n",
      "[ 2.5694999] [ 1.80697989]\n",
      "[ 3.3476841] [ 3.75373816]\n",
      "[ 3.3810115] [ 3.13153672]\n",
      "[ 0.92579976] [ 2.3186748]\n",
      "[ 4.3730765] [ 9.61332417]\n",
      "[ 1.8599279] [ 3.45099902]\n",
      "[ 2.5091898] [ 3.79656267]\n",
      "[ 1.0453395] [ 1.0793457]\n",
      "[ 2.4963847] [ 1.91720915]\n",
      "[ 4.6144747] [ 2.22000408]\n",
      "[ 0.49591019] [ 1.86699605]\n",
      "[ 6.1713173] [ 4.36975384]\n",
      "[ 4.4017518] [ 2.21663165]\n",
      "[ 3.8222658] [ 3.61621714]\n",
      "[ 1.7475225] [ 3.68881893]\n",
      "[ 2.9534432] [ 3.98273587]\n",
      "[ 0.69036549] [ 3.18570232]\n",
      "[ 5.0158576] [ 1.09489846]\n",
      "[ 4.4334547] [ 5.50811625]\n",
      "[ 1.6889983] [ 2.50871372]\n",
      "[ 17.523282] [ 10.7568903]\n",
      "[ 2.0734348] [ 1.81343579]\n",
      "[ 4.8718735] [ 2.36766458]\n",
      "[ 2.4408047] [ 2.99143839]\n",
      "[ 2.9773633] [ 7.53379202]\n",
      "[ 3.0539953] [ 3.78714514]\n"
     ]
    },
    {
     "data": {
      "image/png": "[encoded data removed]",
      "text/plain": [
       "<matplotlib.figure.Figure at 0x7fd14077be10>"
      ]
     },
     "metadata": {},
     "output_type": "display_data"
    },
    {
     "name": "stdout",
     "output_type": "stream",
     "text": [
      "Model saved in file: ./nets/tmp/tmp.ckpt\n"
     ]
    }
   ],
   "source": [
    "#Start Training\n",
    "costs=[]\n",
    "\n",
    "#save the model\n",
    "saver = tf.train.Saver()\n",
    "\n",
    "with tf.Session() as sess:\n",
    "    sess.run(init)\n",
    "    for epoch in range(3500):\n",
    "        for i in range(0, len(trn_X),BATCH_SIZE):\n",
    "            _, c = sess.run([optimizer,cost], feed_dict={X:trn_X[i:i+BATCH_SIZE], y:trn_y[i:i+BATCH_SIZE]})\n",
    "        \n",
    "        trn_score = r2_score(trn_y,sess.run(pred, feed_dict={X:trn_X, y:trn_y}))\n",
    "        tst_score = r2_score(tst_y,sess.run(pred, feed_dict={X:tst_X, y:tst_y}))     \n",
    "        tst_mre = mre(tst_y,sess.run(pred,feed_dict={X:tst_X,y:tst_y}))\n",
    "        \n",
    "        costs.append(tst_score)\n",
    "        if epoch % 100 == 0:\n",
    "            print(\"Epoch = %d,Cost = %.2f,Training Accuracy = %.2f, Testing Accuracy = %.2f, Testing MRE =%.2f\" % (epoch + 1,c,trn_score,tst_score,tst_mre))\n",
    "    \n",
    "    final_pred = sess.run(pred,feed_dict={X:tst_X,y:tst_y})\n",
    "    final_pred_trn = sess.run(pred,feed_dict={X:trn_X,y:trn_y})\n",
    "    \n",
    "    for (y,y_hat) in zip(tst_y,final_pred):\n",
    "                print y,y_hat\n",
    "    \n",
    "    \n",
    "    plt.plot(costs)\n",
    "    plt.show()\n",
    "    \n",
    "    save_path = saver.save(sess, \"./nets/tmp/tmp.ckpt\")\n",
    "    print(\"Model saved in file: %s\" % save_path)"
   ]
  },
  {
   "cell_type": "code",
   "execution_count": 31,
   "metadata": {
    "collapsed": false
   },
   "outputs": [
    {
     "data": {
      "image/png": "[encoded data removed]",
      "text/plain": [
       "<matplotlib.figure.Figure at 0x7fd15456ac90>"
      ]
     },
     "metadata": {},
     "output_type": "display_data"
    }
   ],
   "source": [
    "\n",
    "MRE_this = mre(tst_y, final_pred)\n",
    "MRE_label = 'MRE: ' + str(round(MRE_this,2))\n",
    "\n",
    "fig = plt.figure()\n",
    "ax = fig.add_subplot(111)\n",
    "est = plt.plot(tst_y, final_pred,'o', label='estimated values')\n",
    "\n",
    "\n",
    "max_val = max(max(tst_y),max(final_pred))\n",
    "plt.ylim([0,max_val+20])\n",
    "plt.xlim([0,max_val+20])\n",
    "\n",
    "thisLine = plt.plot(np.append(0,max_val+20), np.append(0,max_val+20), label='perfect prediction line')\n",
    "\n",
    "plt.plot([],[],linewidth=0, label=MRE_label)\n",
    "plt.legend(loc='upper left')\n",
    "plt.show()"
   ]
  },
  {
   "cell_type": "code",
   "execution_count": null,
   "metadata": {
    "collapsed": true
   },
   "outputs": [],
   "source": []
  }
 ],
 "metadata": {
  "anaconda-cloud": {},
  "kernelspec": {
   "display_name": "tensorflow",
   "language": "python",
   "name": "tensorflow"
  },
  "language_info": {
   "codemirror_mode": {
    "name": "ipython",
    "version": 2
   },
   "file_extension": ".py",
   "mimetype": "text/x-python",
   "name": "python",
   "nbconvert_exporter": "python",
   "pygments_lexer": "ipython2",
   "version": "2.7.13"
  }
 },
 "nbformat": 4,
 "nbformat_minor": 1
}
