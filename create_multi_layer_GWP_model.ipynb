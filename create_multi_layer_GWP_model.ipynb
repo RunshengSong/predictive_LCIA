{
 "cells": [
  {
   "cell_type": "markdown",
   "metadata": {},
   "source": [
    "## Create Multi-Layer NN model using tensorflow\n",
    "\n",
    "So I can adjust the parameters as I want..."
   ]
  },
  {
   "cell_type": "code",
   "execution_count": 1,
   "metadata": {
    "collapsed": false
   },
   "outputs": [
    {
     "name": "stderr",
     "output_type": "stream",
     "text": [
      "/home/runsheng/anaconda2/envs/tensorflow/lib/python2.7/site-packages/sklearn/cross_validation.py:44: DeprecationWarning: This module was deprecated in version 0.18 in favor of the model_selection module into which all the refactored classes and functions are moved. Also note that the interface of the new CV iterators are different from that of this module. This module will be removed in 0.20.\n",
      "  \"This module will be removed in 0.20.\", DeprecationWarning)\n"
     ]
    }
   ],
   "source": [
    "import sys\n",
    "sys.path.append(\"./src\") # append to system path\n",
    "\n",
    "from sklearn import cross_validation\n",
    "from sklearn.metrics import r2_score\n",
    "from sklearn.metrics import mean_absolute_error\n",
    "from sklearn.decomposition import PCA\n",
    "from sklearn.preprocessing import Normalizer\n",
    "from sklearn.preprocessing import StandardScaler\n",
    "\n",
    "import numpy as np\n",
    "import pandas as pd\n",
    "import tensorflow as tf\n",
    "\n",
    "import matplotlib.pyplot as plt\n",
    "from matplotlib import style\n",
    "from matplotlib.patches import Rectangle\n",
    "style.use('ggplot')\n",
    "\n"
   ]
  },
  {
   "cell_type": "code",
   "execution_count": 2,
   "metadata": {
    "collapsed": true
   },
   "outputs": [],
   "source": [
    "def load_lcia_data(descs_p, target_p):\n",
    "    X = pd.read_csv(descs_p,header=0,index_col=None)\n",
    "    X = X.fillna(0)\n",
    "    y = pd.read_csv(target_p,header=0,index_col=None)\n",
    "    return X.values,y.values\n",
    "\n",
    "def mre(true_y,pred_y):\n",
    "    ## Note: does not handle mix 1d representation\n",
    "    #if _is_1d(y_true): \n",
    "    #    y_true, y_pred = _check_1d_array(y_true, y_pred)\n",
    "\n",
    "    return np.mean(np.abs((true_y - pred_y) / true_y)) * 100"
   ]
  },
  {
   "cell_type": "markdown",
   "metadata": {},
   "source": [
    "### Load Training data\n",
    "The training data has 156 chemicals now. The rest 10 chemicals are test data\n",
    "We also split the training and validation data here\n",
    "We use smaller set (10%) to be the valdiation set (16 chemicals), as the limited size of training chemicals."
   ]
  },
  {
   "cell_type": "code",
   "execution_count": 21,
   "metadata": {
    "collapsed": false
   },
   "outputs": [],
   "source": [
    "descs_p = './data/descs/train/descs_Mar08_3839_train.csv'\n",
    "target_p = './data/target/train/GWP_train.csv'\n",
    "X,y = load_lcia_data(descs_p, target_p)\n",
    "\n",
    "trn_X, val_X, trn_y, val_y = cross_validation.train_test_split(\n",
    "    X, y, test_size=0.1, random_state=1)"
   ]
  },
  {
   "cell_type": "code",
   "execution_count": 22,
   "metadata": {
    "collapsed": false
   },
   "outputs": [
    {
     "name": "stdout",
     "output_type": "stream",
     "text": [
      "(140, 3839) (140, 1)\n"
     ]
    }
   ],
   "source": [
    "print trn_X.shape, trn_y.shape"
   ]
  },
  {
   "cell_type": "markdown",
   "metadata": {},
   "source": [
    "### Load Testing data"
   ]
  },
  {
   "cell_type": "code",
   "execution_count": 23,
   "metadata": {
    "collapsed": true
   },
   "outputs": [],
   "source": [
    "descs_tst = './data/descs/test/descs_Mar08_3839_test.csv'\n",
    "target_tst = './data/target/test/GWP_test.csv'\n",
    "tst_X,tst_y = load_lcia_data(descs_tst, target_tst)"
   ]
  },
  {
   "cell_type": "markdown",
   "metadata": {},
   "source": [
    "### Data Preprocessing\n",
    "Normalization + PCA or Just Normalization"
   ]
  },
  {
   "cell_type": "markdown",
   "metadata": {},
   "source": [
    "### Just Scaler"
   ]
  },
  {
   "cell_type": "code",
   "execution_count": 24,
   "metadata": {
    "collapsed": false
   },
   "outputs": [],
   "source": [
    "## Standard Scaler\n",
    "this_scaler = StandardScaler()\n",
    "trn_X = this_scaler.fit_transform(trn_X)\n",
    "val_X = this_scaler.transform(val_X)\n",
    "tst_X = this_scaler.transform(tst_X)"
   ]
  },
  {
   "cell_type": "code",
   "execution_count": 25,
   "metadata": {
    "collapsed": false
   },
   "outputs": [
    {
     "name": "stdout",
     "output_type": "stream",
     "text": [
      "(140, 3839)\n",
      "(10, 3839)\n",
      "[  2.99363708e-16  -2.61695427e-16   7.77156117e-16 ...,   0.00000000e+00\n",
      "  -5.07530526e-17   8.86195879e-17] [ 1.  1.  1. ...,  0.  1.  1.]\n"
     ]
    }
   ],
   "source": [
    "print trn_X.shape\n",
    "print tst_X.shape\n",
    "print np.mean(trn_X,0),np.std(trn_X,0)"
   ]
  },
  {
   "cell_type": "markdown",
   "metadata": {},
   "source": [
    "##  PCA"
   ]
  },
  {
   "cell_type": "code",
   "execution_count": 26,
   "metadata": {
    "collapsed": false
   },
   "outputs": [],
   "source": [
    "### PCA, don't run them together\n",
    "# normalize the data first\n",
    "pca = PCA(n_components = 40)\n",
    "\n",
    "trn_X = pca.fit_transform(trn_X)\n",
    "val_X = pca.transform(val_X)\n",
    "tst_X = pca.transform(tst_X)"
   ]
  },
  {
   "cell_type": "code",
   "execution_count": 27,
   "metadata": {
    "collapsed": false
   },
   "outputs": [
    {
     "name": "stdout",
     "output_type": "stream",
     "text": [
      "(140, 40) (10, 40)\n",
      "0.910683758872\n"
     ]
    }
   ],
   "source": [
    "\n",
    "print trn_X.shape, tst_X.shape\n",
    "print(reduce(lambda x,y:x+y,pca.explained_variance_ratio_))"
   ]
  },
  {
   "cell_type": "code",
   "execution_count": 28,
   "metadata": {
    "collapsed": false
   },
   "outputs": [
    {
     "data": {
      "image/png": "[encoded data removed]",
      "text/plain": [
       "<matplotlib.figure.Figure at 0x7fd9bc4a6090>"
      ]
     },
     "metadata": {},
     "output_type": "display_data"
    }
   ],
   "source": [
    "plt.scatter(trn_X[:,0],trn_X[:,1])\n",
    "plt.scatter(tst_X[:,0],tst_X[:,1])\n",
    "plt.show()"
   ]
  },
  {
   "cell_type": "code",
   "execution_count": 29,
   "metadata": {
    "collapsed": false
   },
   "outputs": [
    {
     "data": {
      "image/png": "[encoded data removed]",
      "text/plain": [
       "<matplotlib.figure.Figure at 0x7fd9bc451590>"
      ]
     },
     "metadata": {},
     "output_type": "display_data"
    }
   ],
   "source": [
    "n, bins, patches = plt.hist(trn_y, 50, normed=1, facecolor='green', alpha=0.75)\n",
    "plt.show()"
   ]
  },
  {
   "cell_type": "markdown",
   "metadata": {},
   "source": [
    "### Build the model"
   ]
  },
  {
   "cell_type": "code",
   "execution_count": 30,
   "metadata": {
    "collapsed": false
   },
   "outputs": [
    {
     "name": "stdout",
     "output_type": "stream",
     "text": [
      "40 1\n"
     ]
    }
   ],
   "source": [
    "def init_weights(shape):\n",
    "    weights = tf.random_normal(shape,stddev = 0.1)\n",
    "    return tf.Variable(weights)\n",
    "\n",
    "def bias_variable(shape):\n",
    "  initial = tf.constant(0.1, shape=shape)\n",
    "  return tf.Variable(initial)\n",
    "\n",
    "num_descs = trn_X.shape[1]\n",
    "num_target = trn_y.shape[1]\n",
    "\n",
    "print num_descs,num_target"
   ]
  },
  {
   "cell_type": "code",
   "execution_count": 31,
   "metadata": {
    "collapsed": false
   },
   "outputs": [],
   "source": [
    "##### \n",
    "##Define model structure\n",
    "\n",
    "X = tf.placeholder(tf.float32,shape=[None,num_descs])\n",
    "y = tf.placeholder(tf.float32,shape=[None,num_target])\n",
    "\n",
    "#First layer\n",
    "w1 = init_weights((num_descs,128)) \n",
    "b1 = bias_variable([128])\n",
    "l1 = tf.add(tf.matmul(X,w1),b1)\n",
    "l1 = tf.nn.sigmoid(l1)\n",
    "\n",
    "# Second layer\n",
    "w2 = init_weights((128,128))\n",
    "b2 = bias_variable([128])\n",
    "l2 = tf.add(tf.matmul(l1,w2),b2)\n",
    "l2 = tf.nn.sigmoid(l2)\n",
    "\n",
    "# Third layer\n",
    "# w3 = init_weights((128,128))\n",
    "# b3 = bias_variable([128])\n",
    "# l3 = tf.add(tf.matmul(l2,w3),b3)\n",
    "# l3 = tf.nn.sigmoid(l3)\n",
    "\n",
    "#Output layer\n",
    "w_out = init_weights((128,num_target))\n",
    "b_out = bias_variable([num_target])\n",
    "l_out = tf.matmul(l2,w_out) + b_out #no nonlinarity\n",
    "\n",
    "pred = l_out"
   ]
  },
  {
   "cell_type": "code",
   "execution_count": 32,
   "metadata": {
    "collapsed": false
   },
   "outputs": [],
   "source": [
    "#static parameters\n",
    "BATCH_SIZE = 1\n",
    "BETA = 0.01 #regularization weights\n",
    "\n",
    "#Define loss and optimizer \n",
    "#Add regularization term\n",
    "# regularizers = tf.nn.l2_loss(w1) + tf.nn.l2_loss(w2) + tf.nn.l2_loss(w3) + tf.nn.l2_loss(w_out)\n",
    "regularizers = tf.nn.l2_loss(w1) + tf.nn.l2_loss(w2) + tf.nn.l2_loss(w_out)\n",
    "cost = tf.reduce_mean(tf.square(pred - y) + BETA*regularizers)\n",
    "\n",
    "#Gridient Descent Optimizer\n",
    "optimizer = tf.train.AdagradOptimizer(learning_rate = 0.01).minimize(cost)\n",
    "\n",
    "\n",
    "# Initializing the variables\n",
    "init = tf.global_variables_initializer()"
   ]
  },
  {
   "cell_type": "markdown",
   "metadata": {},
   "source": [
    "## Training"
   ]
  },
  {
   "cell_type": "code",
   "execution_count": 33,
   "metadata": {
    "collapsed": false,
    "scrolled": true
   },
   "outputs": [
    {
     "name": "stdout",
     "output_type": "stream",
     "text": [
      "Epoch = 1,Cost = 4832.76,Training Accuracy = 0.03, Validation Accuracy = -1.72, Validation MRE =5150.53\n",
      "Epoch = 11,Cost = 3976.73,Training Accuracy = 0.18, Validation Accuracy = 0.01, Validation MRE =2436.18\n",
      "Epoch = 21,Cost = 3587.40,Training Accuracy = 0.25, Validation Accuracy = 0.13, Validation MRE =2682.77\n",
      "Epoch = 31,Cost = 3307.01,Training Accuracy = 0.30, Validation Accuracy = 0.13, Validation MRE =2780.29\n",
      "Epoch = 41,Cost = 3080.16,Training Accuracy = 0.34, Validation Accuracy = 0.12, Validation MRE =2755.70\n",
      "Epoch = 51,Cost = 2893.93,Training Accuracy = 0.37, Validation Accuracy = 0.13, Validation MRE =2662.13\n",
      "Epoch = 61,Cost = 2734.59,Training Accuracy = 0.40, Validation Accuracy = 0.13, Validation MRE =2536.21\n",
      "Epoch = 71,Cost = 2595.82,Training Accuracy = 0.42, Validation Accuracy = 0.13, Validation MRE =2391.77\n",
      "Epoch = 81,Cost = 2467.08,Training Accuracy = 0.44, Validation Accuracy = 0.12, Validation MRE =2250.26\n",
      "Epoch = 91,Cost = 2347.04,Training Accuracy = 0.46, Validation Accuracy = 0.13, Validation MRE =2131.30\n",
      "Epoch = 101,Cost = 2232.80,Training Accuracy = 0.48, Validation Accuracy = 0.15, Validation MRE =2016.08\n",
      "Epoch = 111,Cost = 2124.03,Training Accuracy = 0.50, Validation Accuracy = 0.18, Validation MRE =1896.96\n",
      "Epoch = 121,Cost = 2022.03,Training Accuracy = 0.52, Validation Accuracy = 0.21, Validation MRE =1780.31\n",
      "Epoch = 131,Cost = 1926.72,Training Accuracy = 0.53, Validation Accuracy = 0.23, Validation MRE =1707.89\n",
      "Epoch = 141,Cost = 1837.96,Training Accuracy = 0.55, Validation Accuracy = 0.24, Validation MRE =1645.21\n",
      "Epoch = 151,Cost = 1753.04,Training Accuracy = 0.56, Validation Accuracy = 0.25, Validation MRE =1588.31\n",
      "Epoch = 161,Cost = 1669.18,Training Accuracy = 0.58, Validation Accuracy = 0.26, Validation MRE =1534.81\n",
      "Epoch = 171,Cost = 1589.05,Training Accuracy = 0.59, Validation Accuracy = 0.27, Validation MRE =1485.78\n",
      "Epoch = 181,Cost = 1511.61,Training Accuracy = 0.60, Validation Accuracy = 0.28, Validation MRE =1436.80\n",
      "Epoch = 191,Cost = 1441.25,Training Accuracy = 0.61, Validation Accuracy = 0.28, Validation MRE =1388.71\n",
      "Epoch = 201,Cost = 1375.99,Training Accuracy = 0.62, Validation Accuracy = 0.29, Validation MRE =1343.69\n",
      "Epoch = 211,Cost = 1314.39,Training Accuracy = 0.63, Validation Accuracy = 0.29, Validation MRE =1303.65\n",
      "Epoch = 221,Cost = 1253.78,Training Accuracy = 0.65, Validation Accuracy = 0.29, Validation MRE =1269.27\n",
      "Epoch = 231,Cost = 1197.53,Training Accuracy = 0.66, Validation Accuracy = 0.29, Validation MRE =1233.84\n",
      "Epoch = 241,Cost = 1145.17,Training Accuracy = 0.66, Validation Accuracy = 0.30, Validation MRE =1194.48\n",
      "Epoch = 251,Cost = 1095.74,Training Accuracy = 0.67, Validation Accuracy = 0.29, Validation MRE =1169.62\n",
      "Epoch = 261,Cost = 1049.05,Training Accuracy = 0.68, Validation Accuracy = 0.28, Validation MRE =1138.76\n",
      "Epoch = 271,Cost = 1004.80,Training Accuracy = 0.69, Validation Accuracy = 0.28, Validation MRE =1108.07\n",
      "Epoch = 281,Cost = 962.77,Training Accuracy = 0.70, Validation Accuracy = 0.27, Validation MRE =1078.16\n",
      "Epoch = 291,Cost = 922.74,Training Accuracy = 0.70, Validation Accuracy = 0.26, Validation MRE =1049.63\n",
      "Epoch = 301,Cost = 884.33,Training Accuracy = 0.71, Validation Accuracy = 0.25, Validation MRE =1023.37\n",
      "Epoch = 311,Cost = 846.20,Training Accuracy = 0.72, Validation Accuracy = 0.25, Validation MRE =998.84\n",
      "Epoch = 321,Cost = 809.45,Training Accuracy = 0.73, Validation Accuracy = 0.24, Validation MRE =990.49\n",
      "Epoch = 331,Cost = 774.96,Training Accuracy = 0.73, Validation Accuracy = 0.23, Validation MRE =974.85\n",
      "Epoch = 341,Cost = 742.30,Training Accuracy = 0.74, Validation Accuracy = 0.22, Validation MRE =960.04\n",
      "Epoch = 351,Cost = 711.24,Training Accuracy = 0.74, Validation Accuracy = 0.21, Validation MRE =946.99\n",
      "Epoch = 361,Cost = 681.64,Training Accuracy = 0.75, Validation Accuracy = 0.19, Validation MRE =935.62\n",
      "Epoch = 371,Cost = 653.39,Training Accuracy = 0.76, Validation Accuracy = 0.18, Validation MRE =925.28\n",
      "Epoch = 381,Cost = 626.41,Training Accuracy = 0.76, Validation Accuracy = 0.17, Validation MRE =912.33\n",
      "Epoch = 391,Cost = 600.73,Training Accuracy = 0.77, Validation Accuracy = 0.15, Validation MRE =901.67\n",
      "Epoch = 401,Cost = 576.05,Training Accuracy = 0.77, Validation Accuracy = 0.14, Validation MRE =903.34\n",
      "Epoch = 411,Cost = 552.40,Training Accuracy = 0.78, Validation Accuracy = 0.13, Validation MRE =899.41\n",
      "Epoch = 421,Cost = 529.72,Training Accuracy = 0.78, Validation Accuracy = 0.12, Validation MRE =894.64\n",
      "Epoch = 431,Cost = 507.99,Training Accuracy = 0.78, Validation Accuracy = 0.10, Validation MRE =890.78\n",
      "Epoch = 441,Cost = 487.13,Training Accuracy = 0.79, Validation Accuracy = 0.09, Validation MRE =888.26\n",
      "Epoch = 451,Cost = 467.13,Training Accuracy = 0.79, Validation Accuracy = 0.07, Validation MRE =887.79\n",
      "Epoch = 461,Cost = 447.96,Training Accuracy = 0.80, Validation Accuracy = 0.06, Validation MRE =897.17\n",
      "Epoch = 471,Cost = 429.64,Training Accuracy = 0.80, Validation Accuracy = 0.07, Validation MRE =904.75\n",
      "Epoch = 481,Cost = 411.90,Training Accuracy = 0.81, Validation Accuracy = 0.04, Validation MRE =892.64\n",
      "Epoch = 491,Cost = 394.87,Training Accuracy = 0.81, Validation Accuracy = 0.03, Validation MRE =888.22\n",
      "Epoch = 501,Cost = 378.50,Training Accuracy = 0.81, Validation Accuracy = 0.01, Validation MRE =886.37\n",
      "Epoch = 511,Cost = 362.78,Training Accuracy = 0.82, Validation Accuracy = -0.00, Validation MRE =884.89\n",
      "Epoch = 521,Cost = 347.66,Training Accuracy = 0.82, Validation Accuracy = -0.02, Validation MRE =883.10\n",
      "Epoch = 531,Cost = 333.12,Training Accuracy = 0.82, Validation Accuracy = -0.03, Validation MRE =880.02\n",
      "Epoch = 541,Cost = 319.15,Training Accuracy = 0.83, Validation Accuracy = -0.05, Validation MRE =870.22\n",
      "Epoch = 551,Cost = 305.79,Training Accuracy = 0.83, Validation Accuracy = -0.07, Validation MRE =862.66\n",
      "Epoch = 561,Cost = 292.90,Training Accuracy = 0.83, Validation Accuracy = -0.08, Validation MRE =876.42\n",
      "Epoch = 571,Cost = 280.46,Training Accuracy = 0.84, Validation Accuracy = -0.09, Validation MRE =880.66\n",
      "Epoch = 581,Cost = 268.48,Training Accuracy = 0.84, Validation Accuracy = -0.10, Validation MRE =881.49\n",
      "Epoch = 591,Cost = 256.95,Training Accuracy = 0.84, Validation Accuracy = -0.11, Validation MRE =882.15\n",
      "Epoch = 601,Cost = 245.85,Training Accuracy = 0.84, Validation Accuracy = -0.13, Validation MRE =883.24\n",
      "Epoch = 611,Cost = 235.14,Training Accuracy = 0.85, Validation Accuracy = -0.14, Validation MRE =884.84\n",
      "Epoch = 621,Cost = 224.73,Training Accuracy = 0.85, Validation Accuracy = -0.15, Validation MRE =887.07\n",
      "Epoch = 631,Cost = 214.30,Training Accuracy = 0.85, Validation Accuracy = -0.17, Validation MRE =889.66\n",
      "Epoch = 641,Cost = 203.88,Training Accuracy = 0.85, Validation Accuracy = -0.18, Validation MRE =882.44\n",
      "Epoch = 651,Cost = 194.16,Training Accuracy = 0.86, Validation Accuracy = -0.19, Validation MRE =886.49\n",
      "Epoch = 661,Cost = 184.90,Training Accuracy = 0.86, Validation Accuracy = -0.19, Validation MRE =906.36\n",
      "Epoch = 671,Cost = 176.08,Training Accuracy = 0.86, Validation Accuracy = -0.20, Validation MRE =912.47\n",
      "Epoch = 681,Cost = 167.66,Training Accuracy = 0.86, Validation Accuracy = -0.21, Validation MRE =915.40\n",
      "Epoch = 691,Cost = 159.61,Training Accuracy = 0.87, Validation Accuracy = -0.22, Validation MRE =917.69\n",
      "Epoch = 701,Cost = 151.91,Training Accuracy = 0.87, Validation Accuracy = -0.23, Validation MRE =919.74\n",
      "Epoch = 711,Cost = 144.55,Training Accuracy = 0.87, Validation Accuracy = -0.24, Validation MRE =922.59\n",
      "Epoch = 721,Cost = 137.51,Training Accuracy = 0.87, Validation Accuracy = -0.25, Validation MRE =924.52\n",
      "Epoch = 731,Cost = 130.77,Training Accuracy = 0.87, Validation Accuracy = -0.26, Validation MRE =925.79\n",
      "Epoch = 741,Cost = 124.30,Training Accuracy = 0.88, Validation Accuracy = -0.27, Validation MRE =926.88\n",
      "Epoch = 751,Cost = 118.10,Training Accuracy = 0.88, Validation Accuracy = -0.28, Validation MRE =927.83\n",
      "Epoch = 761,Cost = 112.16,Training Accuracy = 0.88, Validation Accuracy = -0.29, Validation MRE =928.38\n",
      "Epoch = 771,Cost = 106.47,Training Accuracy = 0.88, Validation Accuracy = -0.30, Validation MRE =926.65\n",
      "Epoch = 781,Cost = 101.03,Training Accuracy = 0.88, Validation Accuracy = -0.31, Validation MRE =910.92\n",
      "Epoch = 791,Cost = 95.90,Training Accuracy = 0.89, Validation Accuracy = -0.32, Validation MRE =915.84\n",
      "[ 4.4334547] [ 12.18896103]\n",
      "[ 2.9764079] [-1.16507006]\n",
      "[ 3.8389433] [ 11.81674957]\n",
      "[ 6.1713173] [ 10.1896801]\n",
      "[ 17.523282] [ 10.77960014]\n",
      "[ 2.5091898] [ 6.83183479]\n",
      "[ 4.3730765] [ 6.95966959]\n",
      "[ 1.2485096] [ 3.75672936]\n",
      "[ 3.3476841] [ 1.4812305]\n",
      "[ 2.5694999] [-0.71760613]\n"
     ]
    },
    {
     "data": {
      "image/png": "[encoded data removed]",
      "text/plain": [
       "<matplotlib.figure.Figure at 0x7fd9a5c00a50>"
      ]
     },
     "metadata": {},
     "output_type": "display_data"
    },
    {
     "name": "stdout",
     "output_type": "stream",
     "text": [
      "Model saved in file: ./nets/tmp/tmp.ckpt\n"
     ]
    }
   ],
   "source": [
    "#Start Training\n",
    "costs=[]\n",
    "\n",
    "#save the model\n",
    "saver = tf.train.Saver()\n",
    "\n",
    "old_score = float('-inf')\n",
    "\n",
    "with tf.Session() as sess:\n",
    "    sess.run(init)\n",
    "    for epoch in range(800):\n",
    "        for i in range(0, len(trn_X),BATCH_SIZE):\n",
    "            _, c = sess.run([optimizer,cost], feed_dict={X:trn_X[i:i+BATCH_SIZE], y:trn_y[i:i+BATCH_SIZE]})\n",
    "        \n",
    "        trn_score = r2_score(trn_y,sess.run(pred, feed_dict={X:trn_X, y:trn_y}))\n",
    "        val_score = r2_score(val_y,sess.run(pred, feed_dict={X:val_X, y:val_y}))     \n",
    "        val_mre = mre(val_y,sess.run(pred,feed_dict={X:val_X,y:val_y}))\n",
    "        \n",
    "        costs.append(val_score)\n",
    "        if epoch % 10 == 0:\n",
    "            print(\"Epoch = %d,Cost = %.2f,Training Accuracy = %.2f, Validation Accuracy = %.2f, Validation MRE =%.2f\" % (epoch + 1,c,trn_score,val_score,val_mre))\n",
    "  \n",
    "    # final pred on the validation set\n",
    "    final_pred_val = sess.run(pred,feed_dict={X:val_X})\n",
    "    # prediction on the testing set\n",
    "    final_pred_test = sess.run(pred,feed_dict={X:tst_X})\n",
    "    \n",
    "    for (y,y_hat) in zip(tst_y,final_pred_test):\n",
    "        print y,y_hat\n",
    "    \n",
    "    \n",
    "    plt.plot(costs)\n",
    "    plt.show()\n",
    "    \n",
    "    save_path = saver.save(sess, \"./nets/tmp/tmp.ckpt\")\n",
    "    print(\"Model saved in file: %s\" % save_path)"
   ]
  },
  {
   "cell_type": "code",
   "execution_count": 34,
   "metadata": {
    "collapsed": false
   },
   "outputs": [
    {
     "name": "stdout",
     "output_type": "stream",
     "text": [
      "-0.286527996578\n"
     ]
    },
    {
     "data": {
      "image/png": "[encoded data removed]",
      "text/plain": [
       "<matplotlib.figure.Figure at 0x7fd9c1b8d610>"
      ]
     },
     "metadata": {},
     "output_type": "display_data"
    }
   ],
   "source": [
    "MRE_this = mre(tst_y, final_pred_test)\n",
    "R2_this = r2_score(tst_y, final_pred_test)\n",
    "print R2_this\n",
    "MRE_label = 'MRE: ' + str(round(MRE_this,2))\n",
    "\n",
    "fig = plt.figure()\n",
    "ax = fig.add_subplot(111)\n",
    "est = plt.plot(tst_y, final_pred_test,'o', label='estimated values')\n",
    "\n",
    "max_val = max(max(tst_y),max(final_pred_test))\n",
    "plt.ylim([0,max_val+1])\n",
    "plt.xlim([0,max_val+1])\n",
    "\n",
    "thisLine = plt.plot(np.append(0,max_val+1), np.append(0,max_val+1), label='perfect prediction line')\n",
    "\n",
    "plt.plot([],[],linewidth=0, label=MRE_label)\n",
    "plt.legend(loc='upper left')\n",
    "plt.show()"
   ]
  },
  {
   "cell_type": "code",
   "execution_count": null,
   "metadata": {
    "collapsed": true
   },
   "outputs": [],
   "source": []
  }
 ],
 "metadata": {
  "anaconda-cloud": {},
  "kernelspec": {
   "display_name": "tensorflow",
   "language": "python",
   "name": "tensorflow"
  },
  "language_info": {
   "codemirror_mode": {
    "name": "ipython",
    "version": 2
   },
   "file_extension": ".py",
   "mimetype": "text/x-python",
   "name": "python",
   "nbconvert_exporter": "python",
   "pygments_lexer": "ipython2",
   "version": "2.7.13"
  }
 },
 "nbformat": 4,
 "nbformat_minor": 1
}
