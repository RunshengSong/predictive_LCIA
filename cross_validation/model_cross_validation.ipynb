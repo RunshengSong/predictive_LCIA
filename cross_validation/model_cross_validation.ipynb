{
 "cells": [
  {
   "cell_type": "markdown",
   "metadata": {},
   "source": [
    "## Cross-validation for number of hidden neuron and hidden layers"
   ]
  },
  {
   "cell_type": "code",
   "execution_count": 11,
   "metadata": {
    "collapsed": false
   },
   "outputs": [],
   "source": [
    "import sys\n",
    "sys.path.append(\"./src\") # append to system path\n",
    "\n",
    "from sklearn import cross_validation\n",
    "from sklearn.metrics import r2_score\n",
    "from sklearn.metrics import mean_absolute_error\n",
    "from sklearn.decomposition import PCA\n",
    "from sklearn.model_selection import KFold\n",
    "from sklearn.preprocessing import Normalizer\n",
    "from sklearn.preprocessing import StandardScaler\n",
    "\n",
    "import numpy as np\n",
    "import pandas as pd\n",
    "import tensorflow as tf\n",
    "\n",
    "import matplotlib.pyplot as plt\n",
    "from matplotlib import style\n",
    "from matplotlib.patches import Rectangle\n",
    "style.use('ggplot')"
   ]
  },
  {
   "cell_type": "code",
   "execution_count": 12,
   "metadata": {
    "collapsed": true
   },
   "outputs": [],
   "source": [
    "def load_lcia_data(descs_p, target_p):\n",
    "    X = pd.read_csv(descs_p,header=0,index_col=None)\n",
    "    X = X.fillna(0)\n",
    "    y = pd.read_csv(target_p,header=0,index_col=None)\n",
    "    return X.values,y.values\n",
    "\n",
    "def mre(true_y,pred_y):\n",
    "    ## Note: does not handle mix 1d representation\n",
    "    #if _is_1d(y_true): \n",
    "    #    y_true, y_pred = _check_1d_array(y_true, y_pred)\n",
    "\n",
    "    return np.mean(np.abs((true_y - pred_y) / true_y)) * 100"
   ]
  },
  {
   "cell_type": "markdown",
   "metadata": {},
   "source": [
    "### Helper functions"
   ]
  },
  {
   "cell_type": "code",
   "execution_count": 35,
   "metadata": {
    "collapsed": false
   },
   "outputs": [],
   "source": [
    "def fit_descs(trn_X,val_X):\n",
    "    #fit descriptors using standard scaler and PCA\n",
    "    this_scaler = StandardScaler()\n",
    "    pca = PCA(n_components = 40)\n",
    "    \n",
    "    trn_X = this_scaler.fit_transform(trn_X)\n",
    "    trn_X = pca.fit_transform(trn_X)\n",
    "    \n",
    "    val_X = this_scaler.transform(val_X)\n",
    "    val_X = pca.transform(val_X)\n",
    "    return trn_X,val_X\n",
    "\n",
    "def init_weights(shape):\n",
    "    weights = tf.random_normal(shape,stddev = 0.1)\n",
    "    return tf.Variable(weights)\n",
    "\n",
    "def bias_variable(shape):\n",
    "    initial = tf.constant(0.1, shape=shape)\n",
    "    return tf.Variable(initial)\n",
    "\n",
    "def build_model_and_train(trn_X, trn_y, val_X,val_y,num_epoch,num_hidden_neuron, lr=0.01,beta=0.01,verbose=True):\n",
    "    # high level function to create NN model\n",
    "    \n",
    "    #Input and Output Dim\n",
    "    num_descs = trn_X.shape[1]\n",
    "    num_target = trn_y.shape[1]\n",
    "    \n",
    "    #Placeholders\n",
    "    X = tf.placeholder(tf.float32,shape=[None,num_descs])\n",
    "    y = tf.placeholder(tf.float32,shape=[None,num_target])\n",
    "    \n",
    "    # First layer\n",
    "    w1 = init_weights((num_descs,num_hidden_neuron)) \n",
    "    b1 = bias_variable([num_hidden_neuron])\n",
    "    l1 = tf.add(tf.matmul(X,w1),b1)\n",
    "    l1 = tf.nn.sigmoid(l1)\n",
    "    \n",
    "    # Output Layer\n",
    "    w_out = init_weights((num_hidden_neuron,num_target))\n",
    "    b_out = bias_variable([num_target])\n",
    "    l_out = tf.matmul(l1,w_out) + b_out #no nonlinarity\n",
    "    \n",
    "    #Prediction\n",
    "    pred = l_out\n",
    "\n",
    "    #Define Cost Function \n",
    "    regularizers = tf.nn.l2_loss(w1) + tf.nn.l2_loss(w_out)\n",
    "    cost = tf.reduce_mean(tf.square(pred - y) + beta*regularizers)\n",
    "\n",
    "    #Gridient Descent Optimizer\n",
    "    optimizer = tf.train.AdagradOptimizer(learning_rate = lr).minimize(cost)\n",
    "\n",
    "    #init session\n",
    "    init = tf.global_variables_initializer()\n",
    "    costs = []\n",
    "    \n",
    "    with tf.Session() as sess:\n",
    "        sess.run(init)\n",
    "        for epoch in range(num_epoch):\n",
    "            for i in range(0, len(trn_X),1):\n",
    "                _, c = sess.run([optimizer,cost], feed_dict={X:trn_X[i:i+1], y:trn_y[i:i+1]})\n",
    "\n",
    "            trn_score = r2_score(trn_y,sess.run(pred, feed_dict={X:trn_X, y:trn_y}))\n",
    "            val_score = r2_score(val_y,sess.run(pred, feed_dict={X:val_X, y:val_y}))\n",
    "            val_mre = mre(val_y,sess.run(pred,feed_dict={X:val_X,y:val_y}))\n",
    "\n",
    "            costs.append(val_score)\n",
    "            if epoch % 20 == 0 and verbose==True:\n",
    "                print(\"Epoch = %d,Cost = %.2f,Training Accuracy = %.2f, Validation Accuracy = %.2f, Validation MRE =%.2f\" % (epoch + 1,c,trn_score,val_score,val_mre))\n",
    "\n",
    "        # final pred on the validation set\n",
    "        final_pred_val = sess.run(pred,feed_dict={X:val_X})\n",
    "    return final_pred_val\n"
   ]
  },
  {
   "cell_type": "markdown",
   "metadata": {},
   "source": [
    "### For Human Health Model -- Single Layer"
   ]
  },
  {
   "cell_type": "markdown",
   "metadata": {},
   "source": [
    "### Load Data, no fitting yet"
   ]
  },
  {
   "cell_type": "code",
   "execution_count": 25,
   "metadata": {
    "collapsed": false
   },
   "outputs": [
    {
     "name": "stdout",
     "output_type": "stream",
     "text": [
      "KFold(n_splits=5, random_state=1, shuffle=False)\n"
     ]
    }
   ],
   "source": [
    "descs_p = '../data/descs/train/descs_Mar08_3839_train.csv'\n",
    "target_p = '../data/target/train/humanhealth_train.csv'\n",
    "X_raw,y_raw = load_lcia_data(descs_p, target_p)\n",
    "\n",
    "kf = KFold(n_splits=5,random_state=1)\n",
    "print kf"
   ]
  },
  {
   "cell_type": "code",
   "execution_count": 26,
   "metadata": {
    "collapsed": false
   },
   "outputs": [
    {
     "name": "stdout",
     "output_type": "stream",
     "text": [
      "Training on Fold  1\n",
      "-5.15788718493\n",
      "Training on Fold  2\n",
      "-24.7718533955\n",
      "Training on Fold  3\n",
      "-9.70725587753\n",
      "Training on Fold  4\n",
      "0.509883471332\n",
      "Training on Fold  5\n",
      "-0.294592798606\n"
     ]
    }
   ],
   "source": [
    "# use this to spilt CV dataset\n",
    "count = 0\n",
    "all_r2 = []\n",
    "for trn_idx,val_idx in kf.split(X_raw,y_raw):\n",
    "    count += 1\n",
    "    trn_X = X_raw[trn_idx]\n",
    "    val_X = X_raw[val_idx]\n",
    "\n",
    "    trn_y = y_raw[trn_idx]\n",
    "    val_y = y_raw[val_idx]\n",
    "    \n",
    "    # Fit descs\n",
    "    trn_X,val_X = fit_descs(trn_X,val_X)\n",
    "    # log target\n",
    "    trn_y = np.log(trn_y)\n",
    "    val_y = np.log(val_y)\n",
    "    \n",
    "    print \"Training on Fold \",count\n",
    "    this_pred = build_model_and_train(trn_X,trn_y,val_X,val_y,\n",
    "                   num_epoch=500,\n",
    "                   num_hidden_neuron=512,\n",
    "                   lr=0.01,\n",
    "                   beta=0.01,\n",
    "                   verbose=False)\n",
    "    this_r2 = r2_score(np.exp(val_y),np.exp(this_pred))\n",
    "    print this_r2\n",
    "    all_r2.append(this_r2)"
   ]
  },
  {
   "cell_type": "code",
   "execution_count": 27,
   "metadata": {
    "collapsed": false
   },
   "outputs": [
    {
     "name": "stdout",
     "output_type": "stream",
     "text": [
      "[-5.1578871849268477, -24.771853395545072, -9.7072558775348252, 0.50988347133162637, -0.29459279860647625]\n",
      "-7.88434115706\n"
     ]
    }
   ],
   "source": [
    "print all_r2\n",
    "print np.mean(all_r2)"
   ]
  },
  {
   "cell_type": "markdown",
   "metadata": {},
   "source": [
    "### For CED Model, Single Layer"
   ]
  },
  {
   "cell_type": "markdown",
   "metadata": {},
   "source": [
    "### Load Data"
   ]
  },
  {
   "cell_type": "code",
   "execution_count": 33,
   "metadata": {
    "collapsed": false
   },
   "outputs": [
    {
     "name": "stdout",
     "output_type": "stream",
     "text": [
      "KFold(n_splits=5, random_state=1, shuffle=False)\n"
     ]
    }
   ],
   "source": [
    "descs_p = '../data/descs/train/descs_Mar08_3839_train.csv'\n",
    "target_p = '../data/target/train/humanhealth_train.csv'\n",
    "X_raw,y_raw = load_lcia_data(descs_p, target_p)\n",
    "\n",
    "kf = KFold(n_splits=5,random_state=1)\n",
    "print kf"
   ]
  },
  {
   "cell_type": "code",
   "execution_count": 34,
   "metadata": {
    "collapsed": false
   },
   "outputs": [
    {
     "name": "stdout",
     "output_type": "stream",
     "text": [
      "Training on Fold  1\n",
      "Epoch = 1,Cost = 0.03,Training Accuracy = -20315.93, Validation Accuracy = -45372.21, Validation MRE =18580.70\n",
      "Epoch = 6,Cost = 0.02,Training Accuracy = -2791.55, Validation Accuracy = -7430.37, Validation MRE =6813.49\n",
      "Epoch = 11,Cost = 0.01,Training Accuracy = -1213.73, Validation Accuracy = -4573.80, Validation MRE =4360.39\n",
      "Epoch = 16,Cost = 0.01,Training Accuracy = -705.51, Validation Accuracy = -3411.16, Validation MRE =3256.25\n",
      "Epoch = 21,Cost = 0.01,Training Accuracy = -459.36, Validation Accuracy = -2626.00, Validation MRE =2581.95\n",
      "Epoch = 26,Cost = 0.01,Training Accuracy = -314.30, Validation Accuracy = -1994.49, Validation MRE =2119.22\n",
      "Epoch = 31,Cost = 0.00,Training Accuracy = -212.03, Validation Accuracy = -1447.05, Validation MRE =1769.11\n",
      "Epoch = 36,Cost = 0.00,Training Accuracy = -122.41, Validation Accuracy = -963.79, Validation MRE =1495.19\n",
      "Epoch = 41,Cost = 0.00,Training Accuracy = -65.78, Validation Accuracy = -630.89, Validation MRE =1253.22\n",
      "Epoch = 46,Cost = 0.00,Training Accuracy = -43.38, Validation Accuracy = -457.10, Validation MRE =1111.05\n",
      "Epoch = 51,Cost = 0.00,Training Accuracy = -30.77, Validation Accuracy = -348.06, Validation MRE =992.26\n",
      "Epoch = 56,Cost = 0.00,Training Accuracy = -22.33, Validation Accuracy = -268.49, Validation MRE =903.42\n",
      "Epoch = 61,Cost = 0.00,Training Accuracy = -16.41, Validation Accuracy = -207.99, Validation MRE =828.12\n",
      "Epoch = 66,Cost = 0.00,Training Accuracy = -12.17, Validation Accuracy = -161.91, Validation MRE =761.20\n",
      "Epoch = 71,Cost = 0.00,Training Accuracy = -9.10, Validation Accuracy = -127.05, Validation MRE =700.69\n",
      "Epoch = 76,Cost = 0.00,Training Accuracy = -6.86, Validation Accuracy = -100.83, Validation MRE =645.45\n",
      "Epoch = 81,Cost = 0.00,Training Accuracy = -5.20, Validation Accuracy = -81.12, Validation MRE =595.71\n",
      "Epoch = 86,Cost = 0.00,Training Accuracy = -3.96, Validation Accuracy = -66.28, Validation MRE =548.86\n",
      "Epoch = 91,Cost = 0.00,Training Accuracy = -3.02, Validation Accuracy = -55.02, Validation MRE =504.94\n",
      "Epoch = 96,Cost = 0.00,Training Accuracy = -2.31, Validation Accuracy = -46.38, Validation MRE =462.20\n",
      "Epoch = 101,Cost = 0.00,Training Accuracy = -1.77, Validation Accuracy = -39.62, Validation MRE =420.73\n",
      "Epoch = 106,Cost = 0.00,Training Accuracy = -1.34, Validation Accuracy = -34.20, Validation MRE =380.74\n",
      "Epoch = 111,Cost = 0.00,Training Accuracy = -1.01, Validation Accuracy = -29.72, Validation MRE =342.48\n",
      "Epoch = 116,Cost = 0.00,Training Accuracy = -0.74, Validation Accuracy = -25.89, Validation MRE =307.53\n",
      "Epoch = 121,Cost = 0.00,Training Accuracy = -0.52, Validation Accuracy = -22.55, Validation MRE =275.15\n",
      "Epoch = 126,Cost = 0.00,Training Accuracy = -0.34, Validation Accuracy = -19.57, Validation MRE =246.99\n",
      "Epoch = 131,Cost = 0.00,Training Accuracy = -0.20, Validation Accuracy = -16.88, Validation MRE =221.55\n",
      "Epoch = 136,Cost = 0.00,Training Accuracy = -0.08, Validation Accuracy = -14.45, Validation MRE =198.17\n",
      "Epoch = 141,Cost = 0.00,Training Accuracy = 0.02, Validation Accuracy = -12.27, Validation MRE =180.97\n",
      "Epoch = 146,Cost = 0.00,Training Accuracy = 0.11, Validation Accuracy = -10.33, Validation MRE =169.02\n",
      "Epoch = 151,Cost = 0.00,Training Accuracy = 0.17, Validation Accuracy = -8.62, Validation MRE =157.38\n",
      "Epoch = 156,Cost = 0.00,Training Accuracy = 0.23, Validation Accuracy = -7.12, Validation MRE =146.14\n",
      "Epoch = 161,Cost = 0.00,Training Accuracy = 0.28, Validation Accuracy = -5.85, Validation MRE =135.38\n",
      "Epoch = 166,Cost = 0.00,Training Accuracy = 0.32, Validation Accuracy = -4.76, Validation MRE =128.62\n",
      "Epoch = 171,Cost = 0.00,Training Accuracy = 0.35, Validation Accuracy = -3.85, Validation MRE =125.27\n",
      "Epoch = 176,Cost = 0.00,Training Accuracy = 0.38, Validation Accuracy = -3.11, Validation MRE =124.84\n",
      "Epoch = 181,Cost = 0.00,Training Accuracy = 0.41, Validation Accuracy = -2.49, Validation MRE =127.24\n",
      "Epoch = 186,Cost = 0.00,Training Accuracy = 0.43, Validation Accuracy = -2.00, Validation MRE =129.31\n",
      "Epoch = 191,Cost = 0.00,Training Accuracy = 0.45, Validation Accuracy = -1.60, Validation MRE =131.11\n",
      "Epoch = 196,Cost = 0.00,Training Accuracy = 0.47, Validation Accuracy = -1.29, Validation MRE =132.70\n",
      "Epoch = 201,Cost = 0.00,Training Accuracy = 0.48, Validation Accuracy = -1.04, Validation MRE =134.18\n",
      "Epoch = 206,Cost = 0.00,Training Accuracy = 0.50, Validation Accuracy = -0.85, Validation MRE =135.57\n",
      "Epoch = 211,Cost = 0.00,Training Accuracy = 0.51, Validation Accuracy = -0.69, Validation MRE =136.81\n",
      "Epoch = 216,Cost = 0.00,Training Accuracy = 0.52, Validation Accuracy = -0.57, Validation MRE =137.95\n",
      "Epoch = 221,Cost = 0.00,Training Accuracy = 0.54, Validation Accuracy = -0.48, Validation MRE =138.97\n",
      "Epoch = 226,Cost = 0.00,Training Accuracy = 0.54, Validation Accuracy = -0.41, Validation MRE =140.06\n",
      "Epoch = 231,Cost = 0.00,Training Accuracy = 0.55, Validation Accuracy = -0.35, Validation MRE =141.39\n",
      "Epoch = 236,Cost = 0.00,Training Accuracy = 0.56, Validation Accuracy = -0.30, Validation MRE =142.58\n",
      "Epoch = 241,Cost = 0.00,Training Accuracy = 0.56, Validation Accuracy = -0.26, Validation MRE =143.78\n",
      "Epoch = 246,Cost = 0.00,Training Accuracy = 0.57, Validation Accuracy = -0.23, Validation MRE =144.88\n",
      "Epoch = 251,Cost = 0.00,Training Accuracy = 0.57, Validation Accuracy = -0.20, Validation MRE =145.84\n",
      "Epoch = 256,Cost = 0.00,Training Accuracy = 0.58, Validation Accuracy = -0.18, Validation MRE =146.68\n",
      "Epoch = 261,Cost = 0.00,Training Accuracy = 0.58, Validation Accuracy = -0.16, Validation MRE =147.45\n",
      "Epoch = 266,Cost = 0.00,Training Accuracy = 0.58, Validation Accuracy = -0.14, Validation MRE =148.16\n",
      "Epoch = 271,Cost = 0.00,Training Accuracy = 0.58, Validation Accuracy = -0.13, Validation MRE =148.83\n",
      "Epoch = 276,Cost = 0.00,Training Accuracy = 0.58, Validation Accuracy = -0.12, Validation MRE =149.47\n",
      "Epoch = 281,Cost = 0.00,Training Accuracy = 0.58, Validation Accuracy = -0.11, Validation MRE =150.04\n",
      "Epoch = 286,Cost = 0.00,Training Accuracy = 0.58, Validation Accuracy = -0.10, Validation MRE =150.56\n",
      "Epoch = 291,Cost = 0.00,Training Accuracy = 0.58, Validation Accuracy = -0.09, Validation MRE =151.05\n",
      "Epoch = 296,Cost = 0.00,Training Accuracy = 0.58, Validation Accuracy = -0.08, Validation MRE =151.53\n",
      "Epoch = 301,Cost = 0.00,Training Accuracy = 0.58, Validation Accuracy = -0.07, Validation MRE =151.99\n",
      "Epoch = 306,Cost = 0.00,Training Accuracy = 0.58, Validation Accuracy = -0.06, Validation MRE =152.42\n",
      "Epoch = 311,Cost = 0.00,Training Accuracy = 0.57, Validation Accuracy = -0.06, Validation MRE =152.93\n",
      "Epoch = 316,Cost = 0.00,Training Accuracy = 0.57, Validation Accuracy = -0.05, Validation MRE =153.50\n",
      "Epoch = 321,Cost = 0.00,Training Accuracy = 0.57, Validation Accuracy = -0.05, Validation MRE =154.08\n",
      "Epoch = 326,Cost = 0.00,Training Accuracy = 0.57, Validation Accuracy = -0.04, Validation MRE =154.65\n",
      "Epoch = 331,Cost = 0.00,Training Accuracy = 0.56, Validation Accuracy = -0.04, Validation MRE =155.20\n",
      "Epoch = 336,Cost = 0.00,Training Accuracy = 0.56, Validation Accuracy = -0.03, Validation MRE =155.72\n",
      "Epoch = 341,Cost = 0.00,Training Accuracy = 0.56, Validation Accuracy = -0.03, Validation MRE =156.23\n",
      "Epoch = 346,Cost = 0.00,Training Accuracy = 0.55, Validation Accuracy = -0.03, Validation MRE =156.72\n",
      "Epoch = 351,Cost = 0.00,Training Accuracy = 0.55, Validation Accuracy = -0.02, Validation MRE =157.20\n",
      "Epoch = 356,Cost = 0.00,Training Accuracy = 0.55, Validation Accuracy = -0.02, Validation MRE =157.66\n",
      "Epoch = 361,Cost = 0.00,Training Accuracy = 0.54, Validation Accuracy = -0.02, Validation MRE =158.11\n",
      "Epoch = 366,Cost = 0.00,Training Accuracy = 0.54, Validation Accuracy = -0.01, Validation MRE =158.55\n",
      "Epoch = 371,Cost = 0.00,Training Accuracy = 0.54, Validation Accuracy = -0.01, Validation MRE =158.99\n",
      "Epoch = 376,Cost = 0.00,Training Accuracy = 0.53, Validation Accuracy = -0.01, Validation MRE =159.42\n",
      "Epoch = 381,Cost = 0.00,Training Accuracy = 0.53, Validation Accuracy = -0.01, Validation MRE =159.85\n",
      "Epoch = 386,Cost = 0.00,Training Accuracy = 0.53, Validation Accuracy = -0.01, Validation MRE =160.33\n",
      "Epoch = 391,Cost = 0.00,Training Accuracy = 0.52, Validation Accuracy = -0.00, Validation MRE =160.80\n",
      "Epoch = 396,Cost = 0.00,Training Accuracy = 0.52, Validation Accuracy = -0.00, Validation MRE =161.28\n",
      "Epoch = 401,Cost = 0.00,Training Accuracy = 0.51, Validation Accuracy = -0.00, Validation MRE =161.75\n",
      "Epoch = 406,Cost = 0.00,Training Accuracy = 0.51, Validation Accuracy = 0.00, Validation MRE =162.22\n",
      "Epoch = 411,Cost = 0.00,Training Accuracy = 0.50, Validation Accuracy = 0.00, Validation MRE =162.70\n",
      "Epoch = 416,Cost = 0.00,Training Accuracy = 0.50, Validation Accuracy = 0.00, Validation MRE =163.17\n",
      "Epoch = 421,Cost = 0.00,Training Accuracy = 0.50, Validation Accuracy = 0.00, Validation MRE =163.64\n",
      "Epoch = 426,Cost = 0.00,Training Accuracy = 0.49, Validation Accuracy = 0.00, Validation MRE =164.12\n",
      "Epoch = 431,Cost = 0.00,Training Accuracy = 0.49, Validation Accuracy = 0.00, Validation MRE =164.59\n",
      "Epoch = 436,Cost = 0.00,Training Accuracy = 0.48, Validation Accuracy = 0.00, Validation MRE =165.07\n",
      "Epoch = 441,Cost = 0.00,Training Accuracy = 0.48, Validation Accuracy = 0.00, Validation MRE =165.54\n",
      "Epoch = 446,Cost = 0.00,Training Accuracy = 0.47, Validation Accuracy = 0.00, Validation MRE =166.02\n",
      "Epoch = 451,Cost = 0.00,Training Accuracy = 0.47, Validation Accuracy = 0.00, Validation MRE =166.50\n",
      "Epoch = 456,Cost = 0.00,Training Accuracy = 0.46, Validation Accuracy = 0.00, Validation MRE =166.98\n",
      "Epoch = 461,Cost = 0.00,Training Accuracy = 0.46, Validation Accuracy = 0.00, Validation MRE =167.47\n",
      "Epoch = 466,Cost = 0.00,Training Accuracy = 0.45, Validation Accuracy = -0.00, Validation MRE =167.96\n",
      "Epoch = 471,Cost = 0.00,Training Accuracy = 0.45, Validation Accuracy = -0.00, Validation MRE =168.46\n",
      "Epoch = 476,Cost = 0.00,Training Accuracy = 0.44, Validation Accuracy = -0.00, Validation MRE =168.95\n",
      "Epoch = 481,Cost = 0.00,Training Accuracy = 0.44, Validation Accuracy = -0.01, Validation MRE =169.45\n",
      "Epoch = 486,Cost = 0.00,Training Accuracy = 0.43, Validation Accuracy = -0.01, Validation MRE =169.94\n",
      "Epoch = 491,Cost = 0.00,Training Accuracy = 0.42, Validation Accuracy = -0.01, Validation MRE =170.43\n",
      "Epoch = 496,Cost = 0.00,Training Accuracy = 0.42, Validation Accuracy = -0.01, Validation MRE =170.92\n",
      "Epoch = 501,Cost = 0.00,Training Accuracy = 0.41, Validation Accuracy = -0.01, Validation MRE =171.41\n",
      "Epoch = 506,Cost = 0.00,Training Accuracy = 0.41, Validation Accuracy = -0.02, Validation MRE =171.89\n",
      "Epoch = 511,Cost = 0.00,Training Accuracy = 0.40, Validation Accuracy = -0.02, Validation MRE =172.38\n",
      "Epoch = 516,Cost = 0.00,Training Accuracy = 0.40, Validation Accuracy = -0.02, Validation MRE =172.86\n",
      "Epoch = 521,Cost = 0.00,Training Accuracy = 0.39, Validation Accuracy = -0.03, Validation MRE =173.35\n",
      "Epoch = 526,Cost = 0.00,Training Accuracy = 0.39, Validation Accuracy = -0.03, Validation MRE =173.83\n",
      "Epoch = 531,Cost = 0.00,Training Accuracy = 0.38, Validation Accuracy = -0.03, Validation MRE =174.31\n",
      "Epoch = 536,Cost = 0.00,Training Accuracy = 0.38, Validation Accuracy = -0.04, Validation MRE =174.78\n",
      "Epoch = 541,Cost = 0.00,Training Accuracy = 0.37, Validation Accuracy = -0.04, Validation MRE =175.26\n",
      "Epoch = 546,Cost = 0.00,Training Accuracy = 0.36, Validation Accuracy = -0.04, Validation MRE =175.73\n",
      "Epoch = 551,Cost = 0.00,Training Accuracy = 0.36, Validation Accuracy = -0.05, Validation MRE =176.20\n",
      "Epoch = 556,Cost = 0.00,Training Accuracy = 0.35, Validation Accuracy = -0.05, Validation MRE =176.66\n",
      "Epoch = 561,Cost = 0.00,Training Accuracy = 0.35, Validation Accuracy = -0.06, Validation MRE =177.12\n",
      "Epoch = 566,Cost = 0.00,Training Accuracy = 0.34, Validation Accuracy = -0.06, Validation MRE =177.58\n",
      "Epoch = 571,Cost = 0.00,Training Accuracy = 0.34, Validation Accuracy = -0.06, Validation MRE =178.07\n",
      "Epoch = 576,Cost = 0.00,Training Accuracy = 0.33, Validation Accuracy = -0.07, Validation MRE =178.56\n",
      "Epoch = 581,Cost = 0.00,Training Accuracy = 0.32, Validation Accuracy = -0.07, Validation MRE =179.04\n",
      "Epoch = 586,Cost = 0.00,Training Accuracy = 0.32, Validation Accuracy = -0.08, Validation MRE =179.52\n",
      "Epoch = 591,Cost = 0.00,Training Accuracy = 0.31, Validation Accuracy = -0.08, Validation MRE =180.00\n",
      "Epoch = 596,Cost = 0.00,Training Accuracy = 0.31, Validation Accuracy = -0.09, Validation MRE =180.47\n",
      "Epoch = 601,Cost = 0.00,Training Accuracy = 0.30, Validation Accuracy = -0.09, Validation MRE =180.94\n",
      "Epoch = 606,Cost = 0.00,Training Accuracy = 0.30, Validation Accuracy = -0.10, Validation MRE =181.41\n",
      "Epoch = 611,Cost = 0.00,Training Accuracy = 0.29, Validation Accuracy = -0.10, Validation MRE =181.88\n",
      "Epoch = 616,Cost = 0.00,Training Accuracy = 0.29, Validation Accuracy = -0.11, Validation MRE =182.36\n",
      "Epoch = 621,Cost = 0.00,Training Accuracy = 0.28, Validation Accuracy = -0.11, Validation MRE =182.82\n",
      "Epoch = 626,Cost = 0.00,Training Accuracy = 0.28, Validation Accuracy = -0.12, Validation MRE =183.28\n",
      "Epoch = 631,Cost = 0.00,Training Accuracy = 0.27, Validation Accuracy = -0.12, Validation MRE =183.74\n",
      "Epoch = 636,Cost = 0.00,Training Accuracy = 0.26, Validation Accuracy = -0.13, Validation MRE =184.19\n",
      "Epoch = 641,Cost = 0.00,Training Accuracy = 0.26, Validation Accuracy = -0.13, Validation MRE =184.63\n",
      "Epoch = 646,Cost = 0.00,Training Accuracy = 0.25, Validation Accuracy = -0.14, Validation MRE =185.07\n",
      "Epoch = 651,Cost = 0.00,Training Accuracy = 0.25, Validation Accuracy = -0.14, Validation MRE =185.51\n",
      "Epoch = 656,Cost = 0.00,Training Accuracy = 0.24, Validation Accuracy = -0.15, Validation MRE =185.99\n",
      "Epoch = 661,Cost = 0.00,Training Accuracy = 0.24, Validation Accuracy = -0.15, Validation MRE =186.46\n",
      "Epoch = 666,Cost = 0.00,Training Accuracy = 0.23, Validation Accuracy = -0.16, Validation MRE =186.92\n",
      "Epoch = 671,Cost = 0.00,Training Accuracy = 0.23, Validation Accuracy = -0.16, Validation MRE =187.38\n",
      "Epoch = 676,Cost = 0.00,Training Accuracy = 0.22, Validation Accuracy = -0.17, Validation MRE =187.84\n",
      "Epoch = 681,Cost = 0.00,Training Accuracy = 0.22, Validation Accuracy = -0.18, Validation MRE =188.28\n",
      "Epoch = 686,Cost = 0.00,Training Accuracy = 0.21, Validation Accuracy = -0.18, Validation MRE =188.72\n",
      "Epoch = 691,Cost = 0.00,Training Accuracy = 0.21, Validation Accuracy = -0.19, Validation MRE =189.16\n",
      "Epoch = 696,Cost = 0.00,Training Accuracy = 0.20, Validation Accuracy = -0.19, Validation MRE =189.59\n",
      "Epoch = 701,Cost = 0.00,Training Accuracy = 0.20, Validation Accuracy = -0.20, Validation MRE =190.01\n",
      "Epoch = 706,Cost = 0.00,Training Accuracy = 0.19, Validation Accuracy = -0.20, Validation MRE =190.42\n",
      "Epoch = 711,Cost = 0.00,Training Accuracy = 0.19, Validation Accuracy = -0.21, Validation MRE =190.83\n",
      "Epoch = 716,Cost = 0.00,Training Accuracy = 0.19, Validation Accuracy = -0.21, Validation MRE =191.24\n",
      "Epoch = 721,Cost = 0.00,Training Accuracy = 0.18, Validation Accuracy = -0.22, Validation MRE =191.63\n",
      "Epoch = 726,Cost = 0.00,Training Accuracy = 0.18, Validation Accuracy = -0.22, Validation MRE =192.02\n",
      "Epoch = 731,Cost = 0.00,Training Accuracy = 0.17, Validation Accuracy = -0.23, Validation MRE =192.40\n",
      "Epoch = 736,Cost = 0.00,Training Accuracy = 0.17, Validation Accuracy = -0.23, Validation MRE =192.78\n",
      "Epoch = 741,Cost = 0.00,Training Accuracy = 0.16, Validation Accuracy = -0.24, Validation MRE =193.15\n",
      "Epoch = 746,Cost = 0.00,Training Accuracy = 0.16, Validation Accuracy = -0.24, Validation MRE =193.52\n",
      "Epoch = 751,Cost = 0.00,Training Accuracy = 0.16, Validation Accuracy = -0.25, Validation MRE =193.88\n",
      "Epoch = 756,Cost = 0.00,Training Accuracy = 0.15, Validation Accuracy = -0.25, Validation MRE =194.23\n",
      "Epoch = 761,Cost = 0.00,Training Accuracy = 0.15, Validation Accuracy = -0.26, Validation MRE =194.57\n",
      "Epoch = 766,Cost = 0.00,Training Accuracy = 0.14, Validation Accuracy = -0.26, Validation MRE =194.91\n",
      "Epoch = 771,Cost = 0.00,Training Accuracy = 0.14, Validation Accuracy = -0.27, Validation MRE =195.25\n",
      "Epoch = 776,Cost = 0.00,Training Accuracy = 0.14, Validation Accuracy = -0.27, Validation MRE =195.57\n",
      "Epoch = 781,Cost = 0.00,Training Accuracy = 0.13, Validation Accuracy = -0.27, Validation MRE =195.90\n",
      "Epoch = 786,Cost = 0.00,Training Accuracy = 0.13, Validation Accuracy = -0.28, Validation MRE =196.21\n",
      "Epoch = 791,Cost = 0.00,Training Accuracy = 0.13, Validation Accuracy = -0.28, Validation MRE =196.52\n",
      "Epoch = 796,Cost = 0.00,Training Accuracy = 0.12, Validation Accuracy = -0.29, Validation MRE =196.82\n",
      "Epoch = 801,Cost = 0.00,Training Accuracy = 0.12, Validation Accuracy = -0.29, Validation MRE =197.12\n",
      "Epoch = 806,Cost = 0.00,Training Accuracy = 0.11, Validation Accuracy = -0.30, Validation MRE =197.42\n",
      "Epoch = 811,Cost = 0.00,Training Accuracy = 0.11, Validation Accuracy = -0.30, Validation MRE =197.70\n",
      "Epoch = 816,Cost = 0.00,Training Accuracy = 0.11, Validation Accuracy = -0.30, Validation MRE =197.98\n",
      "Epoch = 821,Cost = 0.00,Training Accuracy = 0.10, Validation Accuracy = -0.31, Validation MRE =198.26\n",
      "Epoch = 826,Cost = 0.00,Training Accuracy = 0.10, Validation Accuracy = -0.31, Validation MRE =198.53\n",
      "Epoch = 831,Cost = 0.00,Training Accuracy = 0.10, Validation Accuracy = -0.32, Validation MRE =198.79\n",
      "Epoch = 836,Cost = 0.00,Training Accuracy = 0.10, Validation Accuracy = -0.32, Validation MRE =199.05\n",
      "Epoch = 841,Cost = 0.00,Training Accuracy = 0.09, Validation Accuracy = -0.32, Validation MRE =199.30\n",
      "Epoch = 846,Cost = 0.00,Training Accuracy = 0.09, Validation Accuracy = -0.33, Validation MRE =199.55\n",
      "Epoch = 851,Cost = 0.00,Training Accuracy = 0.09, Validation Accuracy = -0.33, Validation MRE =199.79\n",
      "Epoch = 856,Cost = 0.00,Training Accuracy = 0.08, Validation Accuracy = -0.33, Validation MRE =200.03\n",
      "Epoch = 861,Cost = 0.00,Training Accuracy = 0.08, Validation Accuracy = -0.34, Validation MRE =200.26\n",
      "Epoch = 866,Cost = 0.00,Training Accuracy = 0.08, Validation Accuracy = -0.34, Validation MRE =200.49\n",
      "Epoch = 871,Cost = 0.00,Training Accuracy = 0.08, Validation Accuracy = -0.34, Validation MRE =200.71\n",
      "Epoch = 876,Cost = 0.00,Training Accuracy = 0.07, Validation Accuracy = -0.35, Validation MRE =200.92\n",
      "Epoch = 881,Cost = 0.00,Training Accuracy = 0.07, Validation Accuracy = -0.35, Validation MRE =201.14\n",
      "Epoch = 886,Cost = 0.00,Training Accuracy = 0.07, Validation Accuracy = -0.35, Validation MRE =201.34\n",
      "Epoch = 891,Cost = 0.00,Training Accuracy = 0.07, Validation Accuracy = -0.36, Validation MRE =201.55\n",
      "Epoch = 896,Cost = 0.00,Training Accuracy = 0.06, Validation Accuracy = -0.36, Validation MRE =201.74\n",
      "Epoch = 901,Cost = 0.00,Training Accuracy = 0.06, Validation Accuracy = -0.36, Validation MRE =201.94\n",
      "Epoch = 906,Cost = 0.00,Training Accuracy = 0.06, Validation Accuracy = -0.36, Validation MRE =202.13\n",
      "Epoch = 911,Cost = 0.00,Training Accuracy = 0.06, Validation Accuracy = -0.37, Validation MRE =202.31\n",
      "Epoch = 916,Cost = 0.00,Training Accuracy = 0.05, Validation Accuracy = -0.37, Validation MRE =202.49\n",
      "Epoch = 921,Cost = 0.00,Training Accuracy = 0.05, Validation Accuracy = -0.37, Validation MRE =202.67\n",
      "Epoch = 926,Cost = 0.00,Training Accuracy = 0.05, Validation Accuracy = -0.37, Validation MRE =202.84\n",
      "Epoch = 931,Cost = 0.00,Training Accuracy = 0.05, Validation Accuracy = -0.38, Validation MRE =203.00\n",
      "Epoch = 936,Cost = 0.00,Training Accuracy = 0.05, Validation Accuracy = -0.38, Validation MRE =203.17\n"
     ]
    },
    {
     "ename": "KeyboardInterrupt",
     "evalue": "",
     "output_type": "error",
     "traceback": [
      "\u001b[0;31m---------------------------------------------------------------------------\u001b[0m",
      "\u001b[0;31mKeyboardInterrupt\u001b[0m                         Traceback (most recent call last)",
      "\u001b[0;32m<ipython-input-34-dc72e11c89df>\u001b[0m in \u001b[0;36m<module>\u001b[0;34m()\u001b[0m\n\u001b[1;32m     19\u001b[0m                    \u001b[0mlr\u001b[0m\u001b[0;34m=\u001b[0m\u001b[0;36m0.01\u001b[0m\u001b[0;34m,\u001b[0m\u001b[0;34m\u001b[0m\u001b[0m\n\u001b[1;32m     20\u001b[0m                    \u001b[0mbeta\u001b[0m\u001b[0;34m=\u001b[0m\u001b[0;36m0.01\u001b[0m\u001b[0;34m,\u001b[0m\u001b[0;34m\u001b[0m\u001b[0m\n\u001b[0;32m---> 21\u001b[0;31m                    verbose=True)\n\u001b[0m\u001b[1;32m     22\u001b[0m     \u001b[0mthis_r2\u001b[0m \u001b[0;34m=\u001b[0m \u001b[0mr2_score\u001b[0m\u001b[0;34m(\u001b[0m\u001b[0mval_y\u001b[0m\u001b[0;34m,\u001b[0m\u001b[0mthis_pred\u001b[0m\u001b[0;34m)\u001b[0m\u001b[0;34m\u001b[0m\u001b[0m\n\u001b[1;32m     23\u001b[0m     \u001b[0;32mprint\u001b[0m \u001b[0mthis_r2\u001b[0m\u001b[0;34m\u001b[0m\u001b[0m\n",
      "\u001b[0;32m<ipython-input-30-dcf596eb616f>\u001b[0m in \u001b[0;36mbuild_model_and_train\u001b[0;34m(trn_X, trn_y, val_X, val_y, num_epoch, num_hidden_neuron, lr, beta, verbose)\u001b[0m\n\u001b[1;32m     59\u001b[0m         \u001b[0;32mfor\u001b[0m \u001b[0mepoch\u001b[0m \u001b[0;32min\u001b[0m \u001b[0mrange\u001b[0m\u001b[0;34m(\u001b[0m\u001b[0mnum_epoch\u001b[0m\u001b[0;34m)\u001b[0m\u001b[0;34m:\u001b[0m\u001b[0;34m\u001b[0m\u001b[0m\n\u001b[1;32m     60\u001b[0m             \u001b[0;32mfor\u001b[0m \u001b[0mi\u001b[0m \u001b[0;32min\u001b[0m \u001b[0mrange\u001b[0m\u001b[0;34m(\u001b[0m\u001b[0;36m0\u001b[0m\u001b[0;34m,\u001b[0m \u001b[0mlen\u001b[0m\u001b[0;34m(\u001b[0m\u001b[0mtrn_X\u001b[0m\u001b[0;34m)\u001b[0m\u001b[0;34m,\u001b[0m\u001b[0;36m1\u001b[0m\u001b[0;34m)\u001b[0m\u001b[0;34m:\u001b[0m\u001b[0;34m\u001b[0m\u001b[0m\n\u001b[0;32m---> 61\u001b[0;31m                 \u001b[0m_\u001b[0m\u001b[0;34m,\u001b[0m \u001b[0mc\u001b[0m \u001b[0;34m=\u001b[0m \u001b[0msess\u001b[0m\u001b[0;34m.\u001b[0m\u001b[0mrun\u001b[0m\u001b[0;34m(\u001b[0m\u001b[0;34m[\u001b[0m\u001b[0moptimizer\u001b[0m\u001b[0;34m,\u001b[0m\u001b[0mcost\u001b[0m\u001b[0;34m]\u001b[0m\u001b[0;34m,\u001b[0m \u001b[0mfeed_dict\u001b[0m\u001b[0;34m=\u001b[0m\u001b[0;34m{\u001b[0m\u001b[0mX\u001b[0m\u001b[0;34m:\u001b[0m\u001b[0mtrn_X\u001b[0m\u001b[0;34m[\u001b[0m\u001b[0mi\u001b[0m\u001b[0;34m:\u001b[0m\u001b[0mi\u001b[0m\u001b[0;34m+\u001b[0m\u001b[0;36m1\u001b[0m\u001b[0;34m]\u001b[0m\u001b[0;34m,\u001b[0m \u001b[0my\u001b[0m\u001b[0;34m:\u001b[0m\u001b[0mtrn_y\u001b[0m\u001b[0;34m[\u001b[0m\u001b[0mi\u001b[0m\u001b[0;34m:\u001b[0m\u001b[0mi\u001b[0m\u001b[0;34m+\u001b[0m\u001b[0;36m1\u001b[0m\u001b[0;34m]\u001b[0m\u001b[0;34m}\u001b[0m\u001b[0;34m)\u001b[0m\u001b[0;34m\u001b[0m\u001b[0m\n\u001b[0m\u001b[1;32m     62\u001b[0m \u001b[0;34m\u001b[0m\u001b[0m\n\u001b[1;32m     63\u001b[0m             \u001b[0mtrn_score\u001b[0m \u001b[0;34m=\u001b[0m \u001b[0mr2_score\u001b[0m\u001b[0;34m(\u001b[0m\u001b[0mtrn_y\u001b[0m\u001b[0;34m,\u001b[0m\u001b[0msess\u001b[0m\u001b[0;34m.\u001b[0m\u001b[0mrun\u001b[0m\u001b[0;34m(\u001b[0m\u001b[0mpred\u001b[0m\u001b[0;34m,\u001b[0m \u001b[0mfeed_dict\u001b[0m\u001b[0;34m=\u001b[0m\u001b[0;34m{\u001b[0m\u001b[0mX\u001b[0m\u001b[0;34m:\u001b[0m\u001b[0mtrn_X\u001b[0m\u001b[0;34m,\u001b[0m \u001b[0my\u001b[0m\u001b[0;34m:\u001b[0m\u001b[0mtrn_y\u001b[0m\u001b[0;34m}\u001b[0m\u001b[0;34m)\u001b[0m\u001b[0;34m)\u001b[0m\u001b[0;34m\u001b[0m\u001b[0m\n",
      "\u001b[0;32m/home/runsheng/anaconda2/envs/tensorflow/lib/python2.7/site-packages/tensorflow/python/client/session.pyc\u001b[0m in \u001b[0;36mrun\u001b[0;34m(self, fetches, feed_dict, options, run_metadata)\u001b[0m\n\u001b[1;32m    765\u001b[0m     \u001b[0;32mtry\u001b[0m\u001b[0;34m:\u001b[0m\u001b[0;34m\u001b[0m\u001b[0m\n\u001b[1;32m    766\u001b[0m       result = self._run(None, fetches, feed_dict, options_ptr,\n\u001b[0;32m--> 767\u001b[0;31m                          run_metadata_ptr)\n\u001b[0m\u001b[1;32m    768\u001b[0m       \u001b[0;32mif\u001b[0m \u001b[0mrun_metadata\u001b[0m\u001b[0;34m:\u001b[0m\u001b[0;34m\u001b[0m\u001b[0m\n\u001b[1;32m    769\u001b[0m         \u001b[0mproto_data\u001b[0m \u001b[0;34m=\u001b[0m \u001b[0mtf_session\u001b[0m\u001b[0;34m.\u001b[0m\u001b[0mTF_GetBuffer\u001b[0m\u001b[0;34m(\u001b[0m\u001b[0mrun_metadata_ptr\u001b[0m\u001b[0;34m)\u001b[0m\u001b[0;34m\u001b[0m\u001b[0m\n",
      "\u001b[0;32m/home/runsheng/anaconda2/envs/tensorflow/lib/python2.7/site-packages/tensorflow/python/client/session.pyc\u001b[0m in \u001b[0;36m_run\u001b[0;34m(self, handle, fetches, feed_dict, options, run_metadata)\u001b[0m\n\u001b[1;32m    963\u001b[0m     \u001b[0;32mif\u001b[0m \u001b[0mfinal_fetches\u001b[0m \u001b[0;32mor\u001b[0m \u001b[0mfinal_targets\u001b[0m\u001b[0;34m:\u001b[0m\u001b[0;34m\u001b[0m\u001b[0m\n\u001b[1;32m    964\u001b[0m       results = self._do_run(handle, final_targets, final_fetches,\n\u001b[0;32m--> 965\u001b[0;31m                              feed_dict_string, options, run_metadata)\n\u001b[0m\u001b[1;32m    966\u001b[0m     \u001b[0;32melse\u001b[0m\u001b[0;34m:\u001b[0m\u001b[0;34m\u001b[0m\u001b[0m\n\u001b[1;32m    967\u001b[0m       \u001b[0mresults\u001b[0m \u001b[0;34m=\u001b[0m \u001b[0;34m[\u001b[0m\u001b[0;34m]\u001b[0m\u001b[0;34m\u001b[0m\u001b[0m\n",
      "\u001b[0;32m/home/runsheng/anaconda2/envs/tensorflow/lib/python2.7/site-packages/tensorflow/python/client/session.pyc\u001b[0m in \u001b[0;36m_do_run\u001b[0;34m(self, handle, target_list, fetch_list, feed_dict, options, run_metadata)\u001b[0m\n\u001b[1;32m   1013\u001b[0m     \u001b[0;32mif\u001b[0m \u001b[0mhandle\u001b[0m \u001b[0;32mis\u001b[0m \u001b[0mNone\u001b[0m\u001b[0;34m:\u001b[0m\u001b[0;34m\u001b[0m\u001b[0m\n\u001b[1;32m   1014\u001b[0m       return self._do_call(_run_fn, self._session, feed_dict, fetch_list,\n\u001b[0;32m-> 1015\u001b[0;31m                            target_list, options, run_metadata)\n\u001b[0m\u001b[1;32m   1016\u001b[0m     \u001b[0;32melse\u001b[0m\u001b[0;34m:\u001b[0m\u001b[0;34m\u001b[0m\u001b[0m\n\u001b[1;32m   1017\u001b[0m       return self._do_call(_prun_fn, self._session, handle, feed_dict,\n",
      "\u001b[0;32m/home/runsheng/anaconda2/envs/tensorflow/lib/python2.7/site-packages/tensorflow/python/client/session.pyc\u001b[0m in \u001b[0;36m_do_call\u001b[0;34m(self, fn, *args)\u001b[0m\n\u001b[1;32m   1020\u001b[0m   \u001b[0;32mdef\u001b[0m \u001b[0m_do_call\u001b[0m\u001b[0;34m(\u001b[0m\u001b[0mself\u001b[0m\u001b[0;34m,\u001b[0m \u001b[0mfn\u001b[0m\u001b[0;34m,\u001b[0m \u001b[0;34m*\u001b[0m\u001b[0margs\u001b[0m\u001b[0;34m)\u001b[0m\u001b[0;34m:\u001b[0m\u001b[0;34m\u001b[0m\u001b[0m\n\u001b[1;32m   1021\u001b[0m     \u001b[0;32mtry\u001b[0m\u001b[0;34m:\u001b[0m\u001b[0;34m\u001b[0m\u001b[0m\n\u001b[0;32m-> 1022\u001b[0;31m       \u001b[0;32mreturn\u001b[0m \u001b[0mfn\u001b[0m\u001b[0;34m(\u001b[0m\u001b[0;34m*\u001b[0m\u001b[0margs\u001b[0m\u001b[0;34m)\u001b[0m\u001b[0;34m\u001b[0m\u001b[0m\n\u001b[0m\u001b[1;32m   1023\u001b[0m     \u001b[0;32mexcept\u001b[0m \u001b[0merrors\u001b[0m\u001b[0;34m.\u001b[0m\u001b[0mOpError\u001b[0m \u001b[0;32mas\u001b[0m \u001b[0me\u001b[0m\u001b[0;34m:\u001b[0m\u001b[0;34m\u001b[0m\u001b[0m\n\u001b[1;32m   1024\u001b[0m       \u001b[0mmessage\u001b[0m \u001b[0;34m=\u001b[0m \u001b[0mcompat\u001b[0m\u001b[0;34m.\u001b[0m\u001b[0mas_text\u001b[0m\u001b[0;34m(\u001b[0m\u001b[0me\u001b[0m\u001b[0;34m.\u001b[0m\u001b[0mmessage\u001b[0m\u001b[0;34m)\u001b[0m\u001b[0;34m\u001b[0m\u001b[0m\n",
      "\u001b[0;32m/home/runsheng/anaconda2/envs/tensorflow/lib/python2.7/site-packages/tensorflow/python/client/session.pyc\u001b[0m in \u001b[0;36m_run_fn\u001b[0;34m(session, feed_dict, fetch_list, target_list, options, run_metadata)\u001b[0m\n\u001b[1;32m   1002\u001b[0m         return tf_session.TF_Run(session, options,\n\u001b[1;32m   1003\u001b[0m                                  \u001b[0mfeed_dict\u001b[0m\u001b[0;34m,\u001b[0m \u001b[0mfetch_list\u001b[0m\u001b[0;34m,\u001b[0m \u001b[0mtarget_list\u001b[0m\u001b[0;34m,\u001b[0m\u001b[0;34m\u001b[0m\u001b[0m\n\u001b[0;32m-> 1004\u001b[0;31m                                  status, run_metadata)\n\u001b[0m\u001b[1;32m   1005\u001b[0m \u001b[0;34m\u001b[0m\u001b[0m\n\u001b[1;32m   1006\u001b[0m     \u001b[0;32mdef\u001b[0m \u001b[0m_prun_fn\u001b[0m\u001b[0;34m(\u001b[0m\u001b[0msession\u001b[0m\u001b[0;34m,\u001b[0m \u001b[0mhandle\u001b[0m\u001b[0;34m,\u001b[0m \u001b[0mfeed_dict\u001b[0m\u001b[0;34m,\u001b[0m \u001b[0mfetch_list\u001b[0m\u001b[0;34m)\u001b[0m\u001b[0;34m:\u001b[0m\u001b[0;34m\u001b[0m\u001b[0m\n",
      "\u001b[0;31mKeyboardInterrupt\u001b[0m: "
     ]
    }
   ],
   "source": [
    "# use this to spilt CV dataset\n",
    "count = 0\n",
    "all_r2 = []\n",
    "for trn_idx,val_idx in kf.split(X_raw,y_raw):\n",
    "    count += 1\n",
    "    trn_X = X_raw[trn_idx]\n",
    "    val_X = X_raw[val_idx]\n",
    "\n",
    "    trn_y = y_raw[trn_idx]\n",
    "    val_y = y_raw[val_idx]\n",
    "    \n",
    "    # Fit descs\n",
    "    trn_X,val_X = fit_descs(trn_X,val_X)\n",
    "\n",
    "    print \"Training on Fold \",count\n",
    "    this_pred = build_model_and_train(trn_X,trn_y,val_X,val_y,\n",
    "                   num_epoch=500,\n",
    "                   num_hidden_neuron=16,\n",
    "                   lr=0.01,\n",
    "                   beta=0.01,\n",
    "                   verbose=True)\n",
    "    this_r2 = r2_score(val_y,this_pred)\n",
    "    print this_r2\n",
    "    all_r2.append(this_r2)"
   ]
  },
  {
   "cell_type": "code",
   "execution_count": null,
   "metadata": {
    "collapsed": true
   },
   "outputs": [],
   "source": [
    "print all_r2\n",
    "print np.mean(all_r2)"
   ]
  }
 ],
 "metadata": {
  "kernelspec": {
   "display_name": "tensorflow",
   "language": "python",
   "name": "tensorflow"
  },
  "language_info": {
   "codemirror_mode": {
    "name": "ipython",
    "version": 2
   },
   "file_extension": ".py",
   "mimetype": "text/x-python",
   "name": "python",
   "nbconvert_exporter": "python",
   "pygments_lexer": "ipython2",
   "version": "2.7.13"
  }
 },
 "nbformat": 4,
 "nbformat_minor": 2
}
