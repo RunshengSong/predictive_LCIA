{
 "cells": [
  {
   "cell_type": "markdown",
   "metadata": {},
   "source": [
    "## Make figures"
   ]
  },
  {
   "cell_type": "code",
   "execution_count": 1,
   "metadata": {
    "collapsed": false
   },
   "outputs": [
    {
     "name": "stderr",
     "output_type": "stream",
     "text": [
      "/Users/runshengsong/anaconda/envs/tensorflow/lib/python2.7/site-packages/sklearn/cross_validation.py:44: DeprecationWarning: This module was deprecated in version 0.18 in favor of the model_selection module into which all the refactored classes and functions are moved. Also note that the interface of the new CV iterators are different from that of this module. This module will be removed in 0.20.\n",
      "  \"This module will be removed in 0.20.\", DeprecationWarning)\n"
     ]
    }
   ],
   "source": [
    "import sys\n",
    "sys.path.append(\"./src\") # append to system path\n",
    "\n",
    "from sklearn import cross_validation\n",
    "from sklearn.metrics import r2_score\n",
    "from sklearn.externals import joblib\n",
    "\n",
    "import numpy as np\n",
    "import pandas as pd\n",
    "import tensorflow as tf\n",
    "\n",
    "import matplotlib.pyplot as plt\n",
    "from matplotlib import style\n",
    "style.use('ggplot')\n",
    "\n",
    "\n",
    "# Helpers\n",
    "def mre(true_y,pred_y):\n",
    "    ## Note: does not handle mix 1d representation\n",
    "    #if _is_1d(y_true): \n",
    "    #    y_true, y_pred = _check_1d_array(y_true, y_pred)\n",
    "\n",
    "    return np.abs(np.subtract(true_y, pred_y) / true_y) * 100\n",
    "\n",
    "def run_model(graph_path, model_path, inputs):\n",
    "    # load graph and model \n",
    "    # return prediction on the inputs\n",
    "    with tf.Session() as sess:\n",
    "        new_saver = tf.train.import_meta_graph(graph_path)\n",
    "        new_saver.restore(sess, model_path)\n",
    "        X = tf.get_collection(\"X\")[0]\n",
    "        y = tf.get_collection(\"y\")[0]\n",
    "        pred = tf.get_collection(\"pred\")[0]  \n",
    "        results = sess.run(pred,feed_dict={X:inputs})\n",
    "        return results\n",
    "   \n",
    "#descs\n",
    "trn_descs = pd.read_csv('../data/descs/train/descs_Mar08_3839_train.csv',header=0,index_col=None).fillna(0).values\n",
    "tst_descs = pd.read_csv('../data/descs/test/descs_Mar08_3839_test.csv',header=0,index_col=None).fillna(0).values"
   ]
  },
  {
   "cell_type": "markdown",
   "metadata": {},
   "source": [
    "### Model Performances"
   ]
  },
  {
   "cell_type": "code",
   "execution_count": 2,
   "metadata": {
    "collapsed": false
   },
   "outputs": [],
   "source": [
    "### Change here\n",
    "RS = 3\n",
    "upper_lim=7\n",
    "# load target\n",
    "trn_target = pd.read_csv('../data/target/train/acidification_train.csv').values\n",
    "tst_target = pd.read_csv('../data/target/test/acidification_test.csv').values\n",
    "graph_path = '../nets/acidification/acidification_apr4.meta'\n",
    "model_path = '../nets/acidification/acidification_apr4.ckpt'\n",
    "this_scaler = joblib.load('../nets/acidification/scaler.pkl')\n",
    "pca = joblib.load(\"../nets/acidification/pca.pkl\")\n",
    "\n",
    "\n",
    "###\n",
    "\n",
    "#split training and validation sets \n",
    "trn_X, val_X,trn_y, val_y = cross_validation.train_test_split(\n",
    "    trn_descs, trn_target, test_size=0.1, random_state=RS)\n",
    "\n",
    "#PCA\n",
    "trn_X = pca.transform(this_scaler.transform(trn_X))\n",
    "val_X = pca.transform(this_scaler.transform(val_X))\n",
    "tst_X = pca.transform(this_scaler.transform(tst_descs))"
   ]
  },
  {
   "cell_type": "code",
   "execution_count": 3,
   "metadata": {
    "collapsed": false
   },
   "outputs": [],
   "source": [
    "pred_trn = run_model(graph_path, model_path, trn_X)\n",
    "pred_val = run_model(graph_path, model_path, val_X)\n",
    "pred_tst = run_model(graph_path, model_path, tst_X)"
   ]
  },
  {
   "cell_type": "code",
   "execution_count": 4,
   "metadata": {
    "collapsed": false
   },
   "outputs": [],
   "source": [
    "#log?\n",
    "pred_trn = np.exp(pred_trn)\n",
    "pred_val = np.exp(pred_val)\n",
    "pred_tst = np.exp(pred_tst)"
   ]
  },
  {
   "cell_type": "code",
   "execution_count": 4,
   "metadata": {
    "collapsed": false
   },
   "outputs": [
    {
     "name": "stdout",
     "output_type": "stream",
     "text": [
      "Using matplotlib backend: MacOSX\n"
     ]
    }
   ],
   "source": [
    "%matplotlib auto\n",
    "# plt.switch_backend('Qt5Agg')\n",
    "#make graph\n",
    "fig = plt.figure(figsize=(10,8))\n",
    "ax = fig.add_subplot(111)\n",
    "MRE = mre(tst_target, pred_tst)\n",
    "r2  = round(r2_score(tst_target, pred_tst),2)\n",
    "\n",
    "tst_results = plt.plot(tst_target, pred_tst, '^', label = 'testing chemicals',zorder=10,markersize=10)\n",
    "val_results = plt.plot(val_y, pred_val, 's', label = 'validation chemicals',zorder=5,markersize=10)\n",
    "trn_results = plt.plot(trn_y, pred_trn, 'o',label = 'training chemicals',zorder=1,markersize=10)\n",
    "\n",
    "plt.ylim([0,upper_lim])\n",
    "plt.xlim([0,upper_lim])\n",
    "ax.tick_params(axis='both',which='major',labelsize=15)\n",
    "\n",
    "thisLine = plt.plot(np.append(0,upper_lim), np.append(0,upper_lim), label='perfect prediction line')\n",
    "\n",
    "plt.plot([],[],linewidth=0, label='R2 on testing data: '+str(r2))\n",
    "plt.legend(loc='upper left',numpoints=1)\n",
    "\n",
    "plt.show()"
   ]
  },
  {
   "cell_type": "markdown",
   "metadata": {
    "collapsed": true
   },
   "source": [
    "## Compare model performances between different input sets\n",
    "\n",
    "Use Three box plot to show the performance difference between models that were developed by full-descs, feature-selected descs and PCA descs."
   ]
  },
  {
   "cell_type": "code",
   "execution_count": 4,
   "metadata": {
    "collapsed": true
   },
   "outputs": [],
   "source": [
    "import sys\n",
    "sys.path.append(\"./src\") # append to system path\n",
    "\n",
    "import numpy as np\n",
    "import pandas as pd\n",
    "\n",
    "import matplotlib.pyplot as plt\n",
    "from matplotlib import style\n",
    "# style.use('ggplot')"
   ]
  },
  {
   "cell_type": "code",
   "execution_count": 5,
   "metadata": {
    "collapsed": true
   },
   "outputs": [],
   "source": [
    "num_neurons = [16,64,128,512]\n",
    "\n",
    "one_layer_full =[0.33,0.42,0.4,0.51]\n",
    "one_layer_fs = [0.52,0.62,0.49,0.65]\n",
    "one_layer_pca = [0.45,0.52,0.56,0.70]\n",
    "\n",
    "two_layer_full = [0.55,0.44,0.33,0.42]\n",
    "two_layer_fs = [0.52,0.68,0.65,0.65]\n",
    "two_layer_pca = [0.58,0.69,0.75,0.74]\n",
    "\n",
    "three_layer_full = [0.51, 0.45, 0.36, 0.29]\n",
    "three_layer_fs = [0.68, 0.59, 0.42, 0.41]\n",
    "three_layer_pca = [0.73,0.61,0.41,0.33]"
   ]
  },
  {
   "cell_type": "code",
   "execution_count": 69,
   "metadata": {
    "collapsed": false
   },
   "outputs": [
    {
     "name": "stdout",
     "output_type": "stream",
     "text": [
      "Using matplotlib backend: MacOSX\n"
     ]
    }
   ],
   "source": [
    "%matplotlib auto\n",
    "width_p = 0.25\n",
    "\n",
    "fig,ax = plt.subplots(3,sharex=True,figsize=(8,11))\n",
    "\n",
    "#make frame invisiable\n",
    "ax[0].spines['top'].set_visible(False)\n",
    "ax[0].spines['right'].set_visible(False)\n",
    "ax[0].yaxis.set_ticks_position('left') \n",
    "ax[0].xaxis.set_ticks_position('bottom') \n",
    "\n",
    "y_pos = np.arange(len(num_neurons))\n",
    "\n",
    "#-------\n",
    "# one hidden layer graph\n",
    "ax[0].spines['top'].set_visible(False)\n",
    "ax[0].spines['right'].set_visible(False)\n",
    "ax[0].yaxis.set_ticks_position('left') \n",
    "ax[0].xaxis.set_ticks_position('bottom') \n",
    "\n",
    "ax[0].bar([i-0.2 for i in y_pos],one_layer_full,width=width_p,align='center',color='lightgreen',label='full descriptors')\n",
    "ax[0].bar(y_pos, one_layer_fs, width = width_p, align='center',color='lightskyblue',label='feature selection')\n",
    "ax[0].bar([i+0.2 for i in y_pos], one_layer_pca, width=width_p, align='center',color='lightsalmon',label='PCA descriptors')\n",
    "ax[0].legend(loc='upper left',prop={'size':9,'weight':'bold'})\n",
    "ax[0].set_ylim([0,1])\n",
    "\n",
    "#-------\n",
    "# two hidden layer graph\n",
    "ax[1].spines['top'].set_visible(False)\n",
    "ax[1].spines['right'].set_visible(False)\n",
    "ax[1].yaxis.set_ticks_position('left') \n",
    "ax[1].xaxis.set_ticks_position('bottom') \n",
    "\n",
    "ax[1].bar([i-0.2 for i in y_pos],two_layer_full,width=width_p,align='center',color='lightgreen',label='full descriptors')\n",
    "ax[1].bar(y_pos, two_layer_fs, width = width_p, align='center',color='lightskyblue',label='feature selection')\n",
    "ax[1].bar([i+0.2 for i in y_pos], two_layer_pca, width=width_p, align='center',color='lightsalmon',label='PCA descriptors')\n",
    "ax[1].legend(loc='upper left',prop={'size':9,'weight':'bold'})\n",
    "ax[1].set_ylim([0,1])\n",
    "\n",
    "#-------\n",
    "# three hidden layer graph\n",
    "ax[2].spines['top'].set_visible(False)\n",
    "ax[2].spines['right'].set_visible(False)\n",
    "ax[2].yaxis.set_ticks_position('left') \n",
    "ax[2].xaxis.set_ticks_position('bottom') \n",
    "\n",
    "ax[2].bar([i-0.2 for i in y_pos],three_layer_full,width=width_p,align='center',color='lightgreen',label='full descriptors')\n",
    "ax[2].bar(y_pos, three_layer_fs, width = width_p, align='center',color='lightskyblue',label='feature selection')\n",
    "ax[2].bar([i+0.2 for i in y_pos], three_layer_pca, width=width_p, align='center',color='lightsalmon',label='PCA descriptors')\n",
    "ax[2].legend(loc='upper left',prop={'size':9,'weight':'bold'})\n",
    "ax[2].set_ylim([0,1])\n",
    "\n",
    "#-------\n",
    "fig.subplots_adjust(hspace=0.07)\n",
    "plt.xticks(y_pos, num_neurons)\n",
    "plt.show()\n",
    "plt.savefig('../results/different_input_set.png')"
   ]
  },
  {
   "cell_type": "code",
   "execution_count": null,
   "metadata": {
    "collapsed": true
   },
   "outputs": [],
   "source": []
  }
 ],
 "metadata": {
  "anaconda-cloud": {},
  "kernelspec": {
   "display_name": "Python [conda env:tensorflow]",
   "language": "python",
   "name": "conda-env-tensorflow-py"
  },
  "language_info": {
   "codemirror_mode": {
    "name": "ipython",
    "version": 2
   },
   "file_extension": ".py",
   "mimetype": "text/x-python",
   "name": "python",
   "nbconvert_exporter": "python",
   "pygments_lexer": "ipython2",
   "version": "2.7.12"
  }
 },
 "nbformat": 4,
 "nbformat_minor": 2
}
