{
 "cells": [
  {
   "cell_type": "markdown",
   "metadata": {},
   "source": [
    "# Run the trained models and make predictions on each dataset"
   ]
  },
  {
   "cell_type": "code",
   "execution_count": 7,
   "metadata": {
    "collapsed": false
   },
   "outputs": [],
   "source": [
    "import sys\n",
    "sys.path.append(\"./src\") # append to system path\n",
    "\n",
    "from sklearn import cross_validation\n",
    "from sklearn.metrics import r2_score\n",
    "from sklearn.externals import joblib\n",
    "\n",
    "import numpy as np\n",
    "import pandas as pd\n",
    "import tensorflow as tf\n",
    "\n",
    "import matplotlib.pyplot as plt\n",
    "from matplotlib import style\n",
    "style.use('ggplot')\n",
    "\n",
    "\n",
    "# Helpers\n",
    "def mre(true_y,pred_y):\n",
    "    ## Note: does not handle mix 1d representation\n",
    "    #if _is_1d(y_true): \n",
    "    #    y_true, y_pred = _check_1d_array(y_true, y_pred)\n",
    "\n",
    "    return np.mean(np.abs(np.subtract(true_y, pred_y) / true_y)) * 100\n",
    "\n",
    "def run_model(graph_path, model_path, inputs):\n",
    "    # load graph and model \n",
    "    # return prediction on the inputs\n",
    "    with tf.Session() as sess:\n",
    "        new_saver = tf.train.import_meta_graph(graph_path)\n",
    "        new_saver.restore(sess, model_path)\n",
    "        X = tf.get_collection(\"X\")[0]\n",
    "        y = tf.get_collection(\"y\")[0]\n",
    "        pred = tf.get_collection(\"pred\")[0]  \n",
    "        results = sess.run(pred,feed_dict={X:inputs})\n",
    "        return results\n",
    "   \n",
    "#descs\n",
    "trn_descs = pd.read_csv('../data/descs/train/descs_Mar08_3839_train.csv',header=0,index_col=None).fillna(0).values\n",
    "tst_descs = pd.read_csv('../data/descs/test/descs_Mar08_3839_test.csv',header=0,index_col=None).fillna(0).values"
   ]
  },
  {
   "cell_type": "markdown",
   "metadata": {},
   "source": [
    "### CED models"
   ]
  },
  {
   "cell_type": "code",
   "execution_count": 3,
   "metadata": {
    "collapsed": true
   },
   "outputs": [],
   "source": [
    "### Change here\n",
    "RS = 42\n",
    "upper_lim=300\n",
    "# load target\n",
    "trn_target = pd.read_csv('../data/target/train/CED_train.csv').values\n",
    "tst_target = pd.read_csv('../data/target/test/CED_test.csv').values\n",
    "graph_path = '../nets/CED/CED_apr4.meta'\n",
    "model_path = '../nets/CED/CED_apr4'\n",
    "this_scaler = joblib.load('../nets/CED/scaler.pkl')\n",
    "pca = joblib.load(\"../nets/CED/pca.pkl\")\n",
    "\n",
    "\n",
    "###\n",
    "\n",
    "#split training and validation sets \n",
    "trn_X, val_X,trn_y, val_y = cross_validation.train_test_split(\n",
    "    trn_descs, trn_target, test_size=0.1, random_state=RS)\n",
    "\n",
    "#PCA\n",
    "trn_X = pca.transform(this_scaler.transform(trn_X))\n",
    "val_X = pca.transform(this_scaler.transform(val_X))\n",
    "tst_X = pca.transform(this_scaler.transform(tst_descs))"
   ]
  },
  {
   "cell_type": "markdown",
   "metadata": {},
   "source": [
    "### Acidification Models"
   ]
  },
  {
   "cell_type": "code",
   "execution_count": null,
   "metadata": {
    "collapsed": true
   },
   "outputs": [],
   "source": [
    "### Change here\n",
    "RS = 3\n",
    "upper_lim=7\n",
    "# load target\n",
    "trn_target = pd.read_csv('../data/target/train/acidification_train.csv').values\n",
    "tst_target = pd.read_csv('../data/target/test/acidification_test.csv').values\n",
    "graph_path = '../nets/acidification/acidification_apr4.meta'\n",
    "model_path = '../nets/acidification/acidification_apr4.ckpt'\n",
    "this_scaler = joblib.load('../nets/acidification/scaler.pkl')\n",
    "pca = joblib.load(\"../nets/acidification/pca.pkl\")\n",
    "\n",
    "\n",
    "###\n",
    "\n",
    "#split training and validation sets \n",
    "trn_X, val_X,trn_y, val_y = cross_validation.train_test_split(\n",
    "    trn_descs, trn_target, test_size=0.1, random_state=RS)\n",
    "\n",
    "#PCA\n",
    "trn_X = pca.transform(this_scaler.transform(trn_X))\n",
    "val_X = pca.transform(this_scaler.transform(val_X))\n",
    "tst_X = pca.transform(this_scaler.transform(tst_descs))"
   ]
  },
  {
   "cell_type": "markdown",
   "metadata": {},
   "source": [
    "### EI99"
   ]
  },
  {
   "cell_type": "code",
   "execution_count": null,
   "metadata": {
    "collapsed": true
   },
   "outputs": [],
   "source": [
    "### Change here\n",
    "RS = 3\n",
    "upper_lim=3\n",
    "# load target\n",
    "trn_target = pd.read_csv('../data/target/train/EI99_train.csv').values\n",
    "tst_target = pd.read_csv('../data/target/test/EI99_test.csv').values\n",
    "graph_path = '../nets/EI99/EI99_Apr4.meta'\n",
    "model_path = '../nets/EI99/EI99_Apr4.ckpt'\n",
    "this_scaler = joblib.load('../nets/EI99/scaler.pkl')\n",
    "pca = joblib.load(\"../nets/EI99/pca.pkl\")\n",
    "\n",
    "\n",
    "###\n",
    "\n",
    "#split training and validation sets \n",
    "trn_X, val_X,trn_y, val_y = cross_validation.train_test_split(\n",
    "    trn_descs, trn_target, test_size=0.1, random_state=RS)\n",
    "\n",
    "#PCA\n",
    "trn_X = pca.transform(this_scaler.transform(trn_X))\n",
    "val_X = pca.transform(this_scaler.transform(val_X))\n",
    "tst_X = pca.transform(this_scaler.transform(tst_descs))"
   ]
  },
  {
   "cell_type": "markdown",
   "metadata": {},
   "source": [
    "### GWP"
   ]
  },
  {
   "cell_type": "code",
   "execution_count": null,
   "metadata": {
    "collapsed": true
   },
   "outputs": [],
   "source": [
    "### Change here\n",
    "RS = 42\n",
    "upper_lim=20\n",
    "# load target\n",
    "trn_target = pd.read_csv('../data/target/train/GWP_train.csv').values\n",
    "tst_target = pd.read_csv('../data/target/test/GWP_test.csv').values\n",
    "graph_path = '../nets/GWP/GWP_Apr4.meta'\n",
    "model_path = '../nets/GWP/GWP_Apr4.ckpt'\n",
    "this_scaler = joblib.load('../nets/GWP/scaler.pkl')\n",
    "pca = joblib.load(\"../nets/GWP/pca.pkl\")\n",
    "\n",
    "\n",
    "###\n",
    "\n",
    "#split training and validation sets \n",
    "trn_X, val_X,trn_y, val_y = cross_validation.train_test_split(\n",
    "    trn_descs, trn_target, test_size=0.1, random_state=RS)\n",
    "\n",
    "#PCA\n",
    "trn_X = pca.transform(this_scaler.transform(trn_X))\n",
    "val_X = pca.transform(this_scaler.transform(val_X))\n",
    "tst_X = pca.transform(this_scaler.transform(tst_descs))"
   ]
  },
  {
   "cell_type": "markdown",
   "metadata": {},
   "source": [
    "### Human Health"
   ]
  },
  {
   "cell_type": "code",
   "execution_count": null,
   "metadata": {
    "collapsed": true
   },
   "outputs": [],
   "source": [
    "### Change here\n",
    "RS = 42\n",
    "upper_lim = 0.003\n",
    "# load target\n",
    "trn_target = pd.read_csv('../data/target/train/humanhealth_train.csv').values\n",
    "tst_target = pd.read_csv('../data/target/test/humanhealth_test.csv').values\n",
    "graph_path = '../nets/humanhealth/humanhealth_Apr4.meta'\n",
    "model_path = '../nets/humanhealth/humanhealth_Apr4.ckpt'\n",
    "this_scaler = joblib.load('../nets/humanhealth/scaler.pkl')\n",
    "pca = joblib.load(\"../nets/humanhealth/pca.pkl\")\n",
    "\n",
    "\n",
    "###\n",
    "\n",
    "#split training and validation sets \n",
    "trn_X, val_X,trn_y, val_y = cross_validation.train_test_split(\n",
    "    trn_descs, trn_target, test_size=0.1, random_state=RS)\n",
    "\n",
    "#PCA\n",
    "trn_X = pca.transform(this_scaler.transform(trn_X))\n",
    "val_X = pca.transform(this_scaler.transform(val_X))\n",
    "tst_X = pca.transform(this_scaler.transform(tst_descs))"
   ]
  },
  {
   "cell_type": "markdown",
   "metadata": {},
   "source": [
    "### Ecosystem Quality"
   ]
  },
  {
   "cell_type": "code",
   "execution_count": null,
   "metadata": {
    "collapsed": true
   },
   "outputs": [],
   "source": [
    "### Change here\n",
    "RS = 3\n",
    "upper_lim = 0.0006\n",
    "# load target\n",
    "trn_target = pd.read_csv('../data/target/train/ecosystemquality_train.csv').values\n",
    "tst_target = pd.read_csv('../data/target/test/ecosystemquality_test.csv').values\n",
    "graph_path = '../nets/ecosystemquality/ecosystemquality_Apr4.meta'\n",
    "model_path = '../nets/ecosystemquality/ecosystemquality_Apr4.ckpt'\n",
    "this_scaler = joblib.load('../nets/ecosystemquality/scaler.pkl')\n",
    "pca = joblib.load(\"../nets/ecosystemquality/pca.pkl\")\n",
    "\n",
    "\n",
    "###\n",
    "\n",
    "#split training and validation sets \n",
    "trn_X, val_X,trn_y, val_y = cross_validation.train_test_split(\n",
    "    trn_descs, trn_target, test_size=0.1, random_state=RS)\n",
    "\n",
    "#PCA\n",
    "trn_X = pca.transform(this_scaler.transform(trn_X))\n",
    "val_X = pca.transform(this_scaler.transform(val_X))\n",
    "tst_X = pca.transform(this_scaler.transform(tst_descs))"
   ]
  },
  {
   "cell_type": "markdown",
   "metadata": {},
   "source": [
    "## Transform prediction to normal scale if necessary\n",
    "only for GWP, human health and ecosystem quality model"
   ]
  },
  {
   "cell_type": "code",
   "execution_count": null,
   "metadata": {
    "collapsed": true
   },
   "outputs": [],
   "source": [
    "pred_trn = np.exp(pred_trn)\n",
    "pred_val = np.exp(pred_val)\n",
    "pred_tst = np.exp(pred_tst)"
   ]
  },
  {
   "cell_type": "markdown",
   "metadata": {},
   "source": [
    "### Run Prediction"
   ]
  },
  {
   "cell_type": "code",
   "execution_count": 4,
   "metadata": {
    "collapsed": true
   },
   "outputs": [],
   "source": [
    "pred_trn = run_model(graph_path, model_path, trn_X)\n",
    "pred_val = run_model(graph_path, model_path, val_X)\n",
    "pred_tst = run_model(graph_path, model_path, tst_X)"
   ]
  },
  {
   "cell_type": "code",
   "execution_count": 9,
   "metadata": {
    "collapsed": false
   },
   "outputs": [
    {
     "name": "stdout",
     "output_type": "stream",
     "text": [
      "Training R2 and MRE:  0.988579092577 2.60123905067\n",
      "Validation R2 and MRE:  0.521809925494 39.8644821756\n",
      "Testing R2 and MRE: 0.451893336059 41.642365571\n"
     ]
    }
   ],
   "source": [
    "trn_R2 = r2_score(trn_y,pred_trn)\n",
    "trn_MRE = mre(trn_y,pred_trn)\n",
    "\n",
    "val_R2 = r2_score(val_y,pred_val)\n",
    "val_MRE = mre(val_y,pred_val)\n",
    "\n",
    "tst_R2 = r2_score(tst_target,pred_tst)\n",
    "tst_MRE = mre(tst_target,pred_tst)\n",
    "\n",
    "print \"Training R2 and MRE: \", trn_R2, trn_MRE\n",
    "print \"Validation R2 and MRE: \", val_R2, val_MRE\n",
    "print \"Testing R2 and MRE:\", tst_R2, tst_MRE"
   ]
  },
  {
   "cell_type": "code",
   "execution_count": null,
   "metadata": {
    "collapsed": true
   },
   "outputs": [],
   "source": []
  }
 ],
 "metadata": {
  "anaconda-cloud": {},
  "kernelspec": {
   "display_name": "Python [conda env:tensorflow]",
   "language": "python",
   "name": "conda-env-tensorflow-py"
  },
  "language_info": {
   "codemirror_mode": {
    "name": "ipython",
    "version": 2
   },
   "file_extension": ".py",
   "mimetype": "text/x-python",
   "name": "python",
   "nbconvert_exporter": "python",
   "pygments_lexer": "ipython2",
   "version": "2.7.12"
  }
 },
 "nbformat": 4,
 "nbformat_minor": 1
}
