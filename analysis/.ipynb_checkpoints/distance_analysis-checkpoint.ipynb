{
 "cells": [
  {
   "cell_type": "markdown",
   "metadata": {},
   "source": [
    "# Distance analysis of the testing data on the training data"
   ]
  },
  {
   "cell_type": "code",
   "execution_count": 1,
   "metadata": {
    "collapsed": false
   },
   "outputs": [
    {
     "name": "stderr",
     "output_type": "stream",
     "text": [
      "/home/runsheng/anaconda2/envs/tensorflow/lib/python2.7/site-packages/sklearn/cross_validation.py:44: DeprecationWarning: This module was deprecated in version 0.18 in favor of the model_selection module into which all the refactored classes and functions are moved. Also note that the interface of the new CV iterators are different from that of this module. This module will be removed in 0.20.\n",
      "  \"This module will be removed in 0.20.\", DeprecationWarning)\n"
     ]
    }
   ],
   "source": [
    "import sys\n",
    "sys.path.append(\"./src\") # append to system path\n",
    "\n",
    "from sklearn.metrics import mean_absolute_error\n",
    "from sklearn.decomposition import PCA\n",
    "from sklearn.metrics import r2_score\n",
    "from sklearn.preprocessing import StandardScaler\n",
    "from sklearn import cross_validation\n",
    "from sklearn.externals import joblib\n",
    "\n",
    "import numpy as np\n",
    "import pandas as pd\n",
    "import tensorflow as tf\n",
    "\n",
    "import matplotlib.pyplot as plt\n",
    "from matplotlib import style\n",
    "from matplotlib.patches import Rectangle\n",
    "style.use('ggplot')"
   ]
  },
  {
   "cell_type": "code",
   "execution_count": 2,
   "metadata": {
    "collapsed": true
   },
   "outputs": [],
   "source": [
    "##Helpers\n",
    "def mre(true_y,pred_y):\n",
    "    ## Note: does not handle mix 1d representation\n",
    "    #if _is_1d(y_true): \n",
    "    #    y_true, y_pred = _check_1d_array(y_true, y_pred)\n",
    "\n",
    "    return np.abs(np.subtract(true_y, pred_y) / true_y) * 100\n",
    "\n",
    "def distance_analysis(distance, error, thre_dist=30):\n",
    "    #cut off the error by the threshold distance\n",
    "    outside = []\n",
    "    inside = []\n",
    "    for each_dist, each_error in zip(distance, error):\n",
    "        if each_dist <= thre_dist:\n",
    "            inside.append(each_error)\n",
    "        else:\n",
    "            outside.append(each_error)\n",
    "    return np.mean(inside),len(inside),np.mean(outside),len(outside)\n",
    "\n",
    "def run_model(graph_path, model_path, inputs):\n",
    "    with tf.Session() as sess:\n",
    "        new_saver = tf.train.import_meta_graph(graph_path)\n",
    "        new_saver.restore(sess, model_path)\n",
    "        X = tf.get_collection(\"X\")[0]\n",
    "        y = tf.get_collection(\"y\")[0]\n",
    "        pred = tf.get_collection(\"pred\")[0]  \n",
    "        results = sess.run(pred,feed_dict={X:inputs})\n",
    "        return results\n"
   ]
  },
  {
   "cell_type": "code",
   "execution_count": 4,
   "metadata": {
    "collapsed": false
   },
   "outputs": [],
   "source": [
    "# load descriptors, they are all same for every model\n",
    "trn_descs = pd.read_csv('../data/descs/train/descs_Mar08_3839_train.csv',header=0,index_col=None).fillna(0).values\n",
    "tst_descs = pd.read_csv('../data/descs/test/descs_Mar08_3839_test.csv',header=0,index_col=None).fillna(0).values"
   ]
  },
  {
   "cell_type": "markdown",
   "metadata": {},
   "source": [
    "---\n",
    "# Distance Analysis on the CED Model\n",
    "\n",
    "load CED model and split data to training and validation"
   ]
  },
  {
   "cell_type": "code",
   "execution_count": 5,
   "metadata": {
    "collapsed": false
   },
   "outputs": [],
   "source": [
    "CED_graph_path = \"../nets/CED/CED_apr4.meta\"\n",
    "CED_model_path = \"../nets/CED/CED_apr4\" #CED without .ckpt...\n",
    "\n",
    "# load target\n",
    "CED_trn_target = pd.read_csv('../data/target/train/CED_train.csv').values\n",
    "CED_tst_target = pd.read_csv('../data/target/test/CED_test.csv').values\n",
    "\n",
    "#split training and validation sets \n",
    "trn_X, val_X,trn_y, val_y = cross_validation.train_test_split(\n",
    "    trn_descs, CED_trn_target, test_size=0.1, random_state=42)"
   ]
  },
  {
   "cell_type": "markdown",
   "metadata": {},
   "source": [
    "## measure distance between centroid to validation, and centroid to test descriptors BEFORE PCA"
   ]
  },
  {
   "cell_type": "code",
   "execution_count": 6,
   "metadata": {
    "collapsed": true
   },
   "outputs": [],
   "source": [
    "centroid = np.mean(trn_X, axis=0)\n",
    "\n",
    "val_distance_to_trn_centroid = []\n",
    "tst_distance_to_trn_centroid = []\n",
    "\n",
    "for each_val in val_X:\n",
    "    e_d_val = np.linalg.norm(each_val-centroid)\n",
    "    val_distance_to_trn_centroid.append(e_d_val)\n",
    "    \n",
    "# measure distance on the original descriptors (before PCA)\n",
    "for each_tst in tst_descs:\n",
    "    e_d_tst = np.linalg.norm(each_tst-centroid)\n",
    "    tst_distance_to_trn_centroid.append(e_d_tst)"
   ]
  },
  {
   "cell_type": "markdown",
   "metadata": {},
   "source": [
    "## do PCA on training, validation and test descriptors"
   ]
  },
  {
   "cell_type": "code",
   "execution_count": 7,
   "metadata": {
    "collapsed": false
   },
   "outputs": [
    {
     "name": "stdout",
     "output_type": "stream",
     "text": [
      "(140, 60) (16, 60) (10, 60)\n"
     ]
    }
   ],
   "source": [
    "this_scaler = joblib.load('../nets/CED/scaler.pkl')\n",
    "pca = joblib.load(\"../nets/CED/pca.pkl\")\n",
    "\n",
    "trn_X = pca.transform(this_scaler.transform(trn_X))\n",
    "val_X = pca.transform(this_scaler.transform(val_X))\n",
    "tst_X = pca.transform(this_scaler.transform(tst_descs))\n",
    "\n",
    "print trn_X.shape, val_X.shape, tst_X.shape"
   ]
  },
  {
   "cell_type": "markdown",
   "metadata": {},
   "source": [
    "## Run CED model and give prediction on validation and test sets"
   ]
  },
  {
   "cell_type": "code",
   "execution_count": 8,
   "metadata": {
    "collapsed": false
   },
   "outputs": [],
   "source": [
    "pred_val = run_model(CED_graph_path, CED_model_path, val_X)\n",
    "pred_tst = run_model(CED_graph_path, CED_model_path, tst_X)"
   ]
  },
  {
   "cell_type": "markdown",
   "metadata": {},
   "source": [
    "### Determine the cut-off threshold of the CED model on the validation set\n",
    "\n",
    "Doing it manually, for results, see the Excel file in Results folder"
   ]
  },
  {
   "cell_type": "code",
   "execution_count": null,
   "metadata": {
    "collapsed": false
   },
   "outputs": [],
   "source": [
    "val_rel_error = mre(val_y,pred_val)\n",
    "\n",
    "for each_pair in zip(val_rel_error, val_distance_to_trn_centroid):\n",
    "    print each_pair\n",
    "print r2_score(val_rel_error,val_distance_to_trn_centroid) "
   ]
  },
  {
   "cell_type": "code",
   "execution_count": null,
   "metadata": {
    "collapsed": false
   },
   "outputs": [],
   "source": [
    "inside_mean,num_chem_inside, outside_mean,num_chem_outside = distance_analysis(\n",
    "    val_distance_to_trn_centroid, val_rel_error,1600)\n",
    "print inside_mean, num_chem_inside\n",
    "print outside_mean, num_chem_outside"
   ]
  },
  {
   "cell_type": "markdown",
   "metadata": {},
   "source": [
    "# CED -- Decide whether each testing chemical in our outside AD using the determined threshold distance\n",
    "\n",
    "using 1000"
   ]
  },
  {
   "cell_type": "code",
   "execution_count": 11,
   "metadata": {
    "collapsed": false
   },
   "outputs": [
    {
     "name": "stdout",
     "output_type": "stream",
     "text": [
      "(array([ 9.65234429]), 1777.7454309418476)\n",
      "(array([ 41.92993966]), 1284.6081249495462)\n",
      "(array([ 48.73085337]), 7044.373518591985)\n",
      "(array([ 43.64604134]), 1453.0274553854483)\n",
      "(array([ 37.30225129]), 1654.9134079225387)\n",
      "(array([ 37.54851941]), 652.97321034186893)\n",
      "(array([ 56.75443195]), 548.74924319970376)\n",
      "(array([ 76.72156908]), 1575.2986302307593)\n",
      "(array([ 42.02973612]), 720.05778198983103)\n",
      "(array([ 22.10796921]), 1114.0978590988623)\n"
     ]
    }
   ],
   "source": [
    "tst_rel_error = mre(CED_tst_target, pred_tst)\n",
    "\n",
    "for each_pair in zip(tst_rel_error, tst_distance_to_trn_centroid):\n",
    "    print each_pair"
   ]
  },
  {
   "cell_type": "code",
   "execution_count": 14,
   "metadata": {
    "collapsed": false
   },
   "outputs": [
    {
     "name": "stdout",
     "output_type": "stream",
     "text": [
      "45.4442291585\n",
      "40.012995462\n"
     ]
    }
   ],
   "source": [
    "test_inside, test_outside = [],[]\n",
    "for each_test_dist,each_test_error in zip(tst_distance_to_trn_centroid,tst_rel_error):\n",
    "    if each_test_dist <= 900:\n",
    "        test_inside.append(each_test_error)\n",
    "    else:\n",
    "        test_outside.append(each_test_error)\n",
    "\n",
    "print np.mean(test_inside)\n",
    "print np.mean(test_outside)"
   ]
  },
  {
   "cell_type": "markdown",
   "metadata": {},
   "source": [
    "---"
   ]
  }
 ],
 "metadata": {
  "kernelspec": {
   "display_name": "tensorflow",
   "language": "python",
   "name": "tensorflow"
  },
  "language_info": {
   "codemirror_mode": {
    "name": "ipython",
    "version": 2
   },
   "file_extension": ".py",
   "mimetype": "text/x-python",
   "name": "python",
   "nbconvert_exporter": "python",
   "pygments_lexer": "ipython2",
   "version": "2.7.13"
  }
 },
 "nbformat": 4,
 "nbformat_minor": 2
}
