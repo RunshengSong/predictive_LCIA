{
 "cells": [
  {
   "cell_type": "markdown",
   "metadata": {},
   "source": [
    "# Run the trained models and make predictions on each dataset"
   ]
  },
  {
   "cell_type": "code",
   "execution_count": 1,
   "metadata": {
    "collapsed": false
   },
   "outputs": [
    {
     "name": "stderr",
     "output_type": "stream",
     "text": [
      "/Users/runshengsong/anaconda/envs/tensorflow/lib/python2.7/site-packages/sklearn/cross_validation.py:44: DeprecationWarning: This module was deprecated in version 0.18 in favor of the model_selection module into which all the refactored classes and functions are moved. Also note that the interface of the new CV iterators are different from that of this module. This module will be removed in 0.20.\n",
      "  \"This module will be removed in 0.20.\", DeprecationWarning)\n"
     ]
    }
   ],
   "source": [
    "import sys\n",
    "sys.path.append(\"./src\") # append to system path\n",
    "\n",
    "from sklearn import cross_validation\n",
    "from sklearn.metrics import r2_score\n",
    "from sklearn.externals import joblib\n",
    "\n",
    "import numpy as np\n",
    "import pandas as pd\n",
    "import tensorflow as tf\n",
    "\n",
    "import matplotlib.pyplot as plt\n",
    "from matplotlib import style\n",
    "style.use('ggplot')\n",
    "\n",
    "\n",
    "# Helpers\n",
    "def mre(true_y,pred_y):\n",
    "    ## Note: does not handle mix 1d representation\n",
    "    #if _is_1d(y_true): \n",
    "    #    y_true, y_pred = _check_1d_array(y_true, y_pred)\n",
    "\n",
    "    return np.mean(np.abs(np.subtract(true_y, pred_y) / true_y)) * 100\n",
    "\n",
    "def run_model(graph_path, model_path, inputs):\n",
    "    # load graph and model \n",
    "    # return prediction on the inputs\n",
    "    with tf.Session() as sess:\n",
    "        new_saver = tf.train.import_meta_graph(graph_path)\n",
    "        new_saver.restore(sess, model_path)\n",
    "        X = tf.get_collection(\"X\")[0]\n",
    "        y = tf.get_collection(\"y\")[0]\n",
    "        pred = tf.get_collection(\"pred\")[0]  \n",
    "        results = sess.run(pred,feed_dict={X:inputs})\n",
    "        return results\n",
    "   \n",
    "#descs\n",
    "trn_descs = pd.read_csv('../data/descs/train/descs_Mar08_3839_train.csv',header=0,index_col=None).fillna(0).values\n",
    "tst_descs = pd.read_csv('../data/descs/test/descs_Mar08_3839_test.csv',header=0,index_col=None).fillna(0).values"
   ]
  },
  {
   "cell_type": "markdown",
   "metadata": {},
   "source": [
    "### CED models"
   ]
  },
  {
   "cell_type": "code",
   "execution_count": 3,
   "metadata": {
    "collapsed": true
   },
   "outputs": [],
   "source": [
    "### Change here\n",
    "RS = 42\n",
    "upper_lim=300\n",
    "# load target\n",
    "trn_target = pd.read_csv('../data/target/train/CED_train.csv').values\n",
    "tst_target = pd.read_csv('../data/target/test/CED_test.csv').values\n",
    "graph_path = '../nets/CED/CED_apr4.meta'\n",
    "model_path = '../nets/CED/CED_apr4'\n",
    "this_scaler = joblib.load('../nets/CED/scaler.pkl')\n",
    "pca = joblib.load(\"../nets/CED/pca.pkl\")\n",
    "\n",
    "\n",
    "###\n",
    "\n",
    "#split training and validation sets \n",
    "trn_X, val_X,trn_y, val_y = cross_validation.train_test_split(\n",
    "    trn_descs, trn_target, test_size=0.1, random_state=RS)\n",
    "\n",
    "#PCA\n",
    "trn_X = pca.transform(this_scaler.transform(trn_X))\n",
    "val_X = pca.transform(this_scaler.transform(val_X))\n",
    "tst_X = pca.transform(this_scaler.transform(tst_descs))"
   ]
  },
  {
   "cell_type": "markdown",
   "metadata": {},
   "source": [
    "### Acidification Models"
   ]
  },
  {
   "cell_type": "code",
   "execution_count": 2,
   "metadata": {
    "collapsed": true
   },
   "outputs": [],
   "source": [
    "### Change here\n",
    "RS = 3\n",
    "upper_lim=7\n",
    "# load target\n",
    "trn_target = pd.read_csv('../data/target/train/acidification_train.csv').values\n",
    "tst_target = pd.read_csv('../data/target/test/acidification_test.csv').values\n",
    "graph_path = '../nets/acidification/acidification_apr4.meta'\n",
    "model_path = '../nets/acidification/acidification_apr4.ckpt'\n",
    "this_scaler = joblib.load('../nets/acidification/scaler.pkl')\n",
    "pca = joblib.load(\"../nets/acidification/pca.pkl\")\n",
    "\n",
    "\n",
    "###\n",
    "\n",
    "#split training and validation sets \n",
    "trn_X, val_X,trn_y, val_y = cross_validation.train_test_split(\n",
    "    trn_descs, trn_target, test_size=0.1, random_state=RS)\n",
    "\n",
    "#PCA\n",
    "trn_X = pca.transform(this_scaler.transform(trn_X))\n",
    "val_X = pca.transform(this_scaler.transform(val_X))\n",
    "tst_X = pca.transform(this_scaler.transform(tst_descs))"
   ]
  },
  {
   "cell_type": "markdown",
   "metadata": {},
   "source": [
    "### EI99"
   ]
  },
  {
   "cell_type": "code",
   "execution_count": 2,
   "metadata": {
    "collapsed": true
   },
   "outputs": [],
   "source": [
    "### Change here\n",
    "RS = 3\n",
    "upper_lim=3\n",
    "# load target\n",
    "trn_target = pd.read_csv('../data/target/train/EI99_train.csv').values\n",
    "tst_target = pd.read_csv('../data/target/test/EI99_test.csv').values\n",
    "graph_path = '../nets/EI99/EI99_Apr4.meta'\n",
    "model_path = '../nets/EI99/EI99_Apr4.ckpt'\n",
    "this_scaler = joblib.load('../nets/EI99/scaler.pkl')\n",
    "pca = joblib.load(\"../nets/EI99/pca.pkl\")\n",
    "\n",
    "\n",
    "###\n",
    "\n",
    "#split training and validation sets \n",
    "trn_X, val_X,trn_y, val_y = cross_validation.train_test_split(\n",
    "    trn_descs, trn_target, test_size=0.1, random_state=RS)\n",
    "\n",
    "#PCA\n",
    "trn_X = pca.transform(this_scaler.transform(trn_X))\n",
    "val_X = pca.transform(this_scaler.transform(val_X))\n",
    "tst_X = pca.transform(this_scaler.transform(tst_descs))"
   ]
  },
  {
   "cell_type": "markdown",
   "metadata": {},
   "source": [
    "### GWP"
   ]
  },
  {
   "cell_type": "code",
   "execution_count": 2,
   "metadata": {
    "collapsed": true
   },
   "outputs": [],
   "source": [
    "### Change here\n",
    "RS = 42\n",
    "upper_lim=20\n",
    "# load target\n",
    "trn_target = pd.read_csv('../data/target/train/GWP_train.csv').values\n",
    "tst_target = pd.read_csv('../data/target/test/GWP_test.csv').values\n",
    "graph_path = '../nets/GWP/GWP_Apr4.meta'\n",
    "model_path = '../nets/GWP/GWP_Apr4.ckpt'\n",
    "this_scaler = joblib.load('../nets/GWP/scaler.pkl')\n",
    "pca = joblib.load(\"../nets/GWP/pca.pkl\")\n",
    "\n",
    "\n",
    "###\n",
    "\n",
    "#split training and validation sets \n",
    "trn_X, val_X,trn_y, val_y = cross_validation.train_test_split(\n",
    "    trn_descs, trn_target, test_size=0.1, random_state=RS)\n",
    "\n",
    "#PCA\n",
    "trn_X = pca.transform(this_scaler.transform(trn_X))\n",
    "val_X = pca.transform(this_scaler.transform(val_X))\n",
    "tst_X = pca.transform(this_scaler.transform(tst_descs))"
   ]
  },
  {
   "cell_type": "markdown",
   "metadata": {},
   "source": [
    "### Human Health"
   ]
  },
  {
   "cell_type": "code",
   "execution_count": 2,
   "metadata": {
    "collapsed": true
   },
   "outputs": [],
   "source": [
    "### Change here\n",
    "RS = 42\n",
    "upper_lim = 0.003\n",
    "# load target\n",
    "trn_target = pd.read_csv('../data/target/train/humanhealth_train.csv').values\n",
    "tst_target = pd.read_csv('../data/target/test/humanhealth_test.csv').values\n",
    "graph_path = '../nets/humanhealth/humanhealth_Apr4.meta'\n",
    "model_path = '../nets/humanhealth/humanhealth_Apr4.ckpt'\n",
    "this_scaler = joblib.load('../nets/humanhealth/scaler.pkl')\n",
    "pca = joblib.load(\"../nets/humanhealth/pca.pkl\")\n",
    "\n",
    "\n",
    "###\n",
    "\n",
    "#split training and validation sets \n",
    "trn_X, val_X,trn_y, val_y = cross_validation.train_test_split(\n",
    "    trn_descs, trn_target, test_size=0.1, random_state=RS)\n",
    "\n",
    "#PCA\n",
    "trn_X = pca.transform(this_scaler.transform(trn_X))\n",
    "val_X = pca.transform(this_scaler.transform(val_X))\n",
    "tst_X = pca.transform(this_scaler.transform(tst_descs))"
   ]
  },
  {
   "cell_type": "markdown",
   "metadata": {},
   "source": [
    "### Ecosystem Quality"
   ]
  },
  {
   "cell_type": "code",
   "execution_count": 2,
   "metadata": {
    "collapsed": true
   },
   "outputs": [],
   "source": [
    "### Change here\n",
    "RS = 3\n",
    "upper_lim = 0.0006\n",
    "# load target\n",
    "trn_target = pd.read_csv('../data/target/train/ecosystemquality_train.csv').values\n",
    "tst_target = pd.read_csv('../data/target/test/ecosystemquality_test.csv').values\n",
    "graph_path = '../nets/ecosystemquality/ecosystemquality_Apr4.meta'\n",
    "model_path = '../nets/ecosystemquality/ecosystemquality_Apr4.ckpt'\n",
    "this_scaler = joblib.load('../nets/ecosystemquality/scaler.pkl')\n",
    "pca = joblib.load(\"../nets/ecosystemquality/pca.pkl\")\n",
    "\n",
    "\n",
    "###\n",
    "\n",
    "#split training and validation sets \n",
    "trn_X, val_X,trn_y, val_y = cross_validation.train_test_split(\n",
    "    trn_descs, trn_target, test_size=0.1, random_state=RS)\n",
    "\n",
    "#PCA\n",
    "trn_X = pca.transform(this_scaler.transform(trn_X))\n",
    "val_X = pca.transform(this_scaler.transform(val_X))\n",
    "tst_X = pca.transform(this_scaler.transform(tst_descs))"
   ]
  },
  {
   "cell_type": "markdown",
   "metadata": {},
   "source": [
    "### Run Prediction"
   ]
  },
  {
   "cell_type": "code",
   "execution_count": 3,
   "metadata": {
    "collapsed": true
   },
   "outputs": [],
   "source": [
    "pred_trn = run_model(graph_path, model_path, trn_X)\n",
    "pred_val = run_model(graph_path, model_path, val_X)\n",
    "pred_tst = run_model(graph_path, model_path, tst_X)"
   ]
  },
  {
   "cell_type": "markdown",
   "metadata": {},
   "source": [
    "## Transform prediction to normal scale if necessary\n",
    "only for GWP, human health and ecosystem quality model"
   ]
  },
  {
   "cell_type": "code",
   "execution_count": 4,
   "metadata": {
    "collapsed": true
   },
   "outputs": [],
   "source": [
    "pred_trn = np.exp(pred_trn)\n",
    "pred_val = np.exp(pred_val)\n",
    "pred_tst = np.exp(pred_tst)"
   ]
  },
  {
   "cell_type": "code",
   "execution_count": 5,
   "metadata": {
    "collapsed": false
   },
   "outputs": [
    {
     "name": "stdout",
     "output_type": "stream",
     "text": [
      "Training R2 and MRE:  0.206440977591 20.3925854453\n",
      "Validation R2 and MRE:  0.211294100203 88.1340091041\n",
      "Testing R2 and MRE: 0.481892249982 50.1242640624\n"
     ]
    }
   ],
   "source": [
    "trn_R2 = r2_score(trn_y,pred_trn)\n",
    "trn_MRE = mre(trn_y,pred_trn)\n",
    "\n",
    "val_R2 = r2_score(val_y,pred_val)\n",
    "val_MRE = mre(val_y,pred_val)\n",
    "\n",
    "tst_R2 = r2_score(tst_target,pred_tst)\n",
    "tst_MRE = mre(tst_target,pred_tst)\n",
    "\n",
    "print \"Training R2 and MRE: \", trn_R2, trn_MRE\n",
    "print \"Validation R2 and MRE: \", val_R2, val_MRE\n",
    "print \"Testing R2 and MRE:\", tst_R2, tst_MRE"
   ]
  },
  {
   "cell_type": "markdown",
   "metadata": {},
   "source": [
    "### Figures\n"
   ]
  },
  {
   "cell_type": "code",
   "execution_count": 6,
   "metadata": {
    "collapsed": false
   },
   "outputs": [
    {
     "name": "stdout",
     "output_type": "stream",
     "text": [
      "Using matplotlib backend: MacOSX\n"
     ]
    }
   ],
   "source": [
    "%matplotlib auto\n",
    "# plt.switch_backend('Qt5Agg')\n",
    "#make graph\n",
    "fig = plt.figure(figsize=(10,8))\n",
    "ax = fig.add_subplot(111)\n",
    "MRE = mre(tst_target, pred_tst)\n",
    "r2  = round(r2_score(tst_target, pred_tst),2)\n",
    "\n",
    "tst_results = plt.plot(tst_target, pred_tst, '^', label = 'testing chemicals',zorder=10,markersize=10)\n",
    "val_results = plt.plot(val_y, pred_val, 's', label = 'validation chemicals',zorder=5,markersize=10)\n",
    "trn_results = plt.plot(trn_y, pred_trn, 'o',label = 'training chemicals',zorder=1,markersize=10)\n",
    "\n",
    "plt.ylim([0,upper_lim])\n",
    "plt.xlim([0,upper_lim])\n",
    "ax.tick_params(axis='both',which='major',labelsize=15)\n",
    "\n",
    "thisLine = plt.plot(np.append(0,upper_lim), np.append(0,upper_lim), label='perfect prediction line')\n",
    "\n",
    "plt.plot([],[],linewidth=0, label='R2 on testing data: '+str(r2))\n",
    "plt.legend(loc='upper left',numpoints=1)\n",
    "\n",
    "plt.show()"
   ]
  },
  {
   "cell_type": "code",
   "execution_count": null,
   "metadata": {
    "collapsed": true
   },
   "outputs": [],
   "source": []
  }
 ],
 "metadata": {
  "anaconda-cloud": {},
  "kernelspec": {
   "display_name": "Python [conda env:tensorflow]",
   "language": "python",
   "name": "conda-env-tensorflow-py"
  },
  "language_info": {
   "codemirror_mode": {
    "name": "ipython",
    "version": 2
   },
   "file_extension": ".py",
   "mimetype": "text/x-python",
   "name": "python",
   "nbconvert_exporter": "python",
   "pygments_lexer": "ipython2",
   "version": "2.7.12"
  }
 },
 "nbformat": 4,
 "nbformat_minor": 1
}
