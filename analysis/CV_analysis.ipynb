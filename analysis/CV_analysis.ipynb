{
 "cells": [
  {
   "cell_type": "code",
   "execution_count": 30,
   "metadata": {
    "collapsed": false
   },
   "outputs": [],
   "source": [
    "from sklearn import cross_validation\n",
    "\n",
    "import pandas as pd\n",
    "import numpy as np\n",
    "\n",
    "import matplotlib.pyplot as plt\n",
    "from matplotlib import style"
   ]
  },
  {
   "cell_type": "markdown",
   "metadata": {},
   "source": [
    "### Plot the CV results for the acidification model\n",
    "input data manually"
   ]
  },
  {
   "cell_type": "code",
   "execution_count": 36,
   "metadata": {
    "collapsed": false
   },
   "outputs": [
    {
     "name": "stdout",
     "output_type": "stream",
     "text": [
      "Using matplotlib backend: Qt5Agg\n"
     ]
    }
   ],
   "source": [
    "%matplotlib auto\n",
    "num_neurons = [16,64,128,512]\n",
    "# x_label = ['16','64','128','512']\n",
    "layer1 = [0.45,0.52,0.56,0.72]\n",
    "layer2 = [0.58,0.69,0.75,0.71]\n",
    "layer5 = [0.70,0.61,0.42,0.33]\n",
    "\n",
    "fig,ax = plt.subplots()\n",
    "\n",
    "plt.plot(num_neurons,layer1,color='blue',label='One Layer Model')\n",
    "plt.plot(num_neurons,layer1,'bo')\n",
    "\n",
    "plt.plot(num_neurons,layer2,color='red',label='Two Layers Model')\n",
    "plt.plot(num_neurons,layer2,'ro')\n",
    "\n",
    "plt.plot(num_neurons,layer5,color='green',label='Five Layers Model')\n",
    "plt.plot(num_neurons,layer5,'go')\n",
    "\n",
    "# plt.xticks(num_neurons, x_label)\n",
    "plt.ylim(0,1)\n",
    "ax.grid(True)\n",
    "plt.show()"
   ]
  },
  {
   "cell_type": "code",
   "execution_count": null,
   "metadata": {
    "collapsed": true
   },
   "outputs": [],
   "source": []
  },
  {
   "cell_type": "code",
   "execution_count": null,
   "metadata": {
    "collapsed": true
   },
   "outputs": [],
   "source": []
  }
 ],
 "metadata": {
  "kernelspec": {
   "display_name": "tensorflow",
   "language": "python",
   "name": "tensorflow"
  },
  "language_info": {
   "codemirror_mode": {
    "name": "ipython",
    "version": 2
   },
   "file_extension": ".py",
   "mimetype": "text/x-python",
   "name": "python",
   "nbconvert_exporter": "python",
   "pygments_lexer": "ipython2",
   "version": "2.7.13"
  }
 },
 "nbformat": 4,
 "nbformat_minor": 2
}
