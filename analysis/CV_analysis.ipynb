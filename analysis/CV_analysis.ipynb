{
 "cells": [
  {
   "cell_type": "code",
   "execution_count": 1,
   "metadata": {
    "collapsed": false
   },
   "outputs": [
    {
     "name": "stderr",
     "output_type": "stream",
     "text": [
      "/Users/runshengsong/anaconda/envs/tensorflow/lib/python2.7/site-packages/sklearn/cross_validation.py:44: DeprecationWarning: This module was deprecated in version 0.18 in favor of the model_selection module into which all the refactored classes and functions are moved. Also note that the interface of the new CV iterators are different from that of this module. This module will be removed in 0.20.\n",
      "  \"This module will be removed in 0.20.\", DeprecationWarning)\n"
     ]
    }
   ],
   "source": [
    "from sklearn import cross_validation\n",
    "\n",
    "import pandas as pd\n",
    "import numpy as np\n",
    "\n",
    "import matplotlib.pyplot as plt\n",
    "from matplotlib import style"
   ]
  },
  {
   "cell_type": "markdown",
   "metadata": {},
   "source": [
    "### Plot the CV results for the acidification model\n",
    "input data manually"
   ]
  },
  {
   "cell_type": "code",
   "execution_count": 20,
   "metadata": {
    "collapsed": false
   },
   "outputs": [
    {
     "name": "stdout",
     "output_type": "stream",
     "text": [
      "Using matplotlib backend: MacOSX\n"
     ]
    }
   ],
   "source": [
    "%matplotlib auto\n",
    "num_neurons = [16,64,128,512]\n",
    "# x_label = ['16','64','128','512']\n",
    "layer1 = [-0.11,0.44,0.51,0.38]\n",
    "layer2 = [-0.05,0.25,0.18,0.35]\n",
    "layer5 = [-0.09,-0.31,-0.84,-0.71]\n",
    "\n",
    "fig,ax = plt.subplots()\n",
    "\n",
    "plt.plot(num_neurons,layer1,color='blue',label='one hidden-layer',linewidth=2)\n",
    "plt.plot(num_neurons,layer1,'bo',markersize=9)\n",
    "\n",
    "plt.plot(num_neurons,layer2,color='red',label='two hidden-layer',linewidth=2)\n",
    "plt.plot(num_neurons,layer2,'ro',markersize=9)\n",
    "\n",
    "plt.plot(num_neurons,layer5,color='green',label='three hidden-layer',linewidth=2)\n",
    "plt.plot(num_neurons,layer5,'go',markersize=9)\n",
    "\n",
    "# plt.xticks(num_neurons, x_label)\n",
    "plt.ylim(-1,1)\n",
    "ax.tick_params(axis='both',which='major',labelsize=15)\n",
    "ax.grid(True)\n",
    "plt.legend(loc='upper left')\n",
    "plt.show()"
   ]
  },
  {
   "cell_type": "code",
   "execution_count": null,
   "metadata": {
    "collapsed": true
   },
   "outputs": [],
   "source": []
  },
  {
   "cell_type": "code",
   "execution_count": null,
   "metadata": {
    "collapsed": true
   },
   "outputs": [],
   "source": []
  }
 ],
 "metadata": {
  "kernelspec": {
   "display_name": "Python [conda env:tensorflow]",
   "language": "python",
   "name": "conda-env-tensorflow-py"
  },
  "language_info": {
   "codemirror_mode": {
    "name": "ipython",
    "version": 2
   },
   "file_extension": ".py",
   "mimetype": "text/x-python",
   "name": "python",
   "nbconvert_exporter": "python",
   "pygments_lexer": "ipython2",
   "version": "2.7.12"
  }
 },
 "nbformat": 4,
 "nbformat_minor": 2
}
