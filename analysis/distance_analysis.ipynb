{
 "cells": [
  {
   "cell_type": "markdown",
   "metadata": {},
   "source": [
    "# Distance analysis of the testing data on the training data"
   ]
  },
  {
   "cell_type": "code",
   "execution_count": 1,
   "metadata": {
    "collapsed": false
   },
   "outputs": [
    {
     "name": "stderr",
     "output_type": "stream",
     "text": [
      "/home/runsheng/anaconda2/envs/tensorflow/lib/python2.7/site-packages/sklearn/cross_validation.py:44: DeprecationWarning: This module was deprecated in version 0.18 in favor of the model_selection module into which all the refactored classes and functions are moved. Also note that the interface of the new CV iterators are different from that of this module. This module will be removed in 0.20.\n",
      "  \"This module will be removed in 0.20.\", DeprecationWarning)\n"
     ]
    }
   ],
   "source": [
    "import sys\n",
    "sys.path.append(\"./src\") # append to system path\n",
    "\n",
    "from sklearn.metrics import mean_absolute_error\n",
    "from sklearn.decomposition import PCA\n",
    "from sklearn.metrics import r2_score\n",
    "from sklearn.preprocessing import StandardScaler\n",
    "from sklearn import cross_validation\n",
    "from sklearn.externals import joblib\n",
    "\n",
    "import numpy as np\n",
    "import pandas as pd\n",
    "import tensorflow as tf\n",
    "\n",
    "import matplotlib.pyplot as plt\n",
    "from matplotlib import style\n",
    "from matplotlib.patches import Rectangle\n",
    "style.use('ggplot')"
   ]
  },
  {
   "cell_type": "code",
   "execution_count": 2,
   "metadata": {
    "collapsed": true
   },
   "outputs": [],
   "source": [
    "##Helpers\n",
    "def mre(true_y,pred_y):\n",
    "    ## Note: does not handle mix 1d representation\n",
    "    #if _is_1d(y_true): \n",
    "    #    y_true, y_pred = _check_1d_array(y_true, y_pred)\n",
    "\n",
    "    return np.abs(np.subtract(true_y, pred_y) / true_y) * 100\n",
    "\n",
    "def distance_analysis(distance, error, thre_dist=30):\n",
    "    #cut off the error by the threshold distance\n",
    "    outside = []\n",
    "    inside = []\n",
    "    for each_dist, each_error in zip(distance, error):\n",
    "        if each_dist <= thre_dist:\n",
    "            inside.append(each_error)\n",
    "        else:\n",
    "            outside.append(each_error)\n",
    "    return np.mean(inside),len(inside),np.mean(outside),len(outside)\n",
    "\n",
    "def run_model(graph_path, model_path, inputs):\n",
    "    with tf.Session() as sess:\n",
    "        new_saver = tf.train.import_meta_graph(graph_path)\n",
    "        new_saver.restore(sess, model_path)\n",
    "        X = tf.get_collection(\"X\")[0]\n",
    "        y = tf.get_collection(\"y\")[0]\n",
    "        pred = tf.get_collection(\"pred\")[0]  \n",
    "        results = sess.run(pred,feed_dict={X:inputs})\n",
    "        return results\n"
   ]
  },
  {
   "cell_type": "code",
   "execution_count": 3,
   "metadata": {
    "collapsed": false
   },
   "outputs": [],
   "source": [
    "# load descriptors, they are all same for every model\n",
    "trn_descs = pd.read_csv('../data/descs/train/descs_Mar08_3839_train.csv',header=0,index_col=None).fillna(0).values\n",
    "tst_descs = pd.read_csv('../data/descs/test/descs_Mar08_3839_test.csv',header=0,index_col=None).fillna(0).values"
   ]
  },
  {
   "cell_type": "markdown",
   "metadata": {},
   "source": [
    "---\n",
    "# Distance Analysis on the CED Model\n",
    "\n",
    "load CED model and split data to training and validation"
   ]
  },
  {
   "cell_type": "code",
   "execution_count": null,
   "metadata": {
    "collapsed": false
   },
   "outputs": [],
   "source": [
    "CED_graph_path = \"../nets/CED/CED_apr4.meta\"\n",
    "CED_model_path = \"../nets/CED/CED_apr4\" #CED without .ckpt...\n",
    "\n",
    "# load target\n",
    "CED_trn_target = pd.read_csv('../data/target/train/CED_train.csv').values\n",
    "CED_tst_target = pd.read_csv('../data/target/test/CED_test.csv').values\n",
    "\n",
    "#split training and validation sets \n",
    "trn_X, val_X,trn_y, val_y = cross_validation.train_test_split(\n",
    "    trn_descs, CED_trn_target, test_size=0.1, random_state=42)"
   ]
  },
  {
   "cell_type": "markdown",
   "metadata": {},
   "source": [
    "## measure distance between centroid to validation, and centroid to test descriptors BEFORE PCA"
   ]
  },
  {
   "cell_type": "code",
   "execution_count": null,
   "metadata": {
    "collapsed": true
   },
   "outputs": [],
   "source": [
    "centroid = np.mean(trn_X, axis=0)\n",
    "\n",
    "val_distance_to_trn_centroid = []\n",
    "tst_distance_to_trn_centroid = []\n",
    "\n",
    "for each_val in val_X:\n",
    "    e_d_val = np.linalg.norm(each_val-centroid)\n",
    "    val_distance_to_trn_centroid.append(e_d_val)\n",
    "    \n",
    "# measure distance on the original descriptors (before PCA)\n",
    "for each_tst in tst_descs:\n",
    "    e_d_tst = np.linalg.norm(each_tst-centroid)\n",
    "    tst_distance_to_trn_centroid.append(e_d_tst)"
   ]
  },
  {
   "cell_type": "markdown",
   "metadata": {},
   "source": [
    "## do PCA on training, validation and test descriptors"
   ]
  },
  {
   "cell_type": "code",
   "execution_count": null,
   "metadata": {
    "collapsed": false
   },
   "outputs": [],
   "source": [
    "this_scaler = joblib.load('../nets/CED/scaler.pkl')\n",
    "pca = joblib.load(\"../nets/CED/pca.pkl\")\n",
    "\n",
    "trn_X = pca.transform(this_scaler.transform(trn_X))\n",
    "val_X = pca.transform(this_scaler.transform(val_X))\n",
    "tst_X = pca.transform(this_scaler.transform(tst_descs))\n",
    "\n",
    "print trn_X.shape, val_X.shape, tst_X.shape"
   ]
  },
  {
   "cell_type": "markdown",
   "metadata": {},
   "source": [
    "## Run CED model and give prediction on validation and test sets"
   ]
  },
  {
   "cell_type": "code",
   "execution_count": null,
   "metadata": {
    "collapsed": false
   },
   "outputs": [],
   "source": [
    "pred_val = run_model(CED_graph_path, CED_model_path, val_X)\n",
    "pred_tst = run_model(CED_graph_path, CED_model_path, tst_X)"
   ]
  },
  {
   "cell_type": "markdown",
   "metadata": {},
   "source": [
    "### Determine the cut-off threshold of the CED model on the validation set\n",
    "\n",
    "Doing it manually, for results, see the Excel file in Results folder"
   ]
  },
  {
   "cell_type": "code",
   "execution_count": null,
   "metadata": {
    "collapsed": false
   },
   "outputs": [],
   "source": [
    "val_rel_error = mre(val_y,pred_val)\n",
    "\n",
    "for each_pair in zip(val_rel_error, val_distance_to_trn_centroid):\n",
    "    print each_pair\n",
    "print r2_score(val_rel_error,val_distance_to_trn_centroid) "
   ]
  },
  {
   "cell_type": "code",
   "execution_count": null,
   "metadata": {
    "collapsed": false
   },
   "outputs": [],
   "source": [
    "inside_mean,num_chem_inside, outside_mean,num_chem_outside = distance_analysis(\n",
    "    val_distance_to_trn_centroid, val_rel_error,1600)\n",
    "print inside_mean, num_chem_inside\n",
    "print outside_mean, num_chem_outside"
   ]
  },
  {
   "cell_type": "markdown",
   "metadata": {},
   "source": [
    "# CED -- Decide whether each testing chemical in our outside AD using the determined threshold distance\n",
    "\n",
    "using 1000"
   ]
  },
  {
   "cell_type": "code",
   "execution_count": null,
   "metadata": {
    "collapsed": false
   },
   "outputs": [],
   "source": [
    "tst_rel_error = mre(CED_tst_target, pred_tst)\n",
    "\n",
    "for each_pair in zip(tst_rel_error, tst_distance_to_trn_centroid):\n",
    "    print each_pair"
   ]
  },
  {
   "cell_type": "code",
   "execution_count": null,
   "metadata": {
    "collapsed": false
   },
   "outputs": [],
   "source": [
    "test_inside, test_outside = [],[]\n",
    "for each_test_dist,each_test_error in zip(tst_distance_to_trn_centroid,tst_rel_error):\n",
    "    if each_test_dist <= 900:\n",
    "        test_inside.append(each_test_error)\n",
    "    else:\n",
    "        test_outside.append(each_test_error)\n",
    "\n",
    "print np.mean(test_inside)\n",
    "print np.mean(test_outside)"
   ]
  },
  {
   "cell_type": "markdown",
   "metadata": {},
   "source": [
    "---\n",
    "# Distance Analysis on the acidification Model\n",
    "load acidification model and split data to training and validation"
   ]
  },
  {
   "cell_type": "code",
   "execution_count": 4,
   "metadata": {
    "collapsed": false
   },
   "outputs": [],
   "source": [
    "acid_graph_path = \"../nets/acidification/acidification_apr4.meta\"\n",
    "acid_model_path = \"../nets/acidification/acidification_apr4.ckpt\" #CED without .ckpt...\n",
    "\n",
    "# load target\n",
    "acid_trn_target = pd.read_csv('../data/target/train/acidification_train.csv').values\n",
    "acid_tst_target = pd.read_csv('../data/target/test/acidification_test.csv').values\n",
    "\n",
    "#split training and validation sets \n",
    "trn_X, val_X,trn_y, val_y = cross_validation.train_test_split(\n",
    "    trn_descs, acid_trn_target, test_size=0.1, random_state=3)"
   ]
  },
  {
   "cell_type": "markdown",
   "metadata": {},
   "source": [
    "## measure distance between centroid to validation, and centroid to test descriptors BEFORE PCA"
   ]
  },
  {
   "cell_type": "code",
   "execution_count": 5,
   "metadata": {
    "collapsed": true
   },
   "outputs": [],
   "source": [
    "centroid = np.mean(trn_X, axis=0)\n",
    "\n",
    "val_distance_to_trn_centroid = []\n",
    "tst_distance_to_trn_centroid = []\n",
    "\n",
    "for each_val in val_X:\n",
    "    e_d_val = np.linalg.norm(each_val-centroid)\n",
    "    val_distance_to_trn_centroid.append(e_d_val)\n",
    "    \n",
    "# measure distance on the original descriptors (before PCA)\n",
    "for each_tst in tst_descs:\n",
    "    e_d_tst = np.linalg.norm(each_tst-centroid)\n",
    "    tst_distance_to_trn_centroid.append(e_d_tst)"
   ]
  },
  {
   "cell_type": "markdown",
   "metadata": {},
   "source": [
    "## do PCA on training, validation and test descriptors"
   ]
  },
  {
   "cell_type": "code",
   "execution_count": 6,
   "metadata": {
    "collapsed": false
   },
   "outputs": [
    {
     "name": "stdout",
     "output_type": "stream",
     "text": [
      "(140, 60) (16, 60) (10, 60)\n"
     ]
    }
   ],
   "source": [
    "this_scaler = joblib.load('../nets/acidification/scaler.pkl')\n",
    "pca = joblib.load(\"../nets/acidification/pca.pkl\")\n",
    "\n",
    "trn_X = pca.transform(this_scaler.transform(trn_X))\n",
    "val_X = pca.transform(this_scaler.transform(val_X))\n",
    "tst_X = pca.transform(this_scaler.transform(tst_descs))\n",
    "\n",
    "print trn_X.shape, val_X.shape, tst_X.shape"
   ]
  },
  {
   "cell_type": "markdown",
   "metadata": {},
   "source": [
    "## Run acid model and give prediction on validation and test sets"
   ]
  },
  {
   "cell_type": "code",
   "execution_count": 7,
   "metadata": {
    "collapsed": false
   },
   "outputs": [],
   "source": [
    "pred_val = run_model(acid_graph_path, acid_model_path, val_X)\n",
    "pred_tst = run_model(acid_graph_path, acid_model_path, tst_X)"
   ]
  },
  {
   "cell_type": "markdown",
   "metadata": {},
   "source": [
    "### Determine the cut-off threshold of the acidification model on the validation set\n",
    "\n",
    "Doing it manually, for results, see the Excel file in Results folder"
   ]
  },
  {
   "cell_type": "code",
   "execution_count": 9,
   "metadata": {
    "collapsed": false
   },
   "outputs": [
    {
     "name": "stdout",
     "output_type": "stream",
     "text": [
      "(array([ 19.5989533]), 726.70978095062276)\n",
      "(array([ 63.73545822]), 1324.9018379149593)\n",
      "(array([ 8.205636]), 477.50965293946354)\n",
      "(array([ 288.01232915]), 4365.3392081366692)\n",
      "(array([ 109.96836671]), 1583.5360667286047)\n",
      "(array([ 27.87097497]), 685.49556960005089)\n",
      "(array([ 15.11944348]), 1212.083866555753)\n",
      "(array([ 10.74131449]), 603.38853177340934)\n",
      "(array([ 15.68092157]), 769.14945366495294)\n",
      "(array([ 80.65550438]), 1551.2710277153853)\n",
      "(array([ 5.90719386]), 899.58508256123412)\n",
      "(array([ 119.22190277]), 612.64038846593132)\n",
      "(array([ 20.05581841]), 1028.9971632341365)\n",
      "(array([ 4.18117666]), 1265.0349945896066)\n",
      "(array([ 93.6074054]), 1367.8886445469698)\n",
      "(array([ 23.70820664]), 821.60955248002597)\n"
     ]
    }
   ],
   "source": [
    "val_rel_error = mre(val_y, pred_val)\n",
    "\n",
    "for each_pair in zip(val_rel_error, val_distance_to_trn_centroid):\n",
    "    print each_pair"
   ]
  },
  {
   "cell_type": "code",
   "execution_count": 21,
   "metadata": {
    "collapsed": false
   },
   "outputs": [
    {
     "name": "stdout",
     "output_type": "stream",
     "text": [
      "41.2172184565 15\n",
      "288.012329151 1\n"
     ]
    }
   ],
   "source": [
    "inside_mean,num_chem_inside, outside_mean,num_chem_outside = distance_analysis(\n",
    "    val_distance_to_trn_centroid, val_rel_error,1600)\n",
    "print inside_mean, num_chem_inside\n",
    "print outside_mean, num_chem_outside"
   ]
  },
  {
   "cell_type": "markdown",
   "metadata": {},
   "source": [
    "# Acidification -- Decide whether each testing chemical in our outside AD using the determined threshold distance\n",
    "\n",
    "using 1500"
   ]
  },
  {
   "cell_type": "code",
   "execution_count": 22,
   "metadata": {
    "collapsed": false
   },
   "outputs": [
    {
     "name": "stdout",
     "output_type": "stream",
     "text": [
      "(array([ 2.52661755]), 1832.6740803026159)\n",
      "(array([ 9.33849845]), 1224.4477800309464)\n",
      "(array([ 51.93761335]), 7103.7306508290103)\n",
      "(array([ 33.1718333]), 1490.3011642220563)\n",
      "(array([ 35.71065878]), 1595.690150212301)\n",
      "(array([ 6.95598513]), 601.18938340020838)\n",
      "(array([ 70.12750741]), 568.29763522452765)\n",
      "(array([ 214.98881457]), 1514.5900195576428)\n",
      "(array([ 16.06649507]), 664.43627041106902)\n",
      "(array([ 18.83128971]), 1054.6147050933641)\n"
     ]
    }
   ],
   "source": [
    "tst_rel_error = mre(acid_tst_target, pred_tst)\n",
    "\n",
    "for each_pair in zip(tst_rel_error, tst_distance_to_trn_centroid):\n",
    "    print each_pair"
   ]
  },
  {
   "cell_type": "code",
   "execution_count": 24,
   "metadata": {
    "collapsed": false
   },
   "outputs": [
    {
     "name": "stdout",
     "output_type": "stream",
     "text": [
      "25.7486015106\n",
      "76.2909260618\n"
     ]
    }
   ],
   "source": [
    "test_inside, test_outside = [],[]\n",
    "for each_test_dist,each_test_error in zip(tst_distance_to_trn_centroid,tst_rel_error):\n",
    "    if each_test_dist <= 1500:\n",
    "        test_inside.append(each_test_error)\n",
    "    else:\n",
    "        test_outside.append(each_test_error)\n",
    "\n",
    "print np.mean(test_inside)\n",
    "print np.mean(test_outside)"
   ]
  },
  {
   "cell_type": "markdown",
   "metadata": {},
   "source": [
    "---\n",
    "# Distance Analysis on the EI99 Model\n",
    "load acidification model and split data to training and validation"
   ]
  },
  {
   "cell_type": "code",
   "execution_count": 8,
   "metadata": {
    "collapsed": true
   },
   "outputs": [],
   "source": [
    "EI99_graph_path = \"../nets/EI99/EI99_Apr4.meta\"\n",
    "EI99_model_path = \"../nets/EI99/EI99_Apr4.ckpt\"\n",
    "\n",
    "# load target\n",
    "EI99_trn_target = pd.read_csv('../data/target/train/EI99_train.csv').values\n",
    "EI99_tst_target = pd.read_csv('../data/target/test/EI99_test.csv').values\n",
    "\n",
    "#split training and validation sets \n",
    "trn_X, val_X,trn_y, val_y = cross_validation.train_test_split(\n",
    "    trn_descs, EI99_trn_target, test_size=0.1, random_state=3)"
   ]
  },
  {
   "cell_type": "markdown",
   "metadata": {},
   "source": [
    "## measure distance between centroid to validation, and centroid to test descriptors BEFORE PCA"
   ]
  },
  {
   "cell_type": "code",
   "execution_count": 9,
   "metadata": {
    "collapsed": true
   },
   "outputs": [],
   "source": [
    "centroid = np.mean(trn_X, axis=0)\n",
    "\n",
    "val_distance_to_trn_centroid = []\n",
    "tst_distance_to_trn_centroid = []\n",
    "\n",
    "for each_val in val_X:\n",
    "    e_d_val = np.linalg.norm(each_val-centroid)\n",
    "    val_distance_to_trn_centroid.append(e_d_val)\n",
    "    \n",
    "# measure distance on the original descriptors (before PCA)\n",
    "for each_tst in tst_descs:\n",
    "    e_d_tst = np.linalg.norm(each_tst-centroid)\n",
    "    tst_distance_to_trn_centroid.append(e_d_tst)"
   ]
  },
  {
   "cell_type": "markdown",
   "metadata": {},
   "source": [
    "## do PCA on training, validation and test descriptors"
   ]
  },
  {
   "cell_type": "code",
   "execution_count": 10,
   "metadata": {
    "collapsed": false
   },
   "outputs": [
    {
     "name": "stdout",
     "output_type": "stream",
     "text": [
      "(140, 60) (16, 60) (10, 60)\n"
     ]
    }
   ],
   "source": [
    "this_scaler = joblib.load('../nets/EI99/scaler.pkl')\n",
    "pca = joblib.load(\"../nets/EI99/pca.pkl\")\n",
    "\n",
    "trn_X = pca.transform(this_scaler.transform(trn_X))\n",
    "val_X = pca.transform(this_scaler.transform(val_X))\n",
    "tst_X = pca.transform(this_scaler.transform(tst_descs))\n",
    "\n",
    "print trn_X.shape, val_X.shape, tst_X.shape"
   ]
  },
  {
   "cell_type": "markdown",
   "metadata": {},
   "source": [
    "## Run acid model and give prediction on validation and test sets"
   ]
  },
  {
   "cell_type": "code",
   "execution_count": 11,
   "metadata": {
    "collapsed": false
   },
   "outputs": [
    {
     "name": "stdout",
     "output_type": "stream",
     "text": [
      "0.720546347293\n"
     ]
    }
   ],
   "source": [
    "pred_val = run_model(EI99_graph_path, EI99_model_path, val_X)\n",
    "pred_tst = run_model(EI99_graph_path, EI99_model_path, tst_X)"
   ]
  },
  {
   "cell_type": "markdown",
   "metadata": {},
   "source": [
    "### Determine the cut-off threshold of the EI99 model on the validation set\n",
    "\n",
    "Doing it manually, for results, see the Excel file in Results folder"
   ]
  },
  {
   "cell_type": "code",
   "execution_count": 12,
   "metadata": {
    "collapsed": false
   },
   "outputs": [
    {
     "name": "stdout",
     "output_type": "stream",
     "text": [
      "(array([ 39.31937675]), 726.70978095062276)\n",
      "(array([ 5.94827298]), 1324.9018379149593)\n",
      "(array([ 17.6464651]), 477.50965293946354)\n",
      "(array([ 216.52407808]), 4365.3392081366692)\n",
      "(array([ 24.46251764]), 1583.5360667286047)\n",
      "(array([ 90.02882586]), 685.49556960005089)\n",
      "(array([ 4.76838963]), 1212.083866555753)\n",
      "(array([ 8.68301616]), 603.38853177340934)\n",
      "(array([ 32.99216139]), 769.14945366495294)\n",
      "(array([ 82.49396767]), 1551.2710277153853)\n",
      "(array([ 27.97094869]), 899.58508256123412)\n",
      "(array([ 95.01309854]), 612.64038846593132)\n",
      "(array([ 11.10305727]), 1028.9971632341365)\n",
      "(array([ 107.90076875]), 1265.0349945896066)\n",
      "(array([ 7.79411891]), 1367.8886445469698)\n",
      "(array([ 28.73395298]), 821.60955248002597)\n"
     ]
    }
   ],
   "source": [
    "val_rel_error = mre(val_y, pred_val)\n",
    "\n",
    "for each_pair in zip(val_rel_error, val_distance_to_trn_centroid):\n",
    "    print each_pair"
   ]
  },
  {
   "cell_type": "code",
   "execution_count": 23,
   "metadata": {
    "collapsed": false
   },
   "outputs": [
    {
     "name": "stdout",
     "output_type": "stream",
     "text": [
      "36.7617271533 13\n",
      "107.826854464 3\n"
     ]
    }
   ],
   "source": [
    "inside_mean,num_chem_inside, outside_mean,num_chem_outside = distance_analysis(\n",
    "    val_distance_to_trn_centroid, val_rel_error,1500)\n",
    "print inside_mean, num_chem_inside\n",
    "print outside_mean, num_chem_outside"
   ]
  },
  {
   "cell_type": "markdown",
   "metadata": {},
   "source": [
    "# EI99 -- Decide whether each testing chemical in our outside AD using the determined threshold distance\n",
    "\n",
    "using 1400"
   ]
  },
  {
   "cell_type": "code",
   "execution_count": 25,
   "metadata": {
    "collapsed": false
   },
   "outputs": [
    {
     "name": "stdout",
     "output_type": "stream",
     "text": [
      "(array([ 14.3174893]), 1832.6740803026159)\n",
      "(array([ 21.5444076]), 1224.4477800309464)\n",
      "(array([ 39.47579798]), 7103.7306508290103)\n",
      "(array([ 2.29610592]), 1490.3011642220563)\n",
      "(array([ 16.45749342]), 1595.690150212301)\n",
      "(array([ 25.73121992]), 601.18938340020838)\n",
      "(array([ 62.42594648]), 568.29763522452765)\n",
      "(array([ 100.82557087]), 1514.5900195576428)\n",
      "(array([ 5.51424878]), 664.43627041106902)\n",
      "(array([ 12.27200238]), 1054.6147050933641)\n"
     ]
    }
   ],
   "source": [
    "tst_rel_error = mre(EI99_tst_target, pred_tst)\n",
    "\n",
    "for each_pair in zip(tst_rel_error, tst_distance_to_trn_centroid):\n",
    "    print each_pair"
   ]
  },
  {
   "cell_type": "code",
   "execution_count": 26,
   "metadata": {
    "collapsed": false
   },
   "outputs": [
    {
     "name": "stdout",
     "output_type": "stream",
     "text": [
      "21.6306551814\n",
      "42.7690878953\n"
     ]
    }
   ],
   "source": [
    "test_inside, test_outside = [],[]\n",
    "for each_test_dist,each_test_error in zip(tst_distance_to_trn_centroid,tst_rel_error):\n",
    "    if each_test_dist <= 1500:\n",
    "        test_inside.append(each_test_error)\n",
    "    else:\n",
    "        test_outside.append(each_test_error)\n",
    "\n",
    "print np.mean(test_inside)\n",
    "print np.mean(test_outside)"
   ]
  },
  {
   "cell_type": "markdown",
   "metadata": {},
   "source": [
    "---\n",
    "# Distance Analysis on the Human Health Model\n",
    "load acidification model and split data to training and validation"
   ]
  },
  {
   "cell_type": "code",
   "execution_count": 5,
   "metadata": {
    "collapsed": false
   },
   "outputs": [],
   "source": [
    "humanhealth_graph_path = \"../nets/humanhealth/humanhealth_Apr4.meta\"\n",
    "humanhealth_model_path = \"../nets/humanhealth/humanhealth_Apr4.ckpt\"\n",
    "\n",
    "# load target\n",
    "humanhealth_trn_target = pd.read_csv('../data/target/train/humanhealth_train.csv').values\n",
    "humanhealth_tst_target = pd.read_csv('../data/target/test/humanhealth_test.csv').values\n",
    "\n",
    "#split training and validation sets \n",
    "trn_X, val_X,trn_y, val_y = cross_validation.train_test_split(\n",
    "    trn_descs, humanhealth_trn_target, test_size=0.1, random_state=42)"
   ]
  },
  {
   "cell_type": "markdown",
   "metadata": {},
   "source": [
    "## measure distance between centroid to validation, and centroid to test descriptors BEFORE PCA"
   ]
  },
  {
   "cell_type": "code",
   "execution_count": 6,
   "metadata": {
    "collapsed": true
   },
   "outputs": [],
   "source": [
    "centroid = np.mean(trn_X, axis=0)\n",
    "\n",
    "val_distance_to_trn_centroid = []\n",
    "tst_distance_to_trn_centroid = []\n",
    "\n",
    "for each_val in val_X:\n",
    "    e_d_val = np.linalg.norm(each_val-centroid)\n",
    "    val_distance_to_trn_centroid.append(e_d_val)\n",
    "    \n",
    "# measure distance on the original descriptors (before PCA)\n",
    "for each_tst in tst_descs:\n",
    "    e_d_tst = np.linalg.norm(each_tst-centroid)\n",
    "    tst_distance_to_trn_centroid.append(e_d_tst)"
   ]
  },
  {
   "cell_type": "markdown",
   "metadata": {},
   "source": [
    "## do PCA on training, validation and test descriptors"
   ]
  },
  {
   "cell_type": "code",
   "execution_count": 7,
   "metadata": {
    "collapsed": false
   },
   "outputs": [
    {
     "name": "stdout",
     "output_type": "stream",
     "text": [
      "(140, 60) (16, 60) (10, 60)\n"
     ]
    }
   ],
   "source": [
    "this_scaler = joblib.load('../nets/EI99/scaler.pkl')\n",
    "pca = joblib.load(\"../nets/EI99/pca.pkl\")\n",
    "\n",
    "trn_X = pca.transform(this_scaler.transform(trn_X))\n",
    "val_X = pca.transform(this_scaler.transform(val_X))\n",
    "tst_X = pca.transform(this_scaler.transform(tst_descs))\n",
    "\n",
    "print trn_X.shape, val_X.shape, tst_X.shape"
   ]
  },
  {
   "cell_type": "markdown",
   "metadata": {},
   "source": [
    "## Run Human Health model and give prediction on validation and test sets"
   ]
  },
  {
   "cell_type": "code",
   "execution_count": 10,
   "metadata": {
    "collapsed": false
   },
   "outputs": [],
   "source": [
    "pred_val = run_model(humanhealth_graph_path, humanhealth_model_path, val_X)\n",
    "pred_tst = run_model(humanhealth_graph_path, humanhealth_model_path, tst_X)\n",
    "\n",
    "# transform data back to normal sacle:\n",
    "pred_val = np.exp(pred_val)\n",
    "pred_tst = np.exp(pred_tst)"
   ]
  },
  {
   "cell_type": "markdown",
   "metadata": {},
   "source": [
    "### Determine the cut-off threshold of the human health model on the validation set\n",
    "\n",
    "Doing it manually, for results, see the Excel file in Results folder"
   ]
  },
  {
   "cell_type": "code",
   "execution_count": 11,
   "metadata": {
    "collapsed": false
   },
   "outputs": [
    {
     "name": "stdout",
     "output_type": "stream",
     "text": [
      "(array([ 54.90085468]), 500.49378446659694)\n",
      "(array([ 236.15725248]), 1007.6565158688053)\n",
      "(array([ 94.03266786]), 803.54587724992814)\n",
      "(array([ 39.70986334]), 1523.2805615903217)\n",
      "(array([ 894.18621076]), 1526.9313789007265)\n",
      "(array([ 16.30203474]), 1293.7364911278191)\n",
      "(array([ 84.52487735]), 1640.6186956122021)\n",
      "(array([ 12.3675001]), 1513.0601877194447)\n",
      "(array([ 27.11026268]), 1429.1311717629812)\n",
      "(array([ 9.08467394]), 769.50035930307922)\n",
      "(array([ 368.24616562]), 1461.587980855332)\n",
      "(array([ 58.99871055]), 1209.708920277471)\n",
      "(array([ 4.55958751]), 1644.242043471613)\n",
      "(array([ 25.66386729]), 1353.1055901057618)\n",
      "(array([ 7.20489522]), 430.86896395280297)\n",
      "(array([ 35.16468816]), 1508.8376607334717)\n"
     ]
    }
   ],
   "source": [
    "val_rel_error = mre(val_y, pred_val)\n",
    "\n",
    "for each_pair in zip(val_rel_error, val_distance_to_trn_centroid):\n",
    "    print each_pair"
   ]
  },
  {
   "cell_type": "code",
   "execution_count": 22,
   "metadata": {
    "collapsed": false
   },
   "outputs": [
    {
     "name": "stdout",
     "output_type": "stream",
     "text": [
      "89.7701385047 10\n",
      "178.418787871 6\n"
     ]
    }
   ],
   "source": [
    "inside_mean,num_chem_inside, outside_mean,num_chem_outside = distance_analysis(\n",
    "    val_distance_to_trn_centroid, val_rel_error,1500)\n",
    "print inside_mean, num_chem_inside\n",
    "print outside_mean, num_chem_outside"
   ]
  },
  {
   "cell_type": "markdown",
   "metadata": {},
   "source": [
    "# Human Health -- Decide whether each testing chemical in our outside AD using the determined threshold distance\n",
    "\n",
    "using 1400"
   ]
  },
  {
   "cell_type": "code",
   "execution_count": 23,
   "metadata": {
    "collapsed": false
   },
   "outputs": [
    {
     "name": "stdout",
     "output_type": "stream",
     "text": [
      "(array([ 56.74637857]), 1777.7454309418476)\n",
      "(array([ 42.1703915]), 1284.6081249495462)\n",
      "(array([ 63.44956898]), 7044.373518591985)\n",
      "(array([ 20.14703816]), 1453.0274553854483)\n",
      "(array([ 70.25258055]), 1654.9134079225387)\n",
      "(array([ 22.0393248]), 652.97321034186893)\n",
      "(array([ 36.52263734]), 548.74924319970376)\n",
      "(array([ 252.93679828]), 1575.2986302307593)\n",
      "(array([ 82.31780406]), 720.05778198983103)\n",
      "(array([ 257.24634309]), 1114.0978590988623)\n"
     ]
    }
   ],
   "source": [
    "tst_rel_error = mre(humanhealth_tst_target, pred_tst)\n",
    "\n",
    "for each_pair in zip(tst_rel_error, tst_distance_to_trn_centroid):\n",
    "    print each_pair"
   ]
  },
  {
   "cell_type": "code",
   "execution_count": 24,
   "metadata": {
    "collapsed": false
   },
   "outputs": [
    {
     "name": "stdout",
     "output_type": "stream",
     "text": [
      "76.7405898272\n",
      "110.846331596\n"
     ]
    }
   ],
   "source": [
    "test_inside, test_outside = [],[]\n",
    "for each_test_dist,each_test_error in zip(tst_distance_to_trn_centroid,tst_rel_error):\n",
    "    if each_test_dist <= 1500:\n",
    "        test_inside.append(each_test_error)\n",
    "    else:\n",
    "        test_outside.append(each_test_error)\n",
    "\n",
    "print np.mean(test_inside)\n",
    "print np.mean(test_outside)"
   ]
  },
  {
   "cell_type": "markdown",
   "metadata": {},
   "source": [
    "---\n",
    "# Distance Analysis on the Ecosystem quality Model\n",
    "load acidification model and split data to training and validation"
   ]
  },
  {
   "cell_type": "code",
   "execution_count": 5,
   "metadata": {
    "collapsed": false
   },
   "outputs": [],
   "source": [
    "ecosystemquality_graph_path = \"../nets/ecosystemquality/ecosystemquality_Apr4.meta\"\n",
    "ecosystemquality_model_path = \"../nets/ecosystemquality/ecosystemquality_Apr4.ckpt\"\n",
    "\n",
    "# load target\n",
    "ecosystemquality_trn_target = pd.read_csv('../data/target/train/ecosystemquality_train.csv').values\n",
    "ecosystemquality_tst_target = pd.read_csv('../data/target/test/ecosystemquality_test.csv').values\n",
    "\n",
    "#split training and validation sets \n",
    "trn_X, val_X,trn_y, val_y = cross_validation.train_test_split(\n",
    "    trn_descs, ecosystemquality_trn_target, test_size=0.1, random_state=3)"
   ]
  },
  {
   "cell_type": "markdown",
   "metadata": {},
   "source": [
    "## measure distance between centroid to validation, and centroid to test descriptors BEFORE PCA"
   ]
  },
  {
   "cell_type": "code",
   "execution_count": 6,
   "metadata": {
    "collapsed": true
   },
   "outputs": [],
   "source": [
    "centroid = np.mean(trn_X, axis=0)\n",
    "\n",
    "val_distance_to_trn_centroid = []\n",
    "tst_distance_to_trn_centroid = []\n",
    "\n",
    "for each_val in val_X:\n",
    "    e_d_val = np.linalg.norm(each_val-centroid)\n",
    "    val_distance_to_trn_centroid.append(e_d_val)\n",
    "    \n",
    "# measure distance on the original descriptors (before PCA)\n",
    "for each_tst in tst_descs:\n",
    "    e_d_tst = np.linalg.norm(each_tst-centroid)\n",
    "    tst_distance_to_trn_centroid.append(e_d_tst)"
   ]
  },
  {
   "cell_type": "markdown",
   "metadata": {},
   "source": [
    "## do PCA on training, validation and test descriptors"
   ]
  },
  {
   "cell_type": "code",
   "execution_count": 7,
   "metadata": {
    "collapsed": false
   },
   "outputs": [
    {
     "name": "stdout",
     "output_type": "stream",
     "text": [
      "(140, 60) (16, 60) (10, 60)\n"
     ]
    }
   ],
   "source": [
    "this_scaler = joblib.load('../nets/ecosystemquality/scaler.pkl')\n",
    "pca = joblib.load(\"../nets/ecosystemquality/pca.pkl\")\n",
    "\n",
    "trn_X = pca.transform(this_scaler.transform(trn_X))\n",
    "val_X = pca.transform(this_scaler.transform(val_X))\n",
    "tst_X = pca.transform(this_scaler.transform(tst_descs))\n",
    "\n",
    "print trn_X.shape, val_X.shape, tst_X.shape"
   ]
  },
  {
   "cell_type": "markdown",
   "metadata": {},
   "source": [
    "## Run Ecosystem Quality model and give prediction on validation and test sets"
   ]
  },
  {
   "cell_type": "code",
   "execution_count": 8,
   "metadata": {
    "collapsed": true
   },
   "outputs": [],
   "source": [
    "pred_val = run_model(ecosystemquality_graph_path, ecosystemquality_model_path, val_X)\n",
    "pred_tst = run_model(ecosystemquality_graph_path, ecosystemquality_model_path, tst_X)\n",
    "\n",
    "# transform data back to normal sacle:\n",
    "pred_val = np.exp(pred_val)\n",
    "pred_tst = np.exp(pred_tst)"
   ]
  },
  {
   "cell_type": "markdown",
   "metadata": {},
   "source": [
    "### Determine the cut-off threshold of the ecosystem quality model on the validation set\n",
    "\n",
    "Doing it manually, for results, see the Excel file in Results folder"
   ]
  },
  {
   "cell_type": "code",
   "execution_count": 10,
   "metadata": {
    "collapsed": false
   },
   "outputs": [
    {
     "name": "stdout",
     "output_type": "stream",
     "text": [
      "(array([ 51.00001803]), 726.70978095062276)\n",
      "(array([ 59.73979106]), 1324.9018379149593)\n",
      "(array([ 58.2637163]), 477.50965293946354)\n",
      "(array([ 152.96300507]), 4365.3392081366692)\n",
      "(array([ 68.1045611]), 1583.5360667286047)\n",
      "(array([ 99.27665262]), 685.49556960005089)\n",
      "(array([ 20.73529172]), 1212.083866555753)\n",
      "(array([ 54.06152218]), 603.38853177340934)\n",
      "(array([ 9.33593674]), 769.14945366495294)\n",
      "(array([ 90.93853063]), 1551.2710277153853)\n",
      "(array([ 10.2897959]), 899.58508256123412)\n",
      "(array([ 80.89269989]), 612.64038846593132)\n",
      "(array([ 26.6960862]), 1028.9971632341365)\n",
      "(array([ 40.7644544]), 1265.0349945896066)\n",
      "(array([ 21.29626287]), 1367.8886445469698)\n",
      "(array([ 0.38759519]), 821.60955248002597)\n"
     ]
    }
   ],
   "source": [
    "val_rel_error = mre(val_y, pred_val)\n",
    "\n",
    "for each_pair in zip(val_rel_error, val_distance_to_trn_centroid):\n",
    "    print each_pair"
   ]
  },
  {
   "cell_type": "code",
   "execution_count": 21,
   "metadata": {
    "collapsed": false
   },
   "outputs": [
    {
     "name": "stdout",
     "output_type": "stream",
     "text": [
      "40.979986391 13\n",
      "104.002032267 3\n"
     ]
    }
   ],
   "source": [
    "inside_mean,num_chem_inside, outside_mean,num_chem_outside = distance_analysis(\n",
    "    val_distance_to_trn_centroid, val_rel_error,1500)\n",
    "print inside_mean, num_chem_inside\n",
    "print outside_mean, num_chem_outside"
   ]
  },
  {
   "cell_type": "markdown",
   "metadata": {},
   "source": [
    "# Ecosystem Quality -- Decide whether each testing chemical in our outside AD using the determined threshold distance\n",
    "\n",
    "using 1400"
   ]
  },
  {
   "cell_type": "code",
   "execution_count": 23,
   "metadata": {
    "collapsed": false
   },
   "outputs": [
    {
     "name": "stdout",
     "output_type": "stream",
     "text": [
      "(array([ 71.52836218]), 1832.6740803026159)\n",
      "(array([ 61.31988215]), 1224.4477800309464)\n",
      "(array([ 38.9898816]), 7103.7306508290103)\n",
      "(array([ 30.8281118]), 1490.3011642220563)\n",
      "(array([ 31.92400957]), 1595.690150212301)\n",
      "(array([ 46.95400279]), 601.18938340020838)\n",
      "(array([ 214.36169472]), 568.29763522452765)\n",
      "(array([ 109.04752822]), 1514.5900195576428)\n",
      "(array([ 33.79156011]), 664.43627041106902)\n",
      "(array([ 15.85673358]), 1054.6147050933641)\n"
     ]
    }
   ],
   "source": [
    "tst_rel_error = mre(ecosystemquality_tst_target, pred_tst)\n",
    "\n",
    "for each_pair in zip(tst_rel_error, tst_distance_to_trn_centroid):\n",
    "    print each_pair"
   ]
  },
  {
   "cell_type": "code",
   "execution_count": 25,
   "metadata": {
    "collapsed": false
   },
   "outputs": [
    {
     "name": "stdout",
     "output_type": "stream",
     "text": [
      "67.1853308578\n",
      "62.8724453917\n"
     ]
    }
   ],
   "source": [
    "test_inside, test_outside = [],[]\n",
    "for each_test_dist,each_test_error in zip(tst_distance_to_trn_centroid,tst_rel_error):\n",
    "    if each_test_dist <= 1500:\n",
    "        test_inside.append(each_test_error)\n",
    "    else:\n",
    "        test_outside.append(each_test_error)\n",
    "\n",
    "print np.mean(test_inside)\n",
    "print np.mean(test_outside)"
   ]
  },
  {
   "cell_type": "markdown",
   "metadata": {},
   "source": [
    "---\n",
    "# Distance Analysis on the GWP Model\n",
    "load acidification model and split data to training and validation"
   ]
  },
  {
   "cell_type": "code",
   "execution_count": 4,
   "metadata": {
    "collapsed": true
   },
   "outputs": [],
   "source": [
    "GWP_graph_path = \"../nets/GWP/GWP_Apr4.meta\"\n",
    "GWP_model_path = \"../nets/GWP/GWP_Apr4.ckpt\"\n",
    "\n",
    "# load target\n",
    "GWP_trn_target = pd.read_csv('../data/target/train/GWP_train.csv').values\n",
    "GWP_tst_target = pd.read_csv('../data/target/test/GWP_test.csv').values\n",
    "\n",
    "#split training and validation sets \n",
    "trn_X, val_X,trn_y, val_y = cross_validation.train_test_split(\n",
    "    trn_descs, GWP_trn_target, test_size=0.1, random_state=42)"
   ]
  },
  {
   "cell_type": "markdown",
   "metadata": {},
   "source": [
    "## measure distance between centroid to validation, and centroid to test descriptors BEFORE PCA"
   ]
  },
  {
   "cell_type": "code",
   "execution_count": 5,
   "metadata": {
    "collapsed": true
   },
   "outputs": [],
   "source": [
    "centroid = np.mean(trn_X, axis=0)\n",
    "\n",
    "val_distance_to_trn_centroid = []\n",
    "tst_distance_to_trn_centroid = []\n",
    "\n",
    "for each_val in val_X:\n",
    "    e_d_val = np.linalg.norm(each_val-centroid)\n",
    "    val_distance_to_trn_centroid.append(e_d_val)\n",
    "    \n",
    "# measure distance on the original descriptors (before PCA)\n",
    "for each_tst in tst_descs:\n",
    "    e_d_tst = np.linalg.norm(each_tst-centroid)\n",
    "    tst_distance_to_trn_centroid.append(e_d_tst)"
   ]
  },
  {
   "cell_type": "markdown",
   "metadata": {},
   "source": [
    "## do PCA on training, validation and test descriptors"
   ]
  },
  {
   "cell_type": "code",
   "execution_count": 6,
   "metadata": {
    "collapsed": false
   },
   "outputs": [
    {
     "name": "stdout",
     "output_type": "stream",
     "text": [
      "(140, 60) (16, 60) (10, 60)\n"
     ]
    }
   ],
   "source": [
    "this_scaler = joblib.load('../nets/GWP/scaler.pkl')\n",
    "pca = joblib.load(\"../nets/GWP/pca.pkl\")\n",
    "\n",
    "trn_X = pca.transform(this_scaler.transform(trn_X))\n",
    "val_X = pca.transform(this_scaler.transform(val_X))\n",
    "tst_X = pca.transform(this_scaler.transform(tst_descs))\n",
    "\n",
    "print trn_X.shape, val_X.shape, tst_X.shape"
   ]
  },
  {
   "cell_type": "markdown",
   "metadata": {},
   "source": [
    "## Run GWP model and give prediction on validation and test sets"
   ]
  },
  {
   "cell_type": "code",
   "execution_count": 7,
   "metadata": {
    "collapsed": true
   },
   "outputs": [],
   "source": [
    "pred_val = run_model(GWP_graph_path, GWP_model_path, val_X)\n",
    "pred_tst = run_model(GWP_graph_path, GWP_model_path, tst_X)\n",
    "\n",
    "# transform data back to normal sacle:\n",
    "pred_val = np.exp(pred_val)\n",
    "pred_tst = np.exp(pred_tst)"
   ]
  },
  {
   "cell_type": "markdown",
   "metadata": {},
   "source": [
    "### Determine the cut-off threshold of the ecosystem quality model on the validation set\n",
    "\n",
    "Doing it manually, for results, see the Excel file in Results folder"
   ]
  },
  {
   "cell_type": "code",
   "execution_count": 8,
   "metadata": {
    "collapsed": false
   },
   "outputs": [
    {
     "name": "stdout",
     "output_type": "stream",
     "text": [
      "(array([ 29.56346684]), 500.49378446659694)\n",
      "(array([ 90.24584083]), 1007.6565158688053)\n",
      "(array([ 34.40953342]), 803.54587724992814)\n",
      "(array([ 11.77165456]), 1523.2805615903217)\n",
      "(array([ 90.01564917]), 1526.9313789007265)\n",
      "(array([ 80.23150503]), 1293.7364911278191)\n",
      "(array([ 9.97891534]), 1640.6186956122021)\n",
      "(array([ 23.61797926]), 1513.0601877194447)\n",
      "(array([ 14.47116852]), 1429.1311717629812)\n",
      "(array([ 549.75203444]), 769.50035930307922)\n",
      "(array([ 198.74415461]), 1461.587980855332)\n",
      "(array([ 127.78869327]), 1209.708920277471)\n",
      "(array([ 47.85836834]), 1644.242043471613)\n",
      "(array([ 43.89947414]), 1353.1055901057618)\n",
      "(array([ 20.53744193]), 430.86896395280297)\n",
      "(array([ 37.25826598]), 1508.8376607334717)\n"
     ]
    }
   ],
   "source": [
    "val_rel_error = mre(val_y, pred_val)\n",
    "\n",
    "for each_pair in zip(val_rel_error, val_distance_to_trn_centroid):\n",
    "    print each_pair"
   ]
  },
  {
   "cell_type": "code",
   "execution_count": 19,
   "metadata": {
    "collapsed": false
   },
   "outputs": [
    {
     "name": "stdout",
     "output_type": "stream",
     "text": [
      "118.964331302 10\n",
      "36.7501387738 6\n"
     ]
    }
   ],
   "source": [
    "inside_mean,num_chem_inside, outside_mean,num_chem_outside = distance_analysis(\n",
    "    val_distance_to_trn_centroid, val_rel_error,1500)\n",
    "print inside_mean, num_chem_inside\n",
    "print outside_mean, num_chem_outside"
   ]
  },
  {
   "cell_type": "markdown",
   "metadata": {},
   "source": [
    "# GWP -- Decide whether each testing chemical in our outside AD using the determined threshold distance\n",
    "\n",
    "using 700"
   ]
  },
  {
   "cell_type": "code",
   "execution_count": 20,
   "metadata": {
    "collapsed": false
   },
   "outputs": [
    {
     "name": "stdout",
     "output_type": "stream",
     "text": [
      "(array([ 3.0354557]), 1777.7454309418476)\n",
      "(array([ 80.46356816]), 1284.6081249495462)\n",
      "(array([ 10.27296328]), 7044.373518591985)\n",
      "(array([ 117.36490571]), 1453.0274553854483)\n",
      "(array([ 27.50327838]), 1654.9134079225387)\n",
      "(array([ 40.66743847]), 652.97321034186893)\n",
      "(array([ 89.36864459]), 548.74924319970376)\n",
      "(array([ 90.35288471]), 1575.2986302307593)\n",
      "(array([ 25.14356308]), 720.05778198983103)\n",
      "(array([ 17.06993854]), 1114.0978590988623)\n"
     ]
    }
   ],
   "source": [
    "tst_rel_error = mre(GWP_tst_target, pred_tst)\n",
    "\n",
    "for each_pair in zip(tst_rel_error, tst_distance_to_trn_centroid):\n",
    "    print each_pair"
   ]
  },
  {
   "cell_type": "code",
   "execution_count": 26,
   "metadata": {
    "collapsed": false
   },
   "outputs": [
    {
     "name": "stdout",
     "output_type": "stream",
     "text": [
      "65.01804153\n",
      "46.4008196956\n"
     ]
    }
   ],
   "source": [
    "test_inside, test_outside = [],[]\n",
    "for each_test_dist,each_test_error in zip(tst_distance_to_trn_centroid,tst_rel_error):\n",
    "    if each_test_dist <= 700:\n",
    "        test_inside.append(each_test_error)\n",
    "    else:\n",
    "        test_outside.append(each_test_error)\n",
    "\n",
    "print np.mean(test_inside)\n",
    "print np.mean(test_outside)"
   ]
  },
  {
   "cell_type": "code",
   "execution_count": null,
   "metadata": {
    "collapsed": true
   },
   "outputs": [],
   "source": []
  }
 ],
 "metadata": {
  "kernelspec": {
   "display_name": "tensorflow",
   "language": "python",
   "name": "tensorflow"
  },
  "language_info": {
   "codemirror_mode": {
    "name": "ipython",
    "version": 2
   },
   "file_extension": ".py",
   "mimetype": "text/x-python",
   "name": "python",
   "nbconvert_exporter": "python",
   "pygments_lexer": "ipython2",
   "version": "2.7.13"
  }
 },
 "nbformat": 4,
 "nbformat_minor": 2
}
